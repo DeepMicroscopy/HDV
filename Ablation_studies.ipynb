{
 "cells": [
  {
   "cell_type": "markdown",
   "metadata": {},
   "source": [
    "# Ablation study for ResNet50\n",
    "\n",
    "In this notebook we show the results of choosing an appropiate number of dimensinos for the HDV. We acknowledge that HDV is a model-specific measurement, and the optimal number of channels may depend on the architecture and training process. For this study, we used ResNet50, a widely recognized feature extractor, to ensure generalizability. While the absolute numbers may vary for different architectures, the trade-off between sensitivity and robustness is a fundamental property of HDV rather than an artifact of ResNet50. ResNet50 was chosen because it is widely used for feature extraction and provides a hierarchical feature representation. Although we have not exhaustively tested all architectures, we expect that the general trend will hold across commonly used deep learning models."
   ]
  },
  {
   "cell_type": "markdown",
   "metadata": {},
   "source": [
    "To determine this hyperparameter, we conducted initial experiments balancing the sensitivity of the metric (influenced by latent variable sparsity) and its robustness (affected by explaiend variance). Our ablation studdy, summarized below, evaluates the impact of the number of channels on HDV."
   ]
  },
  {
   "cell_type": "markdown",
   "metadata": {},
   "source": [
    "## Justification for not choosing a lower value\n",
    "\n",
    "![Explained Variance for Ablation Study](docs/ablation_explained_variance_log.png)\n",
    "\n",
    "The figure above shows the explained variance (y-axis) versus the number of selected dimensions (x-axis). Depending on the layer, explaiend variance varies from 50-80% (C layers) to >95% (H layers). Selecting too few diimensions (e.g. D=10) significantly reduces explained variance, which would undermine the robustness of the metric. Since HDV aims to capture the data distrution, using too few dimensions risks losing important information. The results suggests that values well below 100 are suboptimal. "
   ]
  },
  {
   "cell_type": "markdown",
   "metadata": {},
   "source": [
    "## Justification for not choosing a higher value\n",
    "\n",
    "![Number of Dimensions for Ablation Study](docs/ablation_dimensions_log_withAvg.png)\n",
    "\n",
    "\n",
    "The figure shows the HDV computed for differnet numbers of selected dimensions. The sensitivity of HDV benefits from lower values, but for values above 100, we observe a notable decline in the metric, indicating reduced sensitivity. \n",
    "\n",
    "The HDV exhibits an approximately linear decline on a logarithmic scale. Importantly, the slope changes around 100 dimensions, suggesting an inflection point where additional dimensions contribute less to sensitivity while still maintaining robustness. \n",
    "\n",
    "Beyond 100 dimensions, we observe diminishing returns: HDV continues to drop, but at a lower rate, indicating that additional dimensions do not significantly enhance robustness. "
   ]
  }
 ],
 "metadata": {
  "kernelspec": {
   "display_name": "env",
   "language": "python",
   "name": "python3"
  },
  "language_info": {
   "codemirror_mode": {
    "name": "ipython",
    "version": 3
   },
   "file_extension": ".py",
   "mimetype": "text/x-python",
   "name": "python",
   "nbconvert_exporter": "python",
   "pygments_lexer": "ipython3",
   "version": "3.10.12"
  }
 },
 "nbformat": 4,
 "nbformat_minor": 2
}
