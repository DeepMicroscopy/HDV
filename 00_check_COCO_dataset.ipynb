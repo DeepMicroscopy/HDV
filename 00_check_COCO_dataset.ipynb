{
 "cells": [
  {
   "cell_type": "code",
   "execution_count": 1,
   "metadata": {},
   "outputs": [],
   "source": [
    "%load_ext autoreload\n",
    "%autoreload 2"
   ]
  },
  {
   "cell_type": "code",
   "execution_count": 2,
   "metadata": {},
   "outputs": [
    {
     "name": "stderr",
     "output_type": "stream",
     "text": [
      "/home/ammeling/projects/yolov7/utils/midog_dataset.py:18: TqdmWarning: IProgress not found. Please update jupyter and ipywidgets. See https://ipywidgets.readthedocs.io/en/stable/user_install.html\n",
      "  from tqdm.autonotebook import tqdm\n"
     ]
    }
   ],
   "source": [
    "import numpy as np\n",
    "import pandas as pd\n",
    "import matplotlib.pyplot as plt \n",
    "import yaml\n",
    "\n",
    "from utils.datasets import create_dataloader, LoadImagesAndLabels\n",
    "from utils.general import colorstr"
   ]
  },
  {
   "cell_type": "code",
   "execution_count": 3,
   "metadata": {},
   "outputs": [
    {
     "name": "stderr",
     "output_type": "stream",
     "text": [
      "INFO:models.yolo:Overriding model.yaml nc=80 with nc=1\n",
      "INFO:models.yolo:\n",
      "                 from  n    params  module                                  arguments                     \n",
      "INFO:models.yolo:  0                -1  1       928  models.common.Conv                      [3, 32, 3, 1]                 \n",
      "INFO:models.yolo:  1                -1  1     18560  models.common.Conv                      [32, 64, 3, 2]                \n",
      "INFO:models.yolo:  2                -1  1     36992  models.common.Conv                      [64, 64, 3, 1]                \n",
      "INFO:models.yolo:  3                -1  1     73984  models.common.Conv                      [64, 128, 3, 2]               \n",
      "INFO:models.yolo:  4                -1  1      8320  models.common.Conv                      [128, 64, 1, 1]               \n",
      "INFO:models.yolo:  5                -2  1      8320  models.common.Conv                      [128, 64, 1, 1]               \n",
      "INFO:models.yolo:  6                -1  1     36992  models.common.Conv                      [64, 64, 3, 1]                \n",
      "INFO:models.yolo:  7                -1  1     36992  models.common.Conv                      [64, 64, 3, 1]                \n",
      "INFO:models.yolo:  8                -1  1     36992  models.common.Conv                      [64, 64, 3, 1]                \n",
      "INFO:models.yolo:  9                -1  1     36992  models.common.Conv                      [64, 64, 3, 1]                \n",
      "INFO:models.yolo: 10  [-1, -3, -5, -6]  1         0  models.common.Concat                    [1]                           \n",
      "INFO:models.yolo: 11                -1  1     66048  models.common.Conv                      [256, 256, 1, 1]              \n",
      "INFO:models.yolo: 12                -1  1         0  models.common.MP                        []                            \n",
      "INFO:models.yolo: 13                -1  1     33024  models.common.Conv                      [256, 128, 1, 1]              \n",
      "INFO:models.yolo: 14                -3  1     33024  models.common.Conv                      [256, 128, 1, 1]              \n",
      "INFO:models.yolo: 15                -1  1    147712  models.common.Conv                      [128, 128, 3, 2]              \n",
      "INFO:models.yolo: 16          [-1, -3]  1         0  models.common.Concat                    [1]                           \n",
      "INFO:models.yolo: 17                -1  1     33024  models.common.Conv                      [256, 128, 1, 1]              \n",
      "INFO:models.yolo: 18                -2  1     33024  models.common.Conv                      [256, 128, 1, 1]              \n",
      "INFO:models.yolo: 19                -1  1    147712  models.common.Conv                      [128, 128, 3, 1]              \n",
      "INFO:models.yolo: 20                -1  1    147712  models.common.Conv                      [128, 128, 3, 1]              \n",
      "INFO:models.yolo: 21                -1  1    147712  models.common.Conv                      [128, 128, 3, 1]              \n",
      "INFO:models.yolo: 22                -1  1    147712  models.common.Conv                      [128, 128, 3, 1]              \n",
      "INFO:models.yolo: 23  [-1, -3, -5, -6]  1         0  models.common.Concat                    [1]                           \n",
      "INFO:models.yolo: 24                -1  1    263168  models.common.Conv                      [512, 512, 1, 1]              \n",
      "INFO:models.yolo: 25                -1  1         0  models.common.MP                        []                            \n",
      "INFO:models.yolo: 26                -1  1    131584  models.common.Conv                      [512, 256, 1, 1]              \n",
      "INFO:models.yolo: 27                -3  1    131584  models.common.Conv                      [512, 256, 1, 1]              \n",
      "INFO:models.yolo: 28                -1  1    590336  models.common.Conv                      [256, 256, 3, 2]              \n",
      "INFO:models.yolo: 29          [-1, -3]  1         0  models.common.Concat                    [1]                           \n",
      "INFO:models.yolo: 30                -1  1    131584  models.common.Conv                      [512, 256, 1, 1]              \n",
      "INFO:models.yolo: 31                -2  1    131584  models.common.Conv                      [512, 256, 1, 1]              \n",
      "INFO:models.yolo: 32                -1  1    590336  models.common.Conv                      [256, 256, 3, 1]              \n",
      "INFO:models.yolo: 33                -1  1    590336  models.common.Conv                      [256, 256, 3, 1]              \n",
      "INFO:models.yolo: 34                -1  1    590336  models.common.Conv                      [256, 256, 3, 1]              \n",
      "INFO:models.yolo: 35                -1  1    590336  models.common.Conv                      [256, 256, 3, 1]              \n",
      "INFO:models.yolo: 36  [-1, -3, -5, -6]  1         0  models.common.Concat                    [1]                           \n",
      "INFO:models.yolo: 37                -1  1   1050624  models.common.Conv                      [1024, 1024, 1, 1]            \n",
      "INFO:models.yolo: 38                -1  1         0  models.common.MP                        []                            \n",
      "INFO:models.yolo: 39                -1  1    525312  models.common.Conv                      [1024, 512, 1, 1]             \n",
      "INFO:models.yolo: 40                -3  1    525312  models.common.Conv                      [1024, 512, 1, 1]             \n",
      "INFO:models.yolo: 41                -1  1   2360320  models.common.Conv                      [512, 512, 3, 2]              \n",
      "INFO:models.yolo: 42          [-1, -3]  1         0  models.common.Concat                    [1]                           \n",
      "INFO:models.yolo: 43                -1  1    262656  models.common.Conv                      [1024, 256, 1, 1]             \n",
      "INFO:models.yolo: 44                -2  1    262656  models.common.Conv                      [1024, 256, 1, 1]             \n",
      "INFO:models.yolo: 45                -1  1    590336  models.common.Conv                      [256, 256, 3, 1]              \n",
      "INFO:models.yolo: 46                -1  1    590336  models.common.Conv                      [256, 256, 3, 1]              \n",
      "INFO:models.yolo: 47                -1  1    590336  models.common.Conv                      [256, 256, 3, 1]              \n",
      "INFO:models.yolo: 48                -1  1    590336  models.common.Conv                      [256, 256, 3, 1]              \n",
      "INFO:models.yolo: 49  [-1, -3, -5, -6]  1         0  models.common.Concat                    [1]                           \n",
      "INFO:models.yolo: 50                -1  1   1050624  models.common.Conv                      [1024, 1024, 1, 1]            \n",
      "INFO:models.yolo: 51                -1  1   7609344  models.common.SPPCSPC                   [1024, 512, 1]                \n",
      "INFO:models.yolo: 52                -1  1    131584  models.common.Conv                      [512, 256, 1, 1]              \n",
      "INFO:models.yolo: 53                -1  1         0  torch.nn.modules.upsampling.Upsample    [None, 2, 'nearest']          \n",
      "INFO:models.yolo: 54                37  1    262656  models.common.Conv                      [1024, 256, 1, 1]             \n",
      "INFO:models.yolo: 55          [-1, -2]  1         0  models.common.Concat                    [1]                           \n",
      "INFO:models.yolo: 56                -1  1    131584  models.common.Conv                      [512, 256, 1, 1]              \n",
      "INFO:models.yolo: 57                -2  1    131584  models.common.Conv                      [512, 256, 1, 1]              \n",
      "INFO:models.yolo: 58                -1  1    295168  models.common.Conv                      [256, 128, 3, 1]              \n",
      "INFO:models.yolo: 59                -1  1    147712  models.common.Conv                      [128, 128, 3, 1]              \n",
      "INFO:models.yolo: 60                -1  1    147712  models.common.Conv                      [128, 128, 3, 1]              \n",
      "INFO:models.yolo: 61                -1  1    147712  models.common.Conv                      [128, 128, 3, 1]              \n",
      "INFO:models.yolo: 62[-1, -2, -3, -4, -5, -6]  1         0  models.common.Concat                    [1]                           \n",
      "INFO:models.yolo: 63                -1  1    262656  models.common.Conv                      [1024, 256, 1, 1]             \n",
      "INFO:models.yolo: 64                -1  1     33024  models.common.Conv                      [256, 128, 1, 1]              \n",
      "INFO:models.yolo: 65                -1  1         0  torch.nn.modules.upsampling.Upsample    [None, 2, 'nearest']          \n",
      "INFO:models.yolo: 66                24  1     65792  models.common.Conv                      [512, 128, 1, 1]              \n",
      "INFO:models.yolo: 67          [-1, -2]  1         0  models.common.Concat                    [1]                           \n",
      "INFO:models.yolo: 68                -1  1     33024  models.common.Conv                      [256, 128, 1, 1]              \n",
      "INFO:models.yolo: 69                -2  1     33024  models.common.Conv                      [256, 128, 1, 1]              \n",
      "INFO:models.yolo: 70                -1  1     73856  models.common.Conv                      [128, 64, 3, 1]               \n",
      "INFO:models.yolo: 71                -1  1     36992  models.common.Conv                      [64, 64, 3, 1]                \n",
      "INFO:models.yolo: 72                -1  1     36992  models.common.Conv                      [64, 64, 3, 1]                \n",
      "INFO:models.yolo: 73                -1  1     36992  models.common.Conv                      [64, 64, 3, 1]                \n",
      "INFO:models.yolo: 74[-1, -2, -3, -4, -5, -6]  1         0  models.common.Concat                    [1]                           \n",
      "INFO:models.yolo: 75                -1  1     65792  models.common.Conv                      [512, 128, 1, 1]              \n",
      "INFO:models.yolo: 76                -1  1         0  models.common.MP                        []                            \n",
      "INFO:models.yolo: 77                -1  1     16640  models.common.Conv                      [128, 128, 1, 1]              \n",
      "INFO:models.yolo: 78                -3  1     16640  models.common.Conv                      [128, 128, 1, 1]              \n",
      "INFO:models.yolo: 79                -1  1    147712  models.common.Conv                      [128, 128, 3, 2]              \n",
      "INFO:models.yolo: 80      [-1, -3, 63]  1         0  models.common.Concat                    [1]                           \n",
      "INFO:models.yolo: 81                -1  1    131584  models.common.Conv                      [512, 256, 1, 1]              \n",
      "INFO:models.yolo: 82                -2  1    131584  models.common.Conv                      [512, 256, 1, 1]              \n",
      "INFO:models.yolo: 83                -1  1    295168  models.common.Conv                      [256, 128, 3, 1]              \n",
      "INFO:models.yolo: 84                -1  1    147712  models.common.Conv                      [128, 128, 3, 1]              \n",
      "INFO:models.yolo: 85                -1  1    147712  models.common.Conv                      [128, 128, 3, 1]              \n",
      "INFO:models.yolo: 86                -1  1    147712  models.common.Conv                      [128, 128, 3, 1]              \n",
      "INFO:models.yolo: 87[-1, -2, -3, -4, -5, -6]  1         0  models.common.Concat                    [1]                           \n",
      "INFO:models.yolo: 88                -1  1    262656  models.common.Conv                      [1024, 256, 1, 1]             \n",
      "INFO:models.yolo: 89                -1  1         0  models.common.MP                        []                            \n",
      "INFO:models.yolo: 90                -1  1     66048  models.common.Conv                      [256, 256, 1, 1]              \n",
      "INFO:models.yolo: 91                -3  1     66048  models.common.Conv                      [256, 256, 1, 1]              \n",
      "INFO:models.yolo: 92                -1  1    590336  models.common.Conv                      [256, 256, 3, 2]              \n",
      "INFO:models.yolo: 93      [-1, -3, 51]  1         0  models.common.Concat                    [1]                           \n",
      "INFO:models.yolo: 94                -1  1    525312  models.common.Conv                      [1024, 512, 1, 1]             \n",
      "INFO:models.yolo: 95                -2  1    525312  models.common.Conv                      [1024, 512, 1, 1]             \n",
      "INFO:models.yolo: 96                -1  1   1180160  models.common.Conv                      [512, 256, 3, 1]              \n",
      "INFO:models.yolo: 97                -1  1    590336  models.common.Conv                      [256, 256, 3, 1]              \n",
      "INFO:models.yolo: 98                -1  1    590336  models.common.Conv                      [256, 256, 3, 1]              \n",
      "INFO:models.yolo: 99                -1  1    590336  models.common.Conv                      [256, 256, 3, 1]              \n",
      "INFO:models.yolo:100[-1, -2, -3, -4, -5, -6]  1         0  models.common.Concat                    [1]                           \n",
      "INFO:models.yolo:101                -1  1   1049600  models.common.Conv                      [2048, 512, 1, 1]             \n",
      "INFO:models.yolo:102                75  1    328704  models.common.RepConv                   [128, 256, 3, 1]              \n",
      "INFO:models.yolo:103                88  1   1312768  models.common.RepConv                   [256, 512, 3, 1]              \n",
      "INFO:models.yolo:104               101  1   5246976  models.common.RepConv                   [512, 1024, 3, 1]             \n",
      "INFO:models.yolo:105   [102, 103, 104]  1     34156  models.yolo.IDetect                     [1, [[12, 16, 19, 36, 40, 28], [36, 75, 76, 55, 72, 146], [142, 110, 192, 243, 459, 401]], [256, 512, 1024]]\n",
      "/home/ammeling/projects/yolov7/env/lib/python3.10/site-packages/torch/functional.py:513: UserWarning: torch.meshgrid: in an upcoming release, it will be required to pass the indexing argument. (Triggered internally at ../aten/src/ATen/native/TensorShape.cpp:3609.)\n",
      "  return _VF.meshgrid(tensors, **kwargs)  # type: ignore[attr-defined]\n",
      "INFO:utils.torch_utils:Model Summary: 415 layers, 37196556 parameters, 37196556 gradients, 105.1 GFLOPS\n",
      "INFO:models.yolo:\n"
     ]
    }
   ],
   "source": [
    "from models.yolo import Model\n",
    "\n",
    "device = 'cuda:0'\n",
    "hyp = yaml.load(open('data/hyp.scratch.p5.yaml', 'rb'), Loader=yaml.SafeLoader)  # load hyps'data/hyp.scratch.p5.yaml'\n",
    "\n",
    "model = Model(\n",
    "    cfg='cfg/training/yolov7.yaml',\n",
    "    ch=3,\n",
    "    nc=1\n",
    ").to(device)\n",
    "model.hyp = hyp\n",
    "model.gr = 1.0"
   ]
  },
  {
   "cell_type": "code",
   "execution_count": 4,
   "metadata": {},
   "outputs": [],
   "source": [
    "hyp = yaml.load(open('data/hyp.scratch.p5.yaml', 'rb'), Loader=yaml.SafeLoader)\n",
    "data_dict = yaml.load(open('data/coco.yaml'), Loader=yaml.SafeLoader)"
   ]
  },
  {
   "cell_type": "code",
   "execution_count": 5,
   "metadata": {},
   "outputs": [
    {
     "name": "stderr",
     "output_type": "stream",
     "text": [
      "/home/ammeling/projects/yolov7/utils/datasets.py:412: FutureWarning: You are using `torch.load` with `weights_only=False` (the current default value), which uses the default pickle module implicitly. It is possible to construct malicious pickle data which will execute arbitrary code during unpickling (See https://github.com/pytorch/pytorch/blob/main/SECURITY.md#untrusted-models for more details). In a future release, the default value for `weights_only` will be flipped to `True`. This limits the functions that could be executed during unpickling. Arbitrary objects will no longer be allowed to be loaded via this mode unless they are explicitly allowlisted by the user via `torch.serialization.add_safe_globals`. We recommend you start setting `weights_only=True` for any use case where you don't have full control of the loaded file. Please open an issue on GitHub for any issues related to this experimental feature.\n",
      "  cache, exists = torch.load(cache_path), True  # load\n",
      "\u001b[34m\u001b[1mtrain: \u001b[0mScanning '/data/COCO/coco/labels/train2017.cache' images and labels... 117266 found, 1021 missing, 0 empty, 4 corrupted: 100%|██████████| 118287/118287 [00:00<?, ?it/s]\n"
     ]
    }
   ],
   "source": [
    "train_path = data_dict['train']\n",
    "imgsz = 640\n",
    "batch_size = 4\n",
    "gs = max(int(model.stride.max()), 32)  # grid size (max stride)\n",
    "nl = model.model[-1].nl  # number of detection layers (used for scaling hyp['obj'])\n",
    "\n",
    "# dl, ds = create_dataloader()\n",
    "\n",
    "dataset = LoadImagesAndLabels(train_path, imgsz, batch_size, augment=False, \n",
    "                              hyp=hyp, rect=False, cache_images=False,  prefix=colorstr('train: '))"
   ]
  },
  {
   "cell_type": "code",
   "execution_count": 6,
   "metadata": {},
   "outputs": [],
   "source": [
    "from torch.utils.data import DataLoader\n",
    "\n",
    "dl = DataLoader(dataset, batch_size, num_workers=2, collate_fn=dataset.collate_fn)"
   ]
  },
  {
   "cell_type": "code",
   "execution_count": 7,
   "metadata": {},
   "outputs": [],
   "source": [
    "from utils.loss import ComputeLoss\n",
    "\n",
    "compute_loss = ComputeLoss(model)\n"
   ]
  },
  {
   "cell_type": "code",
   "execution_count": 8,
   "metadata": {},
   "outputs": [],
   "source": [
    "for batch in dl:\n",
    "    images, targets, files, shapes = batch \n",
    "    break "
   ]
  },
  {
   "cell_type": "code",
   "execution_count": 9,
   "metadata": {},
   "outputs": [
    {
     "data": {
      "text/plain": [
       "(torch.Size([4, 3, 640, 640]), torch.Size([13, 6]))"
      ]
     },
     "execution_count": 9,
     "metadata": {},
     "output_type": "execute_result"
    }
   ],
   "source": [
    "images.shape, targets.shape"
   ]
  },
  {
   "cell_type": "code",
   "execution_count": 10,
   "metadata": {},
   "outputs": [
    {
     "data": {
      "text/plain": [
       "tensor([[0.00000e+00, 4.50000e+01, 4.79492e-01, 6.41578e-01, 9.55610e-01, 4.46625e-01],\n",
       "        [0.00000e+00, 4.50000e+01, 7.36516e-01, 3.10391e-01, 4.98875e-01, 3.57313e-01],\n",
       "        [0.00000e+00, 5.00000e+01, 6.37062e-01, 6.74703e-01, 4.94125e-01, 3.82937e-01],\n",
       "        [0.00000e+00, 4.50000e+01, 3.39438e-01, 4.39172e-01, 6.78875e-01, 5.86125e-01],\n",
       "        [0.00000e+00, 4.90000e+01, 6.46836e-01, 2.24414e-01, 1.18047e-01, 7.27033e-02],\n",
       "        [0.00000e+00, 4.90000e+01, 7.73149e-01, 2.22352e-01, 9.07349e-02, 7.29221e-02],\n",
       "        [0.00000e+00, 4.90000e+01, 6.68297e-01, 2.95180e-01, 1.31282e-01, 1.10172e-01],\n",
       "        [0.00000e+00, 4.90000e+01, 6.42859e-01, 1.84414e-01, 1.48063e-01, 1.11047e-01],\n",
       "        [1.00000e+00, 2.30000e+01, 7.70336e-01, 4.93140e-01, 3.35890e-01, 4.64313e-01],\n",
       "        [1.00000e+00, 2.30000e+01, 1.85977e-01, 7.67320e-01, 2.06297e-01, 8.62345e-02],\n",
       "        [2.00000e+00, 5.80000e+01, 5.19219e-01, 4.67312e-01, 3.98250e-01, 5.06437e-01],\n",
       "        [2.00000e+00, 7.50000e+01, 5.01188e-01, 5.61617e-01, 2.60000e-01, 3.05078e-01],\n",
       "        [3.00000e+00, 2.20000e+01, 3.46211e-01, 4.95524e-01, 6.89422e-01, 5.92422e-01]])"
      ]
     },
     "execution_count": 10,
     "metadata": {},
     "output_type": "execute_result"
    }
   ],
   "source": [
    "targets"
   ]
  },
  {
   "cell_type": "code",
   "execution_count": 11,
   "metadata": {},
   "outputs": [
    {
     "data": {
      "text/plain": [
       "(((480, 640), ((1.0, 1.0), (0.0, 80.0))),\n",
       " ((426, 640), ((1.0, 1.0), (0.0, 107.0))),\n",
       " ((428, 640), ((1.0, 1.0), (0.0, 106.0))),\n",
       " ((425, 640), ((1.0, 1.0), (0.0, 107.5))))"
      ]
     },
     "execution_count": 11,
     "metadata": {},
     "output_type": "execute_result"
    }
   ],
   "source": [
    "shapes"
   ]
  },
  {
   "cell_type": "code",
   "execution_count": 19,
   "metadata": {},
   "outputs": [
    {
     "ename": "RuntimeError",
     "evalue": "Input type (torch.cuda.ByteTensor) and weight type (torch.cuda.FloatTensor) should be the same",
     "output_type": "error",
     "traceback": [
      "\u001b[0;31m---------------------------------------------------------------------------\u001b[0m",
      "\u001b[0;31mRuntimeError\u001b[0m                              Traceback (most recent call last)",
      "Cell \u001b[0;32mIn[19], line 1\u001b[0m\n\u001b[0;32m----> 1\u001b[0m pred \u001b[38;5;241m=\u001b[39m \u001b[43mmodel\u001b[49m\u001b[43m(\u001b[49m\u001b[43mimages\u001b[49m\u001b[38;5;241;43m.\u001b[39;49m\u001b[43mto\u001b[49m\u001b[43m(\u001b[49m\u001b[43mdevice\u001b[49m\u001b[43m)\u001b[49m\u001b[43m)\u001b[49m\n",
      "File \u001b[0;32m~/projects/yolov7/env/lib/python3.10/site-packages/torch/nn/modules/module.py:1553\u001b[0m, in \u001b[0;36mModule._wrapped_call_impl\u001b[0;34m(self, *args, **kwargs)\u001b[0m\n\u001b[1;32m   1551\u001b[0m     \u001b[38;5;28;01mreturn\u001b[39;00m \u001b[38;5;28mself\u001b[39m\u001b[38;5;241m.\u001b[39m_compiled_call_impl(\u001b[38;5;241m*\u001b[39margs, \u001b[38;5;241m*\u001b[39m\u001b[38;5;241m*\u001b[39mkwargs)  \u001b[38;5;66;03m# type: ignore[misc]\u001b[39;00m\n\u001b[1;32m   1552\u001b[0m \u001b[38;5;28;01melse\u001b[39;00m:\n\u001b[0;32m-> 1553\u001b[0m     \u001b[38;5;28;01mreturn\u001b[39;00m \u001b[38;5;28;43mself\u001b[39;49m\u001b[38;5;241;43m.\u001b[39;49m\u001b[43m_call_impl\u001b[49m\u001b[43m(\u001b[49m\u001b[38;5;241;43m*\u001b[39;49m\u001b[43margs\u001b[49m\u001b[43m,\u001b[49m\u001b[43m \u001b[49m\u001b[38;5;241;43m*\u001b[39;49m\u001b[38;5;241;43m*\u001b[39;49m\u001b[43mkwargs\u001b[49m\u001b[43m)\u001b[49m\n",
      "File \u001b[0;32m~/projects/yolov7/env/lib/python3.10/site-packages/torch/nn/modules/module.py:1562\u001b[0m, in \u001b[0;36mModule._call_impl\u001b[0;34m(self, *args, **kwargs)\u001b[0m\n\u001b[1;32m   1557\u001b[0m \u001b[38;5;66;03m# If we don't have any hooks, we want to skip the rest of the logic in\u001b[39;00m\n\u001b[1;32m   1558\u001b[0m \u001b[38;5;66;03m# this function, and just call forward.\u001b[39;00m\n\u001b[1;32m   1559\u001b[0m \u001b[38;5;28;01mif\u001b[39;00m \u001b[38;5;129;01mnot\u001b[39;00m (\u001b[38;5;28mself\u001b[39m\u001b[38;5;241m.\u001b[39m_backward_hooks \u001b[38;5;129;01mor\u001b[39;00m \u001b[38;5;28mself\u001b[39m\u001b[38;5;241m.\u001b[39m_backward_pre_hooks \u001b[38;5;129;01mor\u001b[39;00m \u001b[38;5;28mself\u001b[39m\u001b[38;5;241m.\u001b[39m_forward_hooks \u001b[38;5;129;01mor\u001b[39;00m \u001b[38;5;28mself\u001b[39m\u001b[38;5;241m.\u001b[39m_forward_pre_hooks\n\u001b[1;32m   1560\u001b[0m         \u001b[38;5;129;01mor\u001b[39;00m _global_backward_pre_hooks \u001b[38;5;129;01mor\u001b[39;00m _global_backward_hooks\n\u001b[1;32m   1561\u001b[0m         \u001b[38;5;129;01mor\u001b[39;00m _global_forward_hooks \u001b[38;5;129;01mor\u001b[39;00m _global_forward_pre_hooks):\n\u001b[0;32m-> 1562\u001b[0m     \u001b[38;5;28;01mreturn\u001b[39;00m \u001b[43mforward_call\u001b[49m\u001b[43m(\u001b[49m\u001b[38;5;241;43m*\u001b[39;49m\u001b[43margs\u001b[49m\u001b[43m,\u001b[49m\u001b[43m \u001b[49m\u001b[38;5;241;43m*\u001b[39;49m\u001b[38;5;241;43m*\u001b[39;49m\u001b[43mkwargs\u001b[49m\u001b[43m)\u001b[49m\n\u001b[1;32m   1564\u001b[0m \u001b[38;5;28;01mtry\u001b[39;00m:\n\u001b[1;32m   1565\u001b[0m     result \u001b[38;5;241m=\u001b[39m \u001b[38;5;28;01mNone\u001b[39;00m\n",
      "File \u001b[0;32m~/projects/yolov7/models/yolo.py:599\u001b[0m, in \u001b[0;36mModel.forward\u001b[0;34m(self, x, augment, profile)\u001b[0m\n\u001b[1;32m    597\u001b[0m     \u001b[38;5;28;01mreturn\u001b[39;00m torch\u001b[38;5;241m.\u001b[39mcat(y, \u001b[38;5;241m1\u001b[39m), \u001b[38;5;28;01mNone\u001b[39;00m  \u001b[38;5;66;03m# augmented inference, train\u001b[39;00m\n\u001b[1;32m    598\u001b[0m \u001b[38;5;28;01melse\u001b[39;00m:\n\u001b[0;32m--> 599\u001b[0m     \u001b[38;5;28;01mreturn\u001b[39;00m \u001b[38;5;28;43mself\u001b[39;49m\u001b[38;5;241;43m.\u001b[39;49m\u001b[43mforward_once\u001b[49m\u001b[43m(\u001b[49m\u001b[43mx\u001b[49m\u001b[43m,\u001b[49m\u001b[43m \u001b[49m\u001b[43mprofile\u001b[49m\u001b[43m)\u001b[49m\n",
      "File \u001b[0;32m~/projects/yolov7/models/yolo.py:625\u001b[0m, in \u001b[0;36mModel.forward_once\u001b[0;34m(self, x, profile)\u001b[0m\n\u001b[1;32m    622\u001b[0m         dt\u001b[38;5;241m.\u001b[39mappend((time_synchronized() \u001b[38;5;241m-\u001b[39m t) \u001b[38;5;241m*\u001b[39m \u001b[38;5;241m100\u001b[39m)\n\u001b[1;32m    623\u001b[0m         \u001b[38;5;28mprint\u001b[39m(\u001b[38;5;124m'\u001b[39m\u001b[38;5;132;01m%10.1f\u001b[39;00m\u001b[38;5;132;01m%10.0f\u001b[39;00m\u001b[38;5;132;01m%10.1f\u001b[39;00m\u001b[38;5;124mms \u001b[39m\u001b[38;5;132;01m%-40s\u001b[39;00m\u001b[38;5;124m'\u001b[39m \u001b[38;5;241m%\u001b[39m (o, m\u001b[38;5;241m.\u001b[39mnp, dt[\u001b[38;5;241m-\u001b[39m\u001b[38;5;241m1\u001b[39m], m\u001b[38;5;241m.\u001b[39mtype))\n\u001b[0;32m--> 625\u001b[0m     x \u001b[38;5;241m=\u001b[39m \u001b[43mm\u001b[49m\u001b[43m(\u001b[49m\u001b[43mx\u001b[49m\u001b[43m)\u001b[49m  \u001b[38;5;66;03m# run\u001b[39;00m\n\u001b[1;32m    627\u001b[0m     y\u001b[38;5;241m.\u001b[39mappend(x \u001b[38;5;28;01mif\u001b[39;00m m\u001b[38;5;241m.\u001b[39mi \u001b[38;5;129;01min\u001b[39;00m \u001b[38;5;28mself\u001b[39m\u001b[38;5;241m.\u001b[39msave \u001b[38;5;28;01melse\u001b[39;00m \u001b[38;5;28;01mNone\u001b[39;00m)  \u001b[38;5;66;03m# save output\u001b[39;00m\n\u001b[1;32m    629\u001b[0m \u001b[38;5;28;01mif\u001b[39;00m profile:\n",
      "File \u001b[0;32m~/projects/yolov7/env/lib/python3.10/site-packages/torch/nn/modules/module.py:1553\u001b[0m, in \u001b[0;36mModule._wrapped_call_impl\u001b[0;34m(self, *args, **kwargs)\u001b[0m\n\u001b[1;32m   1551\u001b[0m     \u001b[38;5;28;01mreturn\u001b[39;00m \u001b[38;5;28mself\u001b[39m\u001b[38;5;241m.\u001b[39m_compiled_call_impl(\u001b[38;5;241m*\u001b[39margs, \u001b[38;5;241m*\u001b[39m\u001b[38;5;241m*\u001b[39mkwargs)  \u001b[38;5;66;03m# type: ignore[misc]\u001b[39;00m\n\u001b[1;32m   1552\u001b[0m \u001b[38;5;28;01melse\u001b[39;00m:\n\u001b[0;32m-> 1553\u001b[0m     \u001b[38;5;28;01mreturn\u001b[39;00m \u001b[38;5;28;43mself\u001b[39;49m\u001b[38;5;241;43m.\u001b[39;49m\u001b[43m_call_impl\u001b[49m\u001b[43m(\u001b[49m\u001b[38;5;241;43m*\u001b[39;49m\u001b[43margs\u001b[49m\u001b[43m,\u001b[49m\u001b[43m \u001b[49m\u001b[38;5;241;43m*\u001b[39;49m\u001b[38;5;241;43m*\u001b[39;49m\u001b[43mkwargs\u001b[49m\u001b[43m)\u001b[49m\n",
      "File \u001b[0;32m~/projects/yolov7/env/lib/python3.10/site-packages/torch/nn/modules/module.py:1562\u001b[0m, in \u001b[0;36mModule._call_impl\u001b[0;34m(self, *args, **kwargs)\u001b[0m\n\u001b[1;32m   1557\u001b[0m \u001b[38;5;66;03m# If we don't have any hooks, we want to skip the rest of the logic in\u001b[39;00m\n\u001b[1;32m   1558\u001b[0m \u001b[38;5;66;03m# this function, and just call forward.\u001b[39;00m\n\u001b[1;32m   1559\u001b[0m \u001b[38;5;28;01mif\u001b[39;00m \u001b[38;5;129;01mnot\u001b[39;00m (\u001b[38;5;28mself\u001b[39m\u001b[38;5;241m.\u001b[39m_backward_hooks \u001b[38;5;129;01mor\u001b[39;00m \u001b[38;5;28mself\u001b[39m\u001b[38;5;241m.\u001b[39m_backward_pre_hooks \u001b[38;5;129;01mor\u001b[39;00m \u001b[38;5;28mself\u001b[39m\u001b[38;5;241m.\u001b[39m_forward_hooks \u001b[38;5;129;01mor\u001b[39;00m \u001b[38;5;28mself\u001b[39m\u001b[38;5;241m.\u001b[39m_forward_pre_hooks\n\u001b[1;32m   1560\u001b[0m         \u001b[38;5;129;01mor\u001b[39;00m _global_backward_pre_hooks \u001b[38;5;129;01mor\u001b[39;00m _global_backward_hooks\n\u001b[1;32m   1561\u001b[0m         \u001b[38;5;129;01mor\u001b[39;00m _global_forward_hooks \u001b[38;5;129;01mor\u001b[39;00m _global_forward_pre_hooks):\n\u001b[0;32m-> 1562\u001b[0m     \u001b[38;5;28;01mreturn\u001b[39;00m \u001b[43mforward_call\u001b[49m\u001b[43m(\u001b[49m\u001b[38;5;241;43m*\u001b[39;49m\u001b[43margs\u001b[49m\u001b[43m,\u001b[49m\u001b[43m \u001b[49m\u001b[38;5;241;43m*\u001b[39;49m\u001b[38;5;241;43m*\u001b[39;49m\u001b[43mkwargs\u001b[49m\u001b[43m)\u001b[49m\n\u001b[1;32m   1564\u001b[0m \u001b[38;5;28;01mtry\u001b[39;00m:\n\u001b[1;32m   1565\u001b[0m     result \u001b[38;5;241m=\u001b[39m \u001b[38;5;28;01mNone\u001b[39;00m\n",
      "File \u001b[0;32m~/projects/yolov7/models/common.py:108\u001b[0m, in \u001b[0;36mConv.forward\u001b[0;34m(self, x)\u001b[0m\n\u001b[1;32m    107\u001b[0m \u001b[38;5;28;01mdef\u001b[39;00m \u001b[38;5;21mforward\u001b[39m(\u001b[38;5;28mself\u001b[39m, x):\n\u001b[0;32m--> 108\u001b[0m     \u001b[38;5;28;01mreturn\u001b[39;00m \u001b[38;5;28mself\u001b[39m\u001b[38;5;241m.\u001b[39mact(\u001b[38;5;28mself\u001b[39m\u001b[38;5;241m.\u001b[39mbn(\u001b[38;5;28;43mself\u001b[39;49m\u001b[38;5;241;43m.\u001b[39;49m\u001b[43mconv\u001b[49m\u001b[43m(\u001b[49m\u001b[43mx\u001b[49m\u001b[43m)\u001b[49m))\n",
      "File \u001b[0;32m~/projects/yolov7/env/lib/python3.10/site-packages/torch/nn/modules/module.py:1553\u001b[0m, in \u001b[0;36mModule._wrapped_call_impl\u001b[0;34m(self, *args, **kwargs)\u001b[0m\n\u001b[1;32m   1551\u001b[0m     \u001b[38;5;28;01mreturn\u001b[39;00m \u001b[38;5;28mself\u001b[39m\u001b[38;5;241m.\u001b[39m_compiled_call_impl(\u001b[38;5;241m*\u001b[39margs, \u001b[38;5;241m*\u001b[39m\u001b[38;5;241m*\u001b[39mkwargs)  \u001b[38;5;66;03m# type: ignore[misc]\u001b[39;00m\n\u001b[1;32m   1552\u001b[0m \u001b[38;5;28;01melse\u001b[39;00m:\n\u001b[0;32m-> 1553\u001b[0m     \u001b[38;5;28;01mreturn\u001b[39;00m \u001b[38;5;28;43mself\u001b[39;49m\u001b[38;5;241;43m.\u001b[39;49m\u001b[43m_call_impl\u001b[49m\u001b[43m(\u001b[49m\u001b[38;5;241;43m*\u001b[39;49m\u001b[43margs\u001b[49m\u001b[43m,\u001b[49m\u001b[43m \u001b[49m\u001b[38;5;241;43m*\u001b[39;49m\u001b[38;5;241;43m*\u001b[39;49m\u001b[43mkwargs\u001b[49m\u001b[43m)\u001b[49m\n",
      "File \u001b[0;32m~/projects/yolov7/env/lib/python3.10/site-packages/torch/nn/modules/module.py:1562\u001b[0m, in \u001b[0;36mModule._call_impl\u001b[0;34m(self, *args, **kwargs)\u001b[0m\n\u001b[1;32m   1557\u001b[0m \u001b[38;5;66;03m# If we don't have any hooks, we want to skip the rest of the logic in\u001b[39;00m\n\u001b[1;32m   1558\u001b[0m \u001b[38;5;66;03m# this function, and just call forward.\u001b[39;00m\n\u001b[1;32m   1559\u001b[0m \u001b[38;5;28;01mif\u001b[39;00m \u001b[38;5;129;01mnot\u001b[39;00m (\u001b[38;5;28mself\u001b[39m\u001b[38;5;241m.\u001b[39m_backward_hooks \u001b[38;5;129;01mor\u001b[39;00m \u001b[38;5;28mself\u001b[39m\u001b[38;5;241m.\u001b[39m_backward_pre_hooks \u001b[38;5;129;01mor\u001b[39;00m \u001b[38;5;28mself\u001b[39m\u001b[38;5;241m.\u001b[39m_forward_hooks \u001b[38;5;129;01mor\u001b[39;00m \u001b[38;5;28mself\u001b[39m\u001b[38;5;241m.\u001b[39m_forward_pre_hooks\n\u001b[1;32m   1560\u001b[0m         \u001b[38;5;129;01mor\u001b[39;00m _global_backward_pre_hooks \u001b[38;5;129;01mor\u001b[39;00m _global_backward_hooks\n\u001b[1;32m   1561\u001b[0m         \u001b[38;5;129;01mor\u001b[39;00m _global_forward_hooks \u001b[38;5;129;01mor\u001b[39;00m _global_forward_pre_hooks):\n\u001b[0;32m-> 1562\u001b[0m     \u001b[38;5;28;01mreturn\u001b[39;00m \u001b[43mforward_call\u001b[49m\u001b[43m(\u001b[49m\u001b[38;5;241;43m*\u001b[39;49m\u001b[43margs\u001b[49m\u001b[43m,\u001b[49m\u001b[43m \u001b[49m\u001b[38;5;241;43m*\u001b[39;49m\u001b[38;5;241;43m*\u001b[39;49m\u001b[43mkwargs\u001b[49m\u001b[43m)\u001b[49m\n\u001b[1;32m   1564\u001b[0m \u001b[38;5;28;01mtry\u001b[39;00m:\n\u001b[1;32m   1565\u001b[0m     result \u001b[38;5;241m=\u001b[39m \u001b[38;5;28;01mNone\u001b[39;00m\n",
      "File \u001b[0;32m~/projects/yolov7/env/lib/python3.10/site-packages/torch/nn/modules/conv.py:458\u001b[0m, in \u001b[0;36mConv2d.forward\u001b[0;34m(self, input)\u001b[0m\n\u001b[1;32m    457\u001b[0m \u001b[38;5;28;01mdef\u001b[39;00m \u001b[38;5;21mforward\u001b[39m(\u001b[38;5;28mself\u001b[39m, \u001b[38;5;28minput\u001b[39m: Tensor) \u001b[38;5;241m-\u001b[39m\u001b[38;5;241m>\u001b[39m Tensor:\n\u001b[0;32m--> 458\u001b[0m     \u001b[38;5;28;01mreturn\u001b[39;00m \u001b[38;5;28;43mself\u001b[39;49m\u001b[38;5;241;43m.\u001b[39;49m\u001b[43m_conv_forward\u001b[49m\u001b[43m(\u001b[49m\u001b[38;5;28;43minput\u001b[39;49m\u001b[43m,\u001b[49m\u001b[43m \u001b[49m\u001b[38;5;28;43mself\u001b[39;49m\u001b[38;5;241;43m.\u001b[39;49m\u001b[43mweight\u001b[49m\u001b[43m,\u001b[49m\u001b[43m \u001b[49m\u001b[38;5;28;43mself\u001b[39;49m\u001b[38;5;241;43m.\u001b[39;49m\u001b[43mbias\u001b[49m\u001b[43m)\u001b[49m\n",
      "File \u001b[0;32m~/projects/yolov7/env/lib/python3.10/site-packages/torch/nn/modules/conv.py:454\u001b[0m, in \u001b[0;36mConv2d._conv_forward\u001b[0;34m(self, input, weight, bias)\u001b[0m\n\u001b[1;32m    450\u001b[0m \u001b[38;5;28;01mif\u001b[39;00m \u001b[38;5;28mself\u001b[39m\u001b[38;5;241m.\u001b[39mpadding_mode \u001b[38;5;241m!=\u001b[39m \u001b[38;5;124m'\u001b[39m\u001b[38;5;124mzeros\u001b[39m\u001b[38;5;124m'\u001b[39m:\n\u001b[1;32m    451\u001b[0m     \u001b[38;5;28;01mreturn\u001b[39;00m F\u001b[38;5;241m.\u001b[39mconv2d(F\u001b[38;5;241m.\u001b[39mpad(\u001b[38;5;28minput\u001b[39m, \u001b[38;5;28mself\u001b[39m\u001b[38;5;241m.\u001b[39m_reversed_padding_repeated_twice, mode\u001b[38;5;241m=\u001b[39m\u001b[38;5;28mself\u001b[39m\u001b[38;5;241m.\u001b[39mpadding_mode),\n\u001b[1;32m    452\u001b[0m                     weight, bias, \u001b[38;5;28mself\u001b[39m\u001b[38;5;241m.\u001b[39mstride,\n\u001b[1;32m    453\u001b[0m                     _pair(\u001b[38;5;241m0\u001b[39m), \u001b[38;5;28mself\u001b[39m\u001b[38;5;241m.\u001b[39mdilation, \u001b[38;5;28mself\u001b[39m\u001b[38;5;241m.\u001b[39mgroups)\n\u001b[0;32m--> 454\u001b[0m \u001b[38;5;28;01mreturn\u001b[39;00m \u001b[43mF\u001b[49m\u001b[38;5;241;43m.\u001b[39;49m\u001b[43mconv2d\u001b[49m\u001b[43m(\u001b[49m\u001b[38;5;28;43minput\u001b[39;49m\u001b[43m,\u001b[49m\u001b[43m \u001b[49m\u001b[43mweight\u001b[49m\u001b[43m,\u001b[49m\u001b[43m \u001b[49m\u001b[43mbias\u001b[49m\u001b[43m,\u001b[49m\u001b[43m \u001b[49m\u001b[38;5;28;43mself\u001b[39;49m\u001b[38;5;241;43m.\u001b[39;49m\u001b[43mstride\u001b[49m\u001b[43m,\u001b[49m\n\u001b[1;32m    455\u001b[0m \u001b[43m                \u001b[49m\u001b[38;5;28;43mself\u001b[39;49m\u001b[38;5;241;43m.\u001b[39;49m\u001b[43mpadding\u001b[49m\u001b[43m,\u001b[49m\u001b[43m \u001b[49m\u001b[38;5;28;43mself\u001b[39;49m\u001b[38;5;241;43m.\u001b[39;49m\u001b[43mdilation\u001b[49m\u001b[43m,\u001b[49m\u001b[43m \u001b[49m\u001b[38;5;28;43mself\u001b[39;49m\u001b[38;5;241;43m.\u001b[39;49m\u001b[43mgroups\u001b[49m\u001b[43m)\u001b[49m\n",
      "\u001b[0;31mRuntimeError\u001b[0m: Input type (torch.cuda.ByteTensor) and weight type (torch.cuda.FloatTensor) should be the same"
     ]
    }
   ],
   "source": [
    "pred = model(images.to(device))"
   ]
  },
  {
   "cell_type": "code",
   "execution_count": 13,
   "metadata": {},
   "outputs": [
    {
     "ename": "RuntimeError",
     "evalue": "Sizes of tensors must match except in dimension 2. Expected size 12 but got size 3 for tensor number 1 in the list.",
     "output_type": "error",
     "traceback": [
      "\u001b[0;31m---------------------------------------------------------------------------\u001b[0m",
      "\u001b[0;31mRuntimeError\u001b[0m                              Traceback (most recent call last)",
      "Cell \u001b[0;32mIn[13], line 1\u001b[0m\n\u001b[0;32m----> 1\u001b[0m loss, loss_items \u001b[38;5;241m=\u001b[39m \u001b[43mcompute_loss\u001b[49m\u001b[43m(\u001b[49m\u001b[43mpred\u001b[49m\u001b[43m,\u001b[49m\u001b[43m \u001b[49m\u001b[43mtargets\u001b[49m\u001b[38;5;241;43m.\u001b[39;49m\u001b[43mto\u001b[49m\u001b[43m(\u001b[49m\u001b[43mdevice\u001b[49m\u001b[43m)\u001b[49m\u001b[43m)\u001b[49m\n",
      "File \u001b[0;32m~/projects/yolov7/utils/loss.py:453\u001b[0m, in \u001b[0;36mComputeLoss.__call__\u001b[0;34m(self, p, targets)\u001b[0m\n\u001b[1;32m    451\u001b[0m device \u001b[38;5;241m=\u001b[39m targets\u001b[38;5;241m.\u001b[39mdevice\n\u001b[1;32m    452\u001b[0m lcls, lbox, lobj \u001b[38;5;241m=\u001b[39m torch\u001b[38;5;241m.\u001b[39mzeros(\u001b[38;5;241m1\u001b[39m, device\u001b[38;5;241m=\u001b[39mdevice), torch\u001b[38;5;241m.\u001b[39mzeros(\u001b[38;5;241m1\u001b[39m, device\u001b[38;5;241m=\u001b[39mdevice), torch\u001b[38;5;241m.\u001b[39mzeros(\u001b[38;5;241m1\u001b[39m, device\u001b[38;5;241m=\u001b[39mdevice)\n\u001b[0;32m--> 453\u001b[0m tcls, tbox, indices, anchors \u001b[38;5;241m=\u001b[39m \u001b[38;5;28;43mself\u001b[39;49m\u001b[38;5;241;43m.\u001b[39;49m\u001b[43mbuild_targets\u001b[49m\u001b[43m(\u001b[49m\u001b[43mp\u001b[49m\u001b[43m,\u001b[49m\u001b[43m \u001b[49m\u001b[43mtargets\u001b[49m\u001b[43m)\u001b[49m  \u001b[38;5;66;03m# targets\u001b[39;00m\n\u001b[1;32m    455\u001b[0m \u001b[38;5;66;03m# Losses\u001b[39;00m\n\u001b[1;32m    456\u001b[0m \u001b[38;5;28;01mfor\u001b[39;00m i, pi \u001b[38;5;129;01min\u001b[39;00m \u001b[38;5;28menumerate\u001b[39m(p):  \u001b[38;5;66;03m# layer index, layer predictions\u001b[39;00m\n",
      "File \u001b[0;32m~/projects/yolov7/utils/loss.py:506\u001b[0m, in \u001b[0;36mComputeLoss.build_targets\u001b[0;34m(self, p, targets)\u001b[0m\n\u001b[1;32m    504\u001b[0m gain \u001b[38;5;241m=\u001b[39m torch\u001b[38;5;241m.\u001b[39mones(\u001b[38;5;241m7\u001b[39m, device\u001b[38;5;241m=\u001b[39mtargets\u001b[38;5;241m.\u001b[39mdevice)\u001b[38;5;241m.\u001b[39mlong()  \u001b[38;5;66;03m# normalized to gridspace gain\u001b[39;00m\n\u001b[1;32m    505\u001b[0m ai \u001b[38;5;241m=\u001b[39m torch\u001b[38;5;241m.\u001b[39marange(na, device\u001b[38;5;241m=\u001b[39mtargets\u001b[38;5;241m.\u001b[39mdevice)\u001b[38;5;241m.\u001b[39mfloat()\u001b[38;5;241m.\u001b[39mview(na, \u001b[38;5;241m1\u001b[39m)\u001b[38;5;241m.\u001b[39mrepeat(\u001b[38;5;241m1\u001b[39m, nt)  \u001b[38;5;66;03m# same as .repeat_interleave(nt)\u001b[39;00m\n\u001b[0;32m--> 506\u001b[0m targets \u001b[38;5;241m=\u001b[39m \u001b[43mtorch\u001b[49m\u001b[38;5;241;43m.\u001b[39;49m\u001b[43mcat\u001b[49m\u001b[43m(\u001b[49m\u001b[43m(\u001b[49m\u001b[43mtargets\u001b[49m\u001b[38;5;241;43m.\u001b[39;49m\u001b[43mrepeat\u001b[49m\u001b[43m(\u001b[49m\u001b[43mna\u001b[49m\u001b[43m,\u001b[49m\u001b[43m \u001b[49m\u001b[38;5;241;43m1\u001b[39;49m\u001b[43m,\u001b[49m\u001b[43m \u001b[49m\u001b[38;5;241;43m1\u001b[39;49m\u001b[43m)\u001b[49m\u001b[43m,\u001b[49m\u001b[43m \u001b[49m\u001b[43mai\u001b[49m\u001b[43m[\u001b[49m\u001b[43m:\u001b[49m\u001b[43m,\u001b[49m\u001b[43m \u001b[49m\u001b[43m:\u001b[49m\u001b[43m,\u001b[49m\u001b[43m \u001b[49m\u001b[38;5;28;43;01mNone\u001b[39;49;00m\u001b[43m]\u001b[49m\u001b[43m)\u001b[49m\u001b[43m,\u001b[49m\u001b[43m \u001b[49m\u001b[38;5;241;43m2\u001b[39;49m\u001b[43m)\u001b[49m  \u001b[38;5;66;03m# append anchor indices\u001b[39;00m\n\u001b[1;32m    508\u001b[0m g \u001b[38;5;241m=\u001b[39m \u001b[38;5;241m0.5\u001b[39m  \u001b[38;5;66;03m# bias\u001b[39;00m\n\u001b[1;32m    509\u001b[0m off \u001b[38;5;241m=\u001b[39m torch\u001b[38;5;241m.\u001b[39mtensor([[\u001b[38;5;241m0\u001b[39m, \u001b[38;5;241m0\u001b[39m],\n\u001b[1;32m    510\u001b[0m                     [\u001b[38;5;241m1\u001b[39m, \u001b[38;5;241m0\u001b[39m], [\u001b[38;5;241m0\u001b[39m, \u001b[38;5;241m1\u001b[39m], [\u001b[38;5;241m-\u001b[39m\u001b[38;5;241m1\u001b[39m, \u001b[38;5;241m0\u001b[39m], [\u001b[38;5;241m0\u001b[39m, \u001b[38;5;241m-\u001b[39m\u001b[38;5;241m1\u001b[39m],  \u001b[38;5;66;03m# j,k,l,m\u001b[39;00m\n\u001b[1;32m    511\u001b[0m                     \u001b[38;5;66;03m# [1, 1], [1, -1], [-1, 1], [-1, -1],  # jk,jm,lk,lm\u001b[39;00m\n\u001b[1;32m    512\u001b[0m                     ], device\u001b[38;5;241m=\u001b[39mtargets\u001b[38;5;241m.\u001b[39mdevice)\u001b[38;5;241m.\u001b[39mfloat() \u001b[38;5;241m*\u001b[39m g  \u001b[38;5;66;03m# offsets\u001b[39;00m\n",
      "\u001b[0;31mRuntimeError\u001b[0m: Sizes of tensors must match except in dimension 2. Expected size 12 but got size 3 for tensor number 1 in the list."
     ]
    }
   ],
   "source": [
    "loss, loss_items = compute_loss(pred, targets.to(device))\n"
   ]
  },
  {
   "cell_type": "code",
   "execution_count": null,
   "metadata": {},
   "outputs": [
    {
     "data": {
      "text/plain": [
       "tensor([[ 0.00000,  0.00000],\n",
       "        [51.96932, 51.96932],\n",
       "        [51.96932, 51.96932],\n",
       "        ...,\n",
       "        [53.04919, 53.04919],\n",
       "        [53.04919, 53.04919],\n",
       "        [ 0.00000,  0.00000]])"
      ]
     },
     "execution_count": 5,
     "metadata": {},
     "output_type": "execute_result"
    }
   ],
   "source": [
    "import torch \n",
    "\n",
    "imgsz = 1024\n",
    "shapes = imgsz * ds.shapes / ds.shapes.max(1, keepdims=True)\n",
    "scale = np.random.uniform(0.9, 1.1, size=(shapes.shape[0], 1))  # augment scale\n",
    "torch.tensor(np.concatenate([l[:, 3:5] * s for s, l in zip(shapes * scale, ds.labels)])).float()  # wh\n"
   ]
  }
 ],
 "metadata": {
  "kernelspec": {
   "display_name": "env",
   "language": "python",
   "name": "python3"
  },
  "language_info": {
   "codemirror_mode": {
    "name": "ipython",
    "version": 3
   },
   "file_extension": ".py",
   "mimetype": "text/x-python",
   "name": "python",
   "nbconvert_exporter": "python",
   "pygments_lexer": "ipython3",
   "version": "3.10.12"
  }
 },
 "nbformat": 4,
 "nbformat_minor": 2
}
