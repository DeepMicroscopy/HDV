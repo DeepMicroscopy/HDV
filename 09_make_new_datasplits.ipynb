{
 "cells": [
  {
   "cell_type": "code",
   "execution_count": 1,
   "metadata": {},
   "outputs": [],
   "source": [
    "%load_ext autoreload\n",
    "%autoreload 2"
   ]
  },
  {
   "cell_type": "code",
   "execution_count": 2,
   "metadata": {},
   "outputs": [],
   "source": [
    "import numpy as np\n",
    "import pandas as pd\n",
    "import matplotlib.pyplot as plt "
   ]
  },
  {
   "cell_type": "code",
   "execution_count": 3,
   "metadata": {},
   "outputs": [],
   "source": [
    "dataset_file = 'annotations/MIDOG2022_training.csv'\n",
    "annotation_dir = 'annotations/'"
   ]
  },
  {
   "cell_type": "code",
   "execution_count": 4,
   "metadata": {},
   "outputs": [
    {
     "data": {
      "text/html": [
       "<div>\n",
       "<style scoped>\n",
       "    .dataframe tbody tr th:only-of-type {\n",
       "        vertical-align: middle;\n",
       "    }\n",
       "\n",
       "    .dataframe tbody tr th {\n",
       "        vertical-align: top;\n",
       "    }\n",
       "\n",
       "    .dataframe thead th {\n",
       "        text-align: right;\n",
       "    }\n",
       "</style>\n",
       "<table border=\"1\" class=\"dataframe\">\n",
       "  <thead>\n",
       "    <tr style=\"text-align: right;\">\n",
       "      <th></th>\n",
       "      <th>x</th>\n",
       "      <th>y</th>\n",
       "      <th>label</th>\n",
       "      <th>filename</th>\n",
       "      <th>slide</th>\n",
       "      <th>split</th>\n",
       "      <th>tumortype</th>\n",
       "    </tr>\n",
       "  </thead>\n",
       "  <tbody>\n",
       "    <tr>\n",
       "      <th>0</th>\n",
       "      <td>4361.0</td>\n",
       "      <td>371.0</td>\n",
       "      <td>2</td>\n",
       "      <td>001.tiff</td>\n",
       "      <td>1</td>\n",
       "      <td>train</td>\n",
       "      <td>human breast cancer</td>\n",
       "    </tr>\n",
       "    <tr>\n",
       "      <th>1</th>\n",
       "      <td>781.0</td>\n",
       "      <td>897.0</td>\n",
       "      <td>2</td>\n",
       "      <td>001.tiff</td>\n",
       "      <td>1</td>\n",
       "      <td>train</td>\n",
       "      <td>human breast cancer</td>\n",
       "    </tr>\n",
       "    <tr>\n",
       "      <th>2</th>\n",
       "      <td>295.0</td>\n",
       "      <td>4069.0</td>\n",
       "      <td>2</td>\n",
       "      <td>001.tiff</td>\n",
       "      <td>1</td>\n",
       "      <td>train</td>\n",
       "      <td>human breast cancer</td>\n",
       "    </tr>\n",
       "    <tr>\n",
       "      <th>3</th>\n",
       "      <td>6697.5</td>\n",
       "      <td>731.5</td>\n",
       "      <td>2</td>\n",
       "      <td>001.tiff</td>\n",
       "      <td>1</td>\n",
       "      <td>train</td>\n",
       "      <td>human breast cancer</td>\n",
       "    </tr>\n",
       "    <tr>\n",
       "      <th>4</th>\n",
       "      <td>1897.0</td>\n",
       "      <td>344.0</td>\n",
       "      <td>2</td>\n",
       "      <td>002.tiff</td>\n",
       "      <td>2</td>\n",
       "      <td>train</td>\n",
       "      <td>human breast cancer</td>\n",
       "    </tr>\n",
       "    <tr>\n",
       "      <th>...</th>\n",
       "      <td>...</td>\n",
       "      <td>...</td>\n",
       "      <td>...</td>\n",
       "      <td>...</td>\n",
       "      <td>...</td>\n",
       "      <td>...</td>\n",
       "      <td>...</td>\n",
       "    </tr>\n",
       "    <tr>\n",
       "      <th>20547</th>\n",
       "      <td>4626.5</td>\n",
       "      <td>2460.0</td>\n",
       "      <td>2</td>\n",
       "      <td>354.tiff</td>\n",
       "      <td>354</td>\n",
       "      <td>train</td>\n",
       "      <td>human neuroendocrine tumor</td>\n",
       "    </tr>\n",
       "    <tr>\n",
       "      <th>20548</th>\n",
       "      <td>1864.5</td>\n",
       "      <td>937.5</td>\n",
       "      <td>2</td>\n",
       "      <td>354.tiff</td>\n",
       "      <td>354</td>\n",
       "      <td>train</td>\n",
       "      <td>human neuroendocrine tumor</td>\n",
       "    </tr>\n",
       "    <tr>\n",
       "      <th>20549</th>\n",
       "      <td>2784.0</td>\n",
       "      <td>3272.0</td>\n",
       "      <td>2</td>\n",
       "      <td>354.tiff</td>\n",
       "      <td>354</td>\n",
       "      <td>train</td>\n",
       "      <td>human neuroendocrine tumor</td>\n",
       "    </tr>\n",
       "    <tr>\n",
       "      <th>20550</th>\n",
       "      <td>4738.0</td>\n",
       "      <td>1398.5</td>\n",
       "      <td>2</td>\n",
       "      <td>354.tiff</td>\n",
       "      <td>354</td>\n",
       "      <td>train</td>\n",
       "      <td>human neuroendocrine tumor</td>\n",
       "    </tr>\n",
       "    <tr>\n",
       "      <th>20551</th>\n",
       "      <td>523.5</td>\n",
       "      <td>4864.0</td>\n",
       "      <td>2</td>\n",
       "      <td>354.tiff</td>\n",
       "      <td>354</td>\n",
       "      <td>train</td>\n",
       "      <td>human neuroendocrine tumor</td>\n",
       "    </tr>\n",
       "  </tbody>\n",
       "</table>\n",
       "<p>20552 rows × 7 columns</p>\n",
       "</div>"
      ],
      "text/plain": [
       "            x       y  label  filename  slide  split  \\\n",
       "0      4361.0   371.0      2  001.tiff      1  train   \n",
       "1       781.0   897.0      2  001.tiff      1  train   \n",
       "2       295.0  4069.0      2  001.tiff      1  train   \n",
       "3      6697.5   731.5      2  001.tiff      1  train   \n",
       "4      1897.0   344.0      2  002.tiff      2  train   \n",
       "...       ...     ...    ...       ...    ...    ...   \n",
       "20547  4626.5  2460.0      2  354.tiff    354  train   \n",
       "20548  1864.5   937.5      2  354.tiff    354  train   \n",
       "20549  2784.0  3272.0      2  354.tiff    354  train   \n",
       "20550  4738.0  1398.5      2  354.tiff    354  train   \n",
       "20551   523.5  4864.0      2  354.tiff    354  train   \n",
       "\n",
       "                        tumortype  \n",
       "0             human breast cancer  \n",
       "1             human breast cancer  \n",
       "2             human breast cancer  \n",
       "3             human breast cancer  \n",
       "4             human breast cancer  \n",
       "...                           ...  \n",
       "20547  human neuroendocrine tumor  \n",
       "20548  human neuroendocrine tumor  \n",
       "20549  human neuroendocrine tumor  \n",
       "20550  human neuroendocrine tumor  \n",
       "20551  human neuroendocrine tumor  \n",
       "\n",
       "[20552 rows x 7 columns]"
      ]
     },
     "execution_count": 4,
     "metadata": {},
     "output_type": "execute_result"
    }
   ],
   "source": [
    "dataset = pd.read_csv(dataset_file)\n",
    "dataset"
   ]
  },
  {
   "cell_type": "code",
   "execution_count": 9,
   "metadata": {},
   "outputs": [],
   "source": [
    "from sklearn.model_selection import train_test_split\n",
    "\n",
    "def create_splits(df, test_size=0.2, val_size=0.1, random_state=42):\n",
    "    split_df = df.copy()\n",
    "    grouped = df.groupby(['filename', 'tumortype']).size().reset_index().drop(0, axis=1)\n",
    "    \n",
    "    train_val_filenames, test_filenames = train_test_split(\n",
    "        grouped['filename'], test_size=test_size, random_state=random_state, stratify=grouped['tumortype']\n",
    "    )\n",
    "    \n",
    "    train_filenames, val_filenames = train_test_split(\n",
    "        train_val_filenames, test_size=val_size / (1 - test_size), random_state=random_state, stratify=grouped.loc[grouped['filename'].isin(train_val_filenames), 'tumortype']\n",
    "    )\n",
    "    \n",
    "    split_df['split'] = 'train'\n",
    "    split_df.loc[df['filename'].isin(val_filenames), 'split'] = 'val'\n",
    "    split_df.loc[df['filename'].isin(test_filenames), 'split'] = 'test'\n",
    "    \n",
    "    return split_df\n",
    "\n",
    "\n",
    "def create_folds(df, num_folds=3, test_size=0.2, val_size=0.1, random_state=42):\n",
    "    grouped = df.groupby(['filename', 'tumortype']).size().reset_index().drop(0, axis=1)\n",
    "    \n",
    "    train_val_filenames, test_filenames = train_test_split(\n",
    "        grouped['filename'], test_size=test_size, random_state=random_state, stratify=grouped['tumortype']\n",
    "    )\n",
    "    \n",
    "    folds = []\n",
    "    \n",
    "    for fold in range(num_folds):\n",
    "        train_filenames, val_filenames = train_test_split(\n",
    "            train_val_filenames, test_size=val_size / (1 - test_size), \n",
    "            random_state=random_state + fold,  # Use a different random state for each fold\n",
    "            stratify=grouped.loc[grouped['filename'].isin(train_val_filenames), 'tumortype']\n",
    "        )\n",
    "        \n",
    "        fold_df = df.copy()\n",
    "        fold_df['split'] = 'train'\n",
    "        fold_df.loc[fold_df['filename'].isin(val_filenames), 'split'] = 'val'\n",
    "        fold_df.loc[fold_df['filename'].isin(test_filenames), 'split'] = 'test'\n",
    "        \n",
    "        folds.append(fold_df)\n",
    "    \n",
    "    return folds"
   ]
  },
  {
   "cell_type": "code",
   "execution_count": 10,
   "metadata": {},
   "outputs": [],
   "source": [
    "df = create_splits(dataset, test_size=0.2, val_size=0.1, random_state=42)\n"
   ]
  },
  {
   "cell_type": "code",
   "execution_count": 11,
   "metadata": {},
   "outputs": [
    {
     "data": {
      "text/plain": [
       "(array(['001.tiff', '002.tiff', '004.tiff', '005.tiff', '006.tiff',\n",
       "        '007.tiff', '008.tiff', '009.tiff', '010.tiff', '011.tiff',\n",
       "        '012.tiff', '014.tiff', '015.tiff', '016.tiff', '017.tiff',\n",
       "        '018.tiff', '019.tiff', '020.tiff', '021.tiff', '022.tiff',\n",
       "        '023.tiff', '024.tiff', '025.tiff', '031.tiff', '032.tiff',\n",
       "        '033.tiff', '034.tiff', '035.tiff', '037.tiff', '038.tiff',\n",
       "        '040.tiff', '041.tiff', '042.tiff', '043.tiff', '046.tiff',\n",
       "        '047.tiff', '048.tiff', '049.tiff', '050.tiff', '051.tiff',\n",
       "        '052.tiff', '054.tiff', '055.tiff', '057.tiff', '058.tiff',\n",
       "        '059.tiff', '060.tiff', '061.tiff', '063.tiff', '064.tiff',\n",
       "        '065.tiff', '068.tiff', '069.tiff', '072.tiff', '074.tiff',\n",
       "        '078.tiff', '079.tiff', '081.tiff', '082.tiff', '083.tiff',\n",
       "        '085.tiff', '087.tiff', '090.tiff', '093.tiff', '094.tiff',\n",
       "        '095.tiff', '097.tiff', '098.tiff', '099.tiff', '100.tiff',\n",
       "        '101.tiff', '102.tiff', '104.tiff', '106.tiff', '107.tiff',\n",
       "        '110.tiff', '111.tiff', '112.tiff', '113.tiff', '114.tiff',\n",
       "        '115.tiff', '117.tiff', '119.tiff', '120.tiff', '122.tiff',\n",
       "        '123.tiff', '124.tiff', '125.tiff', '126.tiff', '127.tiff',\n",
       "        '131.tiff', '132.tiff', '133.tiff', '136.tiff', '137.tiff',\n",
       "        '138.tiff', '142.tiff', '145.tiff', '147.tiff', '149.tiff',\n",
       "        '150.tiff', '151.tiff', '153.tiff', '154.tiff', '155.tiff',\n",
       "        '156.tiff', '160.tiff', '161.tiff', '163.tiff', '165.tiff',\n",
       "        '166.tiff', '168.tiff', '169.tiff', '171.tiff', '172.tiff',\n",
       "        '173.tiff', '174.tiff', '175.tiff', '176.tiff', '179.tiff',\n",
       "        '180.tiff', '181.tiff', '183.tiff', '187.tiff', '188.tiff',\n",
       "        '189.tiff', '190.tiff', '191.tiff', '192.tiff', '194.tiff',\n",
       "        '196.tiff', '197.tiff', '198.tiff', '199.tiff', '200.tiff',\n",
       "        '201.tiff', '203.tiff', '204.tiff', '206.tiff', '208.tiff',\n",
       "        '209.tiff', '210.tiff', '212.tiff', '213.tiff', '214.tiff',\n",
       "        '215.tiff', '216.tiff', '217.tiff', '219.tiff', '221.tiff',\n",
       "        '222.tiff', '223.tiff', '224.tiff', '225.tiff', '228.tiff',\n",
       "        '230.tiff', '231.tiff', '232.tiff', '233.tiff', '234.tiff',\n",
       "        '235.tiff', '236.tiff', '237.tiff', '239.tiff', '240.tiff',\n",
       "        '242.tiff', '243.tiff', '244.tiff', '245.tiff', '248.tiff',\n",
       "        '250.tiff', '251.tiff', '253.tiff', '254.tiff', '256.tiff',\n",
       "        '258.tiff', '259.tiff', '261.tiff', '262.tiff', '263.tiff',\n",
       "        '265.tiff', '266.tiff', '267.tiff', '269.tiff', '271.tiff',\n",
       "        '273.tiff', '274.tiff', '275.tiff', '276.tiff', '277.tiff',\n",
       "        '279.tiff', '280.tiff', '281.tiff', '282.tiff', '283.tiff',\n",
       "        '284.tiff', '285.tiff', '286.tiff', '287.tiff', '289.tiff',\n",
       "        '290.tiff', '293.tiff', '295.tiff', '296.tiff', '297.tiff',\n",
       "        '298.tiff', '299.tiff', '300.tiff', '301.tiff', '303.tiff',\n",
       "        '304.tiff', '305.tiff', '309.tiff', '312.tiff', '314.tiff',\n",
       "        '315.tiff', '317.tiff', '318.tiff', '321.tiff', '322.tiff',\n",
       "        '323.tiff', '324.tiff', '325.tiff', '326.tiff', '328.tiff',\n",
       "        '329.tiff', '330.tiff', '331.tiff', '333.tiff', '334.tiff',\n",
       "        '335.tiff', '336.tiff', '338.tiff', '339.tiff', '340.tiff',\n",
       "        '341.tiff', '342.tiff', '343.tiff', '344.tiff', '345.tiff',\n",
       "        '346.tiff', '348.tiff', '349.tiff', '350.tiff', '351.tiff',\n",
       "        '352.tiff', '353.tiff'], dtype=object),\n",
       " 247)"
      ]
     },
     "execution_count": 11,
     "metadata": {},
     "output_type": "execute_result"
    }
   ],
   "source": [
    "df.query('split == \"train\"')['filename'].unique(), len(df.query('split == \"train\"')['filename'].unique())"
   ]
  },
  {
   "cell_type": "code",
   "execution_count": 12,
   "metadata": {},
   "outputs": [
    {
     "data": {
      "text/plain": [
       "(array(['human breast cancer', 'canine lung cancer', 'canine lymphoma',\n",
       "        'canine cutaneous mast cell tumor', 'human neuroendocrine tumor'],\n",
       "       dtype=object),\n",
       " 5)"
      ]
     },
     "execution_count": 12,
     "metadata": {},
     "output_type": "execute_result"
    }
   ],
   "source": [
    "df.query('split == \"train\"')['tumortype'].unique(), len(df.query('split == \"train\"')['tumortype'].unique())"
   ]
  },
  {
   "cell_type": "code",
   "execution_count": 13,
   "metadata": {},
   "outputs": [
    {
     "data": {
      "text/plain": [
       "(array(['026.tiff', '039.tiff', '053.tiff', '056.tiff', '067.tiff',\n",
       "        '070.tiff', '073.tiff', '076.tiff', '080.tiff', '088.tiff',\n",
       "        '089.tiff', '091.tiff', '096.tiff', '109.tiff', '118.tiff',\n",
       "        '135.tiff', '140.tiff', '146.tiff', '148.tiff', '159.tiff',\n",
       "        '162.tiff', '177.tiff', '182.tiff', '184.tiff', '193.tiff',\n",
       "        '207.tiff', '220.tiff', '226.tiff', '247.tiff', '252.tiff',\n",
       "        '255.tiff', '294.tiff', '308.tiff', '310.tiff', '327.tiff',\n",
       "        '337.tiff'], dtype=object),\n",
       " 36)"
      ]
     },
     "execution_count": 13,
     "metadata": {},
     "output_type": "execute_result"
    }
   ],
   "source": [
    "df.query('split == \"val\"')['filename'].unique(), len(df.query('split == \"val\"')['filename'].unique())"
   ]
  },
  {
   "cell_type": "code",
   "execution_count": 14,
   "metadata": {},
   "outputs": [
    {
     "data": {
      "text/plain": [
       "(array(['human breast cancer', 'canine lung cancer', 'canine lymphoma',\n",
       "        'canine cutaneous mast cell tumor', 'human neuroendocrine tumor'],\n",
       "       dtype=object),\n",
       " 5)"
      ]
     },
     "execution_count": 14,
     "metadata": {},
     "output_type": "execute_result"
    }
   ],
   "source": [
    "df.query('split == \"val\"')['tumortype'].unique(), len(df.query('split == \"val\"')['tumortype'].unique())"
   ]
  },
  {
   "cell_type": "code",
   "execution_count": 15,
   "metadata": {},
   "outputs": [
    {
     "data": {
      "text/plain": [
       "(array(['003.tiff', '013.tiff', '027.tiff', '028.tiff', '029.tiff',\n",
       "        '030.tiff', '036.tiff', '044.tiff', '045.tiff', '062.tiff',\n",
       "        '066.tiff', '071.tiff', '075.tiff', '077.tiff', '084.tiff',\n",
       "        '086.tiff', '092.tiff', '103.tiff', '105.tiff', '108.tiff',\n",
       "        '116.tiff', '121.tiff', '128.tiff', '129.tiff', '130.tiff',\n",
       "        '134.tiff', '139.tiff', '141.tiff', '143.tiff', '144.tiff',\n",
       "        '152.tiff', '157.tiff', '158.tiff', '164.tiff', '167.tiff',\n",
       "        '170.tiff', '178.tiff', '185.tiff', '186.tiff', '195.tiff',\n",
       "        '202.tiff', '205.tiff', '211.tiff', '218.tiff', '227.tiff',\n",
       "        '229.tiff', '238.tiff', '241.tiff', '246.tiff', '249.tiff',\n",
       "        '257.tiff', '260.tiff', '264.tiff', '268.tiff', '270.tiff',\n",
       "        '272.tiff', '278.tiff', '288.tiff', '291.tiff', '292.tiff',\n",
       "        '302.tiff', '306.tiff', '307.tiff', '311.tiff', '313.tiff',\n",
       "        '316.tiff', '319.tiff', '320.tiff', '332.tiff', '347.tiff',\n",
       "        '354.tiff'], dtype=object),\n",
       " 71)"
      ]
     },
     "execution_count": 15,
     "metadata": {},
     "output_type": "execute_result"
    }
   ],
   "source": [
    "df.query('split == \"test\"')['filename'].unique(), len(df.query('split == \"test\"')['filename'].unique())"
   ]
  },
  {
   "cell_type": "code",
   "execution_count": 16,
   "metadata": {},
   "outputs": [
    {
     "data": {
      "text/plain": [
       "(array(['human breast cancer', 'canine lung cancer', 'canine lymphoma',\n",
       "        'canine cutaneous mast cell tumor', 'human neuroendocrine tumor'],\n",
       "       dtype=object),\n",
       " 5)"
      ]
     },
     "execution_count": 16,
     "metadata": {},
     "output_type": "execute_result"
    }
   ],
   "source": [
    "df.query('split == \"test\"')['tumortype'].unique(), len(df.query('split == \"test\"')['tumortype'].unique())"
   ]
  },
  {
   "cell_type": "code",
   "execution_count": 17,
   "metadata": {},
   "outputs": [],
   "source": [
    "import seaborn as sns \n",
    "\n",
    "def plot_mitotic_distribution(df):\n",
    "    # only select mitotic figures \n",
    "    df = df.query('label == 1') \n",
    "\n",
    "    # group by filename and split, then count the number of mitotic figures (rows) per file\n",
    "    mitotic_counts = df.groupby(['filename', 'split']).size().reset_index(name='mitotic_count')\n",
    "    \n",
    "    plt.figure(figsize=(12, 6))\n",
    "    sns.boxplot(x='split', y='mitotic_count', data=mitotic_counts, palette='Set2')\n",
    "    \n",
    "    plt.title('Distribution of Mitotic Figures per Case by Split')\n",
    "    plt.xlabel('Data Split')\n",
    "    plt.ylabel('Number of Mitotic Figures')\n",
    "    \n",
    "    plt.show()"
   ]
  },
  {
   "cell_type": "code",
   "execution_count": 18,
   "metadata": {},
   "outputs": [
    {
     "name": "stderr",
     "output_type": "stream",
     "text": [
      "/tmp/ipykernel_3183933/4065265800.py:11: FutureWarning: \n",
      "\n",
      "Passing `palette` without assigning `hue` is deprecated and will be removed in v0.14.0. Assign the `x` variable to `hue` and set `legend=False` for the same effect.\n",
      "\n",
      "  sns.boxplot(x='split', y='mitotic_count', data=mitotic_counts, palette='Set2')\n"
     ]
    },
    {
     "data": {
      "image/png": "[encoded data removed]",
      "text/plain": [
       "<Figure size 1200x600 with 1 Axes>"
      ]
     },
     "metadata": {},
     "output_type": "display_data"
    }
   ],
   "source": [
    "plot_mitotic_distribution(df)"
   ]
  },
  {
   "cell_type": "code",
   "execution_count": 23,
   "metadata": {},
   "outputs": [],
   "source": [
    "folds = create_folds(dataset, num_folds=3)"
   ]
  },
  {
   "cell_type": "code",
   "execution_count": 24,
   "metadata": {},
   "outputs": [
    {
     "data": {
      "text/plain": [
       "3"
      ]
     },
     "execution_count": 24,
     "metadata": {},
     "output_type": "execute_result"
    }
   ],
   "source": [
    "len(folds)"
   ]
  },
  {
   "cell_type": "code",
   "execution_count": 25,
   "metadata": {},
   "outputs": [
    {
     "name": "stderr",
     "output_type": "stream",
     "text": [
      "/tmp/ipykernel_3183933/4065265800.py:11: FutureWarning: \n",
      "\n",
      "Passing `palette` without assigning `hue` is deprecated and will be removed in v0.14.0. Assign the `x` variable to `hue` and set `legend=False` for the same effect.\n",
      "\n",
      "  sns.boxplot(x='split', y='mitotic_count', data=mitotic_counts, palette='Set2')\n"
     ]
    },
    {
     "data": {
      "image/png": "[encoded data removed]",
      "text/plain": [
       "<Figure size 1200x600 with 1 Axes>"
      ]
     },
     "metadata": {},
     "output_type": "display_data"
    },
    {
     "name": "stderr",
     "output_type": "stream",
     "text": [
      "/tmp/ipykernel_3183933/4065265800.py:11: FutureWarning: \n",
      "\n",
      "Passing `palette` without assigning `hue` is deprecated and will be removed in v0.14.0. Assign the `x` variable to `hue` and set `legend=False` for the same effect.\n",
      "\n",
      "  sns.boxplot(x='split', y='mitotic_count', data=mitotic_counts, palette='Set2')\n"
     ]
    },
    {
     "data": {
      "image/png": "[encoded data removed]",
      "text/plain": [
       "<Figure size 1200x600 with 1 Axes>"
      ]
     },
     "metadata": {},
     "output_type": "display_data"
    },
    {
     "name": "stderr",
     "output_type": "stream",
     "text": [
      "/tmp/ipykernel_3183933/4065265800.py:11: FutureWarning: \n",
      "\n",
      "Passing `palette` without assigning `hue` is deprecated and will be removed in v0.14.0. Assign the `x` variable to `hue` and set `legend=False` for the same effect.\n",
      "\n",
      "  sns.boxplot(x='split', y='mitotic_count', data=mitotic_counts, palette='Set2')\n"
     ]
    },
    {
     "data": {
      "image/png": "[encoded data removed]",
      "text/plain": [
       "<Figure size 1200x600 with 1 Axes>"
      ]
     },
     "metadata": {},
     "output_type": "display_data"
    }
   ],
   "source": [
    "for k in range(3):\n",
    "\n",
    "    fold = folds[k]\n",
    "\n",
    "\n",
    "    plot_mitotic_distribution(fold)\n",
    "\n",
    "\n",
    "    fold.to_csv(f'annotations/midog_2022_training_fold_{k}.csv', index=False)"
   ]
  },
  {
   "cell_type": "code",
   "execution_count": 26,
   "metadata": {},
   "outputs": [
    {
     "data": {
      "text/plain": [
       "array(['026.tiff', '039.tiff', '053.tiff', '056.tiff', '067.tiff',\n",
       "       '070.tiff', '073.tiff', '076.tiff', '080.tiff', '088.tiff',\n",
       "       '089.tiff', '091.tiff', '096.tiff', '109.tiff', '118.tiff',\n",
       "       '135.tiff', '140.tiff', '146.tiff', '148.tiff', '159.tiff',\n",
       "       '162.tiff', '177.tiff', '182.tiff', '184.tiff', '193.tiff',\n",
       "       '207.tiff', '220.tiff', '226.tiff', '247.tiff', '252.tiff',\n",
       "       '255.tiff', '294.tiff', '308.tiff', '310.tiff', '327.tiff',\n",
       "       '337.tiff'], dtype=object)"
      ]
     },
     "execution_count": 26,
     "metadata": {},
     "output_type": "execute_result"
    }
   ],
   "source": [
    "folds[0].query('split == \"val\"').filename.unique()"
   ]
  },
  {
   "cell_type": "code",
   "execution_count": 27,
   "metadata": {},
   "outputs": [
    {
     "data": {
      "text/plain": [
       "array(['007.tiff', '008.tiff', '010.tiff', '016.tiff', '024.tiff',\n",
       "       '031.tiff', '032.tiff', '039.tiff', '059.tiff', '081.tiff',\n",
       "       '091.tiff', '124.tiff', '136.tiff', '142.tiff', '150.tiff',\n",
       "       '166.tiff', '187.tiff', '188.tiff', '190.tiff', '201.tiff',\n",
       "       '234.tiff', '244.tiff', '245.tiff', '263.tiff', '271.tiff',\n",
       "       '277.tiff', '283.tiff', '293.tiff', '299.tiff', '305.tiff',\n",
       "       '312.tiff', '314.tiff', '317.tiff', '321.tiff', '328.tiff',\n",
       "       '345.tiff'], dtype=object)"
      ]
     },
     "execution_count": 27,
     "metadata": {},
     "output_type": "execute_result"
    }
   ],
   "source": [
    "folds[1].query('split == \"val\"').filename.unique()"
   ]
  },
  {
   "cell_type": "code",
   "execution_count": 28,
   "metadata": {},
   "outputs": [
    {
     "data": {
      "text/plain": [
       "array(['002.tiff', '037.tiff', '038.tiff', '047.tiff', '056.tiff',\n",
       "       '063.tiff', '076.tiff', '104.tiff', '125.tiff', '145.tiff',\n",
       "       '154.tiff', '165.tiff', '193.tiff', '197.tiff', '199.tiff',\n",
       "       '201.tiff', '203.tiff', '213.tiff', '216.tiff', '230.tiff',\n",
       "       '243.tiff', '263.tiff', '266.tiff', '271.tiff', '273.tiff',\n",
       "       '276.tiff', '284.tiff', '294.tiff', '298.tiff', '299.tiff',\n",
       "       '310.tiff', '323.tiff', '328.tiff', '330.tiff', '336.tiff',\n",
       "       '352.tiff'], dtype=object)"
      ]
     },
     "execution_count": 28,
     "metadata": {},
     "output_type": "execute_result"
    }
   ],
   "source": [
    "folds[2].query('split == \"val\"').filename.unique()"
   ]
  },
  {
   "cell_type": "code",
   "execution_count": 29,
   "metadata": {},
   "outputs": [
    {
     "data": {
      "text/plain": [
       "array(['003.tiff', '013.tiff', '027.tiff', '028.tiff', '029.tiff',\n",
       "       '030.tiff', '036.tiff', '044.tiff', '045.tiff', '062.tiff',\n",
       "       '066.tiff', '071.tiff', '075.tiff', '077.tiff', '084.tiff',\n",
       "       '086.tiff', '092.tiff', '103.tiff', '105.tiff', '108.tiff',\n",
       "       '116.tiff', '121.tiff', '128.tiff', '129.tiff', '130.tiff',\n",
       "       '134.tiff', '139.tiff', '141.tiff', '143.tiff', '144.tiff',\n",
       "       '152.tiff', '157.tiff', '158.tiff', '164.tiff', '167.tiff',\n",
       "       '170.tiff', '178.tiff', '185.tiff', '186.tiff', '195.tiff',\n",
       "       '202.tiff', '205.tiff', '211.tiff', '218.tiff', '227.tiff',\n",
       "       '229.tiff', '238.tiff', '241.tiff', '246.tiff', '249.tiff',\n",
       "       '257.tiff', '260.tiff', '264.tiff', '268.tiff', '270.tiff',\n",
       "       '272.tiff', '278.tiff', '288.tiff', '291.tiff', '292.tiff',\n",
       "       '302.tiff', '306.tiff', '307.tiff', '311.tiff', '313.tiff',\n",
       "       '316.tiff', '319.tiff', '320.tiff', '332.tiff', '347.tiff',\n",
       "       '354.tiff'], dtype=object)"
      ]
     },
     "execution_count": 29,
     "metadata": {},
     "output_type": "execute_result"
    }
   ],
   "source": [
    "folds[2].query('split == \"test\"').filename.unique()"
   ]
  },
  {
   "cell_type": "code",
   "execution_count": 30,
   "metadata": {},
   "outputs": [
    {
     "data": {
      "text/plain": [
       "array(['003.tiff', '013.tiff', '027.tiff', '028.tiff', '029.tiff',\n",
       "       '030.tiff', '036.tiff', '044.tiff', '045.tiff', '062.tiff',\n",
       "       '066.tiff', '071.tiff', '075.tiff', '077.tiff', '084.tiff',\n",
       "       '086.tiff', '092.tiff', '103.tiff', '105.tiff', '108.tiff',\n",
       "       '116.tiff', '121.tiff', '128.tiff', '129.tiff', '130.tiff',\n",
       "       '134.tiff', '139.tiff', '141.tiff', '143.tiff', '144.tiff',\n",
       "       '152.tiff', '157.tiff', '158.tiff', '164.tiff', '167.tiff',\n",
       "       '170.tiff', '178.tiff', '185.tiff', '186.tiff', '195.tiff',\n",
       "       '202.tiff', '205.tiff', '211.tiff', '218.tiff', '227.tiff',\n",
       "       '229.tiff', '238.tiff', '241.tiff', '246.tiff', '249.tiff',\n",
       "       '257.tiff', '260.tiff', '264.tiff', '268.tiff', '270.tiff',\n",
       "       '272.tiff', '278.tiff', '288.tiff', '291.tiff', '292.tiff',\n",
       "       '302.tiff', '306.tiff', '307.tiff', '311.tiff', '313.tiff',\n",
       "       '316.tiff', '319.tiff', '320.tiff', '332.tiff', '347.tiff',\n",
       "       '354.tiff'], dtype=object)"
      ]
     },
     "execution_count": 30,
     "metadata": {},
     "output_type": "execute_result"
    }
   ],
   "source": [
    "folds[1].query('split == \"test\"').filename.unique()"
   ]
  },
  {
   "cell_type": "code",
   "execution_count": 31,
   "metadata": {},
   "outputs": [
    {
     "data": {
      "text/plain": [
       "array(['003.tiff', '013.tiff', '027.tiff', '028.tiff', '029.tiff',\n",
       "       '030.tiff', '036.tiff', '044.tiff', '045.tiff', '062.tiff',\n",
       "       '066.tiff', '071.tiff', '075.tiff', '077.tiff', '084.tiff',\n",
       "       '086.tiff', '092.tiff', '103.tiff', '105.tiff', '108.tiff',\n",
       "       '116.tiff', '121.tiff', '128.tiff', '129.tiff', '130.tiff',\n",
       "       '134.tiff', '139.tiff', '141.tiff', '143.tiff', '144.tiff',\n",
       "       '152.tiff', '157.tiff', '158.tiff', '164.tiff', '167.tiff',\n",
       "       '170.tiff', '178.tiff', '185.tiff', '186.tiff', '195.tiff',\n",
       "       '202.tiff', '205.tiff', '211.tiff', '218.tiff', '227.tiff',\n",
       "       '229.tiff', '238.tiff', '241.tiff', '246.tiff', '249.tiff',\n",
       "       '257.tiff', '260.tiff', '264.tiff', '268.tiff', '270.tiff',\n",
       "       '272.tiff', '278.tiff', '288.tiff', '291.tiff', '292.tiff',\n",
       "       '302.tiff', '306.tiff', '307.tiff', '311.tiff', '313.tiff',\n",
       "       '316.tiff', '319.tiff', '320.tiff', '332.tiff', '347.tiff',\n",
       "       '354.tiff'], dtype=object)"
      ]
     },
     "execution_count": 31,
     "metadata": {},
     "output_type": "execute_result"
    }
   ],
   "source": [
    "folds[0].query('split == \"test\"').filename.unique()"
   ]
  },
  {
   "cell_type": "code",
   "execution_count": 70,
   "metadata": {},
   "outputs": [
    {
     "data": {
      "text/plain": [
       "3"
      ]
     },
     "execution_count": 70,
     "metadata": {},
     "output_type": "execute_result"
    }
   ],
   "source": []
  },
  {
   "cell_type": "code",
   "execution_count": 32,
   "metadata": {},
   "outputs": [],
   "source": [
    "fold_data = []\n",
    "for fold in range(3):\n",
    "    fold_df = folds[fold][['filename', 'split']].drop_duplicates()\n",
    "    fold_df = fold_df.rename(columns={'split': f'fold_{fold + 1}'})\n",
    "    fold_data.append(fold_df)\n",
    "\n",
    "# Merge the dataframes on the filename\n",
    "combined_df = fold_data[0]\n",
    "for fold_df in fold_data[1:]:\n",
    "    combined_df = pd.merge(combined_df, fold_df, on='filename', how='outer')"
   ]
  },
  {
   "cell_type": "code",
   "execution_count": 33,
   "metadata": {},
   "outputs": [
    {
     "data": {
      "text/html": [
       "<div>\n",
       "<style scoped>\n",
       "    .dataframe tbody tr th:only-of-type {\n",
       "        vertical-align: middle;\n",
       "    }\n",
       "\n",
       "    .dataframe tbody tr th {\n",
       "        vertical-align: top;\n",
       "    }\n",
       "\n",
       "    .dataframe thead th {\n",
       "        text-align: right;\n",
       "    }\n",
       "</style>\n",
       "<table border=\"1\" class=\"dataframe\">\n",
       "  <thead>\n",
       "    <tr style=\"text-align: right;\">\n",
       "      <th></th>\n",
       "      <th>filename</th>\n",
       "      <th>fold_1</th>\n",
       "      <th>fold_2</th>\n",
       "      <th>fold_3</th>\n",
       "    </tr>\n",
       "  </thead>\n",
       "  <tbody>\n",
       "    <tr>\n",
       "      <th>0</th>\n",
       "      <td>001.tiff</td>\n",
       "      <td>train</td>\n",
       "      <td>train</td>\n",
       "      <td>train</td>\n",
       "    </tr>\n",
       "    <tr>\n",
       "      <th>1</th>\n",
       "      <td>002.tiff</td>\n",
       "      <td>train</td>\n",
       "      <td>train</td>\n",
       "      <td>val</td>\n",
       "    </tr>\n",
       "    <tr>\n",
       "      <th>2</th>\n",
       "      <td>003.tiff</td>\n",
       "      <td>test</td>\n",
       "      <td>test</td>\n",
       "      <td>test</td>\n",
       "    </tr>\n",
       "    <tr>\n",
       "      <th>3</th>\n",
       "      <td>004.tiff</td>\n",
       "      <td>train</td>\n",
       "      <td>train</td>\n",
       "      <td>train</td>\n",
       "    </tr>\n",
       "    <tr>\n",
       "      <th>4</th>\n",
       "      <td>005.tiff</td>\n",
       "      <td>train</td>\n",
       "      <td>train</td>\n",
       "      <td>train</td>\n",
       "    </tr>\n",
       "    <tr>\n",
       "      <th>...</th>\n",
       "      <td>...</td>\n",
       "      <td>...</td>\n",
       "      <td>...</td>\n",
       "      <td>...</td>\n",
       "    </tr>\n",
       "    <tr>\n",
       "      <th>349</th>\n",
       "      <td>350.tiff</td>\n",
       "      <td>train</td>\n",
       "      <td>train</td>\n",
       "      <td>train</td>\n",
       "    </tr>\n",
       "    <tr>\n",
       "      <th>350</th>\n",
       "      <td>351.tiff</td>\n",
       "      <td>train</td>\n",
       "      <td>train</td>\n",
       "      <td>train</td>\n",
       "    </tr>\n",
       "    <tr>\n",
       "      <th>351</th>\n",
       "      <td>352.tiff</td>\n",
       "      <td>train</td>\n",
       "      <td>train</td>\n",
       "      <td>val</td>\n",
       "    </tr>\n",
       "    <tr>\n",
       "      <th>352</th>\n",
       "      <td>353.tiff</td>\n",
       "      <td>train</td>\n",
       "      <td>train</td>\n",
       "      <td>train</td>\n",
       "    </tr>\n",
       "    <tr>\n",
       "      <th>353</th>\n",
       "      <td>354.tiff</td>\n",
       "      <td>test</td>\n",
       "      <td>test</td>\n",
       "      <td>test</td>\n",
       "    </tr>\n",
       "  </tbody>\n",
       "</table>\n",
       "<p>354 rows × 4 columns</p>\n",
       "</div>"
      ],
      "text/plain": [
       "     filename fold_1 fold_2 fold_3\n",
       "0    001.tiff  train  train  train\n",
       "1    002.tiff  train  train    val\n",
       "2    003.tiff   test   test   test\n",
       "3    004.tiff  train  train  train\n",
       "4    005.tiff  train  train  train\n",
       "..        ...    ...    ...    ...\n",
       "349  350.tiff  train  train  train\n",
       "350  351.tiff  train  train  train\n",
       "351  352.tiff  train  train    val\n",
       "352  353.tiff  train  train  train\n",
       "353  354.tiff   test   test   test\n",
       "\n",
       "[354 rows x 4 columns]"
      ]
     },
     "execution_count": 33,
     "metadata": {},
     "output_type": "execute_result"
    }
   ],
   "source": [
    "combined_df"
   ]
  },
  {
   "cell_type": "code",
   "execution_count": 34,
   "metadata": {},
   "outputs": [],
   "source": [
    "combined_df.to_csv('annotations/folds_overview.csv', index=False)"
   ]
  },
  {
   "cell_type": "markdown",
   "metadata": {},
   "source": [
    "### Make subtyping datasets"
   ]
  },
  {
   "cell_type": "code",
   "execution_count": 5,
   "metadata": {},
   "outputs": [],
   "source": [
    "subtyping_data = pd.read_csv('annotations/MIDOG2022_training_subtyping.csv')\n",
    "folds_data = pd.read_csv('annotations/folds_overview.csv')"
   ]
  },
  {
   "cell_type": "code",
   "execution_count": 22,
   "metadata": {},
   "outputs": [],
   "source": [
    "folds = []\n",
    "\n",
    "for idx, fold in enumerate(['fold_1', 'fold_2', 'fold_3']):\n",
    "    fold_copy = subtyping_data.copy()\n",
    "    fold_copy = fold_copy.merge(folds_data[['filename', fold]], on='filename')\n",
    "    fold_copy = fold_copy.drop('split', axis=1)\n",
    "    fold_copy = fold_copy.rename({fold: 'split'}, axis=1)\n",
    "    fold_copy.to_csv(f'annotations/midog_2022_training_subtyping_fold_{idx}.csv', index=False)"
   ]
  },
  {
   "cell_type": "code",
   "execution_count": 23,
   "metadata": {},
   "outputs": [
    {
     "data": {
      "text/html": [
       "<div>\n",
       "<style scoped>\n",
       "    .dataframe tbody tr th:only-of-type {\n",
       "        vertical-align: middle;\n",
       "    }\n",
       "\n",
       "    .dataframe tbody tr th {\n",
       "        vertical-align: top;\n",
       "    }\n",
       "\n",
       "    .dataframe thead th {\n",
       "        text-align: right;\n",
       "    }\n",
       "</style>\n",
       "<table border=\"1\" class=\"dataframe\">\n",
       "  <thead>\n",
       "    <tr style=\"text-align: right;\">\n",
       "      <th></th>\n",
       "      <th>x</th>\n",
       "      <th>y</th>\n",
       "      <th>filename</th>\n",
       "      <th>tumortype</th>\n",
       "      <th>label</th>\n",
       "      <th>slide</th>\n",
       "      <th>split</th>\n",
       "    </tr>\n",
       "  </thead>\n",
       "  <tbody>\n",
       "    <tr>\n",
       "      <th>0</th>\n",
       "      <td>4421.0</td>\n",
       "      <td>218.0</td>\n",
       "      <td>002.tiff</td>\n",
       "      <td>human breast cancer</td>\n",
       "      <td>2</td>\n",
       "      <td>NaN</td>\n",
       "      <td>val</td>\n",
       "    </tr>\n",
       "    <tr>\n",
       "      <th>1</th>\n",
       "      <td>1313.0</td>\n",
       "      <td>2784.5</td>\n",
       "      <td>002.tiff</td>\n",
       "      <td>human breast cancer</td>\n",
       "      <td>3</td>\n",
       "      <td>NaN</td>\n",
       "      <td>val</td>\n",
       "    </tr>\n",
       "    <tr>\n",
       "      <th>2</th>\n",
       "      <td>3534.5</td>\n",
       "      <td>2489.0</td>\n",
       "      <td>002.tiff</td>\n",
       "      <td>human breast cancer</td>\n",
       "      <td>2</td>\n",
       "      <td>NaN</td>\n",
       "      <td>val</td>\n",
       "    </tr>\n",
       "    <tr>\n",
       "      <th>3</th>\n",
       "      <td>2190.5</td>\n",
       "      <td>3262.5</td>\n",
       "      <td>002.tiff</td>\n",
       "      <td>human breast cancer</td>\n",
       "      <td>2</td>\n",
       "      <td>NaN</td>\n",
       "      <td>val</td>\n",
       "    </tr>\n",
       "    <tr>\n",
       "      <th>4</th>\n",
       "      <td>5342.0</td>\n",
       "      <td>3267.5</td>\n",
       "      <td>002.tiff</td>\n",
       "      <td>human breast cancer</td>\n",
       "      <td>2</td>\n",
       "      <td>NaN</td>\n",
       "      <td>val</td>\n",
       "    </tr>\n",
       "  </tbody>\n",
       "</table>\n",
       "</div>"
      ],
      "text/plain": [
       "        x       y  filename            tumortype  label  slide split\n",
       "0  4421.0   218.0  002.tiff  human breast cancer      2    NaN   val\n",
       "1  1313.0  2784.5  002.tiff  human breast cancer      3    NaN   val\n",
       "2  3534.5  2489.0  002.tiff  human breast cancer      2    NaN   val\n",
       "3  2190.5  3262.5  002.tiff  human breast cancer      2    NaN   val\n",
       "4  5342.0  3267.5  002.tiff  human breast cancer      2    NaN   val"
      ]
     },
     "execution_count": 23,
     "metadata": {},
     "output_type": "execute_result"
    }
   ],
   "source": [
    "fold_copy.head()"
   ]
  }
 ],
 "metadata": {
  "kernelspec": {
   "display_name": "env",
   "language": "python",
   "name": "python3"
  },
  "language_info": {
   "codemirror_mode": {
    "name": "ipython",
    "version": 3
   },
   "file_extension": ".py",
   "mimetype": "text/x-python",
   "name": "python",
   "nbconvert_exporter": "python",
   "pygments_lexer": "ipython3",
   "version": "3.10.12"
  }
 },
 "nbformat": 4,
 "nbformat_minor": 2
}
