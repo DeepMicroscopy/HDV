{
 "cells": [
  {
   "cell_type": "code",
   "execution_count": 1,
   "metadata": {},
   "outputs": [],
   "source": [
    "%load_ext autoreload\n",
    "%autoreload 2"
   ]
  },
  {
   "cell_type": "code",
   "execution_count": 6,
   "metadata": {},
   "outputs": [],
   "source": [
    "import matplotlib.pyplot as plt\n",
    "import numpy as np\n",
    "import os\n",
    "import pandas as pd\n",
    "import seaborn as sns\n",
    "import pickle\n",
    "import json\n",
    "import torch\n",
    "\n",
    "from PIL import Image\n",
    "from matplotlib import patches\n",
    "from pathlib import Path\n",
    "from tqdm.autonotebook import tqdm\n",
    "from typing import Dict, List, Tuple\n",
    "\n",
    "from extract_features import get_all_annotations"
   ]
  },
  {
   "cell_type": "code",
   "execution_count": 9,
   "metadata": {},
   "outputs": [],
   "source": [
    "dataset_file = 'annotations/midog_2022_test.csv'\n",
    "img_dir = '/data/patho/MIDOG2/finalTest/'\n",
    "figure_dir = Path('figures/')\n",
    "result_dir = Path('results/')\n",
    "feature_dir = Path('/data/jonas/midog/features')"
   ]
  },
  {
   "cell_type": "code",
   "execution_count": 30,
   "metadata": {},
   "outputs": [],
   "source": [
    "import utils.constants as constants\n",
    "\n",
    "# load data \n",
    "dataset = pd.read_csv(dataset_file)\n",
    "\n",
    "# filter test samples \n",
    "test_dataset = dataset.query('split == \"test\"')\n",
    "\n",
    "# create test codes\n",
    "test_codes = {k: v for k, v in enumerate(test_dataset['tumortype'].unique())}\n",
    "\n",
    "\n",
    "# get test samples and labels\n",
    "test_samples = get_all_annotations(\n",
    "    dataset=test_dataset, \n",
    "    img_dir_path=img_dir, \n",
    "    domain_col='tumortype'\n",
    "    )\n",
    "\n",
    "# testset labels\n",
    "test_annos = torch.tensor([v for l in test_samples.values() for v in l['labels']])\n",
    "if 'midog' in dataset_file.lower():\n",
    "    test_annos -= 1\n"
   ]
  },
  {
   "cell_type": "code",
   "execution_count": 22,
   "metadata": {},
   "outputs": [
    {
     "name": "stdout",
     "output_type": "stream",
     "text": [
      "Loading features and targets ... Done.\n"
     ]
    }
   ],
   "source": [
    "model_name = 'yolov7_d6_ALL_0'\n",
    "\n",
    "print('Loading features and targets ...', end=' ')\n",
    "if not feature_dir.joinpath('features_' + model_name + '.pkl').exists():\n",
    "    raise FileNotFoundError(f'Features for model {model_name} not found.')\n",
    "else:\n",
    "    features = pickle.load(open(feature_dir.joinpath('features_' + model_name + '.pkl'), 'rb'))\n",
    "\n",
    "if not feature_dir.joinpath('domains_' + model_name + '.pkl').exists():\n",
    "    raise FileNotFoundError(f'Domains for model {model_name} not found.')\n",
    "else:\n",
    "    domains = pickle.load(open(feature_dir.joinpath('domains_' + model_name + '.pkl'), 'rb'))\n",
    "print('Done.')\n"
   ]
  },
  {
   "cell_type": "code",
   "execution_count": 23,
   "metadata": {},
   "outputs": [
    {
     "name": "stdout",
     "output_type": "stream",
     "text": [
      "model.14 torch.Size([10301, 192])\n",
      "model.27 torch.Size([10301, 384])\n",
      "model.40 torch.Size([10301, 768])\n",
      "model.53 torch.Size([10301, 1152])\n",
      "model.66 torch.Size([10301, 1536])\n",
      "model.83 torch.Size([10301, 576])\n",
      "model.99 torch.Size([10301, 384])\n",
      "model.115 torch.Size([10301, 192])\n",
      "model.129 torch.Size([10301, 384])\n",
      "model.143 torch.Size([10301, 576])\n",
      "model.157 torch.Size([10301, 768])\n",
      "model.158 torch.Size([10301, 384])\n",
      "model.159 torch.Size([10301, 768])\n",
      "model.160 torch.Size([10301, 1152])\n",
      "model.161 torch.Size([10301, 1536])\n",
      "model.166.m.0 torch.Size([10301, 18])\n",
      "model.166.m.1 torch.Size([10301, 18])\n",
      "model.166.m.2 torch.Size([10301, 18])\n",
      "model.166.m.3 torch.Size([10301, 18])\n"
     ]
    }
   ],
   "source": [
    "for name, values in features.items():\n",
    "    print(name, values.shape)"
   ]
  },
  {
   "cell_type": "code",
   "execution_count": 26,
   "metadata": {},
   "outputs": [],
   "source": [
    "import umap \n",
    "from sklearn.preprocessing import StandardScaler\n",
    "import seaborn as sns\n",
    "import pandas as pd"
   ]
  },
  {
   "cell_type": "code",
   "execution_count": 36,
   "metadata": {},
   "outputs": [],
   "source": [
    "reducer = umap.UMAP()\n",
    "\n",
    "scaled_features = StandardScaler().fit_transform(features['model.166.m.0'])\n",
    "mapper = reducer.fit(scaled_features)"
   ]
  },
  {
   "cell_type": "code",
   "execution_count": 39,
   "metadata": {},
   "outputs": [
    {
     "name": "stderr",
     "output_type": "stream",
     "text": [
      "/home/ammeling/projects/yolov7/env/lib/python3.10/site-packages/umap/plot.py:449: UserWarning: *c* argument looks like a single numeric RGB or RGBA sequence, which should be avoided as value-mapping will have precedence in case its length matches with *x* & *y*.  Please use the *color* keyword-argument or provide a 2D array with a single row if you intend to specify the same RGB or RGBA value for all points.\n",
      "  ax.scatter(points[:, 0], points[:, 1], s=point_size, c=color)\n"
     ]
    },
    {
     "data": {
      "text/plain": [
       "<Axes: >"
      ]
     },
     "execution_count": 39,
     "metadata": {},
     "output_type": "execute_result"
    }
   ],
   "source": [
    "import umap.plot\n",
    "\n",
    "umap.plot.points(mapper)"
   ]
  },
  {
   "cell_type": "code",
   "execution_count": 35,
   "metadata": {},
   "outputs": [],
   "source": []
  },
  {
   "cell_type": "code",
   "execution_count": 34,
   "metadata": {},
   "outputs": [
    {
     "data": {
      "text/plain": [
       "array([[    -5.3993,      8.6397],\n",
       "       [    0.77022,      11.672],\n",
       "       [     7.5191,      9.1877],\n",
       "       ...,\n",
       "       [     6.5742,      10.226],\n",
       "       [     2.0526,      8.5728],\n",
       "       [    0.49043,      11.849]], dtype=float32)"
      ]
     },
     "execution_count": 34,
     "metadata": {},
     "output_type": "execute_result"
    }
   ],
   "source": [
    "embedding\n"
   ]
  }
 ],
 "metadata": {
  "kernelspec": {
   "display_name": "env",
   "language": "python",
   "name": "python3"
  },
  "language_info": {
   "codemirror_mode": {
    "name": "ipython",
    "version": 3
   },
   "file_extension": ".py",
   "mimetype": "text/x-python",
   "name": "python",
   "nbconvert_exporter": "python",
   "pygments_lexer": "ipython3",
   "version": "3.10.12"
  }
 },
 "nbformat": 4,
 "nbformat_minor": 2
}
