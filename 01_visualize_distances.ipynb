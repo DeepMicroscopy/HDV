{
 "cells": [
  {
   "cell_type": "code",
   "execution_count": 55,
   "metadata": {},
   "outputs": [
    {
     "name": "stdout",
     "output_type": "stream",
     "text": [
      "The autoreload extension is already loaded. To reload it, use:\n",
      "  %reload_ext autoreload\n"
     ]
    }
   ],
   "source": [
    "%load_ext autoreload\n",
    "%autoreload 2"
   ]
  },
  {
   "cell_type": "code",
   "execution_count": 56,
   "metadata": {},
   "outputs": [],
   "source": [
    "import matplotlib.pyplot as plt\n",
    "import numpy as np\n",
    "import os\n",
    "import pandas as pd\n",
    "import seaborn as sns\n",
    "import pickle\n",
    "import json\n",
    "import torch\n",
    "\n",
    "from PIL import Image\n",
    "from matplotlib import patches\n",
    "from pathlib import Path\n",
    "from tqdm.autonotebook import tqdm\n",
    "from typing import Dict, List, Tuple\n",
    "\n",
    "from extract_features import get_all_annotations"
   ]
  },
  {
   "cell_type": "code",
   "execution_count": 57,
   "metadata": {},
   "outputs": [],
   "source": [
    "dataset_file = 'annotations/midog_2022_test.csv'\n",
    "img_dir = '/data/patho/MIDOG2/finalTest/'\n",
    "figure_dir = 'figures/'\n",
    "result_dir = 'results/'"
   ]
  },
  {
   "cell_type": "code",
   "execution_count": 58,
   "metadata": {},
   "outputs": [],
   "source": [
    "# load data \n",
    "dataset = pd.read_csv(dataset_file)\n",
    "\n",
    "# filter test samples \n",
    "test_dataset = dataset.query('split == \"test\"')\n",
    "\n",
    "# create test codes\n",
    "test_codes = {k: v for k, v in enumerate(test_dataset['tumortype'].unique())}\n",
    "\n",
    "# get test samples and labels\n",
    "test_samples = get_all_annotations(\n",
    "    dataset=test_dataset, \n",
    "    img_dir_path=img_dir, \n",
    "    domain_col='tumortype'\n",
    "    )"
   ]
  },
  {
   "cell_type": "code",
   "execution_count": 59,
   "metadata": {},
   "outputs": [],
   "source": [
    "def load_metrics(filename, metric, test_codes):\n",
    "    test_codes_wo = {k: ''.join(v.split(' ')) for k, v in test_codes.items()}\n",
    "    inverted_test_codes_wo = {v: k for k, v in test_codes_wo.items()}\n",
    "    all_metric_data = json.load(open(filename, 'rb'))\n",
    "    aggregates = all_metric_data['aggregates']\n",
    "    metric_dict = {}\n",
    "    for key in aggregates:\n",
    "        if key.startswith('tumor') and key.endswith(metric):\n",
    "            _, tumor, _ = key.split('_')\n",
    "            metric_dict[inverted_test_codes_wo[tumor]] = aggregates[key]\n",
    "    return metric_dict, all_metric_data"
   ]
  },
  {
   "cell_type": "code",
   "execution_count": 60,
   "metadata": {},
   "outputs": [],
   "source": [
    "import utils.constants as constants\n",
    "import plotly.express as px\n",
    "import plotly.graph_objects as go \n",
    "import itertools\n",
    "\n",
    "from plotly.subplots import make_subplots\n",
    "\n",
    "\n",
    "def plot_similarity(\n",
    "        model_name: str, \n",
    "        result_dir: str, \n",
    "        metric_dir: str, \n",
    "        detector: str='FCOS', \n",
    "        kind: str='scatter', \n",
    "        metric: str='AP', \n",
    "        all_models: bool=False,\n",
    "        num_models: int = 5,\n",
    "        all_layers: bool=False, \n",
    "        return_df: bool=False\n",
    "        ) -> None:\n",
    "    \n",
    "        layers = constants.YOLO_LAYERS\n",
    "        abbrevs = constants.MIDOG_ABBREVATIONS\n",
    "        layer_codes = constants.LAYER_CODES\n",
    "\n",
    "\n",
    "        if all_models:\n",
    "                dfs = []\n",
    "                for i in range(num_models):\n",
    "                        model_name = model_name[:-1] + str(i)\n",
    "                        # load hdv results\n",
    "                        hdv_filename = os.path.join(result_dir, 'hdv_' + model_name + '.pkl')\n",
    "                        hdv_scores = pickle.load(open(hdv_filename, 'rb'))\n",
    "\n",
    "                        # load metric results\n",
    "                        metrics_filename = os.path.join(metric_dir, model_name + '.json')\n",
    "                        metric_data, _ = load_metrics(metrics_filename, metric=metric, test_codes=test_codes)\n",
    "\n",
    "                        # create long dataframe\n",
    "                        df = pd.DataFrame(hdv_scores)\n",
    "                        df['Tumortype'] = df.index.map(test_codes)\n",
    "                        df['Tumortype'] = df.index.map(abbrevs)\n",
    "                        df[metric] = df.index.map(metric_data)\n",
    "                        df = df.melt(id_vars=['Tumortype', metric], var_name='Layer' )\n",
    "                        df['run'] = i\n",
    "                        dfs.append(df)\n",
    "                        df = pd.concat(dfs)\n",
    "\n",
    "        else:\n",
    "\n",
    "                # load hdv results\n",
    "                hdv_filename = os.path.join(result_dir, 'hdv_' + model_name + '.pkl')\n",
    "                hdv_scores = pickle.load(open(hdv_filename, 'rb'))\n",
    "\n",
    "                # load metric results\n",
    "                metrics_filename = os.path.join(metric_dir, model_name + '.json')\n",
    "                metric_data, _ = load_metrics(metrics_filename, metric=metric, test_codes=test_codes)\n",
    "\n",
    "                # create long dataframe\n",
    "                df = pd.DataFrame(hdv_scores)\n",
    "                df['Tumortype'] = df.index.map(test_codes)\n",
    "                df['Tumortype'] = df.index.map(abbrevs)\n",
    "                df[metric] = df.index.map(metric_data)\n",
    "                df = df.melt(id_vars=['Tumortype', metric], var_name='Layer' )\n",
    "\n",
    "        # rename layers\n",
    "        df['Layer'] = df['Layer'].map(layer_codes)\n",
    "\n",
    "        # drop layers\n",
    "        df.drop(df[df['Tumortype'] == 'HAC'].index, inplace=True)\n",
    "        df.drop(df[df['Layer'] == 'P1'].index, inplace=True)\n",
    "\n",
    "        if return_df:\n",
    "                return df\n",
    "\n",
    "        fig = px.scatter(\n",
    "                df, x=metric, y='value', \n",
    "                color='Tumortype', facet_col='Layer', facet_col_wrap=5, labels={'value': 'HDV'})\n",
    "        \n",
    "\n",
    "        fig.show()"
   ]
  },
  {
   "cell_type": "code",
   "execution_count": 65,
   "metadata": {},
   "outputs": [],
   "source": [
    "model_name = 'yolov7_d6_ALL_0'\n",
    "metric_dir = 'results/'"
   ]
  },
  {
   "cell_type": "code",
   "execution_count": 66,
   "metadata": {},
   "outputs": [
    {
     "data": {
      "application/vnd.plotly.v1+json": {
       "config": {
        "plotlyServerURL": "https://plot.ly"
       },
       "data": [
        {
         "hovertemplate": "Tumortype=HMEL<br>Layer=P2<br>AP=%{x}<br>HDV=%{y}<extra></extra>",
         "legendgroup": "HMEL",
         "marker": {
          "color": "#636efa",
          "symbol": "circle"
         },
         "mode": "markers",
         "name": "HMEL",
         "orientation": "v",
         "showlegend": true,
         "type": "scatter",
         "x": [
          0.779650092124939
         ],
         "xaxis": "x16",
         "y": [
          0.1836
         ],
         "yaxis": "y16"
        },
        {
         "hovertemplate": "Tumortype=HMEL<br>Layer=P3<br>AP=%{x}<br>HDV=%{y}<extra></extra>",
         "legendgroup": "HMEL",
         "marker": {
          "color": "#636efa",
          "symbol": "circle"
         },
         "mode": "markers",
         "name": "HMEL",
         "orientation": "v",
         "showlegend": false,
         "type": "scatter",
         "x": [
          0.779650092124939
         ],
         "xaxis": "x17",
         "y": [
          0.4857
         ],
         "yaxis": "y17"
        },
        {
         "hovertemplate": "Tumortype=HMEL<br>Layer=P4<br>AP=%{x}<br>HDV=%{y}<extra></extra>",
         "legendgroup": "HMEL",
         "marker": {
          "color": "#636efa",
          "symbol": "circle"
         },
         "mode": "markers",
         "name": "HMEL",
         "orientation": "v",
         "showlegend": false,
         "type": "scatter",
         "x": [
          0.779650092124939
         ],
         "xaxis": "x18",
         "y": [
          0.5645
         ],
         "yaxis": "y18"
        },
        {
         "hovertemplate": "Tumortype=HMEL<br>Layer=P5<br>AP=%{x}<br>HDV=%{y}<extra></extra>",
         "legendgroup": "HMEL",
         "marker": {
          "color": "#636efa",
          "symbol": "circle"
         },
         "mode": "markers",
         "name": "HMEL",
         "orientation": "v",
         "showlegend": false,
         "type": "scatter",
         "x": [
          0.779650092124939
         ],
         "xaxis": "x19",
         "y": [
          0.3231
         ],
         "yaxis": "y19"
        },
        {
         "hovertemplate": "Tumortype=HMEL<br>Layer=P6<br>AP=%{x}<br>HDV=%{y}<extra></extra>",
         "legendgroup": "HMEL",
         "marker": {
          "color": "#636efa",
          "symbol": "circle"
         },
         "mode": "markers",
         "name": "HMEL",
         "orientation": "v",
         "showlegend": false,
         "type": "scatter",
         "x": [
          0.779650092124939
         ],
         "xaxis": "x20",
         "y": [
          0.2494
         ],
         "yaxis": "y20"
        },
        {
         "hovertemplate": "Tumortype=HMEL<br>Layer=Up-Neck-P5<br>AP=%{x}<br>HDV=%{y}<extra></extra>",
         "legendgroup": "HMEL",
         "marker": {
          "color": "#636efa",
          "symbol": "circle"
         },
         "mode": "markers",
         "name": "HMEL",
         "orientation": "v",
         "showlegend": false,
         "type": "scatter",
         "x": [
          0.779650092124939
         ],
         "xaxis": "x11",
         "y": [
          0.246
         ],
         "yaxis": "y11"
        },
        {
         "hovertemplate": "Tumortype=HMEL<br>Layer=Up-Neck-P4<br>AP=%{x}<br>HDV=%{y}<extra></extra>",
         "legendgroup": "HMEL",
         "marker": {
          "color": "#636efa",
          "symbol": "circle"
         },
         "mode": "markers",
         "name": "HMEL",
         "orientation": "v",
         "showlegend": false,
         "type": "scatter",
         "x": [
          0.779650092124939
         ],
         "xaxis": "x12",
         "y": [
          0.4835
         ],
         "yaxis": "y12"
        },
        {
         "hovertemplate": "Tumortype=HMEL<br>Layer=Up-Neck-P3<br>AP=%{x}<br>HDV=%{y}<extra></extra>",
         "legendgroup": "HMEL",
         "marker": {
          "color": "#636efa",
          "symbol": "circle"
         },
         "mode": "markers",
         "name": "HMEL",
         "orientation": "v",
         "showlegend": false,
         "type": "scatter",
         "x": [
          0.779650092124939
         ],
         "xaxis": "x13",
         "y": [
          0.3985
         ],
         "yaxis": "y13"
        },
        {
         "hovertemplate": "Tumortype=HMEL<br>Layer=Down-Neck-P4<br>AP=%{x}<br>HDV=%{y}<extra></extra>",
         "legendgroup": "HMEL",
         "marker": {
          "color": "#636efa",
          "symbol": "circle"
         },
         "mode": "markers",
         "name": "HMEL",
         "orientation": "v",
         "showlegend": false,
         "type": "scatter",
         "x": [
          0.779650092124939
         ],
         "xaxis": "x14",
         "y": [
          0.5903
         ],
         "yaxis": "y14"
        },
        {
         "hovertemplate": "Tumortype=HMEL<br>Layer=Down-Neck-P5<br>AP=%{x}<br>HDV=%{y}<extra></extra>",
         "legendgroup": "HMEL",
         "marker": {
          "color": "#636efa",
          "symbol": "circle"
         },
         "mode": "markers",
         "name": "HMEL",
         "orientation": "v",
         "showlegend": false,
         "type": "scatter",
         "x": [
          0.779650092124939
         ],
         "xaxis": "x15",
         "y": [
          0.1405
         ],
         "yaxis": "y15"
        },
        {
         "hovertemplate": "Tumortype=HMEL<br>Layer=Down-Neck-P6<br>AP=%{x}<br>HDV=%{y}<extra></extra>",
         "legendgroup": "HMEL",
         "marker": {
          "color": "#636efa",
          "symbol": "circle"
         },
         "mode": "markers",
         "name": "HMEL",
         "orientation": "v",
         "showlegend": false,
         "type": "scatter",
         "x": [
          0.779650092124939
         ],
         "xaxis": "x6",
         "y": [
          0.1167
         ],
         "yaxis": "y6"
        },
        {
         "hovertemplate": "Tumortype=HMEL<br>Layer=Final-Neck-P3<br>AP=%{x}<br>HDV=%{y}<extra></extra>",
         "legendgroup": "HMEL",
         "marker": {
          "color": "#636efa",
          "symbol": "circle"
         },
         "mode": "markers",
         "name": "HMEL",
         "orientation": "v",
         "showlegend": false,
         "type": "scatter",
         "x": [
          0.779650092124939
         ],
         "xaxis": "x7",
         "y": [
          0.3345
         ],
         "yaxis": "y7"
        },
        {
         "hovertemplate": "Tumortype=HMEL<br>Layer=Final-Neck-P4<br>AP=%{x}<br>HDV=%{y}<extra></extra>",
         "legendgroup": "HMEL",
         "marker": {
          "color": "#636efa",
          "symbol": "circle"
         },
         "mode": "markers",
         "name": "HMEL",
         "orientation": "v",
         "showlegend": false,
         "type": "scatter",
         "x": [
          0.779650092124939
         ],
         "xaxis": "x8",
         "y": [
          0.573
         ],
         "yaxis": "y8"
        },
        {
         "hovertemplate": "Tumortype=HMEL<br>Layer=Final-Neck-P5<br>AP=%{x}<br>HDV=%{y}<extra></extra>",
         "legendgroup": "HMEL",
         "marker": {
          "color": "#636efa",
          "symbol": "circle"
         },
         "mode": "markers",
         "name": "HMEL",
         "orientation": "v",
         "showlegend": false,
         "type": "scatter",
         "x": [
          0.779650092124939
         ],
         "xaxis": "x9",
         "y": [
          0.1304
         ],
         "yaxis": "y9"
        },
        {
         "hovertemplate": "Tumortype=HMEL<br>Layer=Final-Neck-P6<br>AP=%{x}<br>HDV=%{y}<extra></extra>",
         "legendgroup": "HMEL",
         "marker": {
          "color": "#636efa",
          "symbol": "circle"
         },
         "mode": "markers",
         "name": "HMEL",
         "orientation": "v",
         "showlegend": false,
         "type": "scatter",
         "x": [
          0.779650092124939
         ],
         "xaxis": "x10",
         "y": [
          0.1173
         ],
         "yaxis": "y10"
        },
        {
         "hovertemplate": "Tumortype=HMEL<br>Layer=Head-P3<br>AP=%{x}<br>HDV=%{y}<extra></extra>",
         "legendgroup": "HMEL",
         "marker": {
          "color": "#636efa",
          "symbol": "circle"
         },
         "mode": "markers",
         "name": "HMEL",
         "orientation": "v",
         "showlegend": false,
         "type": "scatter",
         "x": [
          0.779650092124939
         ],
         "xaxis": "x",
         "y": [
          0.5817
         ],
         "yaxis": "y"
        },
        {
         "hovertemplate": "Tumortype=HMEL<br>Layer=Head-P4<br>AP=%{x}<br>HDV=%{y}<extra></extra>",
         "legendgroup": "HMEL",
         "marker": {
          "color": "#636efa",
          "symbol": "circle"
         },
         "mode": "markers",
         "name": "HMEL",
         "orientation": "v",
         "showlegend": false,
         "type": "scatter",
         "x": [
          0.779650092124939
         ],
         "xaxis": "x2",
         "y": [
          0.5943
         ],
         "yaxis": "y2"
        },
        {
         "hovertemplate": "Tumortype=HMEL<br>Layer=Head-P5<br>AP=%{x}<br>HDV=%{y}<extra></extra>",
         "legendgroup": "HMEL",
         "marker": {
          "color": "#636efa",
          "symbol": "circle"
         },
         "mode": "markers",
         "name": "HMEL",
         "orientation": "v",
         "showlegend": false,
         "type": "scatter",
         "x": [
          0.779650092124939
         ],
         "xaxis": "x3",
         "y": [
          0.2879
         ],
         "yaxis": "y3"
        },
        {
         "hovertemplate": "Tumortype=HMEL<br>Layer=Head-P6<br>AP=%{x}<br>HDV=%{y}<extra></extra>",
         "legendgroup": "HMEL",
         "marker": {
          "color": "#636efa",
          "symbol": "circle"
         },
         "mode": "markers",
         "name": "HMEL",
         "orientation": "v",
         "showlegend": false,
         "type": "scatter",
         "x": [
          0.779650092124939
         ],
         "xaxis": "x4",
         "y": [
          0.263
         ],
         "yaxis": "y4"
        },
        {
         "hovertemplate": "Tumortype=HBLC<br>Layer=P2<br>AP=%{x}<br>HDV=%{y}<extra></extra>",
         "legendgroup": "HBLC",
         "marker": {
          "color": "#EF553B",
          "symbol": "circle"
         },
         "mode": "markers",
         "name": "HBLC",
         "orientation": "v",
         "showlegend": true,
         "type": "scatter",
         "x": [
          0.7474676966667175
         ],
         "xaxis": "x16",
         "y": [
          0.1714
         ],
         "yaxis": "y16"
        },
        {
         "hovertemplate": "Tumortype=HBLC<br>Layer=P3<br>AP=%{x}<br>HDV=%{y}<extra></extra>",
         "legendgroup": "HBLC",
         "marker": {
          "color": "#EF553B",
          "symbol": "circle"
         },
         "mode": "markers",
         "name": "HBLC",
         "orientation": "v",
         "showlegend": false,
         "type": "scatter",
         "x": [
          0.7474676966667175
         ],
         "xaxis": "x17",
         "y": [
          0.4524
         ],
         "yaxis": "y17"
        },
        {
         "hovertemplate": "Tumortype=HBLC<br>Layer=P4<br>AP=%{x}<br>HDV=%{y}<extra></extra>",
         "legendgroup": "HBLC",
         "marker": {
          "color": "#EF553B",
          "symbol": "circle"
         },
         "mode": "markers",
         "name": "HBLC",
         "orientation": "v",
         "showlegend": false,
         "type": "scatter",
         "x": [
          0.7474676966667175
         ],
         "xaxis": "x18",
         "y": [
          0.504
         ],
         "yaxis": "y18"
        },
        {
         "hovertemplate": "Tumortype=HBLC<br>Layer=P5<br>AP=%{x}<br>HDV=%{y}<extra></extra>",
         "legendgroup": "HBLC",
         "marker": {
          "color": "#EF553B",
          "symbol": "circle"
         },
         "mode": "markers",
         "name": "HBLC",
         "orientation": "v",
         "showlegend": false,
         "type": "scatter",
         "x": [
          0.7474676966667175
         ],
         "xaxis": "x19",
         "y": [
          0.3204
         ],
         "yaxis": "y19"
        },
        {
         "hovertemplate": "Tumortype=HBLC<br>Layer=P6<br>AP=%{x}<br>HDV=%{y}<extra></extra>",
         "legendgroup": "HBLC",
         "marker": {
          "color": "#EF553B",
          "symbol": "circle"
         },
         "mode": "markers",
         "name": "HBLC",
         "orientation": "v",
         "showlegend": false,
         "type": "scatter",
         "x": [
          0.7474676966667175
         ],
         "xaxis": "x20",
         "y": [
          0.2908
         ],
         "yaxis": "y20"
        },
        {
         "hovertemplate": "Tumortype=HBLC<br>Layer=Up-Neck-P5<br>AP=%{x}<br>HDV=%{y}<extra></extra>",
         "legendgroup": "HBLC",
         "marker": {
          "color": "#EF553B",
          "symbol": "circle"
         },
         "mode": "markers",
         "name": "HBLC",
         "orientation": "v",
         "showlegend": false,
         "type": "scatter",
         "x": [
          0.7474676966667175
         ],
         "xaxis": "x11",
         "y": [
          0.1898
         ],
         "yaxis": "y11"
        },
        {
         "hovertemplate": "Tumortype=HBLC<br>Layer=Up-Neck-P4<br>AP=%{x}<br>HDV=%{y}<extra></extra>",
         "legendgroup": "HBLC",
         "marker": {
          "color": "#EF553B",
          "symbol": "circle"
         },
         "mode": "markers",
         "name": "HBLC",
         "orientation": "v",
         "showlegend": false,
         "type": "scatter",
         "x": [
          0.7474676966667175
         ],
         "xaxis": "x12",
         "y": [
          0.4118
         ],
         "yaxis": "y12"
        },
        {
         "hovertemplate": "Tumortype=HBLC<br>Layer=Up-Neck-P3<br>AP=%{x}<br>HDV=%{y}<extra></extra>",
         "legendgroup": "HBLC",
         "marker": {
          "color": "#EF553B",
          "symbol": "circle"
         },
         "mode": "markers",
         "name": "HBLC",
         "orientation": "v",
         "showlegend": false,
         "type": "scatter",
         "x": [
          0.7474676966667175
         ],
         "xaxis": "x13",
         "y": [
          0.3984
         ],
         "yaxis": "y13"
        },
        {
         "hovertemplate": "Tumortype=HBLC<br>Layer=Down-Neck-P4<br>AP=%{x}<br>HDV=%{y}<extra></extra>",
         "legendgroup": "HBLC",
         "marker": {
          "color": "#EF553B",
          "symbol": "circle"
         },
         "mode": "markers",
         "name": "HBLC",
         "orientation": "v",
         "showlegend": false,
         "type": "scatter",
         "x": [
          0.7474676966667175
         ],
         "xaxis": "x14",
         "y": [
          0.536
         ],
         "yaxis": "y14"
        },
        {
         "hovertemplate": "Tumortype=HBLC<br>Layer=Down-Neck-P5<br>AP=%{x}<br>HDV=%{y}<extra></extra>",
         "legendgroup": "HBLC",
         "marker": {
          "color": "#EF553B",
          "symbol": "circle"
         },
         "mode": "markers",
         "name": "HBLC",
         "orientation": "v",
         "showlegend": false,
         "type": "scatter",
         "x": [
          0.7474676966667175
         ],
         "xaxis": "x15",
         "y": [
          0.0998
         ],
         "yaxis": "y15"
        },
        {
         "hovertemplate": "Tumortype=HBLC<br>Layer=Down-Neck-P6<br>AP=%{x}<br>HDV=%{y}<extra></extra>",
         "legendgroup": "HBLC",
         "marker": {
          "color": "#EF553B",
          "symbol": "circle"
         },
         "mode": "markers",
         "name": "HBLC",
         "orientation": "v",
         "showlegend": false,
         "type": "scatter",
         "x": [
          0.7474676966667175
         ],
         "xaxis": "x6",
         "y": [
          0.1111
         ],
         "yaxis": "y6"
        },
        {
         "hovertemplate": "Tumortype=HBLC<br>Layer=Final-Neck-P3<br>AP=%{x}<br>HDV=%{y}<extra></extra>",
         "legendgroup": "HBLC",
         "marker": {
          "color": "#EF553B",
          "symbol": "circle"
         },
         "mode": "markers",
         "name": "HBLC",
         "orientation": "v",
         "showlegend": false,
         "type": "scatter",
         "x": [
          0.7474676966667175
         ],
         "xaxis": "x7",
         "y": [
          0.3947
         ],
         "yaxis": "y7"
        },
        {
         "hovertemplate": "Tumortype=HBLC<br>Layer=Final-Neck-P4<br>AP=%{x}<br>HDV=%{y}<extra></extra>",
         "legendgroup": "HBLC",
         "marker": {
          "color": "#EF553B",
          "symbol": "circle"
         },
         "mode": "markers",
         "name": "HBLC",
         "orientation": "v",
         "showlegend": false,
         "type": "scatter",
         "x": [
          0.7474676966667175
         ],
         "xaxis": "x8",
         "y": [
          0.5319
         ],
         "yaxis": "y8"
        },
        {
         "hovertemplate": "Tumortype=HBLC<br>Layer=Final-Neck-P5<br>AP=%{x}<br>HDV=%{y}<extra></extra>",
         "legendgroup": "HBLC",
         "marker": {
          "color": "#EF553B",
          "symbol": "circle"
         },
         "mode": "markers",
         "name": "HBLC",
         "orientation": "v",
         "showlegend": false,
         "type": "scatter",
         "x": [
          0.7474676966667175
         ],
         "xaxis": "x9",
         "y": [
          0.0803
         ],
         "yaxis": "y9"
        },
        {
         "hovertemplate": "Tumortype=HBLC<br>Layer=Final-Neck-P6<br>AP=%{x}<br>HDV=%{y}<extra></extra>",
         "legendgroup": "HBLC",
         "marker": {
          "color": "#EF553B",
          "symbol": "circle"
         },
         "mode": "markers",
         "name": "HBLC",
         "orientation": "v",
         "showlegend": false,
         "type": "scatter",
         "x": [
          0.7474676966667175
         ],
         "xaxis": "x10",
         "y": [
          0.0809
         ],
         "yaxis": "y10"
        },
        {
         "hovertemplate": "Tumortype=HBLC<br>Layer=Head-P3<br>AP=%{x}<br>HDV=%{y}<extra></extra>",
         "legendgroup": "HBLC",
         "marker": {
          "color": "#EF553B",
          "symbol": "circle"
         },
         "mode": "markers",
         "name": "HBLC",
         "orientation": "v",
         "showlegend": false,
         "type": "scatter",
         "x": [
          0.7474676966667175
         ],
         "xaxis": "x",
         "y": [
          0.5852
         ],
         "yaxis": "y"
        },
        {
         "hovertemplate": "Tumortype=HBLC<br>Layer=Head-P4<br>AP=%{x}<br>HDV=%{y}<extra></extra>",
         "legendgroup": "HBLC",
         "marker": {
          "color": "#EF553B",
          "symbol": "circle"
         },
         "mode": "markers",
         "name": "HBLC",
         "orientation": "v",
         "showlegend": false,
         "type": "scatter",
         "x": [
          0.7474676966667175
         ],
         "xaxis": "x2",
         "y": [
          0.5399
         ],
         "yaxis": "y2"
        },
        {
         "hovertemplate": "Tumortype=HBLC<br>Layer=Head-P5<br>AP=%{x}<br>HDV=%{y}<extra></extra>",
         "legendgroup": "HBLC",
         "marker": {
          "color": "#EF553B",
          "symbol": "circle"
         },
         "mode": "markers",
         "name": "HBLC",
         "orientation": "v",
         "showlegend": false,
         "type": "scatter",
         "x": [
          0.7474676966667175
         ],
         "xaxis": "x3",
         "y": [
          0.2395
         ],
         "yaxis": "y3"
        },
        {
         "hovertemplate": "Tumortype=HBLC<br>Layer=Head-P6<br>AP=%{x}<br>HDV=%{y}<extra></extra>",
         "legendgroup": "HBLC",
         "marker": {
          "color": "#EF553B",
          "symbol": "circle"
         },
         "mode": "markers",
         "name": "HBLC",
         "orientation": "v",
         "showlegend": false,
         "type": "scatter",
         "x": [
          0.7474676966667175
         ],
         "xaxis": "x4",
         "y": [
          0.2408
         ],
         "yaxis": "y4"
        },
        {
         "hovertemplate": "Tumortype=CMC<br>Layer=P2<br>AP=%{x}<br>HDV=%{y}<extra></extra>",
         "legendgroup": "CMC",
         "marker": {
          "color": "#00cc96",
          "symbol": "circle"
         },
         "mode": "markers",
         "name": "CMC",
         "orientation": "v",
         "showlegend": true,
         "type": "scatter",
         "x": [
          0.5995485782623291
         ],
         "xaxis": "x16",
         "y": [
          0.1561
         ],
         "yaxis": "y16"
        },
        {
         "hovertemplate": "Tumortype=CMC<br>Layer=P3<br>AP=%{x}<br>HDV=%{y}<extra></extra>",
         "legendgroup": "CMC",
         "marker": {
          "color": "#00cc96",
          "symbol": "circle"
         },
         "mode": "markers",
         "name": "CMC",
         "orientation": "v",
         "showlegend": false,
         "type": "scatter",
         "x": [
          0.5995485782623291
         ],
         "xaxis": "x17",
         "y": [
          0.3397
         ],
         "yaxis": "y17"
        },
        {
         "hovertemplate": "Tumortype=CMC<br>Layer=P4<br>AP=%{x}<br>HDV=%{y}<extra></extra>",
         "legendgroup": "CMC",
         "marker": {
          "color": "#00cc96",
          "symbol": "circle"
         },
         "mode": "markers",
         "name": "CMC",
         "orientation": "v",
         "showlegend": false,
         "type": "scatter",
         "x": [
          0.5995485782623291
         ],
         "xaxis": "x18",
         "y": [
          0.4239
         ],
         "yaxis": "y18"
        },
        {
         "hovertemplate": "Tumortype=CMC<br>Layer=P5<br>AP=%{x}<br>HDV=%{y}<extra></extra>",
         "legendgroup": "CMC",
         "marker": {
          "color": "#00cc96",
          "symbol": "circle"
         },
         "mode": "markers",
         "name": "CMC",
         "orientation": "v",
         "showlegend": false,
         "type": "scatter",
         "x": [
          0.5995485782623291
         ],
         "xaxis": "x19",
         "y": [
          0.2441
         ],
         "yaxis": "y19"
        },
        {
         "hovertemplate": "Tumortype=CMC<br>Layer=P6<br>AP=%{x}<br>HDV=%{y}<extra></extra>",
         "legendgroup": "CMC",
         "marker": {
          "color": "#00cc96",
          "symbol": "circle"
         },
         "mode": "markers",
         "name": "CMC",
         "orientation": "v",
         "showlegend": false,
         "type": "scatter",
         "x": [
          0.5995485782623291
         ],
         "xaxis": "x20",
         "y": [
          0.2263
         ],
         "yaxis": "y20"
        },
        {
         "hovertemplate": "Tumortype=CMC<br>Layer=Up-Neck-P5<br>AP=%{x}<br>HDV=%{y}<extra></extra>",
         "legendgroup": "CMC",
         "marker": {
          "color": "#00cc96",
          "symbol": "circle"
         },
         "mode": "markers",
         "name": "CMC",
         "orientation": "v",
         "showlegend": false,
         "type": "scatter",
         "x": [
          0.5995485782623291
         ],
         "xaxis": "x11",
         "y": [
          0.1617
         ],
         "yaxis": "y11"
        },
        {
         "hovertemplate": "Tumortype=CMC<br>Layer=Up-Neck-P4<br>AP=%{x}<br>HDV=%{y}<extra></extra>",
         "legendgroup": "CMC",
         "marker": {
          "color": "#00cc96",
          "symbol": "circle"
         },
         "mode": "markers",
         "name": "CMC",
         "orientation": "v",
         "showlegend": false,
         "type": "scatter",
         "x": [
          0.5995485782623291
         ],
         "xaxis": "x12",
         "y": [
          0.3651
         ],
         "yaxis": "y12"
        },
        {
         "hovertemplate": "Tumortype=CMC<br>Layer=Up-Neck-P3<br>AP=%{x}<br>HDV=%{y}<extra></extra>",
         "legendgroup": "CMC",
         "marker": {
          "color": "#00cc96",
          "symbol": "circle"
         },
         "mode": "markers",
         "name": "CMC",
         "orientation": "v",
         "showlegend": false,
         "type": "scatter",
         "x": [
          0.5995485782623291
         ],
         "xaxis": "x13",
         "y": [
          0.3904
         ],
         "yaxis": "y13"
        },
        {
         "hovertemplate": "Tumortype=CMC<br>Layer=Down-Neck-P4<br>AP=%{x}<br>HDV=%{y}<extra></extra>",
         "legendgroup": "CMC",
         "marker": {
          "color": "#00cc96",
          "symbol": "circle"
         },
         "mode": "markers",
         "name": "CMC",
         "orientation": "v",
         "showlegend": false,
         "type": "scatter",
         "x": [
          0.5995485782623291
         ],
         "xaxis": "x14",
         "y": [
          0.5148
         ],
         "yaxis": "y14"
        },
        {
         "hovertemplate": "Tumortype=CMC<br>Layer=Down-Neck-P5<br>AP=%{x}<br>HDV=%{y}<extra></extra>",
         "legendgroup": "CMC",
         "marker": {
          "color": "#00cc96",
          "symbol": "circle"
         },
         "mode": "markers",
         "name": "CMC",
         "orientation": "v",
         "showlegend": false,
         "type": "scatter",
         "x": [
          0.5995485782623291
         ],
         "xaxis": "x15",
         "y": [
          0.0953
         ],
         "yaxis": "y15"
        },
        {
         "hovertemplate": "Tumortype=CMC<br>Layer=Down-Neck-P6<br>AP=%{x}<br>HDV=%{y}<extra></extra>",
         "legendgroup": "CMC",
         "marker": {
          "color": "#00cc96",
          "symbol": "circle"
         },
         "mode": "markers",
         "name": "CMC",
         "orientation": "v",
         "showlegend": false,
         "type": "scatter",
         "x": [
          0.5995485782623291
         ],
         "xaxis": "x6",
         "y": [
          0.1436
         ],
         "yaxis": "y6"
        },
        {
         "hovertemplate": "Tumortype=CMC<br>Layer=Final-Neck-P3<br>AP=%{x}<br>HDV=%{y}<extra></extra>",
         "legendgroup": "CMC",
         "marker": {
          "color": "#00cc96",
          "symbol": "circle"
         },
         "mode": "markers",
         "name": "CMC",
         "orientation": "v",
         "showlegend": false,
         "type": "scatter",
         "x": [
          0.5995485782623291
         ],
         "xaxis": "x7",
         "y": [
          0.4666
         ],
         "yaxis": "y7"
        },
        {
         "hovertemplate": "Tumortype=CMC<br>Layer=Final-Neck-P4<br>AP=%{x}<br>HDV=%{y}<extra></extra>",
         "legendgroup": "CMC",
         "marker": {
          "color": "#00cc96",
          "symbol": "circle"
         },
         "mode": "markers",
         "name": "CMC",
         "orientation": "v",
         "showlegend": false,
         "type": "scatter",
         "x": [
          0.5995485782623291
         ],
         "xaxis": "x8",
         "y": [
          0.5019
         ],
         "yaxis": "y8"
        },
        {
         "hovertemplate": "Tumortype=CMC<br>Layer=Final-Neck-P5<br>AP=%{x}<br>HDV=%{y}<extra></extra>",
         "legendgroup": "CMC",
         "marker": {
          "color": "#00cc96",
          "symbol": "circle"
         },
         "mode": "markers",
         "name": "CMC",
         "orientation": "v",
         "showlegend": false,
         "type": "scatter",
         "x": [
          0.5995485782623291
         ],
         "xaxis": "x9",
         "y": [
          0.0817
         ],
         "yaxis": "y9"
        },
        {
         "hovertemplate": "Tumortype=CMC<br>Layer=Final-Neck-P6<br>AP=%{x}<br>HDV=%{y}<extra></extra>",
         "legendgroup": "CMC",
         "marker": {
          "color": "#00cc96",
          "symbol": "circle"
         },
         "mode": "markers",
         "name": "CMC",
         "orientation": "v",
         "showlegend": false,
         "type": "scatter",
         "x": [
          0.5995485782623291
         ],
         "xaxis": "x10",
         "y": [
          0.1442
         ],
         "yaxis": "y10"
        },
        {
         "hovertemplate": "Tumortype=CMC<br>Layer=Head-P3<br>AP=%{x}<br>HDV=%{y}<extra></extra>",
         "legendgroup": "CMC",
         "marker": {
          "color": "#00cc96",
          "symbol": "circle"
         },
         "mode": "markers",
         "name": "CMC",
         "orientation": "v",
         "showlegend": false,
         "type": "scatter",
         "x": [
          0.5995485782623291
         ],
         "xaxis": "x",
         "y": [
          0.6002
         ],
         "yaxis": "y"
        },
        {
         "hovertemplate": "Tumortype=CMC<br>Layer=Head-P4<br>AP=%{x}<br>HDV=%{y}<extra></extra>",
         "legendgroup": "CMC",
         "marker": {
          "color": "#00cc96",
          "symbol": "circle"
         },
         "mode": "markers",
         "name": "CMC",
         "orientation": "v",
         "showlegend": false,
         "type": "scatter",
         "x": [
          0.5995485782623291
         ],
         "xaxis": "x2",
         "y": [
          0.5237
         ],
         "yaxis": "y2"
        },
        {
         "hovertemplate": "Tumortype=CMC<br>Layer=Head-P5<br>AP=%{x}<br>HDV=%{y}<extra></extra>",
         "legendgroup": "CMC",
         "marker": {
          "color": "#00cc96",
          "symbol": "circle"
         },
         "mode": "markers",
         "name": "CMC",
         "orientation": "v",
         "showlegend": false,
         "type": "scatter",
         "x": [
          0.5995485782623291
         ],
         "xaxis": "x3",
         "y": [
          0.2496
         ],
         "yaxis": "y3"
        },
        {
         "hovertemplate": "Tumortype=CMC<br>Layer=Head-P6<br>AP=%{x}<br>HDV=%{y}<extra></extra>",
         "legendgroup": "CMC",
         "marker": {
          "color": "#00cc96",
          "symbol": "circle"
         },
         "mode": "markers",
         "name": "CMC",
         "orientation": "v",
         "showlegend": false,
         "type": "scatter",
         "x": [
          0.5995485782623291
         ],
         "xaxis": "x4",
         "y": [
          0.2874
         ],
         "yaxis": "y4"
        },
        {
         "hovertemplate": "Tumortype=CCMCT<br>Layer=P2<br>AP=%{x}<br>HDV=%{y}<extra></extra>",
         "legendgroup": "CCMCT",
         "marker": {
          "color": "#ab63fa",
          "symbol": "circle"
         },
         "mode": "markers",
         "name": "CCMCT",
         "orientation": "v",
         "showlegend": true,
         "type": "scatter",
         "x": [
          0.6421969532966614
         ],
         "xaxis": "x16",
         "y": [
          0.1537
         ],
         "yaxis": "y16"
        },
        {
         "hovertemplate": "Tumortype=CCMCT<br>Layer=P3<br>AP=%{x}<br>HDV=%{y}<extra></extra>",
         "legendgroup": "CCMCT",
         "marker": {
          "color": "#ab63fa",
          "symbol": "circle"
         },
         "mode": "markers",
         "name": "CCMCT",
         "orientation": "v",
         "showlegend": false,
         "type": "scatter",
         "x": [
          0.6421969532966614
         ],
         "xaxis": "x17",
         "y": [
          0.4678
         ],
         "yaxis": "y17"
        },
        {
         "hovertemplate": "Tumortype=CCMCT<br>Layer=P4<br>AP=%{x}<br>HDV=%{y}<extra></extra>",
         "legendgroup": "CCMCT",
         "marker": {
          "color": "#ab63fa",
          "symbol": "circle"
         },
         "mode": "markers",
         "name": "CCMCT",
         "orientation": "v",
         "showlegend": false,
         "type": "scatter",
         "x": [
          0.6421969532966614
         ],
         "xaxis": "x18",
         "y": [
          0.5349
         ],
         "yaxis": "y18"
        },
        {
         "hovertemplate": "Tumortype=CCMCT<br>Layer=P5<br>AP=%{x}<br>HDV=%{y}<extra></extra>",
         "legendgroup": "CCMCT",
         "marker": {
          "color": "#ab63fa",
          "symbol": "circle"
         },
         "mode": "markers",
         "name": "CCMCT",
         "orientation": "v",
         "showlegend": false,
         "type": "scatter",
         "x": [
          0.6421969532966614
         ],
         "xaxis": "x19",
         "y": [
          0.4647
         ],
         "yaxis": "y19"
        },
        {
         "hovertemplate": "Tumortype=CCMCT<br>Layer=P6<br>AP=%{x}<br>HDV=%{y}<extra></extra>",
         "legendgroup": "CCMCT",
         "marker": {
          "color": "#ab63fa",
          "symbol": "circle"
         },
         "mode": "markers",
         "name": "CCMCT",
         "orientation": "v",
         "showlegend": false,
         "type": "scatter",
         "x": [
          0.6421969532966614
         ],
         "xaxis": "x20",
         "y": [
          0.442
         ],
         "yaxis": "y20"
        },
        {
         "hovertemplate": "Tumortype=CCMCT<br>Layer=Up-Neck-P5<br>AP=%{x}<br>HDV=%{y}<extra></extra>",
         "legendgroup": "CCMCT",
         "marker": {
          "color": "#ab63fa",
          "symbol": "circle"
         },
         "mode": "markers",
         "name": "CCMCT",
         "orientation": "v",
         "showlegend": false,
         "type": "scatter",
         "x": [
          0.6421969532966614
         ],
         "xaxis": "x11",
         "y": [
          0.1793
         ],
         "yaxis": "y11"
        },
        {
         "hovertemplate": "Tumortype=CCMCT<br>Layer=Up-Neck-P4<br>AP=%{x}<br>HDV=%{y}<extra></extra>",
         "legendgroup": "CCMCT",
         "marker": {
          "color": "#ab63fa",
          "symbol": "circle"
         },
         "mode": "markers",
         "name": "CCMCT",
         "orientation": "v",
         "showlegend": false,
         "type": "scatter",
         "x": [
          0.6421969532966614
         ],
         "xaxis": "x12",
         "y": [
          0.4488
         ],
         "yaxis": "y12"
        },
        {
         "hovertemplate": "Tumortype=CCMCT<br>Layer=Up-Neck-P3<br>AP=%{x}<br>HDV=%{y}<extra></extra>",
         "legendgroup": "CCMCT",
         "marker": {
          "color": "#ab63fa",
          "symbol": "circle"
         },
         "mode": "markers",
         "name": "CCMCT",
         "orientation": "v",
         "showlegend": false,
         "type": "scatter",
         "x": [
          0.6421969532966614
         ],
         "xaxis": "x13",
         "y": [
          0.4734
         ],
         "yaxis": "y13"
        },
        {
         "hovertemplate": "Tumortype=CCMCT<br>Layer=Down-Neck-P4<br>AP=%{x}<br>HDV=%{y}<extra></extra>",
         "legendgroup": "CCMCT",
         "marker": {
          "color": "#ab63fa",
          "symbol": "circle"
         },
         "mode": "markers",
         "name": "CCMCT",
         "orientation": "v",
         "showlegend": false,
         "type": "scatter",
         "x": [
          0.6421969532966614
         ],
         "xaxis": "x14",
         "y": [
          0.6019
         ],
         "yaxis": "y14"
        },
        {
         "hovertemplate": "Tumortype=CCMCT<br>Layer=Down-Neck-P5<br>AP=%{x}<br>HDV=%{y}<extra></extra>",
         "legendgroup": "CCMCT",
         "marker": {
          "color": "#ab63fa",
          "symbol": "circle"
         },
         "mode": "markers",
         "name": "CCMCT",
         "orientation": "v",
         "showlegend": false,
         "type": "scatter",
         "x": [
          0.6421969532966614
         ],
         "xaxis": "x15",
         "y": [
          0.4314
         ],
         "yaxis": "y15"
        },
        {
         "hovertemplate": "Tumortype=CCMCT<br>Layer=Down-Neck-P6<br>AP=%{x}<br>HDV=%{y}<extra></extra>",
         "legendgroup": "CCMCT",
         "marker": {
          "color": "#ab63fa",
          "symbol": "circle"
         },
         "mode": "markers",
         "name": "CCMCT",
         "orientation": "v",
         "showlegend": false,
         "type": "scatter",
         "x": [
          0.6421969532966614
         ],
         "xaxis": "x6",
         "y": [
          0.1176
         ],
         "yaxis": "y6"
        },
        {
         "hovertemplate": "Tumortype=CCMCT<br>Layer=Final-Neck-P3<br>AP=%{x}<br>HDV=%{y}<extra></extra>",
         "legendgroup": "CCMCT",
         "marker": {
          "color": "#ab63fa",
          "symbol": "circle"
         },
         "mode": "markers",
         "name": "CCMCT",
         "orientation": "v",
         "showlegend": false,
         "type": "scatter",
         "x": [
          0.6421969532966614
         ],
         "xaxis": "x7",
         "y": [
          0.5757
         ],
         "yaxis": "y7"
        },
        {
         "hovertemplate": "Tumortype=CCMCT<br>Layer=Final-Neck-P4<br>AP=%{x}<br>HDV=%{y}<extra></extra>",
         "legendgroup": "CCMCT",
         "marker": {
          "color": "#ab63fa",
          "symbol": "circle"
         },
         "mode": "markers",
         "name": "CCMCT",
         "orientation": "v",
         "showlegend": false,
         "type": "scatter",
         "x": [
          0.6421969532966614
         ],
         "xaxis": "x8",
         "y": [
          0.6055
         ],
         "yaxis": "y8"
        },
        {
         "hovertemplate": "Tumortype=CCMCT<br>Layer=Final-Neck-P5<br>AP=%{x}<br>HDV=%{y}<extra></extra>",
         "legendgroup": "CCMCT",
         "marker": {
          "color": "#ab63fa",
          "symbol": "circle"
         },
         "mode": "markers",
         "name": "CCMCT",
         "orientation": "v",
         "showlegend": false,
         "type": "scatter",
         "x": [
          0.6421969532966614
         ],
         "xaxis": "x9",
         "y": [
          0.2219
         ],
         "yaxis": "y9"
        },
        {
         "hovertemplate": "Tumortype=CCMCT<br>Layer=Final-Neck-P6<br>AP=%{x}<br>HDV=%{y}<extra></extra>",
         "legendgroup": "CCMCT",
         "marker": {
          "color": "#ab63fa",
          "symbol": "circle"
         },
         "mode": "markers",
         "name": "CCMCT",
         "orientation": "v",
         "showlegend": false,
         "type": "scatter",
         "x": [
          0.6421969532966614
         ],
         "xaxis": "x10",
         "y": [
          0.1123
         ],
         "yaxis": "y10"
        },
        {
         "hovertemplate": "Tumortype=CCMCT<br>Layer=Head-P3<br>AP=%{x}<br>HDV=%{y}<extra></extra>",
         "legendgroup": "CCMCT",
         "marker": {
          "color": "#ab63fa",
          "symbol": "circle"
         },
         "mode": "markers",
         "name": "CCMCT",
         "orientation": "v",
         "showlegend": false,
         "type": "scatter",
         "x": [
          0.6421969532966614
         ],
         "xaxis": "x",
         "y": [
          0.6491
         ],
         "yaxis": "y"
        },
        {
         "hovertemplate": "Tumortype=CCMCT<br>Layer=Head-P4<br>AP=%{x}<br>HDV=%{y}<extra></extra>",
         "legendgroup": "CCMCT",
         "marker": {
          "color": "#ab63fa",
          "symbol": "circle"
         },
         "mode": "markers",
         "name": "CCMCT",
         "orientation": "v",
         "showlegend": false,
         "type": "scatter",
         "x": [
          0.6421969532966614
         ],
         "xaxis": "x2",
         "y": [
          0.5921
         ],
         "yaxis": "y2"
        },
        {
         "hovertemplate": "Tumortype=CCMCT<br>Layer=Head-P5<br>AP=%{x}<br>HDV=%{y}<extra></extra>",
         "legendgroup": "CCMCT",
         "marker": {
          "color": "#ab63fa",
          "symbol": "circle"
         },
         "mode": "markers",
         "name": "CCMCT",
         "orientation": "v",
         "showlegend": false,
         "type": "scatter",
         "x": [
          0.6421969532966614
         ],
         "xaxis": "x3",
         "y": [
          0.3639
         ],
         "yaxis": "y3"
        },
        {
         "hovertemplate": "Tumortype=CCMCT<br>Layer=Head-P6<br>AP=%{x}<br>HDV=%{y}<extra></extra>",
         "legendgroup": "CCMCT",
         "marker": {
          "color": "#ab63fa",
          "symbol": "circle"
         },
         "mode": "markers",
         "name": "CCMCT",
         "orientation": "v",
         "showlegend": false,
         "type": "scatter",
         "x": [
          0.6421969532966614
         ],
         "xaxis": "x4",
         "y": [
          0.2537
         ],
         "yaxis": "y4"
        },
        {
         "hovertemplate": "Tumortype=HMEN<br>Layer=P2<br>AP=%{x}<br>HDV=%{y}<extra></extra>",
         "legendgroup": "HMEN",
         "marker": {
          "color": "#FFA15A",
          "symbol": "circle"
         },
         "mode": "markers",
         "name": "HMEN",
         "orientation": "v",
         "showlegend": true,
         "type": "scatter",
         "x": [
          0.6117535829544067
         ],
         "xaxis": "x16",
         "y": [
          0.2181
         ],
         "yaxis": "y16"
        },
        {
         "hovertemplate": "Tumortype=HMEN<br>Layer=P3<br>AP=%{x}<br>HDV=%{y}<extra></extra>",
         "legendgroup": "HMEN",
         "marker": {
          "color": "#FFA15A",
          "symbol": "circle"
         },
         "mode": "markers",
         "name": "HMEN",
         "orientation": "v",
         "showlegend": false,
         "type": "scatter",
         "x": [
          0.6117535829544067
         ],
         "xaxis": "x17",
         "y": [
          0.4321
         ],
         "yaxis": "y17"
        },
        {
         "hovertemplate": "Tumortype=HMEN<br>Layer=P4<br>AP=%{x}<br>HDV=%{y}<extra></extra>",
         "legendgroup": "HMEN",
         "marker": {
          "color": "#FFA15A",
          "symbol": "circle"
         },
         "mode": "markers",
         "name": "HMEN",
         "orientation": "v",
         "showlegend": false,
         "type": "scatter",
         "x": [
          0.6117535829544067
         ],
         "xaxis": "x18",
         "y": [
          0.45
         ],
         "yaxis": "y18"
        },
        {
         "hovertemplate": "Tumortype=HMEN<br>Layer=P5<br>AP=%{x}<br>HDV=%{y}<extra></extra>",
         "legendgroup": "HMEN",
         "marker": {
          "color": "#FFA15A",
          "symbol": "circle"
         },
         "mode": "markers",
         "name": "HMEN",
         "orientation": "v",
         "showlegend": false,
         "type": "scatter",
         "x": [
          0.6117535829544067
         ],
         "xaxis": "x19",
         "y": [
          0.3344
         ],
         "yaxis": "y19"
        },
        {
         "hovertemplate": "Tumortype=HMEN<br>Layer=P6<br>AP=%{x}<br>HDV=%{y}<extra></extra>",
         "legendgroup": "HMEN",
         "marker": {
          "color": "#FFA15A",
          "symbol": "circle"
         },
         "mode": "markers",
         "name": "HMEN",
         "orientation": "v",
         "showlegend": false,
         "type": "scatter",
         "x": [
          0.6117535829544067
         ],
         "xaxis": "x20",
         "y": [
          0.2496
         ],
         "yaxis": "y20"
        },
        {
         "hovertemplate": "Tumortype=HMEN<br>Layer=Up-Neck-P5<br>AP=%{x}<br>HDV=%{y}<extra></extra>",
         "legendgroup": "HMEN",
         "marker": {
          "color": "#FFA15A",
          "symbol": "circle"
         },
         "mode": "markers",
         "name": "HMEN",
         "orientation": "v",
         "showlegend": false,
         "type": "scatter",
         "x": [
          0.6117535829544067
         ],
         "xaxis": "x11",
         "y": [
          0.2516
         ],
         "yaxis": "y11"
        },
        {
         "hovertemplate": "Tumortype=HMEN<br>Layer=Up-Neck-P4<br>AP=%{x}<br>HDV=%{y}<extra></extra>",
         "legendgroup": "HMEN",
         "marker": {
          "color": "#FFA15A",
          "symbol": "circle"
         },
         "mode": "markers",
         "name": "HMEN",
         "orientation": "v",
         "showlegend": false,
         "type": "scatter",
         "x": [
          0.6117535829544067
         ],
         "xaxis": "x12",
         "y": [
          0.3962
         ],
         "yaxis": "y12"
        },
        {
         "hovertemplate": "Tumortype=HMEN<br>Layer=Up-Neck-P3<br>AP=%{x}<br>HDV=%{y}<extra></extra>",
         "legendgroup": "HMEN",
         "marker": {
          "color": "#FFA15A",
          "symbol": "circle"
         },
         "mode": "markers",
         "name": "HMEN",
         "orientation": "v",
         "showlegend": false,
         "type": "scatter",
         "x": [
          0.6117535829544067
         ],
         "xaxis": "x13",
         "y": [
          0.4569
         ],
         "yaxis": "y13"
        },
        {
         "hovertemplate": "Tumortype=HMEN<br>Layer=Down-Neck-P4<br>AP=%{x}<br>HDV=%{y}<extra></extra>",
         "legendgroup": "HMEN",
         "marker": {
          "color": "#FFA15A",
          "symbol": "circle"
         },
         "mode": "markers",
         "name": "HMEN",
         "orientation": "v",
         "showlegend": false,
         "type": "scatter",
         "x": [
          0.6117535829544067
         ],
         "xaxis": "x14",
         "y": [
          0.5512
         ],
         "yaxis": "y14"
        },
        {
         "hovertemplate": "Tumortype=HMEN<br>Layer=Down-Neck-P5<br>AP=%{x}<br>HDV=%{y}<extra></extra>",
         "legendgroup": "HMEN",
         "marker": {
          "color": "#FFA15A",
          "symbol": "circle"
         },
         "mode": "markers",
         "name": "HMEN",
         "orientation": "v",
         "showlegend": false,
         "type": "scatter",
         "x": [
          0.6117535829544067
         ],
         "xaxis": "x15",
         "y": [
          0.1616
         ],
         "yaxis": "y15"
        },
        {
         "hovertemplate": "Tumortype=HMEN<br>Layer=Down-Neck-P6<br>AP=%{x}<br>HDV=%{y}<extra></extra>",
         "legendgroup": "HMEN",
         "marker": {
          "color": "#FFA15A",
          "symbol": "circle"
         },
         "mode": "markers",
         "name": "HMEN",
         "orientation": "v",
         "showlegend": false,
         "type": "scatter",
         "x": [
          0.6117535829544067
         ],
         "xaxis": "x6",
         "y": [
          0.1962
         ],
         "yaxis": "y6"
        },
        {
         "hovertemplate": "Tumortype=HMEN<br>Layer=Final-Neck-P3<br>AP=%{x}<br>HDV=%{y}<extra></extra>",
         "legendgroup": "HMEN",
         "marker": {
          "color": "#FFA15A",
          "symbol": "circle"
         },
         "mode": "markers",
         "name": "HMEN",
         "orientation": "v",
         "showlegend": false,
         "type": "scatter",
         "x": [
          0.6117535829544067
         ],
         "xaxis": "x7",
         "y": [
          0.5041
         ],
         "yaxis": "y7"
        },
        {
         "hovertemplate": "Tumortype=HMEN<br>Layer=Final-Neck-P4<br>AP=%{x}<br>HDV=%{y}<extra></extra>",
         "legendgroup": "HMEN",
         "marker": {
          "color": "#FFA15A",
          "symbol": "circle"
         },
         "mode": "markers",
         "name": "HMEN",
         "orientation": "v",
         "showlegend": false,
         "type": "scatter",
         "x": [
          0.6117535829544067
         ],
         "xaxis": "x8",
         "y": [
          0.5339
         ],
         "yaxis": "y8"
        },
        {
         "hovertemplate": "Tumortype=HMEN<br>Layer=Final-Neck-P5<br>AP=%{x}<br>HDV=%{y}<extra></extra>",
         "legendgroup": "HMEN",
         "marker": {
          "color": "#FFA15A",
          "symbol": "circle"
         },
         "mode": "markers",
         "name": "HMEN",
         "orientation": "v",
         "showlegend": false,
         "type": "scatter",
         "x": [
          0.6117535829544067
         ],
         "xaxis": "x9",
         "y": [
          0.1682
         ],
         "yaxis": "y9"
        },
        {
         "hovertemplate": "Tumortype=HMEN<br>Layer=Final-Neck-P6<br>AP=%{x}<br>HDV=%{y}<extra></extra>",
         "legendgroup": "HMEN",
         "marker": {
          "color": "#FFA15A",
          "symbol": "circle"
         },
         "mode": "markers",
         "name": "HMEN",
         "orientation": "v",
         "showlegend": false,
         "type": "scatter",
         "x": [
          0.6117535829544067
         ],
         "xaxis": "x10",
         "y": [
          0.1552
         ],
         "yaxis": "y10"
        },
        {
         "hovertemplate": "Tumortype=HMEN<br>Layer=Head-P3<br>AP=%{x}<br>HDV=%{y}<extra></extra>",
         "legendgroup": "HMEN",
         "marker": {
          "color": "#FFA15A",
          "symbol": "circle"
         },
         "mode": "markers",
         "name": "HMEN",
         "orientation": "v",
         "showlegend": false,
         "type": "scatter",
         "x": [
          0.6117535829544067
         ],
         "xaxis": "x",
         "y": [
          0.6239
         ],
         "yaxis": "y"
        },
        {
         "hovertemplate": "Tumortype=HMEN<br>Layer=Head-P4<br>AP=%{x}<br>HDV=%{y}<extra></extra>",
         "legendgroup": "HMEN",
         "marker": {
          "color": "#FFA15A",
          "symbol": "circle"
         },
         "mode": "markers",
         "name": "HMEN",
         "orientation": "v",
         "showlegend": false,
         "type": "scatter",
         "x": [
          0.6117535829544067
         ],
         "xaxis": "x2",
         "y": [
          0.5354
         ],
         "yaxis": "y2"
        },
        {
         "hovertemplate": "Tumortype=HMEN<br>Layer=Head-P5<br>AP=%{x}<br>HDV=%{y}<extra></extra>",
         "legendgroup": "HMEN",
         "marker": {
          "color": "#FFA15A",
          "symbol": "circle"
         },
         "mode": "markers",
         "name": "HMEN",
         "orientation": "v",
         "showlegend": false,
         "type": "scatter",
         "x": [
          0.6117535829544067
         ],
         "xaxis": "x3",
         "y": [
          0.2985
         ],
         "yaxis": "y3"
        },
        {
         "hovertemplate": "Tumortype=HMEN<br>Layer=Head-P6<br>AP=%{x}<br>HDV=%{y}<extra></extra>",
         "legendgroup": "HMEN",
         "marker": {
          "color": "#FFA15A",
          "symbol": "circle"
         },
         "mode": "markers",
         "name": "HMEN",
         "orientation": "v",
         "showlegend": false,
         "type": "scatter",
         "x": [
          0.6117535829544067
         ],
         "xaxis": "x4",
         "y": [
          0.3079
         ],
         "yaxis": "y4"
        },
        {
         "hovertemplate": "Tumortype=HCOC<br>Layer=P2<br>AP=%{x}<br>HDV=%{y}<extra></extra>",
         "legendgroup": "HCOC",
         "marker": {
          "color": "#19d3f3",
          "symbol": "circle"
         },
         "mode": "markers",
         "name": "HCOC",
         "orientation": "v",
         "showlegend": true,
         "type": "scatter",
         "x": [
          0.6376984119415283
         ],
         "xaxis": "x16",
         "y": [
          0.1536
         ],
         "yaxis": "y16"
        },
        {
         "hovertemplate": "Tumortype=HCOC<br>Layer=P3<br>AP=%{x}<br>HDV=%{y}<extra></extra>",
         "legendgroup": "HCOC",
         "marker": {
          "color": "#19d3f3",
          "symbol": "circle"
         },
         "mode": "markers",
         "name": "HCOC",
         "orientation": "v",
         "showlegend": false,
         "type": "scatter",
         "x": [
          0.6376984119415283
         ],
         "xaxis": "x17",
         "y": [
          0.3639
         ],
         "yaxis": "y17"
        },
        {
         "hovertemplate": "Tumortype=HCOC<br>Layer=P4<br>AP=%{x}<br>HDV=%{y}<extra></extra>",
         "legendgroup": "HCOC",
         "marker": {
          "color": "#19d3f3",
          "symbol": "circle"
         },
         "mode": "markers",
         "name": "HCOC",
         "orientation": "v",
         "showlegend": false,
         "type": "scatter",
         "x": [
          0.6376984119415283
         ],
         "xaxis": "x18",
         "y": [
          0.4347
         ],
         "yaxis": "y18"
        },
        {
         "hovertemplate": "Tumortype=HCOC<br>Layer=P5<br>AP=%{x}<br>HDV=%{y}<extra></extra>",
         "legendgroup": "HCOC",
         "marker": {
          "color": "#19d3f3",
          "symbol": "circle"
         },
         "mode": "markers",
         "name": "HCOC",
         "orientation": "v",
         "showlegend": false,
         "type": "scatter",
         "x": [
          0.6376984119415283
         ],
         "xaxis": "x19",
         "y": [
          0.2139
         ],
         "yaxis": "y19"
        },
        {
         "hovertemplate": "Tumortype=HCOC<br>Layer=P6<br>AP=%{x}<br>HDV=%{y}<extra></extra>",
         "legendgroup": "HCOC",
         "marker": {
          "color": "#19d3f3",
          "symbol": "circle"
         },
         "mode": "markers",
         "name": "HCOC",
         "orientation": "v",
         "showlegend": false,
         "type": "scatter",
         "x": [
          0.6376984119415283
         ],
         "xaxis": "x20",
         "y": [
          0.1781
         ],
         "yaxis": "y20"
        },
        {
         "hovertemplate": "Tumortype=HCOC<br>Layer=Up-Neck-P5<br>AP=%{x}<br>HDV=%{y}<extra></extra>",
         "legendgroup": "HCOC",
         "marker": {
          "color": "#19d3f3",
          "symbol": "circle"
         },
         "mode": "markers",
         "name": "HCOC",
         "orientation": "v",
         "showlegend": false,
         "type": "scatter",
         "x": [
          0.6376984119415283
         ],
         "xaxis": "x11",
         "y": [
          0.1712
         ],
         "yaxis": "y11"
        },
        {
         "hovertemplate": "Tumortype=HCOC<br>Layer=Up-Neck-P4<br>AP=%{x}<br>HDV=%{y}<extra></extra>",
         "legendgroup": "HCOC",
         "marker": {
          "color": "#19d3f3",
          "symbol": "circle"
         },
         "mode": "markers",
         "name": "HCOC",
         "orientation": "v",
         "showlegend": false,
         "type": "scatter",
         "x": [
          0.6376984119415283
         ],
         "xaxis": "x12",
         "y": [
          0.3442
         ],
         "yaxis": "y12"
        },
        {
         "hovertemplate": "Tumortype=HCOC<br>Layer=Up-Neck-P3<br>AP=%{x}<br>HDV=%{y}<extra></extra>",
         "legendgroup": "HCOC",
         "marker": {
          "color": "#19d3f3",
          "symbol": "circle"
         },
         "mode": "markers",
         "name": "HCOC",
         "orientation": "v",
         "showlegend": false,
         "type": "scatter",
         "x": [
          0.6376984119415283
         ],
         "xaxis": "x13",
         "y": [
          0.383
         ],
         "yaxis": "y13"
        },
        {
         "hovertemplate": "Tumortype=HCOC<br>Layer=Down-Neck-P4<br>AP=%{x}<br>HDV=%{y}<extra></extra>",
         "legendgroup": "HCOC",
         "marker": {
          "color": "#19d3f3",
          "symbol": "circle"
         },
         "mode": "markers",
         "name": "HCOC",
         "orientation": "v",
         "showlegend": false,
         "type": "scatter",
         "x": [
          0.6376984119415283
         ],
         "xaxis": "x14",
         "y": [
          0.4839
         ],
         "yaxis": "y14"
        },
        {
         "hovertemplate": "Tumortype=HCOC<br>Layer=Down-Neck-P5<br>AP=%{x}<br>HDV=%{y}<extra></extra>",
         "legendgroup": "HCOC",
         "marker": {
          "color": "#19d3f3",
          "symbol": "circle"
         },
         "mode": "markers",
         "name": "HCOC",
         "orientation": "v",
         "showlegend": false,
         "type": "scatter",
         "x": [
          0.6376984119415283
         ],
         "xaxis": "x15",
         "y": [
          0.1051
         ],
         "yaxis": "y15"
        },
        {
         "hovertemplate": "Tumortype=HCOC<br>Layer=Down-Neck-P6<br>AP=%{x}<br>HDV=%{y}<extra></extra>",
         "legendgroup": "HCOC",
         "marker": {
          "color": "#19d3f3",
          "symbol": "circle"
         },
         "mode": "markers",
         "name": "HCOC",
         "orientation": "v",
         "showlegend": false,
         "type": "scatter",
         "x": [
          0.6376984119415283
         ],
         "xaxis": "x6",
         "y": [
          0.1038
         ],
         "yaxis": "y6"
        },
        {
         "hovertemplate": "Tumortype=HCOC<br>Layer=Final-Neck-P3<br>AP=%{x}<br>HDV=%{y}<extra></extra>",
         "legendgroup": "HCOC",
         "marker": {
          "color": "#19d3f3",
          "symbol": "circle"
         },
         "mode": "markers",
         "name": "HCOC",
         "orientation": "v",
         "showlegend": false,
         "type": "scatter",
         "x": [
          0.6376984119415283
         ],
         "xaxis": "x7",
         "y": [
          0.4314
         ],
         "yaxis": "y7"
        },
        {
         "hovertemplate": "Tumortype=HCOC<br>Layer=Final-Neck-P4<br>AP=%{x}<br>HDV=%{y}<extra></extra>",
         "legendgroup": "HCOC",
         "marker": {
          "color": "#19d3f3",
          "symbol": "circle"
         },
         "mode": "markers",
         "name": "HCOC",
         "orientation": "v",
         "showlegend": false,
         "type": "scatter",
         "x": [
          0.6376984119415283
         ],
         "xaxis": "x8",
         "y": [
          0.4585
         ],
         "yaxis": "y8"
        },
        {
         "hovertemplate": "Tumortype=HCOC<br>Layer=Final-Neck-P5<br>AP=%{x}<br>HDV=%{y}<extra></extra>",
         "legendgroup": "HCOC",
         "marker": {
          "color": "#19d3f3",
          "symbol": "circle"
         },
         "mode": "markers",
         "name": "HCOC",
         "orientation": "v",
         "showlegend": false,
         "type": "scatter",
         "x": [
          0.6376984119415283
         ],
         "xaxis": "x9",
         "y": [
          0.1029
         ],
         "yaxis": "y9"
        },
        {
         "hovertemplate": "Tumortype=HCOC<br>Layer=Final-Neck-P6<br>AP=%{x}<br>HDV=%{y}<extra></extra>",
         "legendgroup": "HCOC",
         "marker": {
          "color": "#19d3f3",
          "symbol": "circle"
         },
         "mode": "markers",
         "name": "HCOC",
         "orientation": "v",
         "showlegend": false,
         "type": "scatter",
         "x": [
          0.6376984119415283
         ],
         "xaxis": "x10",
         "y": [
          0.0806
         ],
         "yaxis": "y10"
        },
        {
         "hovertemplate": "Tumortype=HCOC<br>Layer=Head-P3<br>AP=%{x}<br>HDV=%{y}<extra></extra>",
         "legendgroup": "HCOC",
         "marker": {
          "color": "#19d3f3",
          "symbol": "circle"
         },
         "mode": "markers",
         "name": "HCOC",
         "orientation": "v",
         "showlegend": false,
         "type": "scatter",
         "x": [
          0.6376984119415283
         ],
         "xaxis": "x",
         "y": [
          0.5763
         ],
         "yaxis": "y"
        },
        {
         "hovertemplate": "Tumortype=HCOC<br>Layer=Head-P4<br>AP=%{x}<br>HDV=%{y}<extra></extra>",
         "legendgroup": "HCOC",
         "marker": {
          "color": "#19d3f3",
          "symbol": "circle"
         },
         "mode": "markers",
         "name": "HCOC",
         "orientation": "v",
         "showlegend": false,
         "type": "scatter",
         "x": [
          0.6376984119415283
         ],
         "xaxis": "x2",
         "y": [
          0.4733
         ],
         "yaxis": "y2"
        },
        {
         "hovertemplate": "Tumortype=HCOC<br>Layer=Head-P5<br>AP=%{x}<br>HDV=%{y}<extra></extra>",
         "legendgroup": "HCOC",
         "marker": {
          "color": "#19d3f3",
          "symbol": "circle"
         },
         "mode": "markers",
         "name": "HCOC",
         "orientation": "v",
         "showlegend": false,
         "type": "scatter",
         "x": [
          0.6376984119415283
         ],
         "xaxis": "x3",
         "y": [
          0.2495
         ],
         "yaxis": "y3"
        },
        {
         "hovertemplate": "Tumortype=HCOC<br>Layer=Head-P6<br>AP=%{x}<br>HDV=%{y}<extra></extra>",
         "legendgroup": "HCOC",
         "marker": {
          "color": "#19d3f3",
          "symbol": "circle"
         },
         "mode": "markers",
         "name": "HCOC",
         "orientation": "v",
         "showlegend": false,
         "type": "scatter",
         "x": [
          0.6376984119415283
         ],
         "xaxis": "x4",
         "y": [
          0.239
         ],
         "yaxis": "y4"
        },
        {
         "hovertemplate": "Tumortype=CHAS<br>Layer=P2<br>AP=%{x}<br>HDV=%{y}<extra></extra>",
         "legendgroup": "CHAS",
         "marker": {
          "color": "#FF6692",
          "symbol": "circle"
         },
         "mode": "markers",
         "name": "CHAS",
         "orientation": "v",
         "showlegend": true,
         "type": "scatter",
         "x": [
          0.7062731981277466
         ],
         "xaxis": "x16",
         "y": [
          0.1839
         ],
         "yaxis": "y16"
        },
        {
         "hovertemplate": "Tumortype=CHAS<br>Layer=P3<br>AP=%{x}<br>HDV=%{y}<extra></extra>",
         "legendgroup": "CHAS",
         "marker": {
          "color": "#FF6692",
          "symbol": "circle"
         },
         "mode": "markers",
         "name": "CHAS",
         "orientation": "v",
         "showlegend": false,
         "type": "scatter",
         "x": [
          0.7062731981277466
         ],
         "xaxis": "x17",
         "y": [
          0.3862
         ],
         "yaxis": "y17"
        },
        {
         "hovertemplate": "Tumortype=CHAS<br>Layer=P4<br>AP=%{x}<br>HDV=%{y}<extra></extra>",
         "legendgroup": "CHAS",
         "marker": {
          "color": "#FF6692",
          "symbol": "circle"
         },
         "mode": "markers",
         "name": "CHAS",
         "orientation": "v",
         "showlegend": false,
         "type": "scatter",
         "x": [
          0.7062731981277466
         ],
         "xaxis": "x18",
         "y": [
          0.486
         ],
         "yaxis": "y18"
        },
        {
         "hovertemplate": "Tumortype=CHAS<br>Layer=P5<br>AP=%{x}<br>HDV=%{y}<extra></extra>",
         "legendgroup": "CHAS",
         "marker": {
          "color": "#FF6692",
          "symbol": "circle"
         },
         "mode": "markers",
         "name": "CHAS",
         "orientation": "v",
         "showlegend": false,
         "type": "scatter",
         "x": [
          0.7062731981277466
         ],
         "xaxis": "x19",
         "y": [
          0.2981
         ],
         "yaxis": "y19"
        },
        {
         "hovertemplate": "Tumortype=CHAS<br>Layer=P6<br>AP=%{x}<br>HDV=%{y}<extra></extra>",
         "legendgroup": "CHAS",
         "marker": {
          "color": "#FF6692",
          "symbol": "circle"
         },
         "mode": "markers",
         "name": "CHAS",
         "orientation": "v",
         "showlegend": false,
         "type": "scatter",
         "x": [
          0.7062731981277466
         ],
         "xaxis": "x20",
         "y": [
          0.2162
         ],
         "yaxis": "y20"
        },
        {
         "hovertemplate": "Tumortype=CHAS<br>Layer=Up-Neck-P5<br>AP=%{x}<br>HDV=%{y}<extra></extra>",
         "legendgroup": "CHAS",
         "marker": {
          "color": "#FF6692",
          "symbol": "circle"
         },
         "mode": "markers",
         "name": "CHAS",
         "orientation": "v",
         "showlegend": false,
         "type": "scatter",
         "x": [
          0.7062731981277466
         ],
         "xaxis": "x11",
         "y": [
          0.25
         ],
         "yaxis": "y11"
        },
        {
         "hovertemplate": "Tumortype=CHAS<br>Layer=Up-Neck-P4<br>AP=%{x}<br>HDV=%{y}<extra></extra>",
         "legendgroup": "CHAS",
         "marker": {
          "color": "#FF6692",
          "symbol": "circle"
         },
         "mode": "markers",
         "name": "CHAS",
         "orientation": "v",
         "showlegend": false,
         "type": "scatter",
         "x": [
          0.7062731981277466
         ],
         "xaxis": "x12",
         "y": [
          0.4251
         ],
         "yaxis": "y12"
        },
        {
         "hovertemplate": "Tumortype=CHAS<br>Layer=Up-Neck-P3<br>AP=%{x}<br>HDV=%{y}<extra></extra>",
         "legendgroup": "CHAS",
         "marker": {
          "color": "#FF6692",
          "symbol": "circle"
         },
         "mode": "markers",
         "name": "CHAS",
         "orientation": "v",
         "showlegend": false,
         "type": "scatter",
         "x": [
          0.7062731981277466
         ],
         "xaxis": "x13",
         "y": [
          0.361
         ],
         "yaxis": "y13"
        },
        {
         "hovertemplate": "Tumortype=CHAS<br>Layer=Down-Neck-P4<br>AP=%{x}<br>HDV=%{y}<extra></extra>",
         "legendgroup": "CHAS",
         "marker": {
          "color": "#FF6692",
          "symbol": "circle"
         },
         "mode": "markers",
         "name": "CHAS",
         "orientation": "v",
         "showlegend": false,
         "type": "scatter",
         "x": [
          0.7062731981277466
         ],
         "xaxis": "x14",
         "y": [
          0.5526
         ],
         "yaxis": "y14"
        },
        {
         "hovertemplate": "Tumortype=CHAS<br>Layer=Down-Neck-P5<br>AP=%{x}<br>HDV=%{y}<extra></extra>",
         "legendgroup": "CHAS",
         "marker": {
          "color": "#FF6692",
          "symbol": "circle"
         },
         "mode": "markers",
         "name": "CHAS",
         "orientation": "v",
         "showlegend": false,
         "type": "scatter",
         "x": [
          0.7062731981277466
         ],
         "xaxis": "x15",
         "y": [
          0.1337
         ],
         "yaxis": "y15"
        },
        {
         "hovertemplate": "Tumortype=CHAS<br>Layer=Down-Neck-P6<br>AP=%{x}<br>HDV=%{y}<extra></extra>",
         "legendgroup": "CHAS",
         "marker": {
          "color": "#FF6692",
          "symbol": "circle"
         },
         "mode": "markers",
         "name": "CHAS",
         "orientation": "v",
         "showlegend": false,
         "type": "scatter",
         "x": [
          0.7062731981277466
         ],
         "xaxis": "x6",
         "y": [
          0.1985
         ],
         "yaxis": "y6"
        },
        {
         "hovertemplate": "Tumortype=CHAS<br>Layer=Final-Neck-P3<br>AP=%{x}<br>HDV=%{y}<extra></extra>",
         "legendgroup": "CHAS",
         "marker": {
          "color": "#FF6692",
          "symbol": "circle"
         },
         "mode": "markers",
         "name": "CHAS",
         "orientation": "v",
         "showlegend": false,
         "type": "scatter",
         "x": [
          0.7062731981277466
         ],
         "xaxis": "x7",
         "y": [
          0.3553
         ],
         "yaxis": "y7"
        },
        {
         "hovertemplate": "Tumortype=CHAS<br>Layer=Final-Neck-P4<br>AP=%{x}<br>HDV=%{y}<extra></extra>",
         "legendgroup": "CHAS",
         "marker": {
          "color": "#FF6692",
          "symbol": "circle"
         },
         "mode": "markers",
         "name": "CHAS",
         "orientation": "v",
         "showlegend": false,
         "type": "scatter",
         "x": [
          0.7062731981277466
         ],
         "xaxis": "x8",
         "y": [
          0.5377
         ],
         "yaxis": "y8"
        },
        {
         "hovertemplate": "Tumortype=CHAS<br>Layer=Final-Neck-P5<br>AP=%{x}<br>HDV=%{y}<extra></extra>",
         "legendgroup": "CHAS",
         "marker": {
          "color": "#FF6692",
          "symbol": "circle"
         },
         "mode": "markers",
         "name": "CHAS",
         "orientation": "v",
         "showlegend": false,
         "type": "scatter",
         "x": [
          0.7062731981277466
         ],
         "xaxis": "x9",
         "y": [
          0.1263
         ],
         "yaxis": "y9"
        },
        {
         "hovertemplate": "Tumortype=CHAS<br>Layer=Final-Neck-P6<br>AP=%{x}<br>HDV=%{y}<extra></extra>",
         "legendgroup": "CHAS",
         "marker": {
          "color": "#FF6692",
          "symbol": "circle"
         },
         "mode": "markers",
         "name": "CHAS",
         "orientation": "v",
         "showlegend": false,
         "type": "scatter",
         "x": [
          0.7062731981277466
         ],
         "xaxis": "x10",
         "y": [
          0.1751
         ],
         "yaxis": "y10"
        },
        {
         "hovertemplate": "Tumortype=CHAS<br>Layer=Head-P3<br>AP=%{x}<br>HDV=%{y}<extra></extra>",
         "legendgroup": "CHAS",
         "marker": {
          "color": "#FF6692",
          "symbol": "circle"
         },
         "mode": "markers",
         "name": "CHAS",
         "orientation": "v",
         "showlegend": false,
         "type": "scatter",
         "x": [
          0.7062731981277466
         ],
         "xaxis": "x",
         "y": [
          0.5766
         ],
         "yaxis": "y"
        },
        {
         "hovertemplate": "Tumortype=CHAS<br>Layer=Head-P4<br>AP=%{x}<br>HDV=%{y}<extra></extra>",
         "legendgroup": "CHAS",
         "marker": {
          "color": "#FF6692",
          "symbol": "circle"
         },
         "mode": "markers",
         "name": "CHAS",
         "orientation": "v",
         "showlegend": false,
         "type": "scatter",
         "x": [
          0.7062731981277466
         ],
         "xaxis": "x2",
         "y": [
          0.5467
         ],
         "yaxis": "y2"
        },
        {
         "hovertemplate": "Tumortype=CHAS<br>Layer=Head-P5<br>AP=%{x}<br>HDV=%{y}<extra></extra>",
         "legendgroup": "CHAS",
         "marker": {
          "color": "#FF6692",
          "symbol": "circle"
         },
         "mode": "markers",
         "name": "CHAS",
         "orientation": "v",
         "showlegend": false,
         "type": "scatter",
         "x": [
          0.7062731981277466
         ],
         "xaxis": "x3",
         "y": [
          0.2727
         ],
         "yaxis": "y3"
        },
        {
         "hovertemplate": "Tumortype=CHAS<br>Layer=Head-P6<br>AP=%{x}<br>HDV=%{y}<extra></extra>",
         "legendgroup": "CHAS",
         "marker": {
          "color": "#FF6692",
          "symbol": "circle"
         },
         "mode": "markers",
         "name": "CHAS",
         "orientation": "v",
         "showlegend": false,
         "type": "scatter",
         "x": [
          0.7062731981277466
         ],
         "xaxis": "x4",
         "y": [
          0.3085
         ],
         "yaxis": "y4"
        },
        {
         "hovertemplate": "Tumortype=FSTS<br>Layer=P2<br>AP=%{x}<br>HDV=%{y}<extra></extra>",
         "legendgroup": "FSTS",
         "marker": {
          "color": "#B6E880",
          "symbol": "circle"
         },
         "mode": "markers",
         "name": "FSTS",
         "orientation": "v",
         "showlegend": true,
         "type": "scatter",
         "x": [
          0.5754684805870056
         ],
         "xaxis": "x16",
         "y": [
          0.1341
         ],
         "yaxis": "y16"
        },
        {
         "hovertemplate": "Tumortype=FSTS<br>Layer=P3<br>AP=%{x}<br>HDV=%{y}<extra></extra>",
         "legendgroup": "FSTS",
         "marker": {
          "color": "#B6E880",
          "symbol": "circle"
         },
         "mode": "markers",
         "name": "FSTS",
         "orientation": "v",
         "showlegend": false,
         "type": "scatter",
         "x": [
          0.5754684805870056
         ],
         "xaxis": "x17",
         "y": [
          0.3436
         ],
         "yaxis": "y17"
        },
        {
         "hovertemplate": "Tumortype=FSTS<br>Layer=P4<br>AP=%{x}<br>HDV=%{y}<extra></extra>",
         "legendgroup": "FSTS",
         "marker": {
          "color": "#B6E880",
          "symbol": "circle"
         },
         "mode": "markers",
         "name": "FSTS",
         "orientation": "v",
         "showlegend": false,
         "type": "scatter",
         "x": [
          0.5754684805870056
         ],
         "xaxis": "x18",
         "y": [
          0.3912
         ],
         "yaxis": "y18"
        },
        {
         "hovertemplate": "Tumortype=FSTS<br>Layer=P5<br>AP=%{x}<br>HDV=%{y}<extra></extra>",
         "legendgroup": "FSTS",
         "marker": {
          "color": "#B6E880",
          "symbol": "circle"
         },
         "mode": "markers",
         "name": "FSTS",
         "orientation": "v",
         "showlegend": false,
         "type": "scatter",
         "x": [
          0.5754684805870056
         ],
         "xaxis": "x19",
         "y": [
          0.2673
         ],
         "yaxis": "y19"
        },
        {
         "hovertemplate": "Tumortype=FSTS<br>Layer=P6<br>AP=%{x}<br>HDV=%{y}<extra></extra>",
         "legendgroup": "FSTS",
         "marker": {
          "color": "#B6E880",
          "symbol": "circle"
         },
         "mode": "markers",
         "name": "FSTS",
         "orientation": "v",
         "showlegend": false,
         "type": "scatter",
         "x": [
          0.5754684805870056
         ],
         "xaxis": "x20",
         "y": [
          0.1638
         ],
         "yaxis": "y20"
        },
        {
         "hovertemplate": "Tumortype=FSTS<br>Layer=Up-Neck-P5<br>AP=%{x}<br>HDV=%{y}<extra></extra>",
         "legendgroup": "FSTS",
         "marker": {
          "color": "#B6E880",
          "symbol": "circle"
         },
         "mode": "markers",
         "name": "FSTS",
         "orientation": "v",
         "showlegend": false,
         "type": "scatter",
         "x": [
          0.5754684805870056
         ],
         "xaxis": "x11",
         "y": [
          0.1614
         ],
         "yaxis": "y11"
        },
        {
         "hovertemplate": "Tumortype=FSTS<br>Layer=Up-Neck-P4<br>AP=%{x}<br>HDV=%{y}<extra></extra>",
         "legendgroup": "FSTS",
         "marker": {
          "color": "#B6E880",
          "symbol": "circle"
         },
         "mode": "markers",
         "name": "FSTS",
         "orientation": "v",
         "showlegend": false,
         "type": "scatter",
         "x": [
          0.5754684805870056
         ],
         "xaxis": "x12",
         "y": [
          0.3025
         ],
         "yaxis": "y12"
        },
        {
         "hovertemplate": "Tumortype=FSTS<br>Layer=Up-Neck-P3<br>AP=%{x}<br>HDV=%{y}<extra></extra>",
         "legendgroup": "FSTS",
         "marker": {
          "color": "#B6E880",
          "symbol": "circle"
         },
         "mode": "markers",
         "name": "FSTS",
         "orientation": "v",
         "showlegend": false,
         "type": "scatter",
         "x": [
          0.5754684805870056
         ],
         "xaxis": "x13",
         "y": [
          0.3049
         ],
         "yaxis": "y13"
        },
        {
         "hovertemplate": "Tumortype=FSTS<br>Layer=Down-Neck-P4<br>AP=%{x}<br>HDV=%{y}<extra></extra>",
         "legendgroup": "FSTS",
         "marker": {
          "color": "#B6E880",
          "symbol": "circle"
         },
         "mode": "markers",
         "name": "FSTS",
         "orientation": "v",
         "showlegend": false,
         "type": "scatter",
         "x": [
          0.5754684805870056
         ],
         "xaxis": "x14",
         "y": [
          0.3971
         ],
         "yaxis": "y14"
        },
        {
         "hovertemplate": "Tumortype=FSTS<br>Layer=Down-Neck-P5<br>AP=%{x}<br>HDV=%{y}<extra></extra>",
         "legendgroup": "FSTS",
         "marker": {
          "color": "#B6E880",
          "symbol": "circle"
         },
         "mode": "markers",
         "name": "FSTS",
         "orientation": "v",
         "showlegend": false,
         "type": "scatter",
         "x": [
          0.5754684805870056
         ],
         "xaxis": "x15",
         "y": [
          0.1475
         ],
         "yaxis": "y15"
        },
        {
         "hovertemplate": "Tumortype=FSTS<br>Layer=Down-Neck-P6<br>AP=%{x}<br>HDV=%{y}<extra></extra>",
         "legendgroup": "FSTS",
         "marker": {
          "color": "#B6E880",
          "symbol": "circle"
         },
         "mode": "markers",
         "name": "FSTS",
         "orientation": "v",
         "showlegend": false,
         "type": "scatter",
         "x": [
          0.5754684805870056
         ],
         "xaxis": "x6",
         "y": [
          0.1298
         ],
         "yaxis": "y6"
        },
        {
         "hovertemplate": "Tumortype=FSTS<br>Layer=Final-Neck-P3<br>AP=%{x}<br>HDV=%{y}<extra></extra>",
         "legendgroup": "FSTS",
         "marker": {
          "color": "#B6E880",
          "symbol": "circle"
         },
         "mode": "markers",
         "name": "FSTS",
         "orientation": "v",
         "showlegend": false,
         "type": "scatter",
         "x": [
          0.5754684805870056
         ],
         "xaxis": "x7",
         "y": [
          0.3702
         ],
         "yaxis": "y7"
        },
        {
         "hovertemplate": "Tumortype=FSTS<br>Layer=Final-Neck-P4<br>AP=%{x}<br>HDV=%{y}<extra></extra>",
         "legendgroup": "FSTS",
         "marker": {
          "color": "#B6E880",
          "symbol": "circle"
         },
         "mode": "markers",
         "name": "FSTS",
         "orientation": "v",
         "showlegend": false,
         "type": "scatter",
         "x": [
          0.5754684805870056
         ],
         "xaxis": "x8",
         "y": [
          0.4065
         ],
         "yaxis": "y8"
        },
        {
         "hovertemplate": "Tumortype=FSTS<br>Layer=Final-Neck-P5<br>AP=%{x}<br>HDV=%{y}<extra></extra>",
         "legendgroup": "FSTS",
         "marker": {
          "color": "#B6E880",
          "symbol": "circle"
         },
         "mode": "markers",
         "name": "FSTS",
         "orientation": "v",
         "showlegend": false,
         "type": "scatter",
         "x": [
          0.5754684805870056
         ],
         "xaxis": "x9",
         "y": [
          0.0903
         ],
         "yaxis": "y9"
        },
        {
         "hovertemplate": "Tumortype=FSTS<br>Layer=Final-Neck-P6<br>AP=%{x}<br>HDV=%{y}<extra></extra>",
         "legendgroup": "FSTS",
         "marker": {
          "color": "#B6E880",
          "symbol": "circle"
         },
         "mode": "markers",
         "name": "FSTS",
         "orientation": "v",
         "showlegend": false,
         "type": "scatter",
         "x": [
          0.5754684805870056
         ],
         "xaxis": "x10",
         "y": [
          0.1206
         ],
         "yaxis": "y10"
        },
        {
         "hovertemplate": "Tumortype=FSTS<br>Layer=Head-P3<br>AP=%{x}<br>HDV=%{y}<extra></extra>",
         "legendgroup": "FSTS",
         "marker": {
          "color": "#B6E880",
          "symbol": "circle"
         },
         "mode": "markers",
         "name": "FSTS",
         "orientation": "v",
         "showlegend": false,
         "type": "scatter",
         "x": [
          0.5754684805870056
         ],
         "xaxis": "x",
         "y": [
          0.5408
         ],
         "yaxis": "y"
        },
        {
         "hovertemplate": "Tumortype=FSTS<br>Layer=Head-P4<br>AP=%{x}<br>HDV=%{y}<extra></extra>",
         "legendgroup": "FSTS",
         "marker": {
          "color": "#B6E880",
          "symbol": "circle"
         },
         "mode": "markers",
         "name": "FSTS",
         "orientation": "v",
         "showlegend": false,
         "type": "scatter",
         "x": [
          0.5754684805870056
         ],
         "xaxis": "x2",
         "y": [
          0.4378
         ],
         "yaxis": "y2"
        },
        {
         "hovertemplate": "Tumortype=FSTS<br>Layer=Head-P5<br>AP=%{x}<br>HDV=%{y}<extra></extra>",
         "legendgroup": "FSTS",
         "marker": {
          "color": "#B6E880",
          "symbol": "circle"
         },
         "mode": "markers",
         "name": "FSTS",
         "orientation": "v",
         "showlegend": false,
         "type": "scatter",
         "x": [
          0.5754684805870056
         ],
         "xaxis": "x3",
         "y": [
          0.2423
         ],
         "yaxis": "y3"
        },
        {
         "hovertemplate": "Tumortype=FSTS<br>Layer=Head-P6<br>AP=%{x}<br>HDV=%{y}<extra></extra>",
         "legendgroup": "FSTS",
         "marker": {
          "color": "#B6E880",
          "symbol": "circle"
         },
         "mode": "markers",
         "name": "FSTS",
         "orientation": "v",
         "showlegend": false,
         "type": "scatter",
         "x": [
          0.5754684805870056
         ],
         "xaxis": "x4",
         "y": [
          0.2636
         ],
         "yaxis": "y4"
        },
        {
         "hovertemplate": "Tumortype=FLYM<br>Layer=P2<br>AP=%{x}<br>HDV=%{y}<extra></extra>",
         "legendgroup": "FLYM",
         "marker": {
          "color": "#FF97FF",
          "symbol": "circle"
         },
         "mode": "markers",
         "name": "FLYM",
         "orientation": "v",
         "showlegend": true,
         "type": "scatter",
         "x": [
          0.6336628198623657
         ],
         "xaxis": "x16",
         "y": [
          0.1105
         ],
         "yaxis": "y16"
        },
        {
         "hovertemplate": "Tumortype=FLYM<br>Layer=P3<br>AP=%{x}<br>HDV=%{y}<extra></extra>",
         "legendgroup": "FLYM",
         "marker": {
          "color": "#FF97FF",
          "symbol": "circle"
         },
         "mode": "markers",
         "name": "FLYM",
         "orientation": "v",
         "showlegend": false,
         "type": "scatter",
         "x": [
          0.6336628198623657
         ],
         "xaxis": "x17",
         "y": [
          0.3395
         ],
         "yaxis": "y17"
        },
        {
         "hovertemplate": "Tumortype=FLYM<br>Layer=P4<br>AP=%{x}<br>HDV=%{y}<extra></extra>",
         "legendgroup": "FLYM",
         "marker": {
          "color": "#FF97FF",
          "symbol": "circle"
         },
         "mode": "markers",
         "name": "FLYM",
         "orientation": "v",
         "showlegend": false,
         "type": "scatter",
         "x": [
          0.6336628198623657
         ],
         "xaxis": "x18",
         "y": [
          0.4412
         ],
         "yaxis": "y18"
        },
        {
         "hovertemplate": "Tumortype=FLYM<br>Layer=P5<br>AP=%{x}<br>HDV=%{y}<extra></extra>",
         "legendgroup": "FLYM",
         "marker": {
          "color": "#FF97FF",
          "symbol": "circle"
         },
         "mode": "markers",
         "name": "FLYM",
         "orientation": "v",
         "showlegend": false,
         "type": "scatter",
         "x": [
          0.6336628198623657
         ],
         "xaxis": "x19",
         "y": [
          0.3168
         ],
         "yaxis": "y19"
        },
        {
         "hovertemplate": "Tumortype=FLYM<br>Layer=P6<br>AP=%{x}<br>HDV=%{y}<extra></extra>",
         "legendgroup": "FLYM",
         "marker": {
          "color": "#FF97FF",
          "symbol": "circle"
         },
         "mode": "markers",
         "name": "FLYM",
         "orientation": "v",
         "showlegend": false,
         "type": "scatter",
         "x": [
          0.6336628198623657
         ],
         "xaxis": "x20",
         "y": [
          0.2837
         ],
         "yaxis": "y20"
        },
        {
         "hovertemplate": "Tumortype=FLYM<br>Layer=Up-Neck-P5<br>AP=%{x}<br>HDV=%{y}<extra></extra>",
         "legendgroup": "FLYM",
         "marker": {
          "color": "#FF97FF",
          "symbol": "circle"
         },
         "mode": "markers",
         "name": "FLYM",
         "orientation": "v",
         "showlegend": false,
         "type": "scatter",
         "x": [
          0.6336628198623657
         ],
         "xaxis": "x11",
         "y": [
          0.123
         ],
         "yaxis": "y11"
        },
        {
         "hovertemplate": "Tumortype=FLYM<br>Layer=Up-Neck-P4<br>AP=%{x}<br>HDV=%{y}<extra></extra>",
         "legendgroup": "FLYM",
         "marker": {
          "color": "#FF97FF",
          "symbol": "circle"
         },
         "mode": "markers",
         "name": "FLYM",
         "orientation": "v",
         "showlegend": false,
         "type": "scatter",
         "x": [
          0.6336628198623657
         ],
         "xaxis": "x12",
         "y": [
          0.3509
         ],
         "yaxis": "y12"
        },
        {
         "hovertemplate": "Tumortype=FLYM<br>Layer=Up-Neck-P3<br>AP=%{x}<br>HDV=%{y}<extra></extra>",
         "legendgroup": "FLYM",
         "marker": {
          "color": "#FF97FF",
          "symbol": "circle"
         },
         "mode": "markers",
         "name": "FLYM",
         "orientation": "v",
         "showlegend": false,
         "type": "scatter",
         "x": [
          0.6336628198623657
         ],
         "xaxis": "x13",
         "y": [
          0.3712
         ],
         "yaxis": "y13"
        },
        {
         "hovertemplate": "Tumortype=FLYM<br>Layer=Down-Neck-P4<br>AP=%{x}<br>HDV=%{y}<extra></extra>",
         "legendgroup": "FLYM",
         "marker": {
          "color": "#FF97FF",
          "symbol": "circle"
         },
         "mode": "markers",
         "name": "FLYM",
         "orientation": "v",
         "showlegend": false,
         "type": "scatter",
         "x": [
          0.6336628198623657
         ],
         "xaxis": "x14",
         "y": [
          0.5015
         ],
         "yaxis": "y14"
        },
        {
         "hovertemplate": "Tumortype=FLYM<br>Layer=Down-Neck-P5<br>AP=%{x}<br>HDV=%{y}<extra></extra>",
         "legendgroup": "FLYM",
         "marker": {
          "color": "#FF97FF",
          "symbol": "circle"
         },
         "mode": "markers",
         "name": "FLYM",
         "orientation": "v",
         "showlegend": false,
         "type": "scatter",
         "x": [
          0.6336628198623657
         ],
         "xaxis": "x15",
         "y": [
          0.2884
         ],
         "yaxis": "y15"
        },
        {
         "hovertemplate": "Tumortype=FLYM<br>Layer=Down-Neck-P6<br>AP=%{x}<br>HDV=%{y}<extra></extra>",
         "legendgroup": "FLYM",
         "marker": {
          "color": "#FF97FF",
          "symbol": "circle"
         },
         "mode": "markers",
         "name": "FLYM",
         "orientation": "v",
         "showlegend": false,
         "type": "scatter",
         "x": [
          0.6336628198623657
         ],
         "xaxis": "x6",
         "y": [
          0.0849
         ],
         "yaxis": "y6"
        },
        {
         "hovertemplate": "Tumortype=FLYM<br>Layer=Final-Neck-P3<br>AP=%{x}<br>HDV=%{y}<extra></extra>",
         "legendgroup": "FLYM",
         "marker": {
          "color": "#FF97FF",
          "symbol": "circle"
         },
         "mode": "markers",
         "name": "FLYM",
         "orientation": "v",
         "showlegend": false,
         "type": "scatter",
         "x": [
          0.6336628198623657
         ],
         "xaxis": "x7",
         "y": [
          0.45
         ],
         "yaxis": "y7"
        },
        {
         "hovertemplate": "Tumortype=FLYM<br>Layer=Final-Neck-P4<br>AP=%{x}<br>HDV=%{y}<extra></extra>",
         "legendgroup": "FLYM",
         "marker": {
          "color": "#FF97FF",
          "symbol": "circle"
         },
         "mode": "markers",
         "name": "FLYM",
         "orientation": "v",
         "showlegend": false,
         "type": "scatter",
         "x": [
          0.6336628198623657
         ],
         "xaxis": "x8",
         "y": [
          0.4882
         ],
         "yaxis": "y8"
        },
        {
         "hovertemplate": "Tumortype=FLYM<br>Layer=Final-Neck-P5<br>AP=%{x}<br>HDV=%{y}<extra></extra>",
         "legendgroup": "FLYM",
         "marker": {
          "color": "#FF97FF",
          "symbol": "circle"
         },
         "mode": "markers",
         "name": "FLYM",
         "orientation": "v",
         "showlegend": false,
         "type": "scatter",
         "x": [
          0.6336628198623657
         ],
         "xaxis": "x9",
         "y": [
          0.1425
         ],
         "yaxis": "y9"
        },
        {
         "hovertemplate": "Tumortype=FLYM<br>Layer=Final-Neck-P6<br>AP=%{x}<br>HDV=%{y}<extra></extra>",
         "legendgroup": "FLYM",
         "marker": {
          "color": "#FF97FF",
          "symbol": "circle"
         },
         "mode": "markers",
         "name": "FLYM",
         "orientation": "v",
         "showlegend": false,
         "type": "scatter",
         "x": [
          0.6336628198623657
         ],
         "xaxis": "x10",
         "y": [
          0.0895
         ],
         "yaxis": "y10"
        },
        {
         "hovertemplate": "Tumortype=FLYM<br>Layer=Head-P3<br>AP=%{x}<br>HDV=%{y}<extra></extra>",
         "legendgroup": "FLYM",
         "marker": {
          "color": "#FF97FF",
          "symbol": "circle"
         },
         "mode": "markers",
         "name": "FLYM",
         "orientation": "v",
         "showlegend": false,
         "type": "scatter",
         "x": [
          0.6336628198623657
         ],
         "xaxis": "x",
         "y": [
          0.5905
         ],
         "yaxis": "y"
        },
        {
         "hovertemplate": "Tumortype=FLYM<br>Layer=Head-P4<br>AP=%{x}<br>HDV=%{y}<extra></extra>",
         "legendgroup": "FLYM",
         "marker": {
          "color": "#FF97FF",
          "symbol": "circle"
         },
         "mode": "markers",
         "name": "FLYM",
         "orientation": "v",
         "showlegend": false,
         "type": "scatter",
         "x": [
          0.6336628198623657
         ],
         "xaxis": "x2",
         "y": [
          0.4994
         ],
         "yaxis": "y2"
        },
        {
         "hovertemplate": "Tumortype=FLYM<br>Layer=Head-P5<br>AP=%{x}<br>HDV=%{y}<extra></extra>",
         "legendgroup": "FLYM",
         "marker": {
          "color": "#FF97FF",
          "symbol": "circle"
         },
         "mode": "markers",
         "name": "FLYM",
         "orientation": "v",
         "showlegend": false,
         "type": "scatter",
         "x": [
          0.6336628198623657
         ],
         "xaxis": "x3",
         "y": [
          0.2938
         ],
         "yaxis": "y3"
        },
        {
         "hovertemplate": "Tumortype=FLYM<br>Layer=Head-P6<br>AP=%{x}<br>HDV=%{y}<extra></extra>",
         "legendgroup": "FLYM",
         "marker": {
          "color": "#FF97FF",
          "symbol": "circle"
         },
         "mode": "markers",
         "name": "FLYM",
         "orientation": "v",
         "showlegend": false,
         "type": "scatter",
         "x": [
          0.6336628198623657
         ],
         "xaxis": "x4",
         "y": [
          0.2427
         ],
         "yaxis": "y4"
        }
       ],
       "layout": {
        "annotations": [
         {
          "font": {},
          "showarrow": false,
          "text": "Layer=Head-P3",
          "x": 0.09200000000000001,
          "xanchor": "center",
          "xref": "paper",
          "y": 0.1975,
          "yanchor": "bottom",
          "yref": "paper"
         },
         {
          "font": {},
          "showarrow": false,
          "text": "Layer=Head-P4",
          "x": 0.29600000000000004,
          "xanchor": "center",
          "xref": "paper",
          "y": 0.1975,
          "yanchor": "bottom",
          "yref": "paper"
         },
         {
          "font": {},
          "showarrow": false,
          "text": "Layer=Head-P5",
          "x": 0.5,
          "xanchor": "center",
          "xref": "paper",
          "y": 0.1975,
          "yanchor": "bottom",
          "yref": "paper"
         },
         {
          "font": {},
          "showarrow": false,
          "text": "Layer=Head-P6",
          "x": 0.7040000000000002,
          "xanchor": "center",
          "xref": "paper",
          "y": 0.1975,
          "yanchor": "bottom",
          "yref": "paper"
         },
         {
          "font": {},
          "showarrow": false,
          "text": "Layer=Down-Neck-P6",
          "x": 0.09200000000000001,
          "xanchor": "center",
          "xref": "paper",
          "y": 0.465,
          "yanchor": "bottom",
          "yref": "paper"
         },
         {
          "font": {},
          "showarrow": false,
          "text": "Layer=Final-Neck-P3",
          "x": 0.29600000000000004,
          "xanchor": "center",
          "xref": "paper",
          "y": 0.465,
          "yanchor": "bottom",
          "yref": "paper"
         },
         {
          "font": {},
          "showarrow": false,
          "text": "Layer=Final-Neck-P4",
          "x": 0.5,
          "xanchor": "center",
          "xref": "paper",
          "y": 0.465,
          "yanchor": "bottom",
          "yref": "paper"
         },
         {
          "font": {},
          "showarrow": false,
          "text": "Layer=Final-Neck-P5",
          "x": 0.7040000000000002,
          "xanchor": "center",
          "xref": "paper",
          "y": 0.465,
          "yanchor": "bottom",
          "yref": "paper"
         },
         {
          "font": {},
          "showarrow": false,
          "text": "Layer=Final-Neck-P6",
          "x": 0.908,
          "xanchor": "center",
          "xref": "paper",
          "y": 0.465,
          "yanchor": "bottom",
          "yref": "paper"
         },
         {
          "font": {},
          "showarrow": false,
          "text": "Layer=Up-Neck-P5",
          "x": 0.09200000000000001,
          "xanchor": "center",
          "xref": "paper",
          "y": 0.7325,
          "yanchor": "bottom",
          "yref": "paper"
         },
         {
          "font": {},
          "showarrow": false,
          "text": "Layer=Up-Neck-P4",
          "x": 0.29600000000000004,
          "xanchor": "center",
          "xref": "paper",
          "y": 0.7325,
          "yanchor": "bottom",
          "yref": "paper"
         },
         {
          "font": {},
          "showarrow": false,
          "text": "Layer=Up-Neck-P3",
          "x": 0.5,
          "xanchor": "center",
          "xref": "paper",
          "y": 0.7325,
          "yanchor": "bottom",
          "yref": "paper"
         },
         {
          "font": {},
          "showarrow": false,
          "text": "Layer=Down-Neck-P4",
          "x": 0.7040000000000002,
          "xanchor": "center",
          "xref": "paper",
          "y": 0.7325,
          "yanchor": "bottom",
          "yref": "paper"
         },
         {
          "font": {},
          "showarrow": false,
          "text": "Layer=Down-Neck-P5",
          "x": 0.908,
          "xanchor": "center",
          "xref": "paper",
          "y": 0.7325,
          "yanchor": "bottom",
          "yref": "paper"
         },
         {
          "font": {},
          "showarrow": false,
          "text": "Layer=P2",
          "x": 0.09200000000000001,
          "xanchor": "center",
          "xref": "paper",
          "y": 1,
          "yanchor": "bottom",
          "yref": "paper"
         },
         {
          "font": {},
          "showarrow": false,
          "text": "Layer=P3",
          "x": 0.29600000000000004,
          "xanchor": "center",
          "xref": "paper",
          "y": 1,
          "yanchor": "bottom",
          "yref": "paper"
         },
         {
          "font": {},
          "showarrow": false,
          "text": "Layer=P4",
          "x": 0.5,
          "xanchor": "center",
          "xref": "paper",
          "y": 1,
          "yanchor": "bottom",
          "yref": "paper"
         },
         {
          "font": {},
          "showarrow": false,
          "text": "Layer=P5",
          "x": 0.7040000000000002,
          "xanchor": "center",
          "xref": "paper",
          "y": 1,
          "yanchor": "bottom",
          "yref": "paper"
         },
         {
          "font": {},
          "showarrow": false,
          "text": "Layer=P6",
          "x": 0.908,
          "xanchor": "center",
          "xref": "paper",
          "y": 1,
          "yanchor": "bottom",
          "yref": "paper"
         }
        ],
        "legend": {
         "title": {
          "text": "Tumortype"
         },
         "tracegroupgap": 0
        },
        "margin": {
         "t": 60
        },
        "template": {
         "data": {
          "bar": [
           {
            "error_x": {
             "color": "#2a3f5f"
            },
            "error_y": {
             "color": "#2a3f5f"
            },
            "marker": {
             "line": {
              "color": "#E5ECF6",
              "width": 0.5
             },
             "pattern": {
              "fillmode": "overlay",
              "size": 10,
              "solidity": 0.2
             }
            },
            "type": "bar"
           }
          ],
          "barpolar": [
           {
            "marker": {
             "line": {
              "color": "#E5ECF6",
              "width": 0.5
             },
             "pattern": {
              "fillmode": "overlay",
              "size": 10,
              "solidity": 0.2
             }
            },
            "type": "barpolar"
           }
          ],
          "carpet": [
           {
            "aaxis": {
             "endlinecolor": "#2a3f5f",
             "gridcolor": "white",
             "linecolor": "white",
             "minorgridcolor": "white",
             "startlinecolor": "#2a3f5f"
            },
            "baxis": {
             "endlinecolor": "#2a3f5f",
             "gridcolor": "white",
             "linecolor": "white",
             "minorgridcolor": "white",
             "startlinecolor": "#2a3f5f"
            },
            "type": "carpet"
           }
          ],
          "choropleth": [
           {
            "colorbar": {
             "outlinewidth": 0,
             "ticks": ""
            },
            "type": "choropleth"
           }
          ],
          "contour": [
           {
            "colorbar": {
             "outlinewidth": 0,
             "ticks": ""
            },
            "colorscale": [
             [
              0,
              "#0d0887"
             ],
             [
              0.1111111111111111,
              "#46039f"
             ],
             [
              0.2222222222222222,
              "#7201a8"
             ],
             [
              0.3333333333333333,
              "#9c179e"
             ],
             [
              0.4444444444444444,
              "#bd3786"
             ],
             [
              0.5555555555555556,
              "#d8576b"
             ],
             [
              0.6666666666666666,
              "#ed7953"
             ],
             [
              0.7777777777777778,
              "#fb9f3a"
             ],
             [
              0.8888888888888888,
              "#fdca26"
             ],
             [
              1,
              "#f0f921"
             ]
            ],
            "type": "contour"
           }
          ],
          "contourcarpet": [
           {
            "colorbar": {
             "outlinewidth": 0,
             "ticks": ""
            },
            "type": "contourcarpet"
           }
          ],
          "heatmap": [
           {
            "colorbar": {
             "outlinewidth": 0,
             "ticks": ""
            },
            "colorscale": [
             [
              0,
              "#0d0887"
             ],
             [
              0.1111111111111111,
              "#46039f"
             ],
             [
              0.2222222222222222,
              "#7201a8"
             ],
             [
              0.3333333333333333,
              "#9c179e"
             ],
             [
              0.4444444444444444,
              "#bd3786"
             ],
             [
              0.5555555555555556,
              "#d8576b"
             ],
             [
              0.6666666666666666,
              "#ed7953"
             ],
             [
              0.7777777777777778,
              "#fb9f3a"
             ],
             [
              0.8888888888888888,
              "#fdca26"
             ],
             [
              1,
              "#f0f921"
             ]
            ],
            "type": "heatmap"
           }
          ],
          "heatmapgl": [
           {
            "colorbar": {
             "outlinewidth": 0,
             "ticks": ""
            },
            "colorscale": [
             [
              0,
              "#0d0887"
             ],
             [
              0.1111111111111111,
              "#46039f"
             ],
             [
              0.2222222222222222,
              "#7201a8"
             ],
             [
              0.3333333333333333,
              "#9c179e"
             ],
             [
              0.4444444444444444,
              "#bd3786"
             ],
             [
              0.5555555555555556,
              "#d8576b"
             ],
             [
              0.6666666666666666,
              "#ed7953"
             ],
             [
              0.7777777777777778,
              "#fb9f3a"
             ],
             [
              0.8888888888888888,
              "#fdca26"
             ],
             [
              1,
              "#f0f921"
             ]
            ],
            "type": "heatmapgl"
           }
          ],
          "histogram": [
           {
            "marker": {
             "pattern": {
              "fillmode": "overlay",
              "size": 10,
              "solidity": 0.2
             }
            },
            "type": "histogram"
           }
          ],
          "histogram2d": [
           {
            "colorbar": {
             "outlinewidth": 0,
             "ticks": ""
            },
            "colorscale": [
             [
              0,
              "#0d0887"
             ],
             [
              0.1111111111111111,
              "#46039f"
             ],
             [
              0.2222222222222222,
              "#7201a8"
             ],
             [
              0.3333333333333333,
              "#9c179e"
             ],
             [
              0.4444444444444444,
              "#bd3786"
             ],
             [
              0.5555555555555556,
              "#d8576b"
             ],
             [
              0.6666666666666666,
              "#ed7953"
             ],
             [
              0.7777777777777778,
              "#fb9f3a"
             ],
             [
              0.8888888888888888,
              "#fdca26"
             ],
             [
              1,
              "#f0f921"
             ]
            ],
            "type": "histogram2d"
           }
          ],
          "histogram2dcontour": [
           {
            "colorbar": {
             "outlinewidth": 0,
             "ticks": ""
            },
            "colorscale": [
             [
              0,
              "#0d0887"
             ],
             [
              0.1111111111111111,
              "#46039f"
             ],
             [
              0.2222222222222222,
              "#7201a8"
             ],
             [
              0.3333333333333333,
              "#9c179e"
             ],
             [
              0.4444444444444444,
              "#bd3786"
             ],
             [
              0.5555555555555556,
              "#d8576b"
             ],
             [
              0.6666666666666666,
              "#ed7953"
             ],
             [
              0.7777777777777778,
              "#fb9f3a"
             ],
             [
              0.8888888888888888,
              "#fdca26"
             ],
             [
              1,
              "#f0f921"
             ]
            ],
            "type": "histogram2dcontour"
           }
          ],
          "mesh3d": [
           {
            "colorbar": {
             "outlinewidth": 0,
             "ticks": ""
            },
            "type": "mesh3d"
           }
          ],
          "parcoords": [
           {
            "line": {
             "colorbar": {
              "outlinewidth": 0,
              "ticks": ""
             }
            },
            "type": "parcoords"
           }
          ],
          "pie": [
           {
            "automargin": true,
            "type": "pie"
           }
          ],
          "scatter": [
           {
            "fillpattern": {
             "fillmode": "overlay",
             "size": 10,
             "solidity": 0.2
            },
            "type": "scatter"
           }
          ],
          "scatter3d": [
           {
            "line": {
             "colorbar": {
              "outlinewidth": 0,
              "ticks": ""
             }
            },
            "marker": {
             "colorbar": {
              "outlinewidth": 0,
              "ticks": ""
             }
            },
            "type": "scatter3d"
           }
          ],
          "scattercarpet": [
           {
            "marker": {
             "colorbar": {
              "outlinewidth": 0,
              "ticks": ""
             }
            },
            "type": "scattercarpet"
           }
          ],
          "scattergeo": [
           {
            "marker": {
             "colorbar": {
              "outlinewidth": 0,
              "ticks": ""
             }
            },
            "type": "scattergeo"
           }
          ],
          "scattergl": [
           {
            "marker": {
             "colorbar": {
              "outlinewidth": 0,
              "ticks": ""
             }
            },
            "type": "scattergl"
           }
          ],
          "scattermapbox": [
           {
            "marker": {
             "colorbar": {
              "outlinewidth": 0,
              "ticks": ""
             }
            },
            "type": "scattermapbox"
           }
          ],
          "scatterpolar": [
           {
            "marker": {
             "colorbar": {
              "outlinewidth": 0,
              "ticks": ""
             }
            },
            "type": "scatterpolar"
           }
          ],
          "scatterpolargl": [
           {
            "marker": {
             "colorbar": {
              "outlinewidth": 0,
              "ticks": ""
             }
            },
            "type": "scatterpolargl"
           }
          ],
          "scatterternary": [
           {
            "marker": {
             "colorbar": {
              "outlinewidth": 0,
              "ticks": ""
             }
            },
            "type": "scatterternary"
           }
          ],
          "surface": [
           {
            "colorbar": {
             "outlinewidth": 0,
             "ticks": ""
            },
            "colorscale": [
             [
              0,
              "#0d0887"
             ],
             [
              0.1111111111111111,
              "#46039f"
             ],
             [
              0.2222222222222222,
              "#7201a8"
             ],
             [
              0.3333333333333333,
              "#9c179e"
             ],
             [
              0.4444444444444444,
              "#bd3786"
             ],
             [
              0.5555555555555556,
              "#d8576b"
             ],
             [
              0.6666666666666666,
              "#ed7953"
             ],
             [
              0.7777777777777778,
              "#fb9f3a"
             ],
             [
              0.8888888888888888,
              "#fdca26"
             ],
             [
              1,
              "#f0f921"
             ]
            ],
            "type": "surface"
           }
          ],
          "table": [
           {
            "cells": {
             "fill": {
              "color": "#EBF0F8"
             },
             "line": {
              "color": "white"
             }
            },
            "header": {
             "fill": {
              "color": "#C8D4E3"
             },
             "line": {
              "color": "white"
             }
            },
            "type": "table"
           }
          ]
         },
         "layout": {
          "annotationdefaults": {
           "arrowcolor": "#2a3f5f",
           "arrowhead": 0,
           "arrowwidth": 1
          },
          "autotypenumbers": "strict",
          "coloraxis": {
           "colorbar": {
            "outlinewidth": 0,
            "ticks": ""
           }
          },
          "colorscale": {
           "diverging": [
            [
             0,
             "#8e0152"
            ],
            [
             0.1,
             "#c51b7d"
            ],
            [
             0.2,
             "#de77ae"
            ],
            [
             0.3,
             "#f1b6da"
            ],
            [
             0.4,
             "#fde0ef"
            ],
            [
             0.5,
             "#f7f7f7"
            ],
            [
             0.6,
             "#e6f5d0"
            ],
            [
             0.7,
             "#b8e186"
            ],
            [
             0.8,
             "#7fbc41"
            ],
            [
             0.9,
             "#4d9221"
            ],
            [
             1,
             "#276419"
            ]
           ],
           "sequential": [
            [
             0,
             "#0d0887"
            ],
            [
             0.1111111111111111,
             "#46039f"
            ],
            [
             0.2222222222222222,
             "#7201a8"
            ],
            [
             0.3333333333333333,
             "#9c179e"
            ],
            [
             0.4444444444444444,
             "#bd3786"
            ],
            [
             0.5555555555555556,
             "#d8576b"
            ],
            [
             0.6666666666666666,
             "#ed7953"
            ],
            [
             0.7777777777777778,
             "#fb9f3a"
            ],
            [
             0.8888888888888888,
             "#fdca26"
            ],
            [
             1,
             "#f0f921"
            ]
           ],
           "sequentialminus": [
            [
             0,
             "#0d0887"
            ],
            [
             0.1111111111111111,
             "#46039f"
            ],
            [
             0.2222222222222222,
             "#7201a8"
            ],
            [
             0.3333333333333333,
             "#9c179e"
            ],
            [
             0.4444444444444444,
             "#bd3786"
            ],
            [
             0.5555555555555556,
             "#d8576b"
            ],
            [
             0.6666666666666666,
             "#ed7953"
            ],
            [
             0.7777777777777778,
             "#fb9f3a"
            ],
            [
             0.8888888888888888,
             "#fdca26"
            ],
            [
             1,
             "#f0f921"
            ]
           ]
          },
          "colorway": [
           "#636efa",
           "#EF553B",
           "#00cc96",
           "#ab63fa",
           "#FFA15A",
           "#19d3f3",
           "#FF6692",
           "#B6E880",
           "#FF97FF",
           "#FECB52"
          ],
          "font": {
           "color": "#2a3f5f"
          },
          "geo": {
           "bgcolor": "white",
           "lakecolor": "white",
           "landcolor": "#E5ECF6",
           "showlakes": true,
           "showland": true,
           "subunitcolor": "white"
          },
          "hoverlabel": {
           "align": "left"
          },
          "hovermode": "closest",
          "mapbox": {
           "style": "light"
          },
          "paper_bgcolor": "white",
          "plot_bgcolor": "#E5ECF6",
          "polar": {
           "angularaxis": {
            "gridcolor": "white",
            "linecolor": "white",
            "ticks": ""
           },
           "bgcolor": "#E5ECF6",
           "radialaxis": {
            "gridcolor": "white",
            "linecolor": "white",
            "ticks": ""
           }
          },
          "scene": {
           "xaxis": {
            "backgroundcolor": "#E5ECF6",
            "gridcolor": "white",
            "gridwidth": 2,
            "linecolor": "white",
            "showbackground": true,
            "ticks": "",
            "zerolinecolor": "white"
           },
           "yaxis": {
            "backgroundcolor": "#E5ECF6",
            "gridcolor": "white",
            "gridwidth": 2,
            "linecolor": "white",
            "showbackground": true,
            "ticks": "",
            "zerolinecolor": "white"
           },
           "zaxis": {
            "backgroundcolor": "#E5ECF6",
            "gridcolor": "white",
            "gridwidth": 2,
            "linecolor": "white",
            "showbackground": true,
            "ticks": "",
            "zerolinecolor": "white"
           }
          },
          "shapedefaults": {
           "line": {
            "color": "#2a3f5f"
           }
          },
          "ternary": {
           "aaxis": {
            "gridcolor": "white",
            "linecolor": "white",
            "ticks": ""
           },
           "baxis": {
            "gridcolor": "white",
            "linecolor": "white",
            "ticks": ""
           },
           "bgcolor": "#E5ECF6",
           "caxis": {
            "gridcolor": "white",
            "linecolor": "white",
            "ticks": ""
           }
          },
          "title": {
           "x": 0.05
          },
          "xaxis": {
           "automargin": true,
           "gridcolor": "white",
           "linecolor": "white",
           "ticks": "",
           "title": {
            "standoff": 15
           },
           "zerolinecolor": "white",
           "zerolinewidth": 2
          },
          "yaxis": {
           "automargin": true,
           "gridcolor": "white",
           "linecolor": "white",
           "ticks": "",
           "title": {
            "standoff": 15
           },
           "zerolinecolor": "white",
           "zerolinewidth": 2
          }
         }
        },
        "xaxis": {
         "anchor": "y",
         "domain": [
          0,
          0.18400000000000002
         ],
         "title": {
          "text": "AP"
         }
        },
        "xaxis10": {
         "anchor": "y10",
         "domain": [
          0.8160000000000001,
          1
         ],
         "matches": "x",
         "showticklabels": false
        },
        "xaxis11": {
         "anchor": "y11",
         "domain": [
          0,
          0.18400000000000002
         ],
         "matches": "x",
         "showticklabels": false
        },
        "xaxis12": {
         "anchor": "y12",
         "domain": [
          0.20400000000000001,
          0.388
         ],
         "matches": "x",
         "showticklabels": false
        },
        "xaxis13": {
         "anchor": "y13",
         "domain": [
          0.40800000000000003,
          0.5920000000000001
         ],
         "matches": "x",
         "showticklabels": false
        },
        "xaxis14": {
         "anchor": "y14",
         "domain": [
          0.6120000000000001,
          0.7960000000000002
         ],
         "matches": "x",
         "showticklabels": false
        },
        "xaxis15": {
         "anchor": "y15",
         "domain": [
          0.8160000000000001,
          1
         ],
         "matches": "x",
         "showticklabels": false
        },
        "xaxis16": {
         "anchor": "y16",
         "domain": [
          0,
          0.18400000000000002
         ],
         "matches": "x",
         "showticklabels": false
        },
        "xaxis17": {
         "anchor": "y17",
         "domain": [
          0.20400000000000001,
          0.388
         ],
         "matches": "x",
         "showticklabels": false
        },
        "xaxis18": {
         "anchor": "y18",
         "domain": [
          0.40800000000000003,
          0.5920000000000001
         ],
         "matches": "x",
         "showticklabels": false
        },
        "xaxis19": {
         "anchor": "y19",
         "domain": [
          0.6120000000000001,
          0.7960000000000002
         ],
         "matches": "x",
         "showticklabels": false
        },
        "xaxis2": {
         "anchor": "y2",
         "domain": [
          0.20400000000000001,
          0.388
         ],
         "matches": "x",
         "title": {
          "text": "AP"
         }
        },
        "xaxis20": {
         "anchor": "y20",
         "domain": [
          0.8160000000000001,
          1
         ],
         "matches": "x",
         "showticklabels": false
        },
        "xaxis3": {
         "anchor": "y3",
         "domain": [
          0.40800000000000003,
          0.5920000000000001
         ],
         "matches": "x",
         "title": {
          "text": "AP"
         }
        },
        "xaxis4": {
         "anchor": "y4",
         "domain": [
          0.6120000000000001,
          0.7960000000000002
         ],
         "matches": "x",
         "title": {
          "text": "AP"
         }
        },
        "xaxis5": {
         "anchor": "y5",
         "domain": [
          0.8160000000000001,
          1
         ],
         "matches": "x",
         "title": {
          "text": "AP"
         }
        },
        "xaxis6": {
         "anchor": "y6",
         "domain": [
          0,
          0.18400000000000002
         ],
         "matches": "x",
         "showticklabels": false
        },
        "xaxis7": {
         "anchor": "y7",
         "domain": [
          0.20400000000000001,
          0.388
         ],
         "matches": "x",
         "showticklabels": false
        },
        "xaxis8": {
         "anchor": "y8",
         "domain": [
          0.40800000000000003,
          0.5920000000000001
         ],
         "matches": "x",
         "showticklabels": false
        },
        "xaxis9": {
         "anchor": "y9",
         "domain": [
          0.6120000000000001,
          0.7960000000000002
         ],
         "matches": "x",
         "showticklabels": false
        },
        "yaxis": {
         "anchor": "x",
         "domain": [
          0,
          0.1975
         ],
         "title": {
          "text": "HDV"
         }
        },
        "yaxis10": {
         "anchor": "x10",
         "domain": [
          0.2675,
          0.465
         ],
         "matches": "y",
         "showticklabels": false
        },
        "yaxis11": {
         "anchor": "x11",
         "domain": [
          0.535,
          0.7325
         ],
         "matches": "y",
         "title": {
          "text": "HDV"
         }
        },
        "yaxis12": {
         "anchor": "x12",
         "domain": [
          0.535,
          0.7325
         ],
         "matches": "y",
         "showticklabels": false
        },
        "yaxis13": {
         "anchor": "x13",
         "domain": [
          0.535,
          0.7325
         ],
         "matches": "y",
         "showticklabels": false
        },
        "yaxis14": {
         "anchor": "x14",
         "domain": [
          0.535,
          0.7325
         ],
         "matches": "y",
         "showticklabels": false
        },
        "yaxis15": {
         "anchor": "x15",
         "domain": [
          0.535,
          0.7325
         ],
         "matches": "y",
         "showticklabels": false
        },
        "yaxis16": {
         "anchor": "x16",
         "domain": [
          0.8025,
          1
         ],
         "matches": "y",
         "title": {
          "text": "HDV"
         }
        },
        "yaxis17": {
         "anchor": "x17",
         "domain": [
          0.8025,
          1
         ],
         "matches": "y",
         "showticklabels": false
        },
        "yaxis18": {
         "anchor": "x18",
         "domain": [
          0.8025,
          1
         ],
         "matches": "y",
         "showticklabels": false
        },
        "yaxis19": {
         "anchor": "x19",
         "domain": [
          0.8025,
          1
         ],
         "matches": "y",
         "showticklabels": false
        },
        "yaxis2": {
         "anchor": "x2",
         "domain": [
          0,
          0.1975
         ],
         "matches": "y",
         "showticklabels": false
        },
        "yaxis20": {
         "anchor": "x20",
         "domain": [
          0.8025,
          1
         ],
         "matches": "y",
         "showticklabels": false
        },
        "yaxis3": {
         "anchor": "x3",
         "domain": [
          0,
          0.1975
         ],
         "matches": "y",
         "showticklabels": false
        },
        "yaxis4": {
         "anchor": "x4",
         "domain": [
          0,
          0.1975
         ],
         "matches": "y",
         "showticklabels": false
        },
        "yaxis5": {
         "anchor": "x5",
         "domain": [
          0,
          0.1975
         ],
         "matches": "y",
         "showticklabels": false
        },
        "yaxis6": {
         "anchor": "x6",
         "domain": [
          0.2675,
          0.465
         ],
         "matches": "y",
         "title": {
          "text": "HDV"
         }
        },
        "yaxis7": {
         "anchor": "x7",
         "domain": [
          0.2675,
          0.465
         ],
         "matches": "y",
         "showticklabels": false
        },
        "yaxis8": {
         "anchor": "x8",
         "domain": [
          0.2675,
          0.465
         ],
         "matches": "y",
         "showticklabels": false
        },
        "yaxis9": {
         "anchor": "x9",
         "domain": [
          0.2675,
          0.465
         ],
         "matches": "y",
         "showticklabels": false
        }
       }
      },
      "text/html": [
       "<div>                            <div id=\"c90df3e1-584e-4667-9363-bdebc55995e0\" class=\"plotly-graph-div\" style=\"height:525px; width:100%;\"></div>            <script type=\"text/javascript\">                require([\"plotly\"], function(Plotly) {                    window.PLOTLYENV=window.PLOTLYENV || {};                                    if (document.getElementById(\"c90df3e1-584e-4667-9363-bdebc55995e0\")) {                    Plotly.newPlot(                        \"c90df3e1-584e-4667-9363-bdebc55995e0\",                        [{\"hovertemplate\":\"Tumortype=HMEL\\u003cbr\\u003eLayer=P2\\u003cbr\\u003eAP=%{x}\\u003cbr\\u003eHDV=%{y}\\u003cextra\\u003e\\u003c\\u002fextra\\u003e\",\"legendgroup\":\"HMEL\",\"marker\":{\"color\":\"#636efa\",\"symbol\":\"circle\"},\"mode\":\"markers\",\"name\":\"HMEL\",\"orientation\":\"v\",\"showlegend\":true,\"x\":[0.779650092124939],\"xaxis\":\"x16\",\"y\":[0.1836],\"yaxis\":\"y16\",\"type\":\"scatter\"},{\"hovertemplate\":\"Tumortype=HMEL\\u003cbr\\u003eLayer=P3\\u003cbr\\u003eAP=%{x}\\u003cbr\\u003eHDV=%{y}\\u003cextra\\u003e\\u003c\\u002fextra\\u003e\",\"legendgroup\":\"HMEL\",\"marker\":{\"color\":\"#636efa\",\"symbol\":\"circle\"},\"mode\":\"markers\",\"name\":\"HMEL\",\"orientation\":\"v\",\"showlegend\":false,\"x\":[0.779650092124939],\"xaxis\":\"x17\",\"y\":[0.4857],\"yaxis\":\"y17\",\"type\":\"scatter\"},{\"hovertemplate\":\"Tumortype=HMEL\\u003cbr\\u003eLayer=P4\\u003cbr\\u003eAP=%{x}\\u003cbr\\u003eHDV=%{y}\\u003cextra\\u003e\\u003c\\u002fextra\\u003e\",\"legendgroup\":\"HMEL\",\"marker\":{\"color\":\"#636efa\",\"symbol\":\"circle\"},\"mode\":\"markers\",\"name\":\"HMEL\",\"orientation\":\"v\",\"showlegend\":false,\"x\":[0.779650092124939],\"xaxis\":\"x18\",\"y\":[0.5645],\"yaxis\":\"y18\",\"type\":\"scatter\"},{\"hovertemplate\":\"Tumortype=HMEL\\u003cbr\\u003eLayer=P5\\u003cbr\\u003eAP=%{x}\\u003cbr\\u003eHDV=%{y}\\u003cextra\\u003e\\u003c\\u002fextra\\u003e\",\"legendgroup\":\"HMEL\",\"marker\":{\"color\":\"#636efa\",\"symbol\":\"circle\"},\"mode\":\"markers\",\"name\":\"HMEL\",\"orientation\":\"v\",\"showlegend\":false,\"x\":[0.779650092124939],\"xaxis\":\"x19\",\"y\":[0.3231],\"yaxis\":\"y19\",\"type\":\"scatter\"},{\"hovertemplate\":\"Tumortype=HMEL\\u003cbr\\u003eLayer=P6\\u003cbr\\u003eAP=%{x}\\u003cbr\\u003eHDV=%{y}\\u003cextra\\u003e\\u003c\\u002fextra\\u003e\",\"legendgroup\":\"HMEL\",\"marker\":{\"color\":\"#636efa\",\"symbol\":\"circle\"},\"mode\":\"markers\",\"name\":\"HMEL\",\"orientation\":\"v\",\"showlegend\":false,\"x\":[0.779650092124939],\"xaxis\":\"x20\",\"y\":[0.2494],\"yaxis\":\"y20\",\"type\":\"scatter\"},{\"hovertemplate\":\"Tumortype=HMEL\\u003cbr\\u003eLayer=Up-Neck-P5\\u003cbr\\u003eAP=%{x}\\u003cbr\\u003eHDV=%{y}\\u003cextra\\u003e\\u003c\\u002fextra\\u003e\",\"legendgroup\":\"HMEL\",\"marker\":{\"color\":\"#636efa\",\"symbol\":\"circle\"},\"mode\":\"markers\",\"name\":\"HMEL\",\"orientation\":\"v\",\"showlegend\":false,\"x\":[0.779650092124939],\"xaxis\":\"x11\",\"y\":[0.246],\"yaxis\":\"y11\",\"type\":\"scatter\"},{\"hovertemplate\":\"Tumortype=HMEL\\u003cbr\\u003eLayer=Up-Neck-P4\\u003cbr\\u003eAP=%{x}\\u003cbr\\u003eHDV=%{y}\\u003cextra\\u003e\\u003c\\u002fextra\\u003e\",\"legendgroup\":\"HMEL\",\"marker\":{\"color\":\"#636efa\",\"symbol\":\"circle\"},\"mode\":\"markers\",\"name\":\"HMEL\",\"orientation\":\"v\",\"showlegend\":false,\"x\":[0.779650092124939],\"xaxis\":\"x12\",\"y\":[0.4835],\"yaxis\":\"y12\",\"type\":\"scatter\"},{\"hovertemplate\":\"Tumortype=HMEL\\u003cbr\\u003eLayer=Up-Neck-P3\\u003cbr\\u003eAP=%{x}\\u003cbr\\u003eHDV=%{y}\\u003cextra\\u003e\\u003c\\u002fextra\\u003e\",\"legendgroup\":\"HMEL\",\"marker\":{\"color\":\"#636efa\",\"symbol\":\"circle\"},\"mode\":\"markers\",\"name\":\"HMEL\",\"orientation\":\"v\",\"showlegend\":false,\"x\":[0.779650092124939],\"xaxis\":\"x13\",\"y\":[0.3985],\"yaxis\":\"y13\",\"type\":\"scatter\"},{\"hovertemplate\":\"Tumortype=HMEL\\u003cbr\\u003eLayer=Down-Neck-P4\\u003cbr\\u003eAP=%{x}\\u003cbr\\u003eHDV=%{y}\\u003cextra\\u003e\\u003c\\u002fextra\\u003e\",\"legendgroup\":\"HMEL\",\"marker\":{\"color\":\"#636efa\",\"symbol\":\"circle\"},\"mode\":\"markers\",\"name\":\"HMEL\",\"orientation\":\"v\",\"showlegend\":false,\"x\":[0.779650092124939],\"xaxis\":\"x14\",\"y\":[0.5903],\"yaxis\":\"y14\",\"type\":\"scatter\"},{\"hovertemplate\":\"Tumortype=HMEL\\u003cbr\\u003eLayer=Down-Neck-P5\\u003cbr\\u003eAP=%{x}\\u003cbr\\u003eHDV=%{y}\\u003cextra\\u003e\\u003c\\u002fextra\\u003e\",\"legendgroup\":\"HMEL\",\"marker\":{\"color\":\"#636efa\",\"symbol\":\"circle\"},\"mode\":\"markers\",\"name\":\"HMEL\",\"orientation\":\"v\",\"showlegend\":false,\"x\":[0.779650092124939],\"xaxis\":\"x15\",\"y\":[0.1405],\"yaxis\":\"y15\",\"type\":\"scatter\"},{\"hovertemplate\":\"Tumortype=HMEL\\u003cbr\\u003eLayer=Down-Neck-P6\\u003cbr\\u003eAP=%{x}\\u003cbr\\u003eHDV=%{y}\\u003cextra\\u003e\\u003c\\u002fextra\\u003e\",\"legendgroup\":\"HMEL\",\"marker\":{\"color\":\"#636efa\",\"symbol\":\"circle\"},\"mode\":\"markers\",\"name\":\"HMEL\",\"orientation\":\"v\",\"showlegend\":false,\"x\":[0.779650092124939],\"xaxis\":\"x6\",\"y\":[0.1167],\"yaxis\":\"y6\",\"type\":\"scatter\"},{\"hovertemplate\":\"Tumortype=HMEL\\u003cbr\\u003eLayer=Final-Neck-P3\\u003cbr\\u003eAP=%{x}\\u003cbr\\u003eHDV=%{y}\\u003cextra\\u003e\\u003c\\u002fextra\\u003e\",\"legendgroup\":\"HMEL\",\"marker\":{\"color\":\"#636efa\",\"symbol\":\"circle\"},\"mode\":\"markers\",\"name\":\"HMEL\",\"orientation\":\"v\",\"showlegend\":false,\"x\":[0.779650092124939],\"xaxis\":\"x7\",\"y\":[0.3345],\"yaxis\":\"y7\",\"type\":\"scatter\"},{\"hovertemplate\":\"Tumortype=HMEL\\u003cbr\\u003eLayer=Final-Neck-P4\\u003cbr\\u003eAP=%{x}\\u003cbr\\u003eHDV=%{y}\\u003cextra\\u003e\\u003c\\u002fextra\\u003e\",\"legendgroup\":\"HMEL\",\"marker\":{\"color\":\"#636efa\",\"symbol\":\"circle\"},\"mode\":\"markers\",\"name\":\"HMEL\",\"orientation\":\"v\",\"showlegend\":false,\"x\":[0.779650092124939],\"xaxis\":\"x8\",\"y\":[0.573],\"yaxis\":\"y8\",\"type\":\"scatter\"},{\"hovertemplate\":\"Tumortype=HMEL\\u003cbr\\u003eLayer=Final-Neck-P5\\u003cbr\\u003eAP=%{x}\\u003cbr\\u003eHDV=%{y}\\u003cextra\\u003e\\u003c\\u002fextra\\u003e\",\"legendgroup\":\"HMEL\",\"marker\":{\"color\":\"#636efa\",\"symbol\":\"circle\"},\"mode\":\"markers\",\"name\":\"HMEL\",\"orientation\":\"v\",\"showlegend\":false,\"x\":[0.779650092124939],\"xaxis\":\"x9\",\"y\":[0.1304],\"yaxis\":\"y9\",\"type\":\"scatter\"},{\"hovertemplate\":\"Tumortype=HMEL\\u003cbr\\u003eLayer=Final-Neck-P6\\u003cbr\\u003eAP=%{x}\\u003cbr\\u003eHDV=%{y}\\u003cextra\\u003e\\u003c\\u002fextra\\u003e\",\"legendgroup\":\"HMEL\",\"marker\":{\"color\":\"#636efa\",\"symbol\":\"circle\"},\"mode\":\"markers\",\"name\":\"HMEL\",\"orientation\":\"v\",\"showlegend\":false,\"x\":[0.779650092124939],\"xaxis\":\"x10\",\"y\":[0.1173],\"yaxis\":\"y10\",\"type\":\"scatter\"},{\"hovertemplate\":\"Tumortype=HMEL\\u003cbr\\u003eLayer=Head-P3\\u003cbr\\u003eAP=%{x}\\u003cbr\\u003eHDV=%{y}\\u003cextra\\u003e\\u003c\\u002fextra\\u003e\",\"legendgroup\":\"HMEL\",\"marker\":{\"color\":\"#636efa\",\"symbol\":\"circle\"},\"mode\":\"markers\",\"name\":\"HMEL\",\"orientation\":\"v\",\"showlegend\":false,\"x\":[0.779650092124939],\"xaxis\":\"x\",\"y\":[0.5817],\"yaxis\":\"y\",\"type\":\"scatter\"},{\"hovertemplate\":\"Tumortype=HMEL\\u003cbr\\u003eLayer=Head-P4\\u003cbr\\u003eAP=%{x}\\u003cbr\\u003eHDV=%{y}\\u003cextra\\u003e\\u003c\\u002fextra\\u003e\",\"legendgroup\":\"HMEL\",\"marker\":{\"color\":\"#636efa\",\"symbol\":\"circle\"},\"mode\":\"markers\",\"name\":\"HMEL\",\"orientation\":\"v\",\"showlegend\":false,\"x\":[0.779650092124939],\"xaxis\":\"x2\",\"y\":[0.5943],\"yaxis\":\"y2\",\"type\":\"scatter\"},{\"hovertemplate\":\"Tumortype=HMEL\\u003cbr\\u003eLayer=Head-P5\\u003cbr\\u003eAP=%{x}\\u003cbr\\u003eHDV=%{y}\\u003cextra\\u003e\\u003c\\u002fextra\\u003e\",\"legendgroup\":\"HMEL\",\"marker\":{\"color\":\"#636efa\",\"symbol\":\"circle\"},\"mode\":\"markers\",\"name\":\"HMEL\",\"orientation\":\"v\",\"showlegend\":false,\"x\":[0.779650092124939],\"xaxis\":\"x3\",\"y\":[0.2879],\"yaxis\":\"y3\",\"type\":\"scatter\"},{\"hovertemplate\":\"Tumortype=HMEL\\u003cbr\\u003eLayer=Head-P6\\u003cbr\\u003eAP=%{x}\\u003cbr\\u003eHDV=%{y}\\u003cextra\\u003e\\u003c\\u002fextra\\u003e\",\"legendgroup\":\"HMEL\",\"marker\":{\"color\":\"#636efa\",\"symbol\":\"circle\"},\"mode\":\"markers\",\"name\":\"HMEL\",\"orientation\":\"v\",\"showlegend\":false,\"x\":[0.779650092124939],\"xaxis\":\"x4\",\"y\":[0.263],\"yaxis\":\"y4\",\"type\":\"scatter\"},{\"hovertemplate\":\"Tumortype=HBLC\\u003cbr\\u003eLayer=P2\\u003cbr\\u003eAP=%{x}\\u003cbr\\u003eHDV=%{y}\\u003cextra\\u003e\\u003c\\u002fextra\\u003e\",\"legendgroup\":\"HBLC\",\"marker\":{\"color\":\"#EF553B\",\"symbol\":\"circle\"},\"mode\":\"markers\",\"name\":\"HBLC\",\"orientation\":\"v\",\"showlegend\":true,\"x\":[0.7474676966667175],\"xaxis\":\"x16\",\"y\":[0.1714],\"yaxis\":\"y16\",\"type\":\"scatter\"},{\"hovertemplate\":\"Tumortype=HBLC\\u003cbr\\u003eLayer=P3\\u003cbr\\u003eAP=%{x}\\u003cbr\\u003eHDV=%{y}\\u003cextra\\u003e\\u003c\\u002fextra\\u003e\",\"legendgroup\":\"HBLC\",\"marker\":{\"color\":\"#EF553B\",\"symbol\":\"circle\"},\"mode\":\"markers\",\"name\":\"HBLC\",\"orientation\":\"v\",\"showlegend\":false,\"x\":[0.7474676966667175],\"xaxis\":\"x17\",\"y\":[0.4524],\"yaxis\":\"y17\",\"type\":\"scatter\"},{\"hovertemplate\":\"Tumortype=HBLC\\u003cbr\\u003eLayer=P4\\u003cbr\\u003eAP=%{x}\\u003cbr\\u003eHDV=%{y}\\u003cextra\\u003e\\u003c\\u002fextra\\u003e\",\"legendgroup\":\"HBLC\",\"marker\":{\"color\":\"#EF553B\",\"symbol\":\"circle\"},\"mode\":\"markers\",\"name\":\"HBLC\",\"orientation\":\"v\",\"showlegend\":false,\"x\":[0.7474676966667175],\"xaxis\":\"x18\",\"y\":[0.504],\"yaxis\":\"y18\",\"type\":\"scatter\"},{\"hovertemplate\":\"Tumortype=HBLC\\u003cbr\\u003eLayer=P5\\u003cbr\\u003eAP=%{x}\\u003cbr\\u003eHDV=%{y}\\u003cextra\\u003e\\u003c\\u002fextra\\u003e\",\"legendgroup\":\"HBLC\",\"marker\":{\"color\":\"#EF553B\",\"symbol\":\"circle\"},\"mode\":\"markers\",\"name\":\"HBLC\",\"orientation\":\"v\",\"showlegend\":false,\"x\":[0.7474676966667175],\"xaxis\":\"x19\",\"y\":[0.3204],\"yaxis\":\"y19\",\"type\":\"scatter\"},{\"hovertemplate\":\"Tumortype=HBLC\\u003cbr\\u003eLayer=P6\\u003cbr\\u003eAP=%{x}\\u003cbr\\u003eHDV=%{y}\\u003cextra\\u003e\\u003c\\u002fextra\\u003e\",\"legendgroup\":\"HBLC\",\"marker\":{\"color\":\"#EF553B\",\"symbol\":\"circle\"},\"mode\":\"markers\",\"name\":\"HBLC\",\"orientation\":\"v\",\"showlegend\":false,\"x\":[0.7474676966667175],\"xaxis\":\"x20\",\"y\":[0.2908],\"yaxis\":\"y20\",\"type\":\"scatter\"},{\"hovertemplate\":\"Tumortype=HBLC\\u003cbr\\u003eLayer=Up-Neck-P5\\u003cbr\\u003eAP=%{x}\\u003cbr\\u003eHDV=%{y}\\u003cextra\\u003e\\u003c\\u002fextra\\u003e\",\"legendgroup\":\"HBLC\",\"marker\":{\"color\":\"#EF553B\",\"symbol\":\"circle\"},\"mode\":\"markers\",\"name\":\"HBLC\",\"orientation\":\"v\",\"showlegend\":false,\"x\":[0.7474676966667175],\"xaxis\":\"x11\",\"y\":[0.1898],\"yaxis\":\"y11\",\"type\":\"scatter\"},{\"hovertemplate\":\"Tumortype=HBLC\\u003cbr\\u003eLayer=Up-Neck-P4\\u003cbr\\u003eAP=%{x}\\u003cbr\\u003eHDV=%{y}\\u003cextra\\u003e\\u003c\\u002fextra\\u003e\",\"legendgroup\":\"HBLC\",\"marker\":{\"color\":\"#EF553B\",\"symbol\":\"circle\"},\"mode\":\"markers\",\"name\":\"HBLC\",\"orientation\":\"v\",\"showlegend\":false,\"x\":[0.7474676966667175],\"xaxis\":\"x12\",\"y\":[0.4118],\"yaxis\":\"y12\",\"type\":\"scatter\"},{\"hovertemplate\":\"Tumortype=HBLC\\u003cbr\\u003eLayer=Up-Neck-P3\\u003cbr\\u003eAP=%{x}\\u003cbr\\u003eHDV=%{y}\\u003cextra\\u003e\\u003c\\u002fextra\\u003e\",\"legendgroup\":\"HBLC\",\"marker\":{\"color\":\"#EF553B\",\"symbol\":\"circle\"},\"mode\":\"markers\",\"name\":\"HBLC\",\"orientation\":\"v\",\"showlegend\":false,\"x\":[0.7474676966667175],\"xaxis\":\"x13\",\"y\":[0.3984],\"yaxis\":\"y13\",\"type\":\"scatter\"},{\"hovertemplate\":\"Tumortype=HBLC\\u003cbr\\u003eLayer=Down-Neck-P4\\u003cbr\\u003eAP=%{x}\\u003cbr\\u003eHDV=%{y}\\u003cextra\\u003e\\u003c\\u002fextra\\u003e\",\"legendgroup\":\"HBLC\",\"marker\":{\"color\":\"#EF553B\",\"symbol\":\"circle\"},\"mode\":\"markers\",\"name\":\"HBLC\",\"orientation\":\"v\",\"showlegend\":false,\"x\":[0.7474676966667175],\"xaxis\":\"x14\",\"y\":[0.536],\"yaxis\":\"y14\",\"type\":\"scatter\"},{\"hovertemplate\":\"Tumortype=HBLC\\u003cbr\\u003eLayer=Down-Neck-P5\\u003cbr\\u003eAP=%{x}\\u003cbr\\u003eHDV=%{y}\\u003cextra\\u003e\\u003c\\u002fextra\\u003e\",\"legendgroup\":\"HBLC\",\"marker\":{\"color\":\"#EF553B\",\"symbol\":\"circle\"},\"mode\":\"markers\",\"name\":\"HBLC\",\"orientation\":\"v\",\"showlegend\":false,\"x\":[0.7474676966667175],\"xaxis\":\"x15\",\"y\":[0.0998],\"yaxis\":\"y15\",\"type\":\"scatter\"},{\"hovertemplate\":\"Tumortype=HBLC\\u003cbr\\u003eLayer=Down-Neck-P6\\u003cbr\\u003eAP=%{x}\\u003cbr\\u003eHDV=%{y}\\u003cextra\\u003e\\u003c\\u002fextra\\u003e\",\"legendgroup\":\"HBLC\",\"marker\":{\"color\":\"#EF553B\",\"symbol\":\"circle\"},\"mode\":\"markers\",\"name\":\"HBLC\",\"orientation\":\"v\",\"showlegend\":false,\"x\":[0.7474676966667175],\"xaxis\":\"x6\",\"y\":[0.1111],\"yaxis\":\"y6\",\"type\":\"scatter\"},{\"hovertemplate\":\"Tumortype=HBLC\\u003cbr\\u003eLayer=Final-Neck-P3\\u003cbr\\u003eAP=%{x}\\u003cbr\\u003eHDV=%{y}\\u003cextra\\u003e\\u003c\\u002fextra\\u003e\",\"legendgroup\":\"HBLC\",\"marker\":{\"color\":\"#EF553B\",\"symbol\":\"circle\"},\"mode\":\"markers\",\"name\":\"HBLC\",\"orientation\":\"v\",\"showlegend\":false,\"x\":[0.7474676966667175],\"xaxis\":\"x7\",\"y\":[0.3947],\"yaxis\":\"y7\",\"type\":\"scatter\"},{\"hovertemplate\":\"Tumortype=HBLC\\u003cbr\\u003eLayer=Final-Neck-P4\\u003cbr\\u003eAP=%{x}\\u003cbr\\u003eHDV=%{y}\\u003cextra\\u003e\\u003c\\u002fextra\\u003e\",\"legendgroup\":\"HBLC\",\"marker\":{\"color\":\"#EF553B\",\"symbol\":\"circle\"},\"mode\":\"markers\",\"name\":\"HBLC\",\"orientation\":\"v\",\"showlegend\":false,\"x\":[0.7474676966667175],\"xaxis\":\"x8\",\"y\":[0.5319],\"yaxis\":\"y8\",\"type\":\"scatter\"},{\"hovertemplate\":\"Tumortype=HBLC\\u003cbr\\u003eLayer=Final-Neck-P5\\u003cbr\\u003eAP=%{x}\\u003cbr\\u003eHDV=%{y}\\u003cextra\\u003e\\u003c\\u002fextra\\u003e\",\"legendgroup\":\"HBLC\",\"marker\":{\"color\":\"#EF553B\",\"symbol\":\"circle\"},\"mode\":\"markers\",\"name\":\"HBLC\",\"orientation\":\"v\",\"showlegend\":false,\"x\":[0.7474676966667175],\"xaxis\":\"x9\",\"y\":[0.0803],\"yaxis\":\"y9\",\"type\":\"scatter\"},{\"hovertemplate\":\"Tumortype=HBLC\\u003cbr\\u003eLayer=Final-Neck-P6\\u003cbr\\u003eAP=%{x}\\u003cbr\\u003eHDV=%{y}\\u003cextra\\u003e\\u003c\\u002fextra\\u003e\",\"legendgroup\":\"HBLC\",\"marker\":{\"color\":\"#EF553B\",\"symbol\":\"circle\"},\"mode\":\"markers\",\"name\":\"HBLC\",\"orientation\":\"v\",\"showlegend\":false,\"x\":[0.7474676966667175],\"xaxis\":\"x10\",\"y\":[0.0809],\"yaxis\":\"y10\",\"type\":\"scatter\"},{\"hovertemplate\":\"Tumortype=HBLC\\u003cbr\\u003eLayer=Head-P3\\u003cbr\\u003eAP=%{x}\\u003cbr\\u003eHDV=%{y}\\u003cextra\\u003e\\u003c\\u002fextra\\u003e\",\"legendgroup\":\"HBLC\",\"marker\":{\"color\":\"#EF553B\",\"symbol\":\"circle\"},\"mode\":\"markers\",\"name\":\"HBLC\",\"orientation\":\"v\",\"showlegend\":false,\"x\":[0.7474676966667175],\"xaxis\":\"x\",\"y\":[0.5852],\"yaxis\":\"y\",\"type\":\"scatter\"},{\"hovertemplate\":\"Tumortype=HBLC\\u003cbr\\u003eLayer=Head-P4\\u003cbr\\u003eAP=%{x}\\u003cbr\\u003eHDV=%{y}\\u003cextra\\u003e\\u003c\\u002fextra\\u003e\",\"legendgroup\":\"HBLC\",\"marker\":{\"color\":\"#EF553B\",\"symbol\":\"circle\"},\"mode\":\"markers\",\"name\":\"HBLC\",\"orientation\":\"v\",\"showlegend\":false,\"x\":[0.7474676966667175],\"xaxis\":\"x2\",\"y\":[0.5399],\"yaxis\":\"y2\",\"type\":\"scatter\"},{\"hovertemplate\":\"Tumortype=HBLC\\u003cbr\\u003eLayer=Head-P5\\u003cbr\\u003eAP=%{x}\\u003cbr\\u003eHDV=%{y}\\u003cextra\\u003e\\u003c\\u002fextra\\u003e\",\"legendgroup\":\"HBLC\",\"marker\":{\"color\":\"#EF553B\",\"symbol\":\"circle\"},\"mode\":\"markers\",\"name\":\"HBLC\",\"orientation\":\"v\",\"showlegend\":false,\"x\":[0.7474676966667175],\"xaxis\":\"x3\",\"y\":[0.2395],\"yaxis\":\"y3\",\"type\":\"scatter\"},{\"hovertemplate\":\"Tumortype=HBLC\\u003cbr\\u003eLayer=Head-P6\\u003cbr\\u003eAP=%{x}\\u003cbr\\u003eHDV=%{y}\\u003cextra\\u003e\\u003c\\u002fextra\\u003e\",\"legendgroup\":\"HBLC\",\"marker\":{\"color\":\"#EF553B\",\"symbol\":\"circle\"},\"mode\":\"markers\",\"name\":\"HBLC\",\"orientation\":\"v\",\"showlegend\":false,\"x\":[0.7474676966667175],\"xaxis\":\"x4\",\"y\":[0.2408],\"yaxis\":\"y4\",\"type\":\"scatter\"},{\"hovertemplate\":\"Tumortype=CMC\\u003cbr\\u003eLayer=P2\\u003cbr\\u003eAP=%{x}\\u003cbr\\u003eHDV=%{y}\\u003cextra\\u003e\\u003c\\u002fextra\\u003e\",\"legendgroup\":\"CMC\",\"marker\":{\"color\":\"#00cc96\",\"symbol\":\"circle\"},\"mode\":\"markers\",\"name\":\"CMC\",\"orientation\":\"v\",\"showlegend\":true,\"x\":[0.5995485782623291],\"xaxis\":\"x16\",\"y\":[0.1561],\"yaxis\":\"y16\",\"type\":\"scatter\"},{\"hovertemplate\":\"Tumortype=CMC\\u003cbr\\u003eLayer=P3\\u003cbr\\u003eAP=%{x}\\u003cbr\\u003eHDV=%{y}\\u003cextra\\u003e\\u003c\\u002fextra\\u003e\",\"legendgroup\":\"CMC\",\"marker\":{\"color\":\"#00cc96\",\"symbol\":\"circle\"},\"mode\":\"markers\",\"name\":\"CMC\",\"orientation\":\"v\",\"showlegend\":false,\"x\":[0.5995485782623291],\"xaxis\":\"x17\",\"y\":[0.3397],\"yaxis\":\"y17\",\"type\":\"scatter\"},{\"hovertemplate\":\"Tumortype=CMC\\u003cbr\\u003eLayer=P4\\u003cbr\\u003eAP=%{x}\\u003cbr\\u003eHDV=%{y}\\u003cextra\\u003e\\u003c\\u002fextra\\u003e\",\"legendgroup\":\"CMC\",\"marker\":{\"color\":\"#00cc96\",\"symbol\":\"circle\"},\"mode\":\"markers\",\"name\":\"CMC\",\"orientation\":\"v\",\"showlegend\":false,\"x\":[0.5995485782623291],\"xaxis\":\"x18\",\"y\":[0.4239],\"yaxis\":\"y18\",\"type\":\"scatter\"},{\"hovertemplate\":\"Tumortype=CMC\\u003cbr\\u003eLayer=P5\\u003cbr\\u003eAP=%{x}\\u003cbr\\u003eHDV=%{y}\\u003cextra\\u003e\\u003c\\u002fextra\\u003e\",\"legendgroup\":\"CMC\",\"marker\":{\"color\":\"#00cc96\",\"symbol\":\"circle\"},\"mode\":\"markers\",\"name\":\"CMC\",\"orientation\":\"v\",\"showlegend\":false,\"x\":[0.5995485782623291],\"xaxis\":\"x19\",\"y\":[0.2441],\"yaxis\":\"y19\",\"type\":\"scatter\"},{\"hovertemplate\":\"Tumortype=CMC\\u003cbr\\u003eLayer=P6\\u003cbr\\u003eAP=%{x}\\u003cbr\\u003eHDV=%{y}\\u003cextra\\u003e\\u003c\\u002fextra\\u003e\",\"legendgroup\":\"CMC\",\"marker\":{\"color\":\"#00cc96\",\"symbol\":\"circle\"},\"mode\":\"markers\",\"name\":\"CMC\",\"orientation\":\"v\",\"showlegend\":false,\"x\":[0.5995485782623291],\"xaxis\":\"x20\",\"y\":[0.2263],\"yaxis\":\"y20\",\"type\":\"scatter\"},{\"hovertemplate\":\"Tumortype=CMC\\u003cbr\\u003eLayer=Up-Neck-P5\\u003cbr\\u003eAP=%{x}\\u003cbr\\u003eHDV=%{y}\\u003cextra\\u003e\\u003c\\u002fextra\\u003e\",\"legendgroup\":\"CMC\",\"marker\":{\"color\":\"#00cc96\",\"symbol\":\"circle\"},\"mode\":\"markers\",\"name\":\"CMC\",\"orientation\":\"v\",\"showlegend\":false,\"x\":[0.5995485782623291],\"xaxis\":\"x11\",\"y\":[0.1617],\"yaxis\":\"y11\",\"type\":\"scatter\"},{\"hovertemplate\":\"Tumortype=CMC\\u003cbr\\u003eLayer=Up-Neck-P4\\u003cbr\\u003eAP=%{x}\\u003cbr\\u003eHDV=%{y}\\u003cextra\\u003e\\u003c\\u002fextra\\u003e\",\"legendgroup\":\"CMC\",\"marker\":{\"color\":\"#00cc96\",\"symbol\":\"circle\"},\"mode\":\"markers\",\"name\":\"CMC\",\"orientation\":\"v\",\"showlegend\":false,\"x\":[0.5995485782623291],\"xaxis\":\"x12\",\"y\":[0.3651],\"yaxis\":\"y12\",\"type\":\"scatter\"},{\"hovertemplate\":\"Tumortype=CMC\\u003cbr\\u003eLayer=Up-Neck-P3\\u003cbr\\u003eAP=%{x}\\u003cbr\\u003eHDV=%{y}\\u003cextra\\u003e\\u003c\\u002fextra\\u003e\",\"legendgroup\":\"CMC\",\"marker\":{\"color\":\"#00cc96\",\"symbol\":\"circle\"},\"mode\":\"markers\",\"name\":\"CMC\",\"orientation\":\"v\",\"showlegend\":false,\"x\":[0.5995485782623291],\"xaxis\":\"x13\",\"y\":[0.3904],\"yaxis\":\"y13\",\"type\":\"scatter\"},{\"hovertemplate\":\"Tumortype=CMC\\u003cbr\\u003eLayer=Down-Neck-P4\\u003cbr\\u003eAP=%{x}\\u003cbr\\u003eHDV=%{y}\\u003cextra\\u003e\\u003c\\u002fextra\\u003e\",\"legendgroup\":\"CMC\",\"marker\":{\"color\":\"#00cc96\",\"symbol\":\"circle\"},\"mode\":\"markers\",\"name\":\"CMC\",\"orientation\":\"v\",\"showlegend\":false,\"x\":[0.5995485782623291],\"xaxis\":\"x14\",\"y\":[0.5148],\"yaxis\":\"y14\",\"type\":\"scatter\"},{\"hovertemplate\":\"Tumortype=CMC\\u003cbr\\u003eLayer=Down-Neck-P5\\u003cbr\\u003eAP=%{x}\\u003cbr\\u003eHDV=%{y}\\u003cextra\\u003e\\u003c\\u002fextra\\u003e\",\"legendgroup\":\"CMC\",\"marker\":{\"color\":\"#00cc96\",\"symbol\":\"circle\"},\"mode\":\"markers\",\"name\":\"CMC\",\"orientation\":\"v\",\"showlegend\":false,\"x\":[0.5995485782623291],\"xaxis\":\"x15\",\"y\":[0.0953],\"yaxis\":\"y15\",\"type\":\"scatter\"},{\"hovertemplate\":\"Tumortype=CMC\\u003cbr\\u003eLayer=Down-Neck-P6\\u003cbr\\u003eAP=%{x}\\u003cbr\\u003eHDV=%{y}\\u003cextra\\u003e\\u003c\\u002fextra\\u003e\",\"legendgroup\":\"CMC\",\"marker\":{\"color\":\"#00cc96\",\"symbol\":\"circle\"},\"mode\":\"markers\",\"name\":\"CMC\",\"orientation\":\"v\",\"showlegend\":false,\"x\":[0.5995485782623291],\"xaxis\":\"x6\",\"y\":[0.1436],\"yaxis\":\"y6\",\"type\":\"scatter\"},{\"hovertemplate\":\"Tumortype=CMC\\u003cbr\\u003eLayer=Final-Neck-P3\\u003cbr\\u003eAP=%{x}\\u003cbr\\u003eHDV=%{y}\\u003cextra\\u003e\\u003c\\u002fextra\\u003e\",\"legendgroup\":\"CMC\",\"marker\":{\"color\":\"#00cc96\",\"symbol\":\"circle\"},\"mode\":\"markers\",\"name\":\"CMC\",\"orientation\":\"v\",\"showlegend\":false,\"x\":[0.5995485782623291],\"xaxis\":\"x7\",\"y\":[0.4666],\"yaxis\":\"y7\",\"type\":\"scatter\"},{\"hovertemplate\":\"Tumortype=CMC\\u003cbr\\u003eLayer=Final-Neck-P4\\u003cbr\\u003eAP=%{x}\\u003cbr\\u003eHDV=%{y}\\u003cextra\\u003e\\u003c\\u002fextra\\u003e\",\"legendgroup\":\"CMC\",\"marker\":{\"color\":\"#00cc96\",\"symbol\":\"circle\"},\"mode\":\"markers\",\"name\":\"CMC\",\"orientation\":\"v\",\"showlegend\":false,\"x\":[0.5995485782623291],\"xaxis\":\"x8\",\"y\":[0.5019],\"yaxis\":\"y8\",\"type\":\"scatter\"},{\"hovertemplate\":\"Tumortype=CMC\\u003cbr\\u003eLayer=Final-Neck-P5\\u003cbr\\u003eAP=%{x}\\u003cbr\\u003eHDV=%{y}\\u003cextra\\u003e\\u003c\\u002fextra\\u003e\",\"legendgroup\":\"CMC\",\"marker\":{\"color\":\"#00cc96\",\"symbol\":\"circle\"},\"mode\":\"markers\",\"name\":\"CMC\",\"orientation\":\"v\",\"showlegend\":false,\"x\":[0.5995485782623291],\"xaxis\":\"x9\",\"y\":[0.0817],\"yaxis\":\"y9\",\"type\":\"scatter\"},{\"hovertemplate\":\"Tumortype=CMC\\u003cbr\\u003eLayer=Final-Neck-P6\\u003cbr\\u003eAP=%{x}\\u003cbr\\u003eHDV=%{y}\\u003cextra\\u003e\\u003c\\u002fextra\\u003e\",\"legendgroup\":\"CMC\",\"marker\":{\"color\":\"#00cc96\",\"symbol\":\"circle\"},\"mode\":\"markers\",\"name\":\"CMC\",\"orientation\":\"v\",\"showlegend\":false,\"x\":[0.5995485782623291],\"xaxis\":\"x10\",\"y\":[0.1442],\"yaxis\":\"y10\",\"type\":\"scatter\"},{\"hovertemplate\":\"Tumortype=CMC\\u003cbr\\u003eLayer=Head-P3\\u003cbr\\u003eAP=%{x}\\u003cbr\\u003eHDV=%{y}\\u003cextra\\u003e\\u003c\\u002fextra\\u003e\",\"legendgroup\":\"CMC\",\"marker\":{\"color\":\"#00cc96\",\"symbol\":\"circle\"},\"mode\":\"markers\",\"name\":\"CMC\",\"orientation\":\"v\",\"showlegend\":false,\"x\":[0.5995485782623291],\"xaxis\":\"x\",\"y\":[0.6002],\"yaxis\":\"y\",\"type\":\"scatter\"},{\"hovertemplate\":\"Tumortype=CMC\\u003cbr\\u003eLayer=Head-P4\\u003cbr\\u003eAP=%{x}\\u003cbr\\u003eHDV=%{y}\\u003cextra\\u003e\\u003c\\u002fextra\\u003e\",\"legendgroup\":\"CMC\",\"marker\":{\"color\":\"#00cc96\",\"symbol\":\"circle\"},\"mode\":\"markers\",\"name\":\"CMC\",\"orientation\":\"v\",\"showlegend\":false,\"x\":[0.5995485782623291],\"xaxis\":\"x2\",\"y\":[0.5237],\"yaxis\":\"y2\",\"type\":\"scatter\"},{\"hovertemplate\":\"Tumortype=CMC\\u003cbr\\u003eLayer=Head-P5\\u003cbr\\u003eAP=%{x}\\u003cbr\\u003eHDV=%{y}\\u003cextra\\u003e\\u003c\\u002fextra\\u003e\",\"legendgroup\":\"CMC\",\"marker\":{\"color\":\"#00cc96\",\"symbol\":\"circle\"},\"mode\":\"markers\",\"name\":\"CMC\",\"orientation\":\"v\",\"showlegend\":false,\"x\":[0.5995485782623291],\"xaxis\":\"x3\",\"y\":[0.2496],\"yaxis\":\"y3\",\"type\":\"scatter\"},{\"hovertemplate\":\"Tumortype=CMC\\u003cbr\\u003eLayer=Head-P6\\u003cbr\\u003eAP=%{x}\\u003cbr\\u003eHDV=%{y}\\u003cextra\\u003e\\u003c\\u002fextra\\u003e\",\"legendgroup\":\"CMC\",\"marker\":{\"color\":\"#00cc96\",\"symbol\":\"circle\"},\"mode\":\"markers\",\"name\":\"CMC\",\"orientation\":\"v\",\"showlegend\":false,\"x\":[0.5995485782623291],\"xaxis\":\"x4\",\"y\":[0.2874],\"yaxis\":\"y4\",\"type\":\"scatter\"},{\"hovertemplate\":\"Tumortype=CCMCT\\u003cbr\\u003eLayer=P2\\u003cbr\\u003eAP=%{x}\\u003cbr\\u003eHDV=%{y}\\u003cextra\\u003e\\u003c\\u002fextra\\u003e\",\"legendgroup\":\"CCMCT\",\"marker\":{\"color\":\"#ab63fa\",\"symbol\":\"circle\"},\"mode\":\"markers\",\"name\":\"CCMCT\",\"orientation\":\"v\",\"showlegend\":true,\"x\":[0.6421969532966614],\"xaxis\":\"x16\",\"y\":[0.1537],\"yaxis\":\"y16\",\"type\":\"scatter\"},{\"hovertemplate\":\"Tumortype=CCMCT\\u003cbr\\u003eLayer=P3\\u003cbr\\u003eAP=%{x}\\u003cbr\\u003eHDV=%{y}\\u003cextra\\u003e\\u003c\\u002fextra\\u003e\",\"legendgroup\":\"CCMCT\",\"marker\":{\"color\":\"#ab63fa\",\"symbol\":\"circle\"},\"mode\":\"markers\",\"name\":\"CCMCT\",\"orientation\":\"v\",\"showlegend\":false,\"x\":[0.6421969532966614],\"xaxis\":\"x17\",\"y\":[0.4678],\"yaxis\":\"y17\",\"type\":\"scatter\"},{\"hovertemplate\":\"Tumortype=CCMCT\\u003cbr\\u003eLayer=P4\\u003cbr\\u003eAP=%{x}\\u003cbr\\u003eHDV=%{y}\\u003cextra\\u003e\\u003c\\u002fextra\\u003e\",\"legendgroup\":\"CCMCT\",\"marker\":{\"color\":\"#ab63fa\",\"symbol\":\"circle\"},\"mode\":\"markers\",\"name\":\"CCMCT\",\"orientation\":\"v\",\"showlegend\":false,\"x\":[0.6421969532966614],\"xaxis\":\"x18\",\"y\":[0.5349],\"yaxis\":\"y18\",\"type\":\"scatter\"},{\"hovertemplate\":\"Tumortype=CCMCT\\u003cbr\\u003eLayer=P5\\u003cbr\\u003eAP=%{x}\\u003cbr\\u003eHDV=%{y}\\u003cextra\\u003e\\u003c\\u002fextra\\u003e\",\"legendgroup\":\"CCMCT\",\"marker\":{\"color\":\"#ab63fa\",\"symbol\":\"circle\"},\"mode\":\"markers\",\"name\":\"CCMCT\",\"orientation\":\"v\",\"showlegend\":false,\"x\":[0.6421969532966614],\"xaxis\":\"x19\",\"y\":[0.4647],\"yaxis\":\"y19\",\"type\":\"scatter\"},{\"hovertemplate\":\"Tumortype=CCMCT\\u003cbr\\u003eLayer=P6\\u003cbr\\u003eAP=%{x}\\u003cbr\\u003eHDV=%{y}\\u003cextra\\u003e\\u003c\\u002fextra\\u003e\",\"legendgroup\":\"CCMCT\",\"marker\":{\"color\":\"#ab63fa\",\"symbol\":\"circle\"},\"mode\":\"markers\",\"name\":\"CCMCT\",\"orientation\":\"v\",\"showlegend\":false,\"x\":[0.6421969532966614],\"xaxis\":\"x20\",\"y\":[0.442],\"yaxis\":\"y20\",\"type\":\"scatter\"},{\"hovertemplate\":\"Tumortype=CCMCT\\u003cbr\\u003eLayer=Up-Neck-P5\\u003cbr\\u003eAP=%{x}\\u003cbr\\u003eHDV=%{y}\\u003cextra\\u003e\\u003c\\u002fextra\\u003e\",\"legendgroup\":\"CCMCT\",\"marker\":{\"color\":\"#ab63fa\",\"symbol\":\"circle\"},\"mode\":\"markers\",\"name\":\"CCMCT\",\"orientation\":\"v\",\"showlegend\":false,\"x\":[0.6421969532966614],\"xaxis\":\"x11\",\"y\":[0.1793],\"yaxis\":\"y11\",\"type\":\"scatter\"},{\"hovertemplate\":\"Tumortype=CCMCT\\u003cbr\\u003eLayer=Up-Neck-P4\\u003cbr\\u003eAP=%{x}\\u003cbr\\u003eHDV=%{y}\\u003cextra\\u003e\\u003c\\u002fextra\\u003e\",\"legendgroup\":\"CCMCT\",\"marker\":{\"color\":\"#ab63fa\",\"symbol\":\"circle\"},\"mode\":\"markers\",\"name\":\"CCMCT\",\"orientation\":\"v\",\"showlegend\":false,\"x\":[0.6421969532966614],\"xaxis\":\"x12\",\"y\":[0.4488],\"yaxis\":\"y12\",\"type\":\"scatter\"},{\"hovertemplate\":\"Tumortype=CCMCT\\u003cbr\\u003eLayer=Up-Neck-P3\\u003cbr\\u003eAP=%{x}\\u003cbr\\u003eHDV=%{y}\\u003cextra\\u003e\\u003c\\u002fextra\\u003e\",\"legendgroup\":\"CCMCT\",\"marker\":{\"color\":\"#ab63fa\",\"symbol\":\"circle\"},\"mode\":\"markers\",\"name\":\"CCMCT\",\"orientation\":\"v\",\"showlegend\":false,\"x\":[0.6421969532966614],\"xaxis\":\"x13\",\"y\":[0.4734],\"yaxis\":\"y13\",\"type\":\"scatter\"},{\"hovertemplate\":\"Tumortype=CCMCT\\u003cbr\\u003eLayer=Down-Neck-P4\\u003cbr\\u003eAP=%{x}\\u003cbr\\u003eHDV=%{y}\\u003cextra\\u003e\\u003c\\u002fextra\\u003e\",\"legendgroup\":\"CCMCT\",\"marker\":{\"color\":\"#ab63fa\",\"symbol\":\"circle\"},\"mode\":\"markers\",\"name\":\"CCMCT\",\"orientation\":\"v\",\"showlegend\":false,\"x\":[0.6421969532966614],\"xaxis\":\"x14\",\"y\":[0.6019],\"yaxis\":\"y14\",\"type\":\"scatter\"},{\"hovertemplate\":\"Tumortype=CCMCT\\u003cbr\\u003eLayer=Down-Neck-P5\\u003cbr\\u003eAP=%{x}\\u003cbr\\u003eHDV=%{y}\\u003cextra\\u003e\\u003c\\u002fextra\\u003e\",\"legendgroup\":\"CCMCT\",\"marker\":{\"color\":\"#ab63fa\",\"symbol\":\"circle\"},\"mode\":\"markers\",\"name\":\"CCMCT\",\"orientation\":\"v\",\"showlegend\":false,\"x\":[0.6421969532966614],\"xaxis\":\"x15\",\"y\":[0.4314],\"yaxis\":\"y15\",\"type\":\"scatter\"},{\"hovertemplate\":\"Tumortype=CCMCT\\u003cbr\\u003eLayer=Down-Neck-P6\\u003cbr\\u003eAP=%{x}\\u003cbr\\u003eHDV=%{y}\\u003cextra\\u003e\\u003c\\u002fextra\\u003e\",\"legendgroup\":\"CCMCT\",\"marker\":{\"color\":\"#ab63fa\",\"symbol\":\"circle\"},\"mode\":\"markers\",\"name\":\"CCMCT\",\"orientation\":\"v\",\"showlegend\":false,\"x\":[0.6421969532966614],\"xaxis\":\"x6\",\"y\":[0.1176],\"yaxis\":\"y6\",\"type\":\"scatter\"},{\"hovertemplate\":\"Tumortype=CCMCT\\u003cbr\\u003eLayer=Final-Neck-P3\\u003cbr\\u003eAP=%{x}\\u003cbr\\u003eHDV=%{y}\\u003cextra\\u003e\\u003c\\u002fextra\\u003e\",\"legendgroup\":\"CCMCT\",\"marker\":{\"color\":\"#ab63fa\",\"symbol\":\"circle\"},\"mode\":\"markers\",\"name\":\"CCMCT\",\"orientation\":\"v\",\"showlegend\":false,\"x\":[0.6421969532966614],\"xaxis\":\"x7\",\"y\":[0.5757],\"yaxis\":\"y7\",\"type\":\"scatter\"},{\"hovertemplate\":\"Tumortype=CCMCT\\u003cbr\\u003eLayer=Final-Neck-P4\\u003cbr\\u003eAP=%{x}\\u003cbr\\u003eHDV=%{y}\\u003cextra\\u003e\\u003c\\u002fextra\\u003e\",\"legendgroup\":\"CCMCT\",\"marker\":{\"color\":\"#ab63fa\",\"symbol\":\"circle\"},\"mode\":\"markers\",\"name\":\"CCMCT\",\"orientation\":\"v\",\"showlegend\":false,\"x\":[0.6421969532966614],\"xaxis\":\"x8\",\"y\":[0.6055],\"yaxis\":\"y8\",\"type\":\"scatter\"},{\"hovertemplate\":\"Tumortype=CCMCT\\u003cbr\\u003eLayer=Final-Neck-P5\\u003cbr\\u003eAP=%{x}\\u003cbr\\u003eHDV=%{y}\\u003cextra\\u003e\\u003c\\u002fextra\\u003e\",\"legendgroup\":\"CCMCT\",\"marker\":{\"color\":\"#ab63fa\",\"symbol\":\"circle\"},\"mode\":\"markers\",\"name\":\"CCMCT\",\"orientation\":\"v\",\"showlegend\":false,\"x\":[0.6421969532966614],\"xaxis\":\"x9\",\"y\":[0.2219],\"yaxis\":\"y9\",\"type\":\"scatter\"},{\"hovertemplate\":\"Tumortype=CCMCT\\u003cbr\\u003eLayer=Final-Neck-P6\\u003cbr\\u003eAP=%{x}\\u003cbr\\u003eHDV=%{y}\\u003cextra\\u003e\\u003c\\u002fextra\\u003e\",\"legendgroup\":\"CCMCT\",\"marker\":{\"color\":\"#ab63fa\",\"symbol\":\"circle\"},\"mode\":\"markers\",\"name\":\"CCMCT\",\"orientation\":\"v\",\"showlegend\":false,\"x\":[0.6421969532966614],\"xaxis\":\"x10\",\"y\":[0.1123],\"yaxis\":\"y10\",\"type\":\"scatter\"},{\"hovertemplate\":\"Tumortype=CCMCT\\u003cbr\\u003eLayer=Head-P3\\u003cbr\\u003eAP=%{x}\\u003cbr\\u003eHDV=%{y}\\u003cextra\\u003e\\u003c\\u002fextra\\u003e\",\"legendgroup\":\"CCMCT\",\"marker\":{\"color\":\"#ab63fa\",\"symbol\":\"circle\"},\"mode\":\"markers\",\"name\":\"CCMCT\",\"orientation\":\"v\",\"showlegend\":false,\"x\":[0.6421969532966614],\"xaxis\":\"x\",\"y\":[0.6491],\"yaxis\":\"y\",\"type\":\"scatter\"},{\"hovertemplate\":\"Tumortype=CCMCT\\u003cbr\\u003eLayer=Head-P4\\u003cbr\\u003eAP=%{x}\\u003cbr\\u003eHDV=%{y}\\u003cextra\\u003e\\u003c\\u002fextra\\u003e\",\"legendgroup\":\"CCMCT\",\"marker\":{\"color\":\"#ab63fa\",\"symbol\":\"circle\"},\"mode\":\"markers\",\"name\":\"CCMCT\",\"orientation\":\"v\",\"showlegend\":false,\"x\":[0.6421969532966614],\"xaxis\":\"x2\",\"y\":[0.5921],\"yaxis\":\"y2\",\"type\":\"scatter\"},{\"hovertemplate\":\"Tumortype=CCMCT\\u003cbr\\u003eLayer=Head-P5\\u003cbr\\u003eAP=%{x}\\u003cbr\\u003eHDV=%{y}\\u003cextra\\u003e\\u003c\\u002fextra\\u003e\",\"legendgroup\":\"CCMCT\",\"marker\":{\"color\":\"#ab63fa\",\"symbol\":\"circle\"},\"mode\":\"markers\",\"name\":\"CCMCT\",\"orientation\":\"v\",\"showlegend\":false,\"x\":[0.6421969532966614],\"xaxis\":\"x3\",\"y\":[0.3639],\"yaxis\":\"y3\",\"type\":\"scatter\"},{\"hovertemplate\":\"Tumortype=CCMCT\\u003cbr\\u003eLayer=Head-P6\\u003cbr\\u003eAP=%{x}\\u003cbr\\u003eHDV=%{y}\\u003cextra\\u003e\\u003c\\u002fextra\\u003e\",\"legendgroup\":\"CCMCT\",\"marker\":{\"color\":\"#ab63fa\",\"symbol\":\"circle\"},\"mode\":\"markers\",\"name\":\"CCMCT\",\"orientation\":\"v\",\"showlegend\":false,\"x\":[0.6421969532966614],\"xaxis\":\"x4\",\"y\":[0.2537],\"yaxis\":\"y4\",\"type\":\"scatter\"},{\"hovertemplate\":\"Tumortype=HMEN\\u003cbr\\u003eLayer=P2\\u003cbr\\u003eAP=%{x}\\u003cbr\\u003eHDV=%{y}\\u003cextra\\u003e\\u003c\\u002fextra\\u003e\",\"legendgroup\":\"HMEN\",\"marker\":{\"color\":\"#FFA15A\",\"symbol\":\"circle\"},\"mode\":\"markers\",\"name\":\"HMEN\",\"orientation\":\"v\",\"showlegend\":true,\"x\":[0.6117535829544067],\"xaxis\":\"x16\",\"y\":[0.2181],\"yaxis\":\"y16\",\"type\":\"scatter\"},{\"hovertemplate\":\"Tumortype=HMEN\\u003cbr\\u003eLayer=P3\\u003cbr\\u003eAP=%{x}\\u003cbr\\u003eHDV=%{y}\\u003cextra\\u003e\\u003c\\u002fextra\\u003e\",\"legendgroup\":\"HMEN\",\"marker\":{\"color\":\"#FFA15A\",\"symbol\":\"circle\"},\"mode\":\"markers\",\"name\":\"HMEN\",\"orientation\":\"v\",\"showlegend\":false,\"x\":[0.6117535829544067],\"xaxis\":\"x17\",\"y\":[0.4321],\"yaxis\":\"y17\",\"type\":\"scatter\"},{\"hovertemplate\":\"Tumortype=HMEN\\u003cbr\\u003eLayer=P4\\u003cbr\\u003eAP=%{x}\\u003cbr\\u003eHDV=%{y}\\u003cextra\\u003e\\u003c\\u002fextra\\u003e\",\"legendgroup\":\"HMEN\",\"marker\":{\"color\":\"#FFA15A\",\"symbol\":\"circle\"},\"mode\":\"markers\",\"name\":\"HMEN\",\"orientation\":\"v\",\"showlegend\":false,\"x\":[0.6117535829544067],\"xaxis\":\"x18\",\"y\":[0.45],\"yaxis\":\"y18\",\"type\":\"scatter\"},{\"hovertemplate\":\"Tumortype=HMEN\\u003cbr\\u003eLayer=P5\\u003cbr\\u003eAP=%{x}\\u003cbr\\u003eHDV=%{y}\\u003cextra\\u003e\\u003c\\u002fextra\\u003e\",\"legendgroup\":\"HMEN\",\"marker\":{\"color\":\"#FFA15A\",\"symbol\":\"circle\"},\"mode\":\"markers\",\"name\":\"HMEN\",\"orientation\":\"v\",\"showlegend\":false,\"x\":[0.6117535829544067],\"xaxis\":\"x19\",\"y\":[0.3344],\"yaxis\":\"y19\",\"type\":\"scatter\"},{\"hovertemplate\":\"Tumortype=HMEN\\u003cbr\\u003eLayer=P6\\u003cbr\\u003eAP=%{x}\\u003cbr\\u003eHDV=%{y}\\u003cextra\\u003e\\u003c\\u002fextra\\u003e\",\"legendgroup\":\"HMEN\",\"marker\":{\"color\":\"#FFA15A\",\"symbol\":\"circle\"},\"mode\":\"markers\",\"name\":\"HMEN\",\"orientation\":\"v\",\"showlegend\":false,\"x\":[0.6117535829544067],\"xaxis\":\"x20\",\"y\":[0.2496],\"yaxis\":\"y20\",\"type\":\"scatter\"},{\"hovertemplate\":\"Tumortype=HMEN\\u003cbr\\u003eLayer=Up-Neck-P5\\u003cbr\\u003eAP=%{x}\\u003cbr\\u003eHDV=%{y}\\u003cextra\\u003e\\u003c\\u002fextra\\u003e\",\"legendgroup\":\"HMEN\",\"marker\":{\"color\":\"#FFA15A\",\"symbol\":\"circle\"},\"mode\":\"markers\",\"name\":\"HMEN\",\"orientation\":\"v\",\"showlegend\":false,\"x\":[0.6117535829544067],\"xaxis\":\"x11\",\"y\":[0.2516],\"yaxis\":\"y11\",\"type\":\"scatter\"},{\"hovertemplate\":\"Tumortype=HMEN\\u003cbr\\u003eLayer=Up-Neck-P4\\u003cbr\\u003eAP=%{x}\\u003cbr\\u003eHDV=%{y}\\u003cextra\\u003e\\u003c\\u002fextra\\u003e\",\"legendgroup\":\"HMEN\",\"marker\":{\"color\":\"#FFA15A\",\"symbol\":\"circle\"},\"mode\":\"markers\",\"name\":\"HMEN\",\"orientation\":\"v\",\"showlegend\":false,\"x\":[0.6117535829544067],\"xaxis\":\"x12\",\"y\":[0.3962],\"yaxis\":\"y12\",\"type\":\"scatter\"},{\"hovertemplate\":\"Tumortype=HMEN\\u003cbr\\u003eLayer=Up-Neck-P3\\u003cbr\\u003eAP=%{x}\\u003cbr\\u003eHDV=%{y}\\u003cextra\\u003e\\u003c\\u002fextra\\u003e\",\"legendgroup\":\"HMEN\",\"marker\":{\"color\":\"#FFA15A\",\"symbol\":\"circle\"},\"mode\":\"markers\",\"name\":\"HMEN\",\"orientation\":\"v\",\"showlegend\":false,\"x\":[0.6117535829544067],\"xaxis\":\"x13\",\"y\":[0.4569],\"yaxis\":\"y13\",\"type\":\"scatter\"},{\"hovertemplate\":\"Tumortype=HMEN\\u003cbr\\u003eLayer=Down-Neck-P4\\u003cbr\\u003eAP=%{x}\\u003cbr\\u003eHDV=%{y}\\u003cextra\\u003e\\u003c\\u002fextra\\u003e\",\"legendgroup\":\"HMEN\",\"marker\":{\"color\":\"#FFA15A\",\"symbol\":\"circle\"},\"mode\":\"markers\",\"name\":\"HMEN\",\"orientation\":\"v\",\"showlegend\":false,\"x\":[0.6117535829544067],\"xaxis\":\"x14\",\"y\":[0.5512],\"yaxis\":\"y14\",\"type\":\"scatter\"},{\"hovertemplate\":\"Tumortype=HMEN\\u003cbr\\u003eLayer=Down-Neck-P5\\u003cbr\\u003eAP=%{x}\\u003cbr\\u003eHDV=%{y}\\u003cextra\\u003e\\u003c\\u002fextra\\u003e\",\"legendgroup\":\"HMEN\",\"marker\":{\"color\":\"#FFA15A\",\"symbol\":\"circle\"},\"mode\":\"markers\",\"name\":\"HMEN\",\"orientation\":\"v\",\"showlegend\":false,\"x\":[0.6117535829544067],\"xaxis\":\"x15\",\"y\":[0.1616],\"yaxis\":\"y15\",\"type\":\"scatter\"},{\"hovertemplate\":\"Tumortype=HMEN\\u003cbr\\u003eLayer=Down-Neck-P6\\u003cbr\\u003eAP=%{x}\\u003cbr\\u003eHDV=%{y}\\u003cextra\\u003e\\u003c\\u002fextra\\u003e\",\"legendgroup\":\"HMEN\",\"marker\":{\"color\":\"#FFA15A\",\"symbol\":\"circle\"},\"mode\":\"markers\",\"name\":\"HMEN\",\"orientation\":\"v\",\"showlegend\":false,\"x\":[0.6117535829544067],\"xaxis\":\"x6\",\"y\":[0.1962],\"yaxis\":\"y6\",\"type\":\"scatter\"},{\"hovertemplate\":\"Tumortype=HMEN\\u003cbr\\u003eLayer=Final-Neck-P3\\u003cbr\\u003eAP=%{x}\\u003cbr\\u003eHDV=%{y}\\u003cextra\\u003e\\u003c\\u002fextra\\u003e\",\"legendgroup\":\"HMEN\",\"marker\":{\"color\":\"#FFA15A\",\"symbol\":\"circle\"},\"mode\":\"markers\",\"name\":\"HMEN\",\"orientation\":\"v\",\"showlegend\":false,\"x\":[0.6117535829544067],\"xaxis\":\"x7\",\"y\":[0.5041],\"yaxis\":\"y7\",\"type\":\"scatter\"},{\"hovertemplate\":\"Tumortype=HMEN\\u003cbr\\u003eLayer=Final-Neck-P4\\u003cbr\\u003eAP=%{x}\\u003cbr\\u003eHDV=%{y}\\u003cextra\\u003e\\u003c\\u002fextra\\u003e\",\"legendgroup\":\"HMEN\",\"marker\":{\"color\":\"#FFA15A\",\"symbol\":\"circle\"},\"mode\":\"markers\",\"name\":\"HMEN\",\"orientation\":\"v\",\"showlegend\":false,\"x\":[0.6117535829544067],\"xaxis\":\"x8\",\"y\":[0.5339],\"yaxis\":\"y8\",\"type\":\"scatter\"},{\"hovertemplate\":\"Tumortype=HMEN\\u003cbr\\u003eLayer=Final-Neck-P5\\u003cbr\\u003eAP=%{x}\\u003cbr\\u003eHDV=%{y}\\u003cextra\\u003e\\u003c\\u002fextra\\u003e\",\"legendgroup\":\"HMEN\",\"marker\":{\"color\":\"#FFA15A\",\"symbol\":\"circle\"},\"mode\":\"markers\",\"name\":\"HMEN\",\"orientation\":\"v\",\"showlegend\":false,\"x\":[0.6117535829544067],\"xaxis\":\"x9\",\"y\":[0.1682],\"yaxis\":\"y9\",\"type\":\"scatter\"},{\"hovertemplate\":\"Tumortype=HMEN\\u003cbr\\u003eLayer=Final-Neck-P6\\u003cbr\\u003eAP=%{x}\\u003cbr\\u003eHDV=%{y}\\u003cextra\\u003e\\u003c\\u002fextra\\u003e\",\"legendgroup\":\"HMEN\",\"marker\":{\"color\":\"#FFA15A\",\"symbol\":\"circle\"},\"mode\":\"markers\",\"name\":\"HMEN\",\"orientation\":\"v\",\"showlegend\":false,\"x\":[0.6117535829544067],\"xaxis\":\"x10\",\"y\":[0.1552],\"yaxis\":\"y10\",\"type\":\"scatter\"},{\"hovertemplate\":\"Tumortype=HMEN\\u003cbr\\u003eLayer=Head-P3\\u003cbr\\u003eAP=%{x}\\u003cbr\\u003eHDV=%{y}\\u003cextra\\u003e\\u003c\\u002fextra\\u003e\",\"legendgroup\":\"HMEN\",\"marker\":{\"color\":\"#FFA15A\",\"symbol\":\"circle\"},\"mode\":\"markers\",\"name\":\"HMEN\",\"orientation\":\"v\",\"showlegend\":false,\"x\":[0.6117535829544067],\"xaxis\":\"x\",\"y\":[0.6239],\"yaxis\":\"y\",\"type\":\"scatter\"},{\"hovertemplate\":\"Tumortype=HMEN\\u003cbr\\u003eLayer=Head-P4\\u003cbr\\u003eAP=%{x}\\u003cbr\\u003eHDV=%{y}\\u003cextra\\u003e\\u003c\\u002fextra\\u003e\",\"legendgroup\":\"HMEN\",\"marker\":{\"color\":\"#FFA15A\",\"symbol\":\"circle\"},\"mode\":\"markers\",\"name\":\"HMEN\",\"orientation\":\"v\",\"showlegend\":false,\"x\":[0.6117535829544067],\"xaxis\":\"x2\",\"y\":[0.5354],\"yaxis\":\"y2\",\"type\":\"scatter\"},{\"hovertemplate\":\"Tumortype=HMEN\\u003cbr\\u003eLayer=Head-P5\\u003cbr\\u003eAP=%{x}\\u003cbr\\u003eHDV=%{y}\\u003cextra\\u003e\\u003c\\u002fextra\\u003e\",\"legendgroup\":\"HMEN\",\"marker\":{\"color\":\"#FFA15A\",\"symbol\":\"circle\"},\"mode\":\"markers\",\"name\":\"HMEN\",\"orientation\":\"v\",\"showlegend\":false,\"x\":[0.6117535829544067],\"xaxis\":\"x3\",\"y\":[0.2985],\"yaxis\":\"y3\",\"type\":\"scatter\"},{\"hovertemplate\":\"Tumortype=HMEN\\u003cbr\\u003eLayer=Head-P6\\u003cbr\\u003eAP=%{x}\\u003cbr\\u003eHDV=%{y}\\u003cextra\\u003e\\u003c\\u002fextra\\u003e\",\"legendgroup\":\"HMEN\",\"marker\":{\"color\":\"#FFA15A\",\"symbol\":\"circle\"},\"mode\":\"markers\",\"name\":\"HMEN\",\"orientation\":\"v\",\"showlegend\":false,\"x\":[0.6117535829544067],\"xaxis\":\"x4\",\"y\":[0.3079],\"yaxis\":\"y4\",\"type\":\"scatter\"},{\"hovertemplate\":\"Tumortype=HCOC\\u003cbr\\u003eLayer=P2\\u003cbr\\u003eAP=%{x}\\u003cbr\\u003eHDV=%{y}\\u003cextra\\u003e\\u003c\\u002fextra\\u003e\",\"legendgroup\":\"HCOC\",\"marker\":{\"color\":\"#19d3f3\",\"symbol\":\"circle\"},\"mode\":\"markers\",\"name\":\"HCOC\",\"orientation\":\"v\",\"showlegend\":true,\"x\":[0.6376984119415283],\"xaxis\":\"x16\",\"y\":[0.1536],\"yaxis\":\"y16\",\"type\":\"scatter\"},{\"hovertemplate\":\"Tumortype=HCOC\\u003cbr\\u003eLayer=P3\\u003cbr\\u003eAP=%{x}\\u003cbr\\u003eHDV=%{y}\\u003cextra\\u003e\\u003c\\u002fextra\\u003e\",\"legendgroup\":\"HCOC\",\"marker\":{\"color\":\"#19d3f3\",\"symbol\":\"circle\"},\"mode\":\"markers\",\"name\":\"HCOC\",\"orientation\":\"v\",\"showlegend\":false,\"x\":[0.6376984119415283],\"xaxis\":\"x17\",\"y\":[0.3639],\"yaxis\":\"y17\",\"type\":\"scatter\"},{\"hovertemplate\":\"Tumortype=HCOC\\u003cbr\\u003eLayer=P4\\u003cbr\\u003eAP=%{x}\\u003cbr\\u003eHDV=%{y}\\u003cextra\\u003e\\u003c\\u002fextra\\u003e\",\"legendgroup\":\"HCOC\",\"marker\":{\"color\":\"#19d3f3\",\"symbol\":\"circle\"},\"mode\":\"markers\",\"name\":\"HCOC\",\"orientation\":\"v\",\"showlegend\":false,\"x\":[0.6376984119415283],\"xaxis\":\"x18\",\"y\":[0.4347],\"yaxis\":\"y18\",\"type\":\"scatter\"},{\"hovertemplate\":\"Tumortype=HCOC\\u003cbr\\u003eLayer=P5\\u003cbr\\u003eAP=%{x}\\u003cbr\\u003eHDV=%{y}\\u003cextra\\u003e\\u003c\\u002fextra\\u003e\",\"legendgroup\":\"HCOC\",\"marker\":{\"color\":\"#19d3f3\",\"symbol\":\"circle\"},\"mode\":\"markers\",\"name\":\"HCOC\",\"orientation\":\"v\",\"showlegend\":false,\"x\":[0.6376984119415283],\"xaxis\":\"x19\",\"y\":[0.2139],\"yaxis\":\"y19\",\"type\":\"scatter\"},{\"hovertemplate\":\"Tumortype=HCOC\\u003cbr\\u003eLayer=P6\\u003cbr\\u003eAP=%{x}\\u003cbr\\u003eHDV=%{y}\\u003cextra\\u003e\\u003c\\u002fextra\\u003e\",\"legendgroup\":\"HCOC\",\"marker\":{\"color\":\"#19d3f3\",\"symbol\":\"circle\"},\"mode\":\"markers\",\"name\":\"HCOC\",\"orientation\":\"v\",\"showlegend\":false,\"x\":[0.6376984119415283],\"xaxis\":\"x20\",\"y\":[0.1781],\"yaxis\":\"y20\",\"type\":\"scatter\"},{\"hovertemplate\":\"Tumortype=HCOC\\u003cbr\\u003eLayer=Up-Neck-P5\\u003cbr\\u003eAP=%{x}\\u003cbr\\u003eHDV=%{y}\\u003cextra\\u003e\\u003c\\u002fextra\\u003e\",\"legendgroup\":\"HCOC\",\"marker\":{\"color\":\"#19d3f3\",\"symbol\":\"circle\"},\"mode\":\"markers\",\"name\":\"HCOC\",\"orientation\":\"v\",\"showlegend\":false,\"x\":[0.6376984119415283],\"xaxis\":\"x11\",\"y\":[0.1712],\"yaxis\":\"y11\",\"type\":\"scatter\"},{\"hovertemplate\":\"Tumortype=HCOC\\u003cbr\\u003eLayer=Up-Neck-P4\\u003cbr\\u003eAP=%{x}\\u003cbr\\u003eHDV=%{y}\\u003cextra\\u003e\\u003c\\u002fextra\\u003e\",\"legendgroup\":\"HCOC\",\"marker\":{\"color\":\"#19d3f3\",\"symbol\":\"circle\"},\"mode\":\"markers\",\"name\":\"HCOC\",\"orientation\":\"v\",\"showlegend\":false,\"x\":[0.6376984119415283],\"xaxis\":\"x12\",\"y\":[0.3442],\"yaxis\":\"y12\",\"type\":\"scatter\"},{\"hovertemplate\":\"Tumortype=HCOC\\u003cbr\\u003eLayer=Up-Neck-P3\\u003cbr\\u003eAP=%{x}\\u003cbr\\u003eHDV=%{y}\\u003cextra\\u003e\\u003c\\u002fextra\\u003e\",\"legendgroup\":\"HCOC\",\"marker\":{\"color\":\"#19d3f3\",\"symbol\":\"circle\"},\"mode\":\"markers\",\"name\":\"HCOC\",\"orientation\":\"v\",\"showlegend\":false,\"x\":[0.6376984119415283],\"xaxis\":\"x13\",\"y\":[0.383],\"yaxis\":\"y13\",\"type\":\"scatter\"},{\"hovertemplate\":\"Tumortype=HCOC\\u003cbr\\u003eLayer=Down-Neck-P4\\u003cbr\\u003eAP=%{x}\\u003cbr\\u003eHDV=%{y}\\u003cextra\\u003e\\u003c\\u002fextra\\u003e\",\"legendgroup\":\"HCOC\",\"marker\":{\"color\":\"#19d3f3\",\"symbol\":\"circle\"},\"mode\":\"markers\",\"name\":\"HCOC\",\"orientation\":\"v\",\"showlegend\":false,\"x\":[0.6376984119415283],\"xaxis\":\"x14\",\"y\":[0.4839],\"yaxis\":\"y14\",\"type\":\"scatter\"},{\"hovertemplate\":\"Tumortype=HCOC\\u003cbr\\u003eLayer=Down-Neck-P5\\u003cbr\\u003eAP=%{x}\\u003cbr\\u003eHDV=%{y}\\u003cextra\\u003e\\u003c\\u002fextra\\u003e\",\"legendgroup\":\"HCOC\",\"marker\":{\"color\":\"#19d3f3\",\"symbol\":\"circle\"},\"mode\":\"markers\",\"name\":\"HCOC\",\"orientation\":\"v\",\"showlegend\":false,\"x\":[0.6376984119415283],\"xaxis\":\"x15\",\"y\":[0.1051],\"yaxis\":\"y15\",\"type\":\"scatter\"},{\"hovertemplate\":\"Tumortype=HCOC\\u003cbr\\u003eLayer=Down-Neck-P6\\u003cbr\\u003eAP=%{x}\\u003cbr\\u003eHDV=%{y}\\u003cextra\\u003e\\u003c\\u002fextra\\u003e\",\"legendgroup\":\"HCOC\",\"marker\":{\"color\":\"#19d3f3\",\"symbol\":\"circle\"},\"mode\":\"markers\",\"name\":\"HCOC\",\"orientation\":\"v\",\"showlegend\":false,\"x\":[0.6376984119415283],\"xaxis\":\"x6\",\"y\":[0.1038],\"yaxis\":\"y6\",\"type\":\"scatter\"},{\"hovertemplate\":\"Tumortype=HCOC\\u003cbr\\u003eLayer=Final-Neck-P3\\u003cbr\\u003eAP=%{x}\\u003cbr\\u003eHDV=%{y}\\u003cextra\\u003e\\u003c\\u002fextra\\u003e\",\"legendgroup\":\"HCOC\",\"marker\":{\"color\":\"#19d3f3\",\"symbol\":\"circle\"},\"mode\":\"markers\",\"name\":\"HCOC\",\"orientation\":\"v\",\"showlegend\":false,\"x\":[0.6376984119415283],\"xaxis\":\"x7\",\"y\":[0.4314],\"yaxis\":\"y7\",\"type\":\"scatter\"},{\"hovertemplate\":\"Tumortype=HCOC\\u003cbr\\u003eLayer=Final-Neck-P4\\u003cbr\\u003eAP=%{x}\\u003cbr\\u003eHDV=%{y}\\u003cextra\\u003e\\u003c\\u002fextra\\u003e\",\"legendgroup\":\"HCOC\",\"marker\":{\"color\":\"#19d3f3\",\"symbol\":\"circle\"},\"mode\":\"markers\",\"name\":\"HCOC\",\"orientation\":\"v\",\"showlegend\":false,\"x\":[0.6376984119415283],\"xaxis\":\"x8\",\"y\":[0.4585],\"yaxis\":\"y8\",\"type\":\"scatter\"},{\"hovertemplate\":\"Tumortype=HCOC\\u003cbr\\u003eLayer=Final-Neck-P5\\u003cbr\\u003eAP=%{x}\\u003cbr\\u003eHDV=%{y}\\u003cextra\\u003e\\u003c\\u002fextra\\u003e\",\"legendgroup\":\"HCOC\",\"marker\":{\"color\":\"#19d3f3\",\"symbol\":\"circle\"},\"mode\":\"markers\",\"name\":\"HCOC\",\"orientation\":\"v\",\"showlegend\":false,\"x\":[0.6376984119415283],\"xaxis\":\"x9\",\"y\":[0.1029],\"yaxis\":\"y9\",\"type\":\"scatter\"},{\"hovertemplate\":\"Tumortype=HCOC\\u003cbr\\u003eLayer=Final-Neck-P6\\u003cbr\\u003eAP=%{x}\\u003cbr\\u003eHDV=%{y}\\u003cextra\\u003e\\u003c\\u002fextra\\u003e\",\"legendgroup\":\"HCOC\",\"marker\":{\"color\":\"#19d3f3\",\"symbol\":\"circle\"},\"mode\":\"markers\",\"name\":\"HCOC\",\"orientation\":\"v\",\"showlegend\":false,\"x\":[0.6376984119415283],\"xaxis\":\"x10\",\"y\":[0.0806],\"yaxis\":\"y10\",\"type\":\"scatter\"},{\"hovertemplate\":\"Tumortype=HCOC\\u003cbr\\u003eLayer=Head-P3\\u003cbr\\u003eAP=%{x}\\u003cbr\\u003eHDV=%{y}\\u003cextra\\u003e\\u003c\\u002fextra\\u003e\",\"legendgroup\":\"HCOC\",\"marker\":{\"color\":\"#19d3f3\",\"symbol\":\"circle\"},\"mode\":\"markers\",\"name\":\"HCOC\",\"orientation\":\"v\",\"showlegend\":false,\"x\":[0.6376984119415283],\"xaxis\":\"x\",\"y\":[0.5763],\"yaxis\":\"y\",\"type\":\"scatter\"},{\"hovertemplate\":\"Tumortype=HCOC\\u003cbr\\u003eLayer=Head-P4\\u003cbr\\u003eAP=%{x}\\u003cbr\\u003eHDV=%{y}\\u003cextra\\u003e\\u003c\\u002fextra\\u003e\",\"legendgroup\":\"HCOC\",\"marker\":{\"color\":\"#19d3f3\",\"symbol\":\"circle\"},\"mode\":\"markers\",\"name\":\"HCOC\",\"orientation\":\"v\",\"showlegend\":false,\"x\":[0.6376984119415283],\"xaxis\":\"x2\",\"y\":[0.4733],\"yaxis\":\"y2\",\"type\":\"scatter\"},{\"hovertemplate\":\"Tumortype=HCOC\\u003cbr\\u003eLayer=Head-P5\\u003cbr\\u003eAP=%{x}\\u003cbr\\u003eHDV=%{y}\\u003cextra\\u003e\\u003c\\u002fextra\\u003e\",\"legendgroup\":\"HCOC\",\"marker\":{\"color\":\"#19d3f3\",\"symbol\":\"circle\"},\"mode\":\"markers\",\"name\":\"HCOC\",\"orientation\":\"v\",\"showlegend\":false,\"x\":[0.6376984119415283],\"xaxis\":\"x3\",\"y\":[0.2495],\"yaxis\":\"y3\",\"type\":\"scatter\"},{\"hovertemplate\":\"Tumortype=HCOC\\u003cbr\\u003eLayer=Head-P6\\u003cbr\\u003eAP=%{x}\\u003cbr\\u003eHDV=%{y}\\u003cextra\\u003e\\u003c\\u002fextra\\u003e\",\"legendgroup\":\"HCOC\",\"marker\":{\"color\":\"#19d3f3\",\"symbol\":\"circle\"},\"mode\":\"markers\",\"name\":\"HCOC\",\"orientation\":\"v\",\"showlegend\":false,\"x\":[0.6376984119415283],\"xaxis\":\"x4\",\"y\":[0.239],\"yaxis\":\"y4\",\"type\":\"scatter\"},{\"hovertemplate\":\"Tumortype=CHAS\\u003cbr\\u003eLayer=P2\\u003cbr\\u003eAP=%{x}\\u003cbr\\u003eHDV=%{y}\\u003cextra\\u003e\\u003c\\u002fextra\\u003e\",\"legendgroup\":\"CHAS\",\"marker\":{\"color\":\"#FF6692\",\"symbol\":\"circle\"},\"mode\":\"markers\",\"name\":\"CHAS\",\"orientation\":\"v\",\"showlegend\":true,\"x\":[0.7062731981277466],\"xaxis\":\"x16\",\"y\":[0.1839],\"yaxis\":\"y16\",\"type\":\"scatter\"},{\"hovertemplate\":\"Tumortype=CHAS\\u003cbr\\u003eLayer=P3\\u003cbr\\u003eAP=%{x}\\u003cbr\\u003eHDV=%{y}\\u003cextra\\u003e\\u003c\\u002fextra\\u003e\",\"legendgroup\":\"CHAS\",\"marker\":{\"color\":\"#FF6692\",\"symbol\":\"circle\"},\"mode\":\"markers\",\"name\":\"CHAS\",\"orientation\":\"v\",\"showlegend\":false,\"x\":[0.7062731981277466],\"xaxis\":\"x17\",\"y\":[0.3862],\"yaxis\":\"y17\",\"type\":\"scatter\"},{\"hovertemplate\":\"Tumortype=CHAS\\u003cbr\\u003eLayer=P4\\u003cbr\\u003eAP=%{x}\\u003cbr\\u003eHDV=%{y}\\u003cextra\\u003e\\u003c\\u002fextra\\u003e\",\"legendgroup\":\"CHAS\",\"marker\":{\"color\":\"#FF6692\",\"symbol\":\"circle\"},\"mode\":\"markers\",\"name\":\"CHAS\",\"orientation\":\"v\",\"showlegend\":false,\"x\":[0.7062731981277466],\"xaxis\":\"x18\",\"y\":[0.486],\"yaxis\":\"y18\",\"type\":\"scatter\"},{\"hovertemplate\":\"Tumortype=CHAS\\u003cbr\\u003eLayer=P5\\u003cbr\\u003eAP=%{x}\\u003cbr\\u003eHDV=%{y}\\u003cextra\\u003e\\u003c\\u002fextra\\u003e\",\"legendgroup\":\"CHAS\",\"marker\":{\"color\":\"#FF6692\",\"symbol\":\"circle\"},\"mode\":\"markers\",\"name\":\"CHAS\",\"orientation\":\"v\",\"showlegend\":false,\"x\":[0.7062731981277466],\"xaxis\":\"x19\",\"y\":[0.2981],\"yaxis\":\"y19\",\"type\":\"scatter\"},{\"hovertemplate\":\"Tumortype=CHAS\\u003cbr\\u003eLayer=P6\\u003cbr\\u003eAP=%{x}\\u003cbr\\u003eHDV=%{y}\\u003cextra\\u003e\\u003c\\u002fextra\\u003e\",\"legendgroup\":\"CHAS\",\"marker\":{\"color\":\"#FF6692\",\"symbol\":\"circle\"},\"mode\":\"markers\",\"name\":\"CHAS\",\"orientation\":\"v\",\"showlegend\":false,\"x\":[0.7062731981277466],\"xaxis\":\"x20\",\"y\":[0.2162],\"yaxis\":\"y20\",\"type\":\"scatter\"},{\"hovertemplate\":\"Tumortype=CHAS\\u003cbr\\u003eLayer=Up-Neck-P5\\u003cbr\\u003eAP=%{x}\\u003cbr\\u003eHDV=%{y}\\u003cextra\\u003e\\u003c\\u002fextra\\u003e\",\"legendgroup\":\"CHAS\",\"marker\":{\"color\":\"#FF6692\",\"symbol\":\"circle\"},\"mode\":\"markers\",\"name\":\"CHAS\",\"orientation\":\"v\",\"showlegend\":false,\"x\":[0.7062731981277466],\"xaxis\":\"x11\",\"y\":[0.25],\"yaxis\":\"y11\",\"type\":\"scatter\"},{\"hovertemplate\":\"Tumortype=CHAS\\u003cbr\\u003eLayer=Up-Neck-P4\\u003cbr\\u003eAP=%{x}\\u003cbr\\u003eHDV=%{y}\\u003cextra\\u003e\\u003c\\u002fextra\\u003e\",\"legendgroup\":\"CHAS\",\"marker\":{\"color\":\"#FF6692\",\"symbol\":\"circle\"},\"mode\":\"markers\",\"name\":\"CHAS\",\"orientation\":\"v\",\"showlegend\":false,\"x\":[0.7062731981277466],\"xaxis\":\"x12\",\"y\":[0.4251],\"yaxis\":\"y12\",\"type\":\"scatter\"},{\"hovertemplate\":\"Tumortype=CHAS\\u003cbr\\u003eLayer=Up-Neck-P3\\u003cbr\\u003eAP=%{x}\\u003cbr\\u003eHDV=%{y}\\u003cextra\\u003e\\u003c\\u002fextra\\u003e\",\"legendgroup\":\"CHAS\",\"marker\":{\"color\":\"#FF6692\",\"symbol\":\"circle\"},\"mode\":\"markers\",\"name\":\"CHAS\",\"orientation\":\"v\",\"showlegend\":false,\"x\":[0.7062731981277466],\"xaxis\":\"x13\",\"y\":[0.361],\"yaxis\":\"y13\",\"type\":\"scatter\"},{\"hovertemplate\":\"Tumortype=CHAS\\u003cbr\\u003eLayer=Down-Neck-P4\\u003cbr\\u003eAP=%{x}\\u003cbr\\u003eHDV=%{y}\\u003cextra\\u003e\\u003c\\u002fextra\\u003e\",\"legendgroup\":\"CHAS\",\"marker\":{\"color\":\"#FF6692\",\"symbol\":\"circle\"},\"mode\":\"markers\",\"name\":\"CHAS\",\"orientation\":\"v\",\"showlegend\":false,\"x\":[0.7062731981277466],\"xaxis\":\"x14\",\"y\":[0.5526],\"yaxis\":\"y14\",\"type\":\"scatter\"},{\"hovertemplate\":\"Tumortype=CHAS\\u003cbr\\u003eLayer=Down-Neck-P5\\u003cbr\\u003eAP=%{x}\\u003cbr\\u003eHDV=%{y}\\u003cextra\\u003e\\u003c\\u002fextra\\u003e\",\"legendgroup\":\"CHAS\",\"marker\":{\"color\":\"#FF6692\",\"symbol\":\"circle\"},\"mode\":\"markers\",\"name\":\"CHAS\",\"orientation\":\"v\",\"showlegend\":false,\"x\":[0.7062731981277466],\"xaxis\":\"x15\",\"y\":[0.1337],\"yaxis\":\"y15\",\"type\":\"scatter\"},{\"hovertemplate\":\"Tumortype=CHAS\\u003cbr\\u003eLayer=Down-Neck-P6\\u003cbr\\u003eAP=%{x}\\u003cbr\\u003eHDV=%{y}\\u003cextra\\u003e\\u003c\\u002fextra\\u003e\",\"legendgroup\":\"CHAS\",\"marker\":{\"color\":\"#FF6692\",\"symbol\":\"circle\"},\"mode\":\"markers\",\"name\":\"CHAS\",\"orientation\":\"v\",\"showlegend\":false,\"x\":[0.7062731981277466],\"xaxis\":\"x6\",\"y\":[0.1985],\"yaxis\":\"y6\",\"type\":\"scatter\"},{\"hovertemplate\":\"Tumortype=CHAS\\u003cbr\\u003eLayer=Final-Neck-P3\\u003cbr\\u003eAP=%{x}\\u003cbr\\u003eHDV=%{y}\\u003cextra\\u003e\\u003c\\u002fextra\\u003e\",\"legendgroup\":\"CHAS\",\"marker\":{\"color\":\"#FF6692\",\"symbol\":\"circle\"},\"mode\":\"markers\",\"name\":\"CHAS\",\"orientation\":\"v\",\"showlegend\":false,\"x\":[0.7062731981277466],\"xaxis\":\"x7\",\"y\":[0.3553],\"yaxis\":\"y7\",\"type\":\"scatter\"},{\"hovertemplate\":\"Tumortype=CHAS\\u003cbr\\u003eLayer=Final-Neck-P4\\u003cbr\\u003eAP=%{x}\\u003cbr\\u003eHDV=%{y}\\u003cextra\\u003e\\u003c\\u002fextra\\u003e\",\"legendgroup\":\"CHAS\",\"marker\":{\"color\":\"#FF6692\",\"symbol\":\"circle\"},\"mode\":\"markers\",\"name\":\"CHAS\",\"orientation\":\"v\",\"showlegend\":false,\"x\":[0.7062731981277466],\"xaxis\":\"x8\",\"y\":[0.5377],\"yaxis\":\"y8\",\"type\":\"scatter\"},{\"hovertemplate\":\"Tumortype=CHAS\\u003cbr\\u003eLayer=Final-Neck-P5\\u003cbr\\u003eAP=%{x}\\u003cbr\\u003eHDV=%{y}\\u003cextra\\u003e\\u003c\\u002fextra\\u003e\",\"legendgroup\":\"CHAS\",\"marker\":{\"color\":\"#FF6692\",\"symbol\":\"circle\"},\"mode\":\"markers\",\"name\":\"CHAS\",\"orientation\":\"v\",\"showlegend\":false,\"x\":[0.7062731981277466],\"xaxis\":\"x9\",\"y\":[0.1263],\"yaxis\":\"y9\",\"type\":\"scatter\"},{\"hovertemplate\":\"Tumortype=CHAS\\u003cbr\\u003eLayer=Final-Neck-P6\\u003cbr\\u003eAP=%{x}\\u003cbr\\u003eHDV=%{y}\\u003cextra\\u003e\\u003c\\u002fextra\\u003e\",\"legendgroup\":\"CHAS\",\"marker\":{\"color\":\"#FF6692\",\"symbol\":\"circle\"},\"mode\":\"markers\",\"name\":\"CHAS\",\"orientation\":\"v\",\"showlegend\":false,\"x\":[0.7062731981277466],\"xaxis\":\"x10\",\"y\":[0.1751],\"yaxis\":\"y10\",\"type\":\"scatter\"},{\"hovertemplate\":\"Tumortype=CHAS\\u003cbr\\u003eLayer=Head-P3\\u003cbr\\u003eAP=%{x}\\u003cbr\\u003eHDV=%{y}\\u003cextra\\u003e\\u003c\\u002fextra\\u003e\",\"legendgroup\":\"CHAS\",\"marker\":{\"color\":\"#FF6692\",\"symbol\":\"circle\"},\"mode\":\"markers\",\"name\":\"CHAS\",\"orientation\":\"v\",\"showlegend\":false,\"x\":[0.7062731981277466],\"xaxis\":\"x\",\"y\":[0.5766],\"yaxis\":\"y\",\"type\":\"scatter\"},{\"hovertemplate\":\"Tumortype=CHAS\\u003cbr\\u003eLayer=Head-P4\\u003cbr\\u003eAP=%{x}\\u003cbr\\u003eHDV=%{y}\\u003cextra\\u003e\\u003c\\u002fextra\\u003e\",\"legendgroup\":\"CHAS\",\"marker\":{\"color\":\"#FF6692\",\"symbol\":\"circle\"},\"mode\":\"markers\",\"name\":\"CHAS\",\"orientation\":\"v\",\"showlegend\":false,\"x\":[0.7062731981277466],\"xaxis\":\"x2\",\"y\":[0.5467],\"yaxis\":\"y2\",\"type\":\"scatter\"},{\"hovertemplate\":\"Tumortype=CHAS\\u003cbr\\u003eLayer=Head-P5\\u003cbr\\u003eAP=%{x}\\u003cbr\\u003eHDV=%{y}\\u003cextra\\u003e\\u003c\\u002fextra\\u003e\",\"legendgroup\":\"CHAS\",\"marker\":{\"color\":\"#FF6692\",\"symbol\":\"circle\"},\"mode\":\"markers\",\"name\":\"CHAS\",\"orientation\":\"v\",\"showlegend\":false,\"x\":[0.7062731981277466],\"xaxis\":\"x3\",\"y\":[0.2727],\"yaxis\":\"y3\",\"type\":\"scatter\"},{\"hovertemplate\":\"Tumortype=CHAS\\u003cbr\\u003eLayer=Head-P6\\u003cbr\\u003eAP=%{x}\\u003cbr\\u003eHDV=%{y}\\u003cextra\\u003e\\u003c\\u002fextra\\u003e\",\"legendgroup\":\"CHAS\",\"marker\":{\"color\":\"#FF6692\",\"symbol\":\"circle\"},\"mode\":\"markers\",\"name\":\"CHAS\",\"orientation\":\"v\",\"showlegend\":false,\"x\":[0.7062731981277466],\"xaxis\":\"x4\",\"y\":[0.3085],\"yaxis\":\"y4\",\"type\":\"scatter\"},{\"hovertemplate\":\"Tumortype=FSTS\\u003cbr\\u003eLayer=P2\\u003cbr\\u003eAP=%{x}\\u003cbr\\u003eHDV=%{y}\\u003cextra\\u003e\\u003c\\u002fextra\\u003e\",\"legendgroup\":\"FSTS\",\"marker\":{\"color\":\"#B6E880\",\"symbol\":\"circle\"},\"mode\":\"markers\",\"name\":\"FSTS\",\"orientation\":\"v\",\"showlegend\":true,\"x\":[0.5754684805870056],\"xaxis\":\"x16\",\"y\":[0.1341],\"yaxis\":\"y16\",\"type\":\"scatter\"},{\"hovertemplate\":\"Tumortype=FSTS\\u003cbr\\u003eLayer=P3\\u003cbr\\u003eAP=%{x}\\u003cbr\\u003eHDV=%{y}\\u003cextra\\u003e\\u003c\\u002fextra\\u003e\",\"legendgroup\":\"FSTS\",\"marker\":{\"color\":\"#B6E880\",\"symbol\":\"circle\"},\"mode\":\"markers\",\"name\":\"FSTS\",\"orientation\":\"v\",\"showlegend\":false,\"x\":[0.5754684805870056],\"xaxis\":\"x17\",\"y\":[0.3436],\"yaxis\":\"y17\",\"type\":\"scatter\"},{\"hovertemplate\":\"Tumortype=FSTS\\u003cbr\\u003eLayer=P4\\u003cbr\\u003eAP=%{x}\\u003cbr\\u003eHDV=%{y}\\u003cextra\\u003e\\u003c\\u002fextra\\u003e\",\"legendgroup\":\"FSTS\",\"marker\":{\"color\":\"#B6E880\",\"symbol\":\"circle\"},\"mode\":\"markers\",\"name\":\"FSTS\",\"orientation\":\"v\",\"showlegend\":false,\"x\":[0.5754684805870056],\"xaxis\":\"x18\",\"y\":[0.3912],\"yaxis\":\"y18\",\"type\":\"scatter\"},{\"hovertemplate\":\"Tumortype=FSTS\\u003cbr\\u003eLayer=P5\\u003cbr\\u003eAP=%{x}\\u003cbr\\u003eHDV=%{y}\\u003cextra\\u003e\\u003c\\u002fextra\\u003e\",\"legendgroup\":\"FSTS\",\"marker\":{\"color\":\"#B6E880\",\"symbol\":\"circle\"},\"mode\":\"markers\",\"name\":\"FSTS\",\"orientation\":\"v\",\"showlegend\":false,\"x\":[0.5754684805870056],\"xaxis\":\"x19\",\"y\":[0.2673],\"yaxis\":\"y19\",\"type\":\"scatter\"},{\"hovertemplate\":\"Tumortype=FSTS\\u003cbr\\u003eLayer=P6\\u003cbr\\u003eAP=%{x}\\u003cbr\\u003eHDV=%{y}\\u003cextra\\u003e\\u003c\\u002fextra\\u003e\",\"legendgroup\":\"FSTS\",\"marker\":{\"color\":\"#B6E880\",\"symbol\":\"circle\"},\"mode\":\"markers\",\"name\":\"FSTS\",\"orientation\":\"v\",\"showlegend\":false,\"x\":[0.5754684805870056],\"xaxis\":\"x20\",\"y\":[0.1638],\"yaxis\":\"y20\",\"type\":\"scatter\"},{\"hovertemplate\":\"Tumortype=FSTS\\u003cbr\\u003eLayer=Up-Neck-P5\\u003cbr\\u003eAP=%{x}\\u003cbr\\u003eHDV=%{y}\\u003cextra\\u003e\\u003c\\u002fextra\\u003e\",\"legendgroup\":\"FSTS\",\"marker\":{\"color\":\"#B6E880\",\"symbol\":\"circle\"},\"mode\":\"markers\",\"name\":\"FSTS\",\"orientation\":\"v\",\"showlegend\":false,\"x\":[0.5754684805870056],\"xaxis\":\"x11\",\"y\":[0.1614],\"yaxis\":\"y11\",\"type\":\"scatter\"},{\"hovertemplate\":\"Tumortype=FSTS\\u003cbr\\u003eLayer=Up-Neck-P4\\u003cbr\\u003eAP=%{x}\\u003cbr\\u003eHDV=%{y}\\u003cextra\\u003e\\u003c\\u002fextra\\u003e\",\"legendgroup\":\"FSTS\",\"marker\":{\"color\":\"#B6E880\",\"symbol\":\"circle\"},\"mode\":\"markers\",\"name\":\"FSTS\",\"orientation\":\"v\",\"showlegend\":false,\"x\":[0.5754684805870056],\"xaxis\":\"x12\",\"y\":[0.3025],\"yaxis\":\"y12\",\"type\":\"scatter\"},{\"hovertemplate\":\"Tumortype=FSTS\\u003cbr\\u003eLayer=Up-Neck-P3\\u003cbr\\u003eAP=%{x}\\u003cbr\\u003eHDV=%{y}\\u003cextra\\u003e\\u003c\\u002fextra\\u003e\",\"legendgroup\":\"FSTS\",\"marker\":{\"color\":\"#B6E880\",\"symbol\":\"circle\"},\"mode\":\"markers\",\"name\":\"FSTS\",\"orientation\":\"v\",\"showlegend\":false,\"x\":[0.5754684805870056],\"xaxis\":\"x13\",\"y\":[0.3049],\"yaxis\":\"y13\",\"type\":\"scatter\"},{\"hovertemplate\":\"Tumortype=FSTS\\u003cbr\\u003eLayer=Down-Neck-P4\\u003cbr\\u003eAP=%{x}\\u003cbr\\u003eHDV=%{y}\\u003cextra\\u003e\\u003c\\u002fextra\\u003e\",\"legendgroup\":\"FSTS\",\"marker\":{\"color\":\"#B6E880\",\"symbol\":\"circle\"},\"mode\":\"markers\",\"name\":\"FSTS\",\"orientation\":\"v\",\"showlegend\":false,\"x\":[0.5754684805870056],\"xaxis\":\"x14\",\"y\":[0.3971],\"yaxis\":\"y14\",\"type\":\"scatter\"},{\"hovertemplate\":\"Tumortype=FSTS\\u003cbr\\u003eLayer=Down-Neck-P5\\u003cbr\\u003eAP=%{x}\\u003cbr\\u003eHDV=%{y}\\u003cextra\\u003e\\u003c\\u002fextra\\u003e\",\"legendgroup\":\"FSTS\",\"marker\":{\"color\":\"#B6E880\",\"symbol\":\"circle\"},\"mode\":\"markers\",\"name\":\"FSTS\",\"orientation\":\"v\",\"showlegend\":false,\"x\":[0.5754684805870056],\"xaxis\":\"x15\",\"y\":[0.1475],\"yaxis\":\"y15\",\"type\":\"scatter\"},{\"hovertemplate\":\"Tumortype=FSTS\\u003cbr\\u003eLayer=Down-Neck-P6\\u003cbr\\u003eAP=%{x}\\u003cbr\\u003eHDV=%{y}\\u003cextra\\u003e\\u003c\\u002fextra\\u003e\",\"legendgroup\":\"FSTS\",\"marker\":{\"color\":\"#B6E880\",\"symbol\":\"circle\"},\"mode\":\"markers\",\"name\":\"FSTS\",\"orientation\":\"v\",\"showlegend\":false,\"x\":[0.5754684805870056],\"xaxis\":\"x6\",\"y\":[0.1298],\"yaxis\":\"y6\",\"type\":\"scatter\"},{\"hovertemplate\":\"Tumortype=FSTS\\u003cbr\\u003eLayer=Final-Neck-P3\\u003cbr\\u003eAP=%{x}\\u003cbr\\u003eHDV=%{y}\\u003cextra\\u003e\\u003c\\u002fextra\\u003e\",\"legendgroup\":\"FSTS\",\"marker\":{\"color\":\"#B6E880\",\"symbol\":\"circle\"},\"mode\":\"markers\",\"name\":\"FSTS\",\"orientation\":\"v\",\"showlegend\":false,\"x\":[0.5754684805870056],\"xaxis\":\"x7\",\"y\":[0.3702],\"yaxis\":\"y7\",\"type\":\"scatter\"},{\"hovertemplate\":\"Tumortype=FSTS\\u003cbr\\u003eLayer=Final-Neck-P4\\u003cbr\\u003eAP=%{x}\\u003cbr\\u003eHDV=%{y}\\u003cextra\\u003e\\u003c\\u002fextra\\u003e\",\"legendgroup\":\"FSTS\",\"marker\":{\"color\":\"#B6E880\",\"symbol\":\"circle\"},\"mode\":\"markers\",\"name\":\"FSTS\",\"orientation\":\"v\",\"showlegend\":false,\"x\":[0.5754684805870056],\"xaxis\":\"x8\",\"y\":[0.4065],\"yaxis\":\"y8\",\"type\":\"scatter\"},{\"hovertemplate\":\"Tumortype=FSTS\\u003cbr\\u003eLayer=Final-Neck-P5\\u003cbr\\u003eAP=%{x}\\u003cbr\\u003eHDV=%{y}\\u003cextra\\u003e\\u003c\\u002fextra\\u003e\",\"legendgroup\":\"FSTS\",\"marker\":{\"color\":\"#B6E880\",\"symbol\":\"circle\"},\"mode\":\"markers\",\"name\":\"FSTS\",\"orientation\":\"v\",\"showlegend\":false,\"x\":[0.5754684805870056],\"xaxis\":\"x9\",\"y\":[0.0903],\"yaxis\":\"y9\",\"type\":\"scatter\"},{\"hovertemplate\":\"Tumortype=FSTS\\u003cbr\\u003eLayer=Final-Neck-P6\\u003cbr\\u003eAP=%{x}\\u003cbr\\u003eHDV=%{y}\\u003cextra\\u003e\\u003c\\u002fextra\\u003e\",\"legendgroup\":\"FSTS\",\"marker\":{\"color\":\"#B6E880\",\"symbol\":\"circle\"},\"mode\":\"markers\",\"name\":\"FSTS\",\"orientation\":\"v\",\"showlegend\":false,\"x\":[0.5754684805870056],\"xaxis\":\"x10\",\"y\":[0.1206],\"yaxis\":\"y10\",\"type\":\"scatter\"},{\"hovertemplate\":\"Tumortype=FSTS\\u003cbr\\u003eLayer=Head-P3\\u003cbr\\u003eAP=%{x}\\u003cbr\\u003eHDV=%{y}\\u003cextra\\u003e\\u003c\\u002fextra\\u003e\",\"legendgroup\":\"FSTS\",\"marker\":{\"color\":\"#B6E880\",\"symbol\":\"circle\"},\"mode\":\"markers\",\"name\":\"FSTS\",\"orientation\":\"v\",\"showlegend\":false,\"x\":[0.5754684805870056],\"xaxis\":\"x\",\"y\":[0.5408],\"yaxis\":\"y\",\"type\":\"scatter\"},{\"hovertemplate\":\"Tumortype=FSTS\\u003cbr\\u003eLayer=Head-P4\\u003cbr\\u003eAP=%{x}\\u003cbr\\u003eHDV=%{y}\\u003cextra\\u003e\\u003c\\u002fextra\\u003e\",\"legendgroup\":\"FSTS\",\"marker\":{\"color\":\"#B6E880\",\"symbol\":\"circle\"},\"mode\":\"markers\",\"name\":\"FSTS\",\"orientation\":\"v\",\"showlegend\":false,\"x\":[0.5754684805870056],\"xaxis\":\"x2\",\"y\":[0.4378],\"yaxis\":\"y2\",\"type\":\"scatter\"},{\"hovertemplate\":\"Tumortype=FSTS\\u003cbr\\u003eLayer=Head-P5\\u003cbr\\u003eAP=%{x}\\u003cbr\\u003eHDV=%{y}\\u003cextra\\u003e\\u003c\\u002fextra\\u003e\",\"legendgroup\":\"FSTS\",\"marker\":{\"color\":\"#B6E880\",\"symbol\":\"circle\"},\"mode\":\"markers\",\"name\":\"FSTS\",\"orientation\":\"v\",\"showlegend\":false,\"x\":[0.5754684805870056],\"xaxis\":\"x3\",\"y\":[0.2423],\"yaxis\":\"y3\",\"type\":\"scatter\"},{\"hovertemplate\":\"Tumortype=FSTS\\u003cbr\\u003eLayer=Head-P6\\u003cbr\\u003eAP=%{x}\\u003cbr\\u003eHDV=%{y}\\u003cextra\\u003e\\u003c\\u002fextra\\u003e\",\"legendgroup\":\"FSTS\",\"marker\":{\"color\":\"#B6E880\",\"symbol\":\"circle\"},\"mode\":\"markers\",\"name\":\"FSTS\",\"orientation\":\"v\",\"showlegend\":false,\"x\":[0.5754684805870056],\"xaxis\":\"x4\",\"y\":[0.2636],\"yaxis\":\"y4\",\"type\":\"scatter\"},{\"hovertemplate\":\"Tumortype=FLYM\\u003cbr\\u003eLayer=P2\\u003cbr\\u003eAP=%{x}\\u003cbr\\u003eHDV=%{y}\\u003cextra\\u003e\\u003c\\u002fextra\\u003e\",\"legendgroup\":\"FLYM\",\"marker\":{\"color\":\"#FF97FF\",\"symbol\":\"circle\"},\"mode\":\"markers\",\"name\":\"FLYM\",\"orientation\":\"v\",\"showlegend\":true,\"x\":[0.6336628198623657],\"xaxis\":\"x16\",\"y\":[0.1105],\"yaxis\":\"y16\",\"type\":\"scatter\"},{\"hovertemplate\":\"Tumortype=FLYM\\u003cbr\\u003eLayer=P3\\u003cbr\\u003eAP=%{x}\\u003cbr\\u003eHDV=%{y}\\u003cextra\\u003e\\u003c\\u002fextra\\u003e\",\"legendgroup\":\"FLYM\",\"marker\":{\"color\":\"#FF97FF\",\"symbol\":\"circle\"},\"mode\":\"markers\",\"name\":\"FLYM\",\"orientation\":\"v\",\"showlegend\":false,\"x\":[0.6336628198623657],\"xaxis\":\"x17\",\"y\":[0.3395],\"yaxis\":\"y17\",\"type\":\"scatter\"},{\"hovertemplate\":\"Tumortype=FLYM\\u003cbr\\u003eLayer=P4\\u003cbr\\u003eAP=%{x}\\u003cbr\\u003eHDV=%{y}\\u003cextra\\u003e\\u003c\\u002fextra\\u003e\",\"legendgroup\":\"FLYM\",\"marker\":{\"color\":\"#FF97FF\",\"symbol\":\"circle\"},\"mode\":\"markers\",\"name\":\"FLYM\",\"orientation\":\"v\",\"showlegend\":false,\"x\":[0.6336628198623657],\"xaxis\":\"x18\",\"y\":[0.4412],\"yaxis\":\"y18\",\"type\":\"scatter\"},{\"hovertemplate\":\"Tumortype=FLYM\\u003cbr\\u003eLayer=P5\\u003cbr\\u003eAP=%{x}\\u003cbr\\u003eHDV=%{y}\\u003cextra\\u003e\\u003c\\u002fextra\\u003e\",\"legendgroup\":\"FLYM\",\"marker\":{\"color\":\"#FF97FF\",\"symbol\":\"circle\"},\"mode\":\"markers\",\"name\":\"FLYM\",\"orientation\":\"v\",\"showlegend\":false,\"x\":[0.6336628198623657],\"xaxis\":\"x19\",\"y\":[0.3168],\"yaxis\":\"y19\",\"type\":\"scatter\"},{\"hovertemplate\":\"Tumortype=FLYM\\u003cbr\\u003eLayer=P6\\u003cbr\\u003eAP=%{x}\\u003cbr\\u003eHDV=%{y}\\u003cextra\\u003e\\u003c\\u002fextra\\u003e\",\"legendgroup\":\"FLYM\",\"marker\":{\"color\":\"#FF97FF\",\"symbol\":\"circle\"},\"mode\":\"markers\",\"name\":\"FLYM\",\"orientation\":\"v\",\"showlegend\":false,\"x\":[0.6336628198623657],\"xaxis\":\"x20\",\"y\":[0.2837],\"yaxis\":\"y20\",\"type\":\"scatter\"},{\"hovertemplate\":\"Tumortype=FLYM\\u003cbr\\u003eLayer=Up-Neck-P5\\u003cbr\\u003eAP=%{x}\\u003cbr\\u003eHDV=%{y}\\u003cextra\\u003e\\u003c\\u002fextra\\u003e\",\"legendgroup\":\"FLYM\",\"marker\":{\"color\":\"#FF97FF\",\"symbol\":\"circle\"},\"mode\":\"markers\",\"name\":\"FLYM\",\"orientation\":\"v\",\"showlegend\":false,\"x\":[0.6336628198623657],\"xaxis\":\"x11\",\"y\":[0.123],\"yaxis\":\"y11\",\"type\":\"scatter\"},{\"hovertemplate\":\"Tumortype=FLYM\\u003cbr\\u003eLayer=Up-Neck-P4\\u003cbr\\u003eAP=%{x}\\u003cbr\\u003eHDV=%{y}\\u003cextra\\u003e\\u003c\\u002fextra\\u003e\",\"legendgroup\":\"FLYM\",\"marker\":{\"color\":\"#FF97FF\",\"symbol\":\"circle\"},\"mode\":\"markers\",\"name\":\"FLYM\",\"orientation\":\"v\",\"showlegend\":false,\"x\":[0.6336628198623657],\"xaxis\":\"x12\",\"y\":[0.3509],\"yaxis\":\"y12\",\"type\":\"scatter\"},{\"hovertemplate\":\"Tumortype=FLYM\\u003cbr\\u003eLayer=Up-Neck-P3\\u003cbr\\u003eAP=%{x}\\u003cbr\\u003eHDV=%{y}\\u003cextra\\u003e\\u003c\\u002fextra\\u003e\",\"legendgroup\":\"FLYM\",\"marker\":{\"color\":\"#FF97FF\",\"symbol\":\"circle\"},\"mode\":\"markers\",\"name\":\"FLYM\",\"orientation\":\"v\",\"showlegend\":false,\"x\":[0.6336628198623657],\"xaxis\":\"x13\",\"y\":[0.3712],\"yaxis\":\"y13\",\"type\":\"scatter\"},{\"hovertemplate\":\"Tumortype=FLYM\\u003cbr\\u003eLayer=Down-Neck-P4\\u003cbr\\u003eAP=%{x}\\u003cbr\\u003eHDV=%{y}\\u003cextra\\u003e\\u003c\\u002fextra\\u003e\",\"legendgroup\":\"FLYM\",\"marker\":{\"color\":\"#FF97FF\",\"symbol\":\"circle\"},\"mode\":\"markers\",\"name\":\"FLYM\",\"orientation\":\"v\",\"showlegend\":false,\"x\":[0.6336628198623657],\"xaxis\":\"x14\",\"y\":[0.5015],\"yaxis\":\"y14\",\"type\":\"scatter\"},{\"hovertemplate\":\"Tumortype=FLYM\\u003cbr\\u003eLayer=Down-Neck-P5\\u003cbr\\u003eAP=%{x}\\u003cbr\\u003eHDV=%{y}\\u003cextra\\u003e\\u003c\\u002fextra\\u003e\",\"legendgroup\":\"FLYM\",\"marker\":{\"color\":\"#FF97FF\",\"symbol\":\"circle\"},\"mode\":\"markers\",\"name\":\"FLYM\",\"orientation\":\"v\",\"showlegend\":false,\"x\":[0.6336628198623657],\"xaxis\":\"x15\",\"y\":[0.2884],\"yaxis\":\"y15\",\"type\":\"scatter\"},{\"hovertemplate\":\"Tumortype=FLYM\\u003cbr\\u003eLayer=Down-Neck-P6\\u003cbr\\u003eAP=%{x}\\u003cbr\\u003eHDV=%{y}\\u003cextra\\u003e\\u003c\\u002fextra\\u003e\",\"legendgroup\":\"FLYM\",\"marker\":{\"color\":\"#FF97FF\",\"symbol\":\"circle\"},\"mode\":\"markers\",\"name\":\"FLYM\",\"orientation\":\"v\",\"showlegend\":false,\"x\":[0.6336628198623657],\"xaxis\":\"x6\",\"y\":[0.0849],\"yaxis\":\"y6\",\"type\":\"scatter\"},{\"hovertemplate\":\"Tumortype=FLYM\\u003cbr\\u003eLayer=Final-Neck-P3\\u003cbr\\u003eAP=%{x}\\u003cbr\\u003eHDV=%{y}\\u003cextra\\u003e\\u003c\\u002fextra\\u003e\",\"legendgroup\":\"FLYM\",\"marker\":{\"color\":\"#FF97FF\",\"symbol\":\"circle\"},\"mode\":\"markers\",\"name\":\"FLYM\",\"orientation\":\"v\",\"showlegend\":false,\"x\":[0.6336628198623657],\"xaxis\":\"x7\",\"y\":[0.45],\"yaxis\":\"y7\",\"type\":\"scatter\"},{\"hovertemplate\":\"Tumortype=FLYM\\u003cbr\\u003eLayer=Final-Neck-P4\\u003cbr\\u003eAP=%{x}\\u003cbr\\u003eHDV=%{y}\\u003cextra\\u003e\\u003c\\u002fextra\\u003e\",\"legendgroup\":\"FLYM\",\"marker\":{\"color\":\"#FF97FF\",\"symbol\":\"circle\"},\"mode\":\"markers\",\"name\":\"FLYM\",\"orientation\":\"v\",\"showlegend\":false,\"x\":[0.6336628198623657],\"xaxis\":\"x8\",\"y\":[0.4882],\"yaxis\":\"y8\",\"type\":\"scatter\"},{\"hovertemplate\":\"Tumortype=FLYM\\u003cbr\\u003eLayer=Final-Neck-P5\\u003cbr\\u003eAP=%{x}\\u003cbr\\u003eHDV=%{y}\\u003cextra\\u003e\\u003c\\u002fextra\\u003e\",\"legendgroup\":\"FLYM\",\"marker\":{\"color\":\"#FF97FF\",\"symbol\":\"circle\"},\"mode\":\"markers\",\"name\":\"FLYM\",\"orientation\":\"v\",\"showlegend\":false,\"x\":[0.6336628198623657],\"xaxis\":\"x9\",\"y\":[0.1425],\"yaxis\":\"y9\",\"type\":\"scatter\"},{\"hovertemplate\":\"Tumortype=FLYM\\u003cbr\\u003eLayer=Final-Neck-P6\\u003cbr\\u003eAP=%{x}\\u003cbr\\u003eHDV=%{y}\\u003cextra\\u003e\\u003c\\u002fextra\\u003e\",\"legendgroup\":\"FLYM\",\"marker\":{\"color\":\"#FF97FF\",\"symbol\":\"circle\"},\"mode\":\"markers\",\"name\":\"FLYM\",\"orientation\":\"v\",\"showlegend\":false,\"x\":[0.6336628198623657],\"xaxis\":\"x10\",\"y\":[0.0895],\"yaxis\":\"y10\",\"type\":\"scatter\"},{\"hovertemplate\":\"Tumortype=FLYM\\u003cbr\\u003eLayer=Head-P3\\u003cbr\\u003eAP=%{x}\\u003cbr\\u003eHDV=%{y}\\u003cextra\\u003e\\u003c\\u002fextra\\u003e\",\"legendgroup\":\"FLYM\",\"marker\":{\"color\":\"#FF97FF\",\"symbol\":\"circle\"},\"mode\":\"markers\",\"name\":\"FLYM\",\"orientation\":\"v\",\"showlegend\":false,\"x\":[0.6336628198623657],\"xaxis\":\"x\",\"y\":[0.5905],\"yaxis\":\"y\",\"type\":\"scatter\"},{\"hovertemplate\":\"Tumortype=FLYM\\u003cbr\\u003eLayer=Head-P4\\u003cbr\\u003eAP=%{x}\\u003cbr\\u003eHDV=%{y}\\u003cextra\\u003e\\u003c\\u002fextra\\u003e\",\"legendgroup\":\"FLYM\",\"marker\":{\"color\":\"#FF97FF\",\"symbol\":\"circle\"},\"mode\":\"markers\",\"name\":\"FLYM\",\"orientation\":\"v\",\"showlegend\":false,\"x\":[0.6336628198623657],\"xaxis\":\"x2\",\"y\":[0.4994],\"yaxis\":\"y2\",\"type\":\"scatter\"},{\"hovertemplate\":\"Tumortype=FLYM\\u003cbr\\u003eLayer=Head-P5\\u003cbr\\u003eAP=%{x}\\u003cbr\\u003eHDV=%{y}\\u003cextra\\u003e\\u003c\\u002fextra\\u003e\",\"legendgroup\":\"FLYM\",\"marker\":{\"color\":\"#FF97FF\",\"symbol\":\"circle\"},\"mode\":\"markers\",\"name\":\"FLYM\",\"orientation\":\"v\",\"showlegend\":false,\"x\":[0.6336628198623657],\"xaxis\":\"x3\",\"y\":[0.2938],\"yaxis\":\"y3\",\"type\":\"scatter\"},{\"hovertemplate\":\"Tumortype=FLYM\\u003cbr\\u003eLayer=Head-P6\\u003cbr\\u003eAP=%{x}\\u003cbr\\u003eHDV=%{y}\\u003cextra\\u003e\\u003c\\u002fextra\\u003e\",\"legendgroup\":\"FLYM\",\"marker\":{\"color\":\"#FF97FF\",\"symbol\":\"circle\"},\"mode\":\"markers\",\"name\":\"FLYM\",\"orientation\":\"v\",\"showlegend\":false,\"x\":[0.6336628198623657],\"xaxis\":\"x4\",\"y\":[0.2427],\"yaxis\":\"y4\",\"type\":\"scatter\"}],                        {\"template\":{\"data\":{\"histogram2dcontour\":[{\"type\":\"histogram2dcontour\",\"colorbar\":{\"outlinewidth\":0,\"ticks\":\"\"},\"colorscale\":[[0.0,\"#0d0887\"],[0.1111111111111111,\"#46039f\"],[0.2222222222222222,\"#7201a8\"],[0.3333333333333333,\"#9c179e\"],[0.4444444444444444,\"#bd3786\"],[0.5555555555555556,\"#d8576b\"],[0.6666666666666666,\"#ed7953\"],[0.7777777777777778,\"#fb9f3a\"],[0.8888888888888888,\"#fdca26\"],[1.0,\"#f0f921\"]]}],\"choropleth\":[{\"type\":\"choropleth\",\"colorbar\":{\"outlinewidth\":0,\"ticks\":\"\"}}],\"histogram2d\":[{\"type\":\"histogram2d\",\"colorbar\":{\"outlinewidth\":0,\"ticks\":\"\"},\"colorscale\":[[0.0,\"#0d0887\"],[0.1111111111111111,\"#46039f\"],[0.2222222222222222,\"#7201a8\"],[0.3333333333333333,\"#9c179e\"],[0.4444444444444444,\"#bd3786\"],[0.5555555555555556,\"#d8576b\"],[0.6666666666666666,\"#ed7953\"],[0.7777777777777778,\"#fb9f3a\"],[0.8888888888888888,\"#fdca26\"],[1.0,\"#f0f921\"]]}],\"heatmap\":[{\"type\":\"heatmap\",\"colorbar\":{\"outlinewidth\":0,\"ticks\":\"\"},\"colorscale\":[[0.0,\"#0d0887\"],[0.1111111111111111,\"#46039f\"],[0.2222222222222222,\"#7201a8\"],[0.3333333333333333,\"#9c179e\"],[0.4444444444444444,\"#bd3786\"],[0.5555555555555556,\"#d8576b\"],[0.6666666666666666,\"#ed7953\"],[0.7777777777777778,\"#fb9f3a\"],[0.8888888888888888,\"#fdca26\"],[1.0,\"#f0f921\"]]}],\"heatmapgl\":[{\"type\":\"heatmapgl\",\"colorbar\":{\"outlinewidth\":0,\"ticks\":\"\"},\"colorscale\":[[0.0,\"#0d0887\"],[0.1111111111111111,\"#46039f\"],[0.2222222222222222,\"#7201a8\"],[0.3333333333333333,\"#9c179e\"],[0.4444444444444444,\"#bd3786\"],[0.5555555555555556,\"#d8576b\"],[0.6666666666666666,\"#ed7953\"],[0.7777777777777778,\"#fb9f3a\"],[0.8888888888888888,\"#fdca26\"],[1.0,\"#f0f921\"]]}],\"contourcarpet\":[{\"type\":\"contourcarpet\",\"colorbar\":{\"outlinewidth\":0,\"ticks\":\"\"}}],\"contour\":[{\"type\":\"contour\",\"colorbar\":{\"outlinewidth\":0,\"ticks\":\"\"},\"colorscale\":[[0.0,\"#0d0887\"],[0.1111111111111111,\"#46039f\"],[0.2222222222222222,\"#7201a8\"],[0.3333333333333333,\"#9c179e\"],[0.4444444444444444,\"#bd3786\"],[0.5555555555555556,\"#d8576b\"],[0.6666666666666666,\"#ed7953\"],[0.7777777777777778,\"#fb9f3a\"],[0.8888888888888888,\"#fdca26\"],[1.0,\"#f0f921\"]]}],\"surface\":[{\"type\":\"surface\",\"colorbar\":{\"outlinewidth\":0,\"ticks\":\"\"},\"colorscale\":[[0.0,\"#0d0887\"],[0.1111111111111111,\"#46039f\"],[0.2222222222222222,\"#7201a8\"],[0.3333333333333333,\"#9c179e\"],[0.4444444444444444,\"#bd3786\"],[0.5555555555555556,\"#d8576b\"],[0.6666666666666666,\"#ed7953\"],[0.7777777777777778,\"#fb9f3a\"],[0.8888888888888888,\"#fdca26\"],[1.0,\"#f0f921\"]]}],\"mesh3d\":[{\"type\":\"mesh3d\",\"colorbar\":{\"outlinewidth\":0,\"ticks\":\"\"}}],\"scatter\":[{\"fillpattern\":{\"fillmode\":\"overlay\",\"size\":10,\"solidity\":0.2},\"type\":\"scatter\"}],\"parcoords\":[{\"type\":\"parcoords\",\"line\":{\"colorbar\":{\"outlinewidth\":0,\"ticks\":\"\"}}}],\"scatterpolargl\":[{\"type\":\"scatterpolargl\",\"marker\":{\"colorbar\":{\"outlinewidth\":0,\"ticks\":\"\"}}}],\"bar\":[{\"error_x\":{\"color\":\"#2a3f5f\"},\"error_y\":{\"color\":\"#2a3f5f\"},\"marker\":{\"line\":{\"color\":\"#E5ECF6\",\"width\":0.5},\"pattern\":{\"fillmode\":\"overlay\",\"size\":10,\"solidity\":0.2}},\"type\":\"bar\"}],\"scattergeo\":[{\"type\":\"scattergeo\",\"marker\":{\"colorbar\":{\"outlinewidth\":0,\"ticks\":\"\"}}}],\"scatterpolar\":[{\"type\":\"scatterpolar\",\"marker\":{\"colorbar\":{\"outlinewidth\":0,\"ticks\":\"\"}}}],\"histogram\":[{\"marker\":{\"pattern\":{\"fillmode\":\"overlay\",\"size\":10,\"solidity\":0.2}},\"type\":\"histogram\"}],\"scattergl\":[{\"type\":\"scattergl\",\"marker\":{\"colorbar\":{\"outlinewidth\":0,\"ticks\":\"\"}}}],\"scatter3d\":[{\"type\":\"scatter3d\",\"line\":{\"colorbar\":{\"outlinewidth\":0,\"ticks\":\"\"}},\"marker\":{\"colorbar\":{\"outlinewidth\":0,\"ticks\":\"\"}}}],\"scattermapbox\":[{\"type\":\"scattermapbox\",\"marker\":{\"colorbar\":{\"outlinewidth\":0,\"ticks\":\"\"}}}],\"scatterternary\":[{\"type\":\"scatterternary\",\"marker\":{\"colorbar\":{\"outlinewidth\":0,\"ticks\":\"\"}}}],\"scattercarpet\":[{\"type\":\"scattercarpet\",\"marker\":{\"colorbar\":{\"outlinewidth\":0,\"ticks\":\"\"}}}],\"carpet\":[{\"aaxis\":{\"endlinecolor\":\"#2a3f5f\",\"gridcolor\":\"white\",\"linecolor\":\"white\",\"minorgridcolor\":\"white\",\"startlinecolor\":\"#2a3f5f\"},\"baxis\":{\"endlinecolor\":\"#2a3f5f\",\"gridcolor\":\"white\",\"linecolor\":\"white\",\"minorgridcolor\":\"white\",\"startlinecolor\":\"#2a3f5f\"},\"type\":\"carpet\"}],\"table\":[{\"cells\":{\"fill\":{\"color\":\"#EBF0F8\"},\"line\":{\"color\":\"white\"}},\"header\":{\"fill\":{\"color\":\"#C8D4E3\"},\"line\":{\"color\":\"white\"}},\"type\":\"table\"}],\"barpolar\":[{\"marker\":{\"line\":{\"color\":\"#E5ECF6\",\"width\":0.5},\"pattern\":{\"fillmode\":\"overlay\",\"size\":10,\"solidity\":0.2}},\"type\":\"barpolar\"}],\"pie\":[{\"automargin\":true,\"type\":\"pie\"}]},\"layout\":{\"autotypenumbers\":\"strict\",\"colorway\":[\"#636efa\",\"#EF553B\",\"#00cc96\",\"#ab63fa\",\"#FFA15A\",\"#19d3f3\",\"#FF6692\",\"#B6E880\",\"#FF97FF\",\"#FECB52\"],\"font\":{\"color\":\"#2a3f5f\"},\"hovermode\":\"closest\",\"hoverlabel\":{\"align\":\"left\"},\"paper_bgcolor\":\"white\",\"plot_bgcolor\":\"#E5ECF6\",\"polar\":{\"bgcolor\":\"#E5ECF6\",\"angularaxis\":{\"gridcolor\":\"white\",\"linecolor\":\"white\",\"ticks\":\"\"},\"radialaxis\":{\"gridcolor\":\"white\",\"linecolor\":\"white\",\"ticks\":\"\"}},\"ternary\":{\"bgcolor\":\"#E5ECF6\",\"aaxis\":{\"gridcolor\":\"white\",\"linecolor\":\"white\",\"ticks\":\"\"},\"baxis\":{\"gridcolor\":\"white\",\"linecolor\":\"white\",\"ticks\":\"\"},\"caxis\":{\"gridcolor\":\"white\",\"linecolor\":\"white\",\"ticks\":\"\"}},\"coloraxis\":{\"colorbar\":{\"outlinewidth\":0,\"ticks\":\"\"}},\"colorscale\":{\"sequential\":[[0.0,\"#0d0887\"],[0.1111111111111111,\"#46039f\"],[0.2222222222222222,\"#7201a8\"],[0.3333333333333333,\"#9c179e\"],[0.4444444444444444,\"#bd3786\"],[0.5555555555555556,\"#d8576b\"],[0.6666666666666666,\"#ed7953\"],[0.7777777777777778,\"#fb9f3a\"],[0.8888888888888888,\"#fdca26\"],[1.0,\"#f0f921\"]],\"sequentialminus\":[[0.0,\"#0d0887\"],[0.1111111111111111,\"#46039f\"],[0.2222222222222222,\"#7201a8\"],[0.3333333333333333,\"#9c179e\"],[0.4444444444444444,\"#bd3786\"],[0.5555555555555556,\"#d8576b\"],[0.6666666666666666,\"#ed7953\"],[0.7777777777777778,\"#fb9f3a\"],[0.8888888888888888,\"#fdca26\"],[1.0,\"#f0f921\"]],\"diverging\":[[0,\"#8e0152\"],[0.1,\"#c51b7d\"],[0.2,\"#de77ae\"],[0.3,\"#f1b6da\"],[0.4,\"#fde0ef\"],[0.5,\"#f7f7f7\"],[0.6,\"#e6f5d0\"],[0.7,\"#b8e186\"],[0.8,\"#7fbc41\"],[0.9,\"#4d9221\"],[1,\"#276419\"]]},\"xaxis\":{\"gridcolor\":\"white\",\"linecolor\":\"white\",\"ticks\":\"\",\"title\":{\"standoff\":15},\"zerolinecolor\":\"white\",\"automargin\":true,\"zerolinewidth\":2},\"yaxis\":{\"gridcolor\":\"white\",\"linecolor\":\"white\",\"ticks\":\"\",\"title\":{\"standoff\":15},\"zerolinecolor\":\"white\",\"automargin\":true,\"zerolinewidth\":2},\"scene\":{\"xaxis\":{\"backgroundcolor\":\"#E5ECF6\",\"gridcolor\":\"white\",\"linecolor\":\"white\",\"showbackground\":true,\"ticks\":\"\",\"zerolinecolor\":\"white\",\"gridwidth\":2},\"yaxis\":{\"backgroundcolor\":\"#E5ECF6\",\"gridcolor\":\"white\",\"linecolor\":\"white\",\"showbackground\":true,\"ticks\":\"\",\"zerolinecolor\":\"white\",\"gridwidth\":2},\"zaxis\":{\"backgroundcolor\":\"#E5ECF6\",\"gridcolor\":\"white\",\"linecolor\":\"white\",\"showbackground\":true,\"ticks\":\"\",\"zerolinecolor\":\"white\",\"gridwidth\":2}},\"shapedefaults\":{\"line\":{\"color\":\"#2a3f5f\"}},\"annotationdefaults\":{\"arrowcolor\":\"#2a3f5f\",\"arrowhead\":0,\"arrowwidth\":1},\"geo\":{\"bgcolor\":\"white\",\"landcolor\":\"#E5ECF6\",\"subunitcolor\":\"white\",\"showland\":true,\"showlakes\":true,\"lakecolor\":\"white\"},\"title\":{\"x\":0.05},\"mapbox\":{\"style\":\"light\"}}},\"xaxis\":{\"anchor\":\"y\",\"domain\":[0.0,0.18400000000000002],\"title\":{\"text\":\"AP\"}},\"yaxis\":{\"anchor\":\"x\",\"domain\":[0.0,0.1975],\"title\":{\"text\":\"HDV\"}},\"xaxis2\":{\"anchor\":\"y2\",\"domain\":[0.20400000000000001,0.388],\"matches\":\"x\",\"title\":{\"text\":\"AP\"}},\"yaxis2\":{\"anchor\":\"x2\",\"domain\":[0.0,0.1975],\"matches\":\"y\",\"showticklabels\":false},\"xaxis3\":{\"anchor\":\"y3\",\"domain\":[0.40800000000000003,0.5920000000000001],\"matches\":\"x\",\"title\":{\"text\":\"AP\"}},\"yaxis3\":{\"anchor\":\"x3\",\"domain\":[0.0,0.1975],\"matches\":\"y\",\"showticklabels\":false},\"xaxis4\":{\"anchor\":\"y4\",\"domain\":[0.6120000000000001,0.7960000000000002],\"matches\":\"x\",\"title\":{\"text\":\"AP\"}},\"yaxis4\":{\"anchor\":\"x4\",\"domain\":[0.0,0.1975],\"matches\":\"y\",\"showticklabels\":false},\"xaxis5\":{\"anchor\":\"y5\",\"domain\":[0.8160000000000001,1.0],\"matches\":\"x\",\"title\":{\"text\":\"AP\"}},\"yaxis5\":{\"anchor\":\"x5\",\"domain\":[0.0,0.1975],\"matches\":\"y\",\"showticklabels\":false},\"xaxis6\":{\"anchor\":\"y6\",\"domain\":[0.0,0.18400000000000002],\"matches\":\"x\",\"showticklabels\":false},\"yaxis6\":{\"anchor\":\"x6\",\"domain\":[0.2675,0.465],\"matches\":\"y\",\"title\":{\"text\":\"HDV\"}},\"xaxis7\":{\"anchor\":\"y7\",\"domain\":[0.20400000000000001,0.388],\"matches\":\"x\",\"showticklabels\":false},\"yaxis7\":{\"anchor\":\"x7\",\"domain\":[0.2675,0.465],\"matches\":\"y\",\"showticklabels\":false},\"xaxis8\":{\"anchor\":\"y8\",\"domain\":[0.40800000000000003,0.5920000000000001],\"matches\":\"x\",\"showticklabels\":false},\"yaxis8\":{\"anchor\":\"x8\",\"domain\":[0.2675,0.465],\"matches\":\"y\",\"showticklabels\":false},\"xaxis9\":{\"anchor\":\"y9\",\"domain\":[0.6120000000000001,0.7960000000000002],\"matches\":\"x\",\"showticklabels\":false},\"yaxis9\":{\"anchor\":\"x9\",\"domain\":[0.2675,0.465],\"matches\":\"y\",\"showticklabels\":false},\"xaxis10\":{\"anchor\":\"y10\",\"domain\":[0.8160000000000001,1.0],\"matches\":\"x\",\"showticklabels\":false},\"yaxis10\":{\"anchor\":\"x10\",\"domain\":[0.2675,0.465],\"matches\":\"y\",\"showticklabels\":false},\"xaxis11\":{\"anchor\":\"y11\",\"domain\":[0.0,0.18400000000000002],\"matches\":\"x\",\"showticklabels\":false},\"yaxis11\":{\"anchor\":\"x11\",\"domain\":[0.535,0.7325],\"matches\":\"y\",\"title\":{\"text\":\"HDV\"}},\"xaxis12\":{\"anchor\":\"y12\",\"domain\":[0.20400000000000001,0.388],\"matches\":\"x\",\"showticklabels\":false},\"yaxis12\":{\"anchor\":\"x12\",\"domain\":[0.535,0.7325],\"matches\":\"y\",\"showticklabels\":false},\"xaxis13\":{\"anchor\":\"y13\",\"domain\":[0.40800000000000003,0.5920000000000001],\"matches\":\"x\",\"showticklabels\":false},\"yaxis13\":{\"anchor\":\"x13\",\"domain\":[0.535,0.7325],\"matches\":\"y\",\"showticklabels\":false},\"xaxis14\":{\"anchor\":\"y14\",\"domain\":[0.6120000000000001,0.7960000000000002],\"matches\":\"x\",\"showticklabels\":false},\"yaxis14\":{\"anchor\":\"x14\",\"domain\":[0.535,0.7325],\"matches\":\"y\",\"showticklabels\":false},\"xaxis15\":{\"anchor\":\"y15\",\"domain\":[0.8160000000000001,1.0],\"matches\":\"x\",\"showticklabels\":false},\"yaxis15\":{\"anchor\":\"x15\",\"domain\":[0.535,0.7325],\"matches\":\"y\",\"showticklabels\":false},\"xaxis16\":{\"anchor\":\"y16\",\"domain\":[0.0,0.18400000000000002],\"matches\":\"x\",\"showticklabels\":false},\"yaxis16\":{\"anchor\":\"x16\",\"domain\":[0.8025,1.0],\"matches\":\"y\",\"title\":{\"text\":\"HDV\"}},\"xaxis17\":{\"anchor\":\"y17\",\"domain\":[0.20400000000000001,0.388],\"matches\":\"x\",\"showticklabels\":false},\"yaxis17\":{\"anchor\":\"x17\",\"domain\":[0.8025,1.0],\"matches\":\"y\",\"showticklabels\":false},\"xaxis18\":{\"anchor\":\"y18\",\"domain\":[0.40800000000000003,0.5920000000000001],\"matches\":\"x\",\"showticklabels\":false},\"yaxis18\":{\"anchor\":\"x18\",\"domain\":[0.8025,1.0],\"matches\":\"y\",\"showticklabels\":false},\"xaxis19\":{\"anchor\":\"y19\",\"domain\":[0.6120000000000001,0.7960000000000002],\"matches\":\"x\",\"showticklabels\":false},\"yaxis19\":{\"anchor\":\"x19\",\"domain\":[0.8025,1.0],\"matches\":\"y\",\"showticklabels\":false},\"xaxis20\":{\"anchor\":\"y20\",\"domain\":[0.8160000000000001,1.0],\"matches\":\"x\",\"showticklabels\":false},\"yaxis20\":{\"anchor\":\"x20\",\"domain\":[0.8025,1.0],\"matches\":\"y\",\"showticklabels\":false},\"annotations\":[{\"font\":{},\"showarrow\":false,\"text\":\"Layer=Head-P3\",\"x\":0.09200000000000001,\"xanchor\":\"center\",\"xref\":\"paper\",\"y\":0.1975,\"yanchor\":\"bottom\",\"yref\":\"paper\"},{\"font\":{},\"showarrow\":false,\"text\":\"Layer=Head-P4\",\"x\":0.29600000000000004,\"xanchor\":\"center\",\"xref\":\"paper\",\"y\":0.1975,\"yanchor\":\"bottom\",\"yref\":\"paper\"},{\"font\":{},\"showarrow\":false,\"text\":\"Layer=Head-P5\",\"x\":0.5,\"xanchor\":\"center\",\"xref\":\"paper\",\"y\":0.1975,\"yanchor\":\"bottom\",\"yref\":\"paper\"},{\"font\":{},\"showarrow\":false,\"text\":\"Layer=Head-P6\",\"x\":0.7040000000000002,\"xanchor\":\"center\",\"xref\":\"paper\",\"y\":0.1975,\"yanchor\":\"bottom\",\"yref\":\"paper\"},{\"font\":{},\"showarrow\":false,\"text\":\"Layer=Down-Neck-P6\",\"x\":0.09200000000000001,\"xanchor\":\"center\",\"xref\":\"paper\",\"y\":0.465,\"yanchor\":\"bottom\",\"yref\":\"paper\"},{\"font\":{},\"showarrow\":false,\"text\":\"Layer=Final-Neck-P3\",\"x\":0.29600000000000004,\"xanchor\":\"center\",\"xref\":\"paper\",\"y\":0.465,\"yanchor\":\"bottom\",\"yref\":\"paper\"},{\"font\":{},\"showarrow\":false,\"text\":\"Layer=Final-Neck-P4\",\"x\":0.5,\"xanchor\":\"center\",\"xref\":\"paper\",\"y\":0.465,\"yanchor\":\"bottom\",\"yref\":\"paper\"},{\"font\":{},\"showarrow\":false,\"text\":\"Layer=Final-Neck-P5\",\"x\":0.7040000000000002,\"xanchor\":\"center\",\"xref\":\"paper\",\"y\":0.465,\"yanchor\":\"bottom\",\"yref\":\"paper\"},{\"font\":{},\"showarrow\":false,\"text\":\"Layer=Final-Neck-P6\",\"x\":0.908,\"xanchor\":\"center\",\"xref\":\"paper\",\"y\":0.465,\"yanchor\":\"bottom\",\"yref\":\"paper\"},{\"font\":{},\"showarrow\":false,\"text\":\"Layer=Up-Neck-P5\",\"x\":0.09200000000000001,\"xanchor\":\"center\",\"xref\":\"paper\",\"y\":0.7325,\"yanchor\":\"bottom\",\"yref\":\"paper\"},{\"font\":{},\"showarrow\":false,\"text\":\"Layer=Up-Neck-P4\",\"x\":0.29600000000000004,\"xanchor\":\"center\",\"xref\":\"paper\",\"y\":0.7325,\"yanchor\":\"bottom\",\"yref\":\"paper\"},{\"font\":{},\"showarrow\":false,\"text\":\"Layer=Up-Neck-P3\",\"x\":0.5,\"xanchor\":\"center\",\"xref\":\"paper\",\"y\":0.7325,\"yanchor\":\"bottom\",\"yref\":\"paper\"},{\"font\":{},\"showarrow\":false,\"text\":\"Layer=Down-Neck-P4\",\"x\":0.7040000000000002,\"xanchor\":\"center\",\"xref\":\"paper\",\"y\":0.7325,\"yanchor\":\"bottom\",\"yref\":\"paper\"},{\"font\":{},\"showarrow\":false,\"text\":\"Layer=Down-Neck-P5\",\"x\":0.908,\"xanchor\":\"center\",\"xref\":\"paper\",\"y\":0.7325,\"yanchor\":\"bottom\",\"yref\":\"paper\"},{\"font\":{},\"showarrow\":false,\"text\":\"Layer=P2\",\"x\":0.09200000000000001,\"xanchor\":\"center\",\"xref\":\"paper\",\"y\":1.0,\"yanchor\":\"bottom\",\"yref\":\"paper\"},{\"font\":{},\"showarrow\":false,\"text\":\"Layer=P3\",\"x\":0.29600000000000004,\"xanchor\":\"center\",\"xref\":\"paper\",\"y\":1.0,\"yanchor\":\"bottom\",\"yref\":\"paper\"},{\"font\":{},\"showarrow\":false,\"text\":\"Layer=P4\",\"x\":0.5,\"xanchor\":\"center\",\"xref\":\"paper\",\"y\":1.0,\"yanchor\":\"bottom\",\"yref\":\"paper\"},{\"font\":{},\"showarrow\":false,\"text\":\"Layer=P5\",\"x\":0.7040000000000002,\"xanchor\":\"center\",\"xref\":\"paper\",\"y\":1.0,\"yanchor\":\"bottom\",\"yref\":\"paper\"},{\"font\":{},\"showarrow\":false,\"text\":\"Layer=P6\",\"x\":0.908,\"xanchor\":\"center\",\"xref\":\"paper\",\"y\":1.0,\"yanchor\":\"bottom\",\"yref\":\"paper\"}],\"legend\":{\"title\":{\"text\":\"Tumortype\"},\"tracegroupgap\":0},\"margin\":{\"t\":60}},                        {\"responsive\": true}                    ).then(function(){\n",
       "                            \n",
       "var gd = document.getElementById('c90df3e1-584e-4667-9363-bdebc55995e0');\n",
       "var x = new MutationObserver(function (mutations, observer) {{\n",
       "        var display = window.getComputedStyle(gd).display;\n",
       "        if (!display || display === 'none') {{\n",
       "            console.log([gd, 'removed!']);\n",
       "            Plotly.purge(gd);\n",
       "            observer.disconnect();\n",
       "        }}\n",
       "}});\n",
       "\n",
       "// Listen for the removal of the full notebook cells\n",
       "var notebookContainer = gd.closest('#notebook-container');\n",
       "if (notebookContainer) {{\n",
       "    x.observe(notebookContainer, {childList: true});\n",
       "}}\n",
       "\n",
       "// Listen for the clearing of the current output cell\n",
       "var outputEl = gd.closest('.output');\n",
       "if (outputEl) {{\n",
       "    x.observe(outputEl, {childList: true});\n",
       "}}\n",
       "\n",
       "                        })                };                });            </script>        </div>"
      ]
     },
     "metadata": {},
     "output_type": "display_data"
    }
   ],
   "source": [
    "plot_similarity(model_name, result_dir='results/reduced_dims100', metric_dir=metric_dir, kind='scatter', all_models=False, all_layers=True, return_df=False)"
   ]
  },
  {
   "cell_type": "code",
   "execution_count": 67,
   "metadata": {},
   "outputs": [
    {
     "data": {
      "application/vnd.plotly.v1+json": {
       "config": {
        "plotlyServerURL": "https://plot.ly"
       },
       "data": [
        {
         "hovertemplate": "Tumortype=HMEL<br>Layer=P2<br>AP=%{x}<br>HDV=%{y}<extra></extra>",
         "legendgroup": "HMEL",
         "marker": {
          "color": "#636efa",
          "symbol": "circle"
         },
         "mode": "markers",
         "name": "HMEL",
         "orientation": "v",
         "showlegend": true,
         "type": "scatter",
         "x": [
          0.779650092124939,
          0.7686851620674133,
          0.7667072415351868,
          0.7741196155548096
         ],
         "xaxis": "x16",
         "y": [
          0.1836,
          0.1967,
          0.1867,
          0.1889
         ],
         "yaxis": "y16"
        },
        {
         "hovertemplate": "Tumortype=HMEL<br>Layer=P3<br>AP=%{x}<br>HDV=%{y}<extra></extra>",
         "legendgroup": "HMEL",
         "marker": {
          "color": "#636efa",
          "symbol": "circle"
         },
         "mode": "markers",
         "name": "HMEL",
         "orientation": "v",
         "showlegend": false,
         "type": "scatter",
         "x": [
          0.779650092124939,
          0.7686851620674133,
          0.7667072415351868,
          0.7741196155548096
         ],
         "xaxis": "x17",
         "y": [
          0.4857,
          0.4343,
          0.4274,
          0.5076
         ],
         "yaxis": "y17"
        },
        {
         "hovertemplate": "Tumortype=HMEL<br>Layer=P4<br>AP=%{x}<br>HDV=%{y}<extra></extra>",
         "legendgroup": "HMEL",
         "marker": {
          "color": "#636efa",
          "symbol": "circle"
         },
         "mode": "markers",
         "name": "HMEL",
         "orientation": "v",
         "showlegend": false,
         "type": "scatter",
         "x": [
          0.779650092124939,
          0.7686851620674133,
          0.7667072415351868,
          0.7741196155548096
         ],
         "xaxis": "x18",
         "y": [
          0.5645,
          0.6081,
          0.6075,
          0.5769
         ],
         "yaxis": "y18"
        },
        {
         "hovertemplate": "Tumortype=HMEL<br>Layer=P5<br>AP=%{x}<br>HDV=%{y}<extra></extra>",
         "legendgroup": "HMEL",
         "marker": {
          "color": "#636efa",
          "symbol": "circle"
         },
         "mode": "markers",
         "name": "HMEL",
         "orientation": "v",
         "showlegend": false,
         "type": "scatter",
         "x": [
          0.779650092124939,
          0.7686851620674133,
          0.7667072415351868,
          0.7741196155548096
         ],
         "xaxis": "x19",
         "y": [
          0.3231,
          0.4504,
          0.558,
          0.3036
         ],
         "yaxis": "y19"
        },
        {
         "hovertemplate": "Tumortype=HMEL<br>Layer=P6<br>AP=%{x}<br>HDV=%{y}<extra></extra>",
         "legendgroup": "HMEL",
         "marker": {
          "color": "#636efa",
          "symbol": "circle"
         },
         "mode": "markers",
         "name": "HMEL",
         "orientation": "v",
         "showlegend": false,
         "type": "scatter",
         "x": [
          0.779650092124939,
          0.7686851620674133,
          0.7667072415351868,
          0.7741196155548096
         ],
         "xaxis": "x20",
         "y": [
          0.2494,
          0.4062,
          0.0721,
          0.3348
         ],
         "yaxis": "y20"
        },
        {
         "hovertemplate": "Tumortype=HMEL<br>Layer=Up-Neck-P5<br>AP=%{x}<br>HDV=%{y}<extra></extra>",
         "legendgroup": "HMEL",
         "marker": {
          "color": "#636efa",
          "symbol": "circle"
         },
         "mode": "markers",
         "name": "HMEL",
         "orientation": "v",
         "showlegend": false,
         "type": "scatter",
         "x": [
          0.779650092124939,
          0.7686851620674133,
          0.7667072415351868,
          0.7741196155548096
         ],
         "xaxis": "x11",
         "y": [
          0.246,
          0.2888,
          0.1353,
          0.1618
         ],
         "yaxis": "y11"
        },
        {
         "hovertemplate": "Tumortype=HMEL<br>Layer=Up-Neck-P4<br>AP=%{x}<br>HDV=%{y}<extra></extra>",
         "legendgroup": "HMEL",
         "marker": {
          "color": "#636efa",
          "symbol": "circle"
         },
         "mode": "markers",
         "name": "HMEL",
         "orientation": "v",
         "showlegend": false,
         "type": "scatter",
         "x": [
          0.779650092124939,
          0.7686851620674133,
          0.7667072415351868,
          0.7741196155548096
         ],
         "xaxis": "x12",
         "y": [
          0.4835,
          0.5693,
          0.4817,
          0.55
         ],
         "yaxis": "y12"
        },
        {
         "hovertemplate": "Tumortype=HMEL<br>Layer=Up-Neck-P3<br>AP=%{x}<br>HDV=%{y}<extra></extra>",
         "legendgroup": "HMEL",
         "marker": {
          "color": "#636efa",
          "symbol": "circle"
         },
         "mode": "markers",
         "name": "HMEL",
         "orientation": "v",
         "showlegend": false,
         "type": "scatter",
         "x": [
          0.779650092124939,
          0.7686851620674133,
          0.7667072415351868,
          0.7741196155548096
         ],
         "xaxis": "x13",
         "y": [
          0.3985,
          0.4704,
          0.5117,
          0.469
         ],
         "yaxis": "y13"
        },
        {
         "hovertemplate": "Tumortype=HMEL<br>Layer=Down-Neck-P4<br>AP=%{x}<br>HDV=%{y}<extra></extra>",
         "legendgroup": "HMEL",
         "marker": {
          "color": "#636efa",
          "symbol": "circle"
         },
         "mode": "markers",
         "name": "HMEL",
         "orientation": "v",
         "showlegend": false,
         "type": "scatter",
         "x": [
          0.779650092124939,
          0.7686851620674133,
          0.7667072415351868,
          0.7741196155548096
         ],
         "xaxis": "x14",
         "y": [
          0.5903,
          0.6691,
          0.5133,
          0.6458
         ],
         "yaxis": "y14"
        },
        {
         "hovertemplate": "Tumortype=HMEL<br>Layer=Down-Neck-P5<br>AP=%{x}<br>HDV=%{y}<extra></extra>",
         "legendgroup": "HMEL",
         "marker": {
          "color": "#636efa",
          "symbol": "circle"
         },
         "mode": "markers",
         "name": "HMEL",
         "orientation": "v",
         "showlegend": false,
         "type": "scatter",
         "x": [
          0.779650092124939,
          0.7686851620674133,
          0.7667072415351868,
          0.7741196155548096
         ],
         "xaxis": "x15",
         "y": [
          0.1405,
          0.2081,
          0.1866,
          0.4939
         ],
         "yaxis": "y15"
        },
        {
         "hovertemplate": "Tumortype=HMEL<br>Layer=Down-Neck-P6<br>AP=%{x}<br>HDV=%{y}<extra></extra>",
         "legendgroup": "HMEL",
         "marker": {
          "color": "#636efa",
          "symbol": "circle"
         },
         "mode": "markers",
         "name": "HMEL",
         "orientation": "v",
         "showlegend": false,
         "type": "scatter",
         "x": [
          0.779650092124939,
          0.7686851620674133,
          0.7667072415351868,
          0.7741196155548096
         ],
         "xaxis": "x6",
         "y": [
          0.1167,
          0.1674,
          0.1311,
          0.0999
         ],
         "yaxis": "y6"
        },
        {
         "hovertemplate": "Tumortype=HMEL<br>Layer=Final-Neck-P3<br>AP=%{x}<br>HDV=%{y}<extra></extra>",
         "legendgroup": "HMEL",
         "marker": {
          "color": "#636efa",
          "symbol": "circle"
         },
         "mode": "markers",
         "name": "HMEL",
         "orientation": "v",
         "showlegend": false,
         "type": "scatter",
         "x": [
          0.779650092124939,
          0.7686851620674133,
          0.7667072415351868,
          0.7741196155548096
         ],
         "xaxis": "x7",
         "y": [
          0.3345,
          0.5693,
          0.6279,
          0.5412
         ],
         "yaxis": "y7"
        },
        {
         "hovertemplate": "Tumortype=HMEL<br>Layer=Final-Neck-P4<br>AP=%{x}<br>HDV=%{y}<extra></extra>",
         "legendgroup": "HMEL",
         "marker": {
          "color": "#636efa",
          "symbol": "circle"
         },
         "mode": "markers",
         "name": "HMEL",
         "orientation": "v",
         "showlegend": false,
         "type": "scatter",
         "x": [
          0.779650092124939,
          0.7686851620674133,
          0.7667072415351868,
          0.7741196155548096
         ],
         "xaxis": "x8",
         "y": [
          0.573,
          0.611,
          0.5937,
          0.5913
         ],
         "yaxis": "y8"
        },
        {
         "hovertemplate": "Tumortype=HMEL<br>Layer=Final-Neck-P5<br>AP=%{x}<br>HDV=%{y}<extra></extra>",
         "legendgroup": "HMEL",
         "marker": {
          "color": "#636efa",
          "symbol": "circle"
         },
         "mode": "markers",
         "name": "HMEL",
         "orientation": "v",
         "showlegend": false,
         "type": "scatter",
         "x": [
          0.779650092124939,
          0.7686851620674133,
          0.7667072415351868,
          0.7741196155548096
         ],
         "xaxis": "x9",
         "y": [
          0.1304,
          0.1951,
          0.4746,
          0.0767
         ],
         "yaxis": "y9"
        },
        {
         "hovertemplate": "Tumortype=HMEL<br>Layer=Final-Neck-P6<br>AP=%{x}<br>HDV=%{y}<extra></extra>",
         "legendgroup": "HMEL",
         "marker": {
          "color": "#636efa",
          "symbol": "circle"
         },
         "mode": "markers",
         "name": "HMEL",
         "orientation": "v",
         "showlegend": false,
         "type": "scatter",
         "x": [
          0.779650092124939,
          0.7686851620674133,
          0.7667072415351868,
          0.7741196155548096
         ],
         "xaxis": "x10",
         "y": [
          0.1173,
          0.1559,
          0.1338,
          0.0885
         ],
         "yaxis": "y10"
        },
        {
         "hovertemplate": "Tumortype=HMEL<br>Layer=Head-P3<br>AP=%{x}<br>HDV=%{y}<extra></extra>",
         "legendgroup": "HMEL",
         "marker": {
          "color": "#636efa",
          "symbol": "circle"
         },
         "mode": "markers",
         "name": "HMEL",
         "orientation": "v",
         "showlegend": false,
         "type": "scatter",
         "x": [
          0.779650092124939,
          0.7686851620674133,
          0.7667072415351868,
          0.7741196155548096
         ],
         "xaxis": "x",
         "y": [
          0.5817,
          0.6429,
          0.647,
          0.6684
         ],
         "yaxis": "y"
        },
        {
         "hovertemplate": "Tumortype=HMEL<br>Layer=Head-P4<br>AP=%{x}<br>HDV=%{y}<extra></extra>",
         "legendgroup": "HMEL",
         "marker": {
          "color": "#636efa",
          "symbol": "circle"
         },
         "mode": "markers",
         "name": "HMEL",
         "orientation": "v",
         "showlegend": false,
         "type": "scatter",
         "x": [
          0.779650092124939,
          0.7686851620674133,
          0.7667072415351868,
          0.7741196155548096
         ],
         "xaxis": "x2",
         "y": [
          0.5943,
          0.6364,
          0.6328,
          0.5974
         ],
         "yaxis": "y2"
        },
        {
         "hovertemplate": "Tumortype=HMEL<br>Layer=Head-P5<br>AP=%{x}<br>HDV=%{y}<extra></extra>",
         "legendgroup": "HMEL",
         "marker": {
          "color": "#636efa",
          "symbol": "circle"
         },
         "mode": "markers",
         "name": "HMEL",
         "orientation": "v",
         "showlegend": false,
         "type": "scatter",
         "x": [
          0.779650092124939,
          0.7686851620674133,
          0.7667072415351868,
          0.7741196155548096
         ],
         "xaxis": "x3",
         "y": [
          0.2879,
          0.332,
          0.6594,
          0.2701
         ],
         "yaxis": "y3"
        },
        {
         "hovertemplate": "Tumortype=HMEL<br>Layer=Head-P6<br>AP=%{x}<br>HDV=%{y}<extra></extra>",
         "legendgroup": "HMEL",
         "marker": {
          "color": "#636efa",
          "symbol": "circle"
         },
         "mode": "markers",
         "name": "HMEL",
         "orientation": "v",
         "showlegend": false,
         "type": "scatter",
         "x": [
          0.779650092124939,
          0.7686851620674133,
          0.7667072415351868,
          0.7741196155548096
         ],
         "xaxis": "x4",
         "y": [
          0.263,
          0.3053,
          0.2643,
          0.2393
         ],
         "yaxis": "y4"
        },
        {
         "hovertemplate": "Tumortype=HBLC<br>Layer=P2<br>AP=%{x}<br>HDV=%{y}<extra></extra>",
         "legendgroup": "HBLC",
         "marker": {
          "color": "#EF553B",
          "symbol": "circle"
         },
         "mode": "markers",
         "name": "HBLC",
         "orientation": "v",
         "showlegend": true,
         "type": "scatter",
         "x": [
          0.7474676966667175,
          0.7328149676322937,
          0.7380974888801575,
          0.7580313682556152
         ],
         "xaxis": "x16",
         "y": [
          0.1714,
          0.1799,
          0.1407,
          0.1663
         ],
         "yaxis": "y16"
        },
        {
         "hovertemplate": "Tumortype=HBLC<br>Layer=P3<br>AP=%{x}<br>HDV=%{y}<extra></extra>",
         "legendgroup": "HBLC",
         "marker": {
          "color": "#EF553B",
          "symbol": "circle"
         },
         "mode": "markers",
         "name": "HBLC",
         "orientation": "v",
         "showlegend": false,
         "type": "scatter",
         "x": [
          0.7474676966667175,
          0.7328149676322937,
          0.7380974888801575,
          0.7580313682556152
         ],
         "xaxis": "x17",
         "y": [
          0.4524,
          0.4282,
          0.3911,
          0.487
         ],
         "yaxis": "y17"
        },
        {
         "hovertemplate": "Tumortype=HBLC<br>Layer=P4<br>AP=%{x}<br>HDV=%{y}<extra></extra>",
         "legendgroup": "HBLC",
         "marker": {
          "color": "#EF553B",
          "symbol": "circle"
         },
         "mode": "markers",
         "name": "HBLC",
         "orientation": "v",
         "showlegend": false,
         "type": "scatter",
         "x": [
          0.7474676966667175,
          0.7328149676322937,
          0.7380974888801575,
          0.7580313682556152
         ],
         "xaxis": "x18",
         "y": [
          0.504,
          0.5611,
          0.5078,
          0.505
         ],
         "yaxis": "y18"
        },
        {
         "hovertemplate": "Tumortype=HBLC<br>Layer=P5<br>AP=%{x}<br>HDV=%{y}<extra></extra>",
         "legendgroup": "HBLC",
         "marker": {
          "color": "#EF553B",
          "symbol": "circle"
         },
         "mode": "markers",
         "name": "HBLC",
         "orientation": "v",
         "showlegend": false,
         "type": "scatter",
         "x": [
          0.7474676966667175,
          0.7328149676322937,
          0.7380974888801575,
          0.7580313682556152
         ],
         "xaxis": "x19",
         "y": [
          0.3204,
          0.4876,
          0.5355,
          0.3191
         ],
         "yaxis": "y19"
        },
        {
         "hovertemplate": "Tumortype=HBLC<br>Layer=P6<br>AP=%{x}<br>HDV=%{y}<extra></extra>",
         "legendgroup": "HBLC",
         "marker": {
          "color": "#EF553B",
          "symbol": "circle"
         },
         "mode": "markers",
         "name": "HBLC",
         "orientation": "v",
         "showlegend": false,
         "type": "scatter",
         "x": [
          0.7474676966667175,
          0.7328149676322937,
          0.7380974888801575,
          0.7580313682556152
         ],
         "xaxis": "x20",
         "y": [
          0.2908,
          0.4423,
          0.1059,
          0.3566
         ],
         "yaxis": "y20"
        },
        {
         "hovertemplate": "Tumortype=HBLC<br>Layer=Up-Neck-P5<br>AP=%{x}<br>HDV=%{y}<extra></extra>",
         "legendgroup": "HBLC",
         "marker": {
          "color": "#EF553B",
          "symbol": "circle"
         },
         "mode": "markers",
         "name": "HBLC",
         "orientation": "v",
         "showlegend": false,
         "type": "scatter",
         "x": [
          0.7474676966667175,
          0.7328149676322937,
          0.7380974888801575,
          0.7580313682556152
         ],
         "xaxis": "x11",
         "y": [
          0.1898,
          0.1823,
          0.0738,
          0.192
         ],
         "yaxis": "y11"
        },
        {
         "hovertemplate": "Tumortype=HBLC<br>Layer=Up-Neck-P4<br>AP=%{x}<br>HDV=%{y}<extra></extra>",
         "legendgroup": "HBLC",
         "marker": {
          "color": "#EF553B",
          "symbol": "circle"
         },
         "mode": "markers",
         "name": "HBLC",
         "orientation": "v",
         "showlegend": false,
         "type": "scatter",
         "x": [
          0.7474676966667175,
          0.7328149676322937,
          0.7380974888801575,
          0.7580313682556152
         ],
         "xaxis": "x12",
         "y": [
          0.4118,
          0.5128,
          0.3606,
          0.5072
         ],
         "yaxis": "y12"
        },
        {
         "hovertemplate": "Tumortype=HBLC<br>Layer=Up-Neck-P3<br>AP=%{x}<br>HDV=%{y}<extra></extra>",
         "legendgroup": "HBLC",
         "marker": {
          "color": "#EF553B",
          "symbol": "circle"
         },
         "mode": "markers",
         "name": "HBLC",
         "orientation": "v",
         "showlegend": false,
         "type": "scatter",
         "x": [
          0.7474676966667175,
          0.7328149676322937,
          0.7380974888801575,
          0.7580313682556152
         ],
         "xaxis": "x13",
         "y": [
          0.3984,
          0.4833,
          0.4712,
          0.4089
         ],
         "yaxis": "y13"
        },
        {
         "hovertemplate": "Tumortype=HBLC<br>Layer=Down-Neck-P4<br>AP=%{x}<br>HDV=%{y}<extra></extra>",
         "legendgroup": "HBLC",
         "marker": {
          "color": "#EF553B",
          "symbol": "circle"
         },
         "mode": "markers",
         "name": "HBLC",
         "orientation": "v",
         "showlegend": false,
         "type": "scatter",
         "x": [
          0.7474676966667175,
          0.7328149676322937,
          0.7380974888801575,
          0.7580313682556152
         ],
         "xaxis": "x14",
         "y": [
          0.536,
          0.6038,
          0.4908,
          0.3362
         ],
         "yaxis": "y14"
        },
        {
         "hovertemplate": "Tumortype=HBLC<br>Layer=Down-Neck-P5<br>AP=%{x}<br>HDV=%{y}<extra></extra>",
         "legendgroup": "HBLC",
         "marker": {
          "color": "#EF553B",
          "symbol": "circle"
         },
         "mode": "markers",
         "name": "HBLC",
         "orientation": "v",
         "showlegend": false,
         "type": "scatter",
         "x": [
          0.7474676966667175,
          0.7328149676322937,
          0.7380974888801575,
          0.7580313682556152
         ],
         "xaxis": "x15",
         "y": [
          0.0998,
          0.1746,
          0.0863,
          0.0824
         ],
         "yaxis": "y15"
        },
        {
         "hovertemplate": "Tumortype=HBLC<br>Layer=Down-Neck-P6<br>AP=%{x}<br>HDV=%{y}<extra></extra>",
         "legendgroup": "HBLC",
         "marker": {
          "color": "#EF553B",
          "symbol": "circle"
         },
         "mode": "markers",
         "name": "HBLC",
         "orientation": "v",
         "showlegend": false,
         "type": "scatter",
         "x": [
          0.7474676966667175,
          0.7328149676322937,
          0.7380974888801575,
          0.7580313682556152
         ],
         "xaxis": "x6",
         "y": [
          0.1111,
          0.0996,
          0.0896,
          0.0959
         ],
         "yaxis": "y6"
        },
        {
         "hovertemplate": "Tumortype=HBLC<br>Layer=Final-Neck-P3<br>AP=%{x}<br>HDV=%{y}<extra></extra>",
         "legendgroup": "HBLC",
         "marker": {
          "color": "#EF553B",
          "symbol": "circle"
         },
         "mode": "markers",
         "name": "HBLC",
         "orientation": "v",
         "showlegend": false,
         "type": "scatter",
         "x": [
          0.7474676966667175,
          0.7328149676322937,
          0.7380974888801575,
          0.7580313682556152
         ],
         "xaxis": "x7",
         "y": [
          0.3947,
          0.5575,
          0.5503,
          0.5022
         ],
         "yaxis": "y7"
        },
        {
         "hovertemplate": "Tumortype=HBLC<br>Layer=Final-Neck-P4<br>AP=%{x}<br>HDV=%{y}<extra></extra>",
         "legendgroup": "HBLC",
         "marker": {
          "color": "#EF553B",
          "symbol": "circle"
         },
         "mode": "markers",
         "name": "HBLC",
         "orientation": "v",
         "showlegend": false,
         "type": "scatter",
         "x": [
          0.7474676966667175,
          0.7328149676322937,
          0.7380974888801575,
          0.7580313682556152
         ],
         "xaxis": "x8",
         "y": [
          0.5319,
          0.5654,
          0.5321,
          0.2261
         ],
         "yaxis": "y8"
        },
        {
         "hovertemplate": "Tumortype=HBLC<br>Layer=Final-Neck-P5<br>AP=%{x}<br>HDV=%{y}<extra></extra>",
         "legendgroup": "HBLC",
         "marker": {
          "color": "#EF553B",
          "symbol": "circle"
         },
         "mode": "markers",
         "name": "HBLC",
         "orientation": "v",
         "showlegend": false,
         "type": "scatter",
         "x": [
          0.7474676966667175,
          0.7328149676322937,
          0.7380974888801575,
          0.7580313682556152
         ],
         "xaxis": "x9",
         "y": [
          0.0803,
          0.1293,
          0.1144,
          0.1186
         ],
         "yaxis": "y9"
        },
        {
         "hovertemplate": "Tumortype=HBLC<br>Layer=Final-Neck-P6<br>AP=%{x}<br>HDV=%{y}<extra></extra>",
         "legendgroup": "HBLC",
         "marker": {
          "color": "#EF553B",
          "symbol": "circle"
         },
         "mode": "markers",
         "name": "HBLC",
         "orientation": "v",
         "showlegend": false,
         "type": "scatter",
         "x": [
          0.7474676966667175,
          0.7328149676322937,
          0.7380974888801575,
          0.7580313682556152
         ],
         "xaxis": "x10",
         "y": [
          0.0809,
          0.0995,
          0.0989,
          0.0928
         ],
         "yaxis": "y10"
        },
        {
         "hovertemplate": "Tumortype=HBLC<br>Layer=Head-P3<br>AP=%{x}<br>HDV=%{y}<extra></extra>",
         "legendgroup": "HBLC",
         "marker": {
          "color": "#EF553B",
          "symbol": "circle"
         },
         "mode": "markers",
         "name": "HBLC",
         "orientation": "v",
         "showlegend": false,
         "type": "scatter",
         "x": [
          0.7474676966667175,
          0.7328149676322937,
          0.7380974888801575,
          0.7580313682556152
         ],
         "xaxis": "x",
         "y": [
          0.5852,
          0.6368,
          0.6174,
          0.6555
         ],
         "yaxis": "y"
        },
        {
         "hovertemplate": "Tumortype=HBLC<br>Layer=Head-P4<br>AP=%{x}<br>HDV=%{y}<extra></extra>",
         "legendgroup": "HBLC",
         "marker": {
          "color": "#EF553B",
          "symbol": "circle"
         },
         "mode": "markers",
         "name": "HBLC",
         "orientation": "v",
         "showlegend": false,
         "type": "scatter",
         "x": [
          0.7474676966667175,
          0.7328149676322937,
          0.7380974888801575,
          0.7580313682556152
         ],
         "xaxis": "x2",
         "y": [
          0.5399,
          0.5872,
          0.5716,
          0.496
         ],
         "yaxis": "y2"
        },
        {
         "hovertemplate": "Tumortype=HBLC<br>Layer=Head-P5<br>AP=%{x}<br>HDV=%{y}<extra></extra>",
         "legendgroup": "HBLC",
         "marker": {
          "color": "#EF553B",
          "symbol": "circle"
         },
         "mode": "markers",
         "name": "HBLC",
         "orientation": "v",
         "showlegend": false,
         "type": "scatter",
         "x": [
          0.7474676966667175,
          0.7328149676322937,
          0.7380974888801575,
          0.7580313682556152
         ],
         "xaxis": "x3",
         "y": [
          0.2395,
          0.3012,
          0.4017,
          0.254
         ],
         "yaxis": "y3"
        },
        {
         "hovertemplate": "Tumortype=HBLC<br>Layer=Head-P6<br>AP=%{x}<br>HDV=%{y}<extra></extra>",
         "legendgroup": "HBLC",
         "marker": {
          "color": "#EF553B",
          "symbol": "circle"
         },
         "mode": "markers",
         "name": "HBLC",
         "orientation": "v",
         "showlegend": false,
         "type": "scatter",
         "x": [
          0.7474676966667175,
          0.7328149676322937,
          0.7380974888801575,
          0.7580313682556152
         ],
         "xaxis": "x4",
         "y": [
          0.2408,
          0.2474,
          0.2449,
          0.2439
         ],
         "yaxis": "y4"
        },
        {
         "hovertemplate": "Tumortype=CMC<br>Layer=P2<br>AP=%{x}<br>HDV=%{y}<extra></extra>",
         "legendgroup": "CMC",
         "marker": {
          "color": "#00cc96",
          "symbol": "circle"
         },
         "mode": "markers",
         "name": "CMC",
         "orientation": "v",
         "showlegend": true,
         "type": "scatter",
         "x": [
          0.5995485782623291,
          0.550902247428894,
          0.5355783104896545,
          0.6173186898231506
         ],
         "xaxis": "x16",
         "y": [
          0.1561,
          0.1611,
          0.1465,
          0.145
         ],
         "yaxis": "y16"
        },
        {
         "hovertemplate": "Tumortype=CMC<br>Layer=P3<br>AP=%{x}<br>HDV=%{y}<extra></extra>",
         "legendgroup": "CMC",
         "marker": {
          "color": "#00cc96",
          "symbol": "circle"
         },
         "mode": "markers",
         "name": "CMC",
         "orientation": "v",
         "showlegend": false,
         "type": "scatter",
         "x": [
          0.5995485782623291,
          0.550902247428894,
          0.5355783104896545,
          0.6173186898231506
         ],
         "xaxis": "x17",
         "y": [
          0.3397,
          0.3126,
          0.3114,
          0.3194
         ],
         "yaxis": "y17"
        },
        {
         "hovertemplate": "Tumortype=CMC<br>Layer=P4<br>AP=%{x}<br>HDV=%{y}<extra></extra>",
         "legendgroup": "CMC",
         "marker": {
          "color": "#00cc96",
          "symbol": "circle"
         },
         "mode": "markers",
         "name": "CMC",
         "orientation": "v",
         "showlegend": false,
         "type": "scatter",
         "x": [
          0.5995485782623291,
          0.550902247428894,
          0.5355783104896545,
          0.6173186898231506
         ],
         "xaxis": "x18",
         "y": [
          0.4239,
          0.4688,
          0.4951,
          0.484
         ],
         "yaxis": "y18"
        },
        {
         "hovertemplate": "Tumortype=CMC<br>Layer=P5<br>AP=%{x}<br>HDV=%{y}<extra></extra>",
         "legendgroup": "CMC",
         "marker": {
          "color": "#00cc96",
          "symbol": "circle"
         },
         "mode": "markers",
         "name": "CMC",
         "orientation": "v",
         "showlegend": false,
         "type": "scatter",
         "x": [
          0.5995485782623291,
          0.550902247428894,
          0.5355783104896545,
          0.6173186898231506
         ],
         "xaxis": "x19",
         "y": [
          0.2441,
          0.3753,
          0.4256,
          0.316
         ],
         "yaxis": "y19"
        },
        {
         "hovertemplate": "Tumortype=CMC<br>Layer=P6<br>AP=%{x}<br>HDV=%{y}<extra></extra>",
         "legendgroup": "CMC",
         "marker": {
          "color": "#00cc96",
          "symbol": "circle"
         },
         "mode": "markers",
         "name": "CMC",
         "orientation": "v",
         "showlegend": false,
         "type": "scatter",
         "x": [
          0.5995485782623291,
          0.550902247428894,
          0.5355783104896545,
          0.6173186898231506
         ],
         "xaxis": "x20",
         "y": [
          0.2263,
          0.3553,
          0.1252,
          0.3703
         ],
         "yaxis": "y20"
        },
        {
         "hovertemplate": "Tumortype=CMC<br>Layer=Up-Neck-P5<br>AP=%{x}<br>HDV=%{y}<extra></extra>",
         "legendgroup": "CMC",
         "marker": {
          "color": "#00cc96",
          "symbol": "circle"
         },
         "mode": "markers",
         "name": "CMC",
         "orientation": "v",
         "showlegend": false,
         "type": "scatter",
         "x": [
          0.5995485782623291,
          0.550902247428894,
          0.5355783104896545,
          0.6173186898231506
         ],
         "xaxis": "x11",
         "y": [
          0.1617,
          0.1466,
          0.1272,
          0.1579
         ],
         "yaxis": "y11"
        },
        {
         "hovertemplate": "Tumortype=CMC<br>Layer=Up-Neck-P4<br>AP=%{x}<br>HDV=%{y}<extra></extra>",
         "legendgroup": "CMC",
         "marker": {
          "color": "#00cc96",
          "symbol": "circle"
         },
         "mode": "markers",
         "name": "CMC",
         "orientation": "v",
         "showlegend": false,
         "type": "scatter",
         "x": [
          0.5995485782623291,
          0.550902247428894,
          0.5355783104896545,
          0.6173186898231506
         ],
         "xaxis": "x12",
         "y": [
          0.3651,
          0.418,
          0.1765,
          0.4299
         ],
         "yaxis": "y12"
        },
        {
         "hovertemplate": "Tumortype=CMC<br>Layer=Up-Neck-P3<br>AP=%{x}<br>HDV=%{y}<extra></extra>",
         "legendgroup": "CMC",
         "marker": {
          "color": "#00cc96",
          "symbol": "circle"
         },
         "mode": "markers",
         "name": "CMC",
         "orientation": "v",
         "showlegend": false,
         "type": "scatter",
         "x": [
          0.5995485782623291,
          0.550902247428894,
          0.5355783104896545,
          0.6173186898231506
         ],
         "xaxis": "x13",
         "y": [
          0.3904,
          0.3476,
          0.3427,
          0.3353
         ],
         "yaxis": "y13"
        },
        {
         "hovertemplate": "Tumortype=CMC<br>Layer=Down-Neck-P4<br>AP=%{x}<br>HDV=%{y}<extra></extra>",
         "legendgroup": "CMC",
         "marker": {
          "color": "#00cc96",
          "symbol": "circle"
         },
         "mode": "markers",
         "name": "CMC",
         "orientation": "v",
         "showlegend": false,
         "type": "scatter",
         "x": [
          0.5995485782623291,
          0.550902247428894,
          0.5355783104896545,
          0.6173186898231506
         ],
         "xaxis": "x14",
         "y": [
          0.5148,
          0.5216,
          0.1731,
          0.4389
         ],
         "yaxis": "y14"
        },
        {
         "hovertemplate": "Tumortype=CMC<br>Layer=Down-Neck-P5<br>AP=%{x}<br>HDV=%{y}<extra></extra>",
         "legendgroup": "CMC",
         "marker": {
          "color": "#00cc96",
          "symbol": "circle"
         },
         "mode": "markers",
         "name": "CMC",
         "orientation": "v",
         "showlegend": false,
         "type": "scatter",
         "x": [
          0.5995485782623291,
          0.550902247428894,
          0.5355783104896545,
          0.6173186898231506
         ],
         "xaxis": "x15",
         "y": [
          0.0953,
          0.1848,
          0.1284,
          0.0833
         ],
         "yaxis": "y15"
        },
        {
         "hovertemplate": "Tumortype=CMC<br>Layer=Down-Neck-P6<br>AP=%{x}<br>HDV=%{y}<extra></extra>",
         "legendgroup": "CMC",
         "marker": {
          "color": "#00cc96",
          "symbol": "circle"
         },
         "mode": "markers",
         "name": "CMC",
         "orientation": "v",
         "showlegend": false,
         "type": "scatter",
         "x": [
          0.5995485782623291,
          0.550902247428894,
          0.5355783104896545,
          0.6173186898231506
         ],
         "xaxis": "x6",
         "y": [
          0.1436,
          0.1862,
          0.1288,
          0.1219
         ],
         "yaxis": "y6"
        },
        {
         "hovertemplate": "Tumortype=CMC<br>Layer=Final-Neck-P3<br>AP=%{x}<br>HDV=%{y}<extra></extra>",
         "legendgroup": "CMC",
         "marker": {
          "color": "#00cc96",
          "symbol": "circle"
         },
         "mode": "markers",
         "name": "CMC",
         "orientation": "v",
         "showlegend": false,
         "type": "scatter",
         "x": [
          0.5995485782623291,
          0.550902247428894,
          0.5355783104896545,
          0.6173186898231506
         ],
         "xaxis": "x7",
         "y": [
          0.4666,
          0.4311,
          0.3941,
          0.4017
         ],
         "yaxis": "y7"
        },
        {
         "hovertemplate": "Tumortype=CMC<br>Layer=Final-Neck-P4<br>AP=%{x}<br>HDV=%{y}<extra></extra>",
         "legendgroup": "CMC",
         "marker": {
          "color": "#00cc96",
          "symbol": "circle"
         },
         "mode": "markers",
         "name": "CMC",
         "orientation": "v",
         "showlegend": false,
         "type": "scatter",
         "x": [
          0.5995485782623291,
          0.550902247428894,
          0.5355783104896545,
          0.6173186898231506
         ],
         "xaxis": "x8",
         "y": [
          0.5019,
          0.4987,
          0.289,
          0.4397
         ],
         "yaxis": "y8"
        },
        {
         "hovertemplate": "Tumortype=CMC<br>Layer=Final-Neck-P5<br>AP=%{x}<br>HDV=%{y}<extra></extra>",
         "legendgroup": "CMC",
         "marker": {
          "color": "#00cc96",
          "symbol": "circle"
         },
         "mode": "markers",
         "name": "CMC",
         "orientation": "v",
         "showlegend": false,
         "type": "scatter",
         "x": [
          0.5995485782623291,
          0.550902247428894,
          0.5355783104896545,
          0.6173186898231506
         ],
         "xaxis": "x9",
         "y": [
          0.0817,
          0.1663,
          0.1113,
          0.1319
         ],
         "yaxis": "y9"
        },
        {
         "hovertemplate": "Tumortype=CMC<br>Layer=Final-Neck-P6<br>AP=%{x}<br>HDV=%{y}<extra></extra>",
         "legendgroup": "CMC",
         "marker": {
          "color": "#00cc96",
          "symbol": "circle"
         },
         "mode": "markers",
         "name": "CMC",
         "orientation": "v",
         "showlegend": false,
         "type": "scatter",
         "x": [
          0.5995485782623291,
          0.550902247428894,
          0.5355783104896545,
          0.6173186898231506
         ],
         "xaxis": "x10",
         "y": [
          0.1442,
          0.1545,
          0.1101,
          0.1164
         ],
         "yaxis": "y10"
        },
        {
         "hovertemplate": "Tumortype=CMC<br>Layer=Head-P3<br>AP=%{x}<br>HDV=%{y}<extra></extra>",
         "legendgroup": "CMC",
         "marker": {
          "color": "#00cc96",
          "symbol": "circle"
         },
         "mode": "markers",
         "name": "CMC",
         "orientation": "v",
         "showlegend": false,
         "type": "scatter",
         "x": [
          0.5995485782623291,
          0.550902247428894,
          0.5355783104896545,
          0.6173186898231506
         ],
         "xaxis": "x",
         "y": [
          0.6002,
          0.5857,
          0.5768,
          0.616
         ],
         "yaxis": "y"
        },
        {
         "hovertemplate": "Tumortype=CMC<br>Layer=Head-P4<br>AP=%{x}<br>HDV=%{y}<extra></extra>",
         "legendgroup": "CMC",
         "marker": {
          "color": "#00cc96",
          "symbol": "circle"
         },
         "mode": "markers",
         "name": "CMC",
         "orientation": "v",
         "showlegend": false,
         "type": "scatter",
         "x": [
          0.5995485782623291,
          0.550902247428894,
          0.5355783104896545,
          0.6173186898231506
         ],
         "xaxis": "x2",
         "y": [
          0.5237,
          0.5668,
          0.4297,
          0.5022
         ],
         "yaxis": "y2"
        },
        {
         "hovertemplate": "Tumortype=CMC<br>Layer=Head-P5<br>AP=%{x}<br>HDV=%{y}<extra></extra>",
         "legendgroup": "CMC",
         "marker": {
          "color": "#00cc96",
          "symbol": "circle"
         },
         "mode": "markers",
         "name": "CMC",
         "orientation": "v",
         "showlegend": false,
         "type": "scatter",
         "x": [
          0.5995485782623291,
          0.550902247428894,
          0.5355783104896545,
          0.6173186898231506
         ],
         "xaxis": "x3",
         "y": [
          0.2496,
          0.3142,
          0.3284,
          0.2771
         ],
         "yaxis": "y3"
        },
        {
         "hovertemplate": "Tumortype=CMC<br>Layer=Head-P6<br>AP=%{x}<br>HDV=%{y}<extra></extra>",
         "legendgroup": "CMC",
         "marker": {
          "color": "#00cc96",
          "symbol": "circle"
         },
         "mode": "markers",
         "name": "CMC",
         "orientation": "v",
         "showlegend": false,
         "type": "scatter",
         "x": [
          0.5995485782623291,
          0.550902247428894,
          0.5355783104896545,
          0.6173186898231506
         ],
         "xaxis": "x4",
         "y": [
          0.2874,
          0.3098,
          0.2684,
          0.2736
         ],
         "yaxis": "y4"
        },
        {
         "hovertemplate": "Tumortype=CCMCT<br>Layer=P2<br>AP=%{x}<br>HDV=%{y}<extra></extra>",
         "legendgroup": "CCMCT",
         "marker": {
          "color": "#ab63fa",
          "symbol": "circle"
         },
         "mode": "markers",
         "name": "CCMCT",
         "orientation": "v",
         "showlegend": true,
         "type": "scatter",
         "x": [
          0.6421969532966614,
          0.6016607880592346,
          0.636668860912323,
          0.6889199614524841
         ],
         "xaxis": "x16",
         "y": [
          0.1537,
          0.1714,
          0.1577,
          0.164
         ],
         "yaxis": "y16"
        },
        {
         "hovertemplate": "Tumortype=CCMCT<br>Layer=P3<br>AP=%{x}<br>HDV=%{y}<extra></extra>",
         "legendgroup": "CCMCT",
         "marker": {
          "color": "#ab63fa",
          "symbol": "circle"
         },
         "mode": "markers",
         "name": "CCMCT",
         "orientation": "v",
         "showlegend": false,
         "type": "scatter",
         "x": [
          0.6421969532966614,
          0.6016607880592346,
          0.636668860912323,
          0.6889199614524841
         ],
         "xaxis": "x17",
         "y": [
          0.4678,
          0.386,
          0.3902,
          0.416
         ],
         "yaxis": "y17"
        },
        {
         "hovertemplate": "Tumortype=CCMCT<br>Layer=P4<br>AP=%{x}<br>HDV=%{y}<extra></extra>",
         "legendgroup": "CCMCT",
         "marker": {
          "color": "#ab63fa",
          "symbol": "circle"
         },
         "mode": "markers",
         "name": "CCMCT",
         "orientation": "v",
         "showlegend": false,
         "type": "scatter",
         "x": [
          0.6421969532966614,
          0.6016607880592346,
          0.636668860912323,
          0.6889199614524841
         ],
         "xaxis": "x18",
         "y": [
          0.5349,
          0.5873,
          0.4969,
          0.6022
         ],
         "yaxis": "y18"
        },
        {
         "hovertemplate": "Tumortype=CCMCT<br>Layer=P5<br>AP=%{x}<br>HDV=%{y}<extra></extra>",
         "legendgroup": "CCMCT",
         "marker": {
          "color": "#ab63fa",
          "symbol": "circle"
         },
         "mode": "markers",
         "name": "CCMCT",
         "orientation": "v",
         "showlegend": false,
         "type": "scatter",
         "x": [
          0.6421969532966614,
          0.6016607880592346,
          0.636668860912323,
          0.6889199614524841
         ],
         "xaxis": "x19",
         "y": [
          0.4647,
          0.5543,
          0.1003,
          0.4517
         ],
         "yaxis": "y19"
        },
        {
         "hovertemplate": "Tumortype=CCMCT<br>Layer=P6<br>AP=%{x}<br>HDV=%{y}<extra></extra>",
         "legendgroup": "CCMCT",
         "marker": {
          "color": "#ab63fa",
          "symbol": "circle"
         },
         "mode": "markers",
         "name": "CCMCT",
         "orientation": "v",
         "showlegend": false,
         "type": "scatter",
         "x": [
          0.6421969532966614,
          0.6016607880592346,
          0.636668860912323,
          0.6889199614524841
         ],
         "xaxis": "x20",
         "y": [
          0.442,
          0.5229,
          0.1404,
          0.3999
         ],
         "yaxis": "y20"
        },
        {
         "hovertemplate": "Tumortype=CCMCT<br>Layer=Up-Neck-P5<br>AP=%{x}<br>HDV=%{y}<extra></extra>",
         "legendgroup": "CCMCT",
         "marker": {
          "color": "#ab63fa",
          "symbol": "circle"
         },
         "mode": "markers",
         "name": "CCMCT",
         "orientation": "v",
         "showlegend": false,
         "type": "scatter",
         "x": [
          0.6421969532966614,
          0.6016607880592346,
          0.636668860912323,
          0.6889199614524841
         ],
         "xaxis": "x11",
         "y": [
          0.1793,
          0.1988,
          0.1475,
          0.1559
         ],
         "yaxis": "y11"
        },
        {
         "hovertemplate": "Tumortype=CCMCT<br>Layer=Up-Neck-P4<br>AP=%{x}<br>HDV=%{y}<extra></extra>",
         "legendgroup": "CCMCT",
         "marker": {
          "color": "#ab63fa",
          "symbol": "circle"
         },
         "mode": "markers",
         "name": "CCMCT",
         "orientation": "v",
         "showlegend": false,
         "type": "scatter",
         "x": [
          0.6421969532966614,
          0.6016607880592346,
          0.636668860912323,
          0.6889199614524841
         ],
         "xaxis": "x12",
         "y": [
          0.4488,
          0.5461,
          0.1406,
          0.5122
         ],
         "yaxis": "y12"
        },
        {
         "hovertemplate": "Tumortype=CCMCT<br>Layer=Up-Neck-P3<br>AP=%{x}<br>HDV=%{y}<extra></extra>",
         "legendgroup": "CCMCT",
         "marker": {
          "color": "#ab63fa",
          "symbol": "circle"
         },
         "mode": "markers",
         "name": "CCMCT",
         "orientation": "v",
         "showlegend": false,
         "type": "scatter",
         "x": [
          0.6421969532966614,
          0.6016607880592346,
          0.636668860912323,
          0.6889199614524841
         ],
         "xaxis": "x13",
         "y": [
          0.4734,
          0.4229,
          0.3381,
          0.4116
         ],
         "yaxis": "y13"
        },
        {
         "hovertemplate": "Tumortype=CCMCT<br>Layer=Down-Neck-P4<br>AP=%{x}<br>HDV=%{y}<extra></extra>",
         "legendgroup": "CCMCT",
         "marker": {
          "color": "#ab63fa",
          "symbol": "circle"
         },
         "mode": "markers",
         "name": "CCMCT",
         "orientation": "v",
         "showlegend": false,
         "type": "scatter",
         "x": [
          0.6421969532966614,
          0.6016607880592346,
          0.636668860912323,
          0.6889199614524841
         ],
         "xaxis": "x14",
         "y": [
          0.6019,
          0.6257,
          0.1401,
          0.6108
         ],
         "yaxis": "y14"
        },
        {
         "hovertemplate": "Tumortype=CCMCT<br>Layer=Down-Neck-P5<br>AP=%{x}<br>HDV=%{y}<extra></extra>",
         "legendgroup": "CCMCT",
         "marker": {
          "color": "#ab63fa",
          "symbol": "circle"
         },
         "mode": "markers",
         "name": "CCMCT",
         "orientation": "v",
         "showlegend": false,
         "type": "scatter",
         "x": [
          0.6421969532966614,
          0.6016607880592346,
          0.636668860912323,
          0.6889199614524841
         ],
         "xaxis": "x15",
         "y": [
          0.4314,
          0.1704,
          0.1632,
          0.5075
         ],
         "yaxis": "y15"
        },
        {
         "hovertemplate": "Tumortype=CCMCT<br>Layer=Down-Neck-P6<br>AP=%{x}<br>HDV=%{y}<extra></extra>",
         "legendgroup": "CCMCT",
         "marker": {
          "color": "#ab63fa",
          "symbol": "circle"
         },
         "mode": "markers",
         "name": "CCMCT",
         "orientation": "v",
         "showlegend": false,
         "type": "scatter",
         "x": [
          0.6421969532966614,
          0.6016607880592346,
          0.636668860912323,
          0.6889199614524841
         ],
         "xaxis": "x6",
         "y": [
          0.1176,
          0.1062,
          0.1695,
          0.1512
         ],
         "yaxis": "y6"
        },
        {
         "hovertemplate": "Tumortype=CCMCT<br>Layer=Final-Neck-P3<br>AP=%{x}<br>HDV=%{y}<extra></extra>",
         "legendgroup": "CCMCT",
         "marker": {
          "color": "#ab63fa",
          "symbol": "circle"
         },
         "mode": "markers",
         "name": "CCMCT",
         "orientation": "v",
         "showlegend": false,
         "type": "scatter",
         "x": [
          0.6421969532966614,
          0.6016607880592346,
          0.636668860912323,
          0.6889199614524841
         ],
         "xaxis": "x7",
         "y": [
          0.5757,
          0.5043,
          0.4142,
          0.4768
         ],
         "yaxis": "y7"
        },
        {
         "hovertemplate": "Tumortype=CCMCT<br>Layer=Final-Neck-P4<br>AP=%{x}<br>HDV=%{y}<extra></extra>",
         "legendgroup": "CCMCT",
         "marker": {
          "color": "#ab63fa",
          "symbol": "circle"
         },
         "mode": "markers",
         "name": "CCMCT",
         "orientation": "v",
         "showlegend": false,
         "type": "scatter",
         "x": [
          0.6421969532966614,
          0.6016607880592346,
          0.636668860912323,
          0.6889199614524841
         ],
         "xaxis": "x8",
         "y": [
          0.6055,
          0.6034,
          0.0962,
          0.5872
         ],
         "yaxis": "y8"
        },
        {
         "hovertemplate": "Tumortype=CCMCT<br>Layer=Final-Neck-P5<br>AP=%{x}<br>HDV=%{y}<extra></extra>",
         "legendgroup": "CCMCT",
         "marker": {
          "color": "#ab63fa",
          "symbol": "circle"
         },
         "mode": "markers",
         "name": "CCMCT",
         "orientation": "v",
         "showlegend": false,
         "type": "scatter",
         "x": [
          0.6421969532966614,
          0.6016607880592346,
          0.636668860912323,
          0.6889199614524841
         ],
         "xaxis": "x9",
         "y": [
          0.2219,
          0.1246,
          0.1396,
          0.1429
         ],
         "yaxis": "y9"
        },
        {
         "hovertemplate": "Tumortype=CCMCT<br>Layer=Final-Neck-P6<br>AP=%{x}<br>HDV=%{y}<extra></extra>",
         "legendgroup": "CCMCT",
         "marker": {
          "color": "#ab63fa",
          "symbol": "circle"
         },
         "mode": "markers",
         "name": "CCMCT",
         "orientation": "v",
         "showlegend": false,
         "type": "scatter",
         "x": [
          0.6421969532966614,
          0.6016607880592346,
          0.636668860912323,
          0.6889199614524841
         ],
         "xaxis": "x10",
         "y": [
          0.1123,
          0.1029,
          0.1636,
          0.1589
         ],
         "yaxis": "y10"
        },
        {
         "hovertemplate": "Tumortype=CCMCT<br>Layer=Head-P3<br>AP=%{x}<br>HDV=%{y}<extra></extra>",
         "legendgroup": "CCMCT",
         "marker": {
          "color": "#ab63fa",
          "symbol": "circle"
         },
         "mode": "markers",
         "name": "CCMCT",
         "orientation": "v",
         "showlegend": false,
         "type": "scatter",
         "x": [
          0.6421969532966614,
          0.6016607880592346,
          0.636668860912323,
          0.6889199614524841
         ],
         "xaxis": "x",
         "y": [
          0.6491,
          0.6225,
          0.5889,
          0.6313
         ],
         "yaxis": "y"
        },
        {
         "hovertemplate": "Tumortype=CCMCT<br>Layer=Head-P4<br>AP=%{x}<br>HDV=%{y}<extra></extra>",
         "legendgroup": "CCMCT",
         "marker": {
          "color": "#ab63fa",
          "symbol": "circle"
         },
         "mode": "markers",
         "name": "CCMCT",
         "orientation": "v",
         "showlegend": false,
         "type": "scatter",
         "x": [
          0.6421969532966614,
          0.6016607880592346,
          0.636668860912323,
          0.6889199614524841
         ],
         "xaxis": "x2",
         "y": [
          0.5921,
          0.6522,
          0.4639,
          0.5799
         ],
         "yaxis": "y2"
        },
        {
         "hovertemplate": "Tumortype=CCMCT<br>Layer=Head-P5<br>AP=%{x}<br>HDV=%{y}<extra></extra>",
         "legendgroup": "CCMCT",
         "marker": {
          "color": "#ab63fa",
          "symbol": "circle"
         },
         "mode": "markers",
         "name": "CCMCT",
         "orientation": "v",
         "showlegend": false,
         "type": "scatter",
         "x": [
          0.6421969532966614,
          0.6016607880592346,
          0.636668860912323,
          0.6889199614524841
         ],
         "xaxis": "x3",
         "y": [
          0.3639,
          0.2824,
          0.3791,
          0.3125
         ],
         "yaxis": "y3"
        },
        {
         "hovertemplate": "Tumortype=CCMCT<br>Layer=Head-P6<br>AP=%{x}<br>HDV=%{y}<extra></extra>",
         "legendgroup": "CCMCT",
         "marker": {
          "color": "#ab63fa",
          "symbol": "circle"
         },
         "mode": "markers",
         "name": "CCMCT",
         "orientation": "v",
         "showlegend": false,
         "type": "scatter",
         "x": [
          0.6421969532966614,
          0.6016607880592346,
          0.636668860912323,
          0.6889199614524841
         ],
         "xaxis": "x4",
         "y": [
          0.2537,
          0.2494,
          0.2927,
          0.2773
         ],
         "yaxis": "y4"
        },
        {
         "hovertemplate": "Tumortype=HMEN<br>Layer=P2<br>AP=%{x}<br>HDV=%{y}<extra></extra>",
         "legendgroup": "HMEN",
         "marker": {
          "color": "#FFA15A",
          "symbol": "circle"
         },
         "mode": "markers",
         "name": "HMEN",
         "orientation": "v",
         "showlegend": true,
         "type": "scatter",
         "x": [
          0.6117535829544067,
          0.5990904569625854,
          0.6056519150733948,
          0.5433266758918762
         ],
         "xaxis": "x16",
         "y": [
          0.2181,
          0.2128,
          0.1957,
          0.2005
         ],
         "yaxis": "y16"
        },
        {
         "hovertemplate": "Tumortype=HMEN<br>Layer=P3<br>AP=%{x}<br>HDV=%{y}<extra></extra>",
         "legendgroup": "HMEN",
         "marker": {
          "color": "#FFA15A",
          "symbol": "circle"
         },
         "mode": "markers",
         "name": "HMEN",
         "orientation": "v",
         "showlegend": false,
         "type": "scatter",
         "x": [
          0.6117535829544067,
          0.5990904569625854,
          0.6056519150733948,
          0.5433266758918762
         ],
         "xaxis": "x17",
         "y": [
          0.4321,
          0.3764,
          0.3564,
          0.3975
         ],
         "yaxis": "y17"
        },
        {
         "hovertemplate": "Tumortype=HMEN<br>Layer=P4<br>AP=%{x}<br>HDV=%{y}<extra></extra>",
         "legendgroup": "HMEN",
         "marker": {
          "color": "#FFA15A",
          "symbol": "circle"
         },
         "mode": "markers",
         "name": "HMEN",
         "orientation": "v",
         "showlegend": false,
         "type": "scatter",
         "x": [
          0.6117535829544067,
          0.5990904569625854,
          0.6056519150733948,
          0.5433266758918762
         ],
         "xaxis": "x18",
         "y": [
          0.45,
          0.5052,
          0.5123,
          0.4335
         ],
         "yaxis": "y18"
        },
        {
         "hovertemplate": "Tumortype=HMEN<br>Layer=P5<br>AP=%{x}<br>HDV=%{y}<extra></extra>",
         "legendgroup": "HMEN",
         "marker": {
          "color": "#FFA15A",
          "symbol": "circle"
         },
         "mode": "markers",
         "name": "HMEN",
         "orientation": "v",
         "showlegend": false,
         "type": "scatter",
         "x": [
          0.6117535829544067,
          0.5990904569625854,
          0.6056519150733948,
          0.5433266758918762
         ],
         "xaxis": "x19",
         "y": [
          0.3344,
          0.4381,
          0.4783,
          0.2886
         ],
         "yaxis": "y19"
        },
        {
         "hovertemplate": "Tumortype=HMEN<br>Layer=P6<br>AP=%{x}<br>HDV=%{y}<extra></extra>",
         "legendgroup": "HMEN",
         "marker": {
          "color": "#FFA15A",
          "symbol": "circle"
         },
         "mode": "markers",
         "name": "HMEN",
         "orientation": "v",
         "showlegend": false,
         "type": "scatter",
         "x": [
          0.6117535829544067,
          0.5990904569625854,
          0.6056519150733948,
          0.5433266758918762
         ],
         "xaxis": "x20",
         "y": [
          0.2496,
          0.4343,
          0.0859,
          0.3146
         ],
         "yaxis": "y20"
        },
        {
         "hovertemplate": "Tumortype=HMEN<br>Layer=Up-Neck-P5<br>AP=%{x}<br>HDV=%{y}<extra></extra>",
         "legendgroup": "HMEN",
         "marker": {
          "color": "#FFA15A",
          "symbol": "circle"
         },
         "mode": "markers",
         "name": "HMEN",
         "orientation": "v",
         "showlegend": false,
         "type": "scatter",
         "x": [
          0.6117535829544067,
          0.5990904569625854,
          0.6056519150733948,
          0.5433266758918762
         ],
         "xaxis": "x11",
         "y": [
          0.2516,
          0.2495,
          0.2241,
          0.1794
         ],
         "yaxis": "y11"
        },
        {
         "hovertemplate": "Tumortype=HMEN<br>Layer=Up-Neck-P4<br>AP=%{x}<br>HDV=%{y}<extra></extra>",
         "legendgroup": "HMEN",
         "marker": {
          "color": "#FFA15A",
          "symbol": "circle"
         },
         "mode": "markers",
         "name": "HMEN",
         "orientation": "v",
         "showlegend": false,
         "type": "scatter",
         "x": [
          0.6117535829544067,
          0.5990904569625854,
          0.6056519150733948,
          0.5433266758918762
         ],
         "xaxis": "x12",
         "y": [
          0.3962,
          0.4873,
          0.3842,
          0.3788
         ],
         "yaxis": "y12"
        },
        {
         "hovertemplate": "Tumortype=HMEN<br>Layer=Up-Neck-P3<br>AP=%{x}<br>HDV=%{y}<extra></extra>",
         "legendgroup": "HMEN",
         "marker": {
          "color": "#FFA15A",
          "symbol": "circle"
         },
         "mode": "markers",
         "name": "HMEN",
         "orientation": "v",
         "showlegend": false,
         "type": "scatter",
         "x": [
          0.6117535829544067,
          0.5990904569625854,
          0.6056519150733948,
          0.5433266758918762
         ],
         "xaxis": "x13",
         "y": [
          0.4569,
          0.4544,
          0.4645,
          0.3618
         ],
         "yaxis": "y13"
        },
        {
         "hovertemplate": "Tumortype=HMEN<br>Layer=Down-Neck-P4<br>AP=%{x}<br>HDV=%{y}<extra></extra>",
         "legendgroup": "HMEN",
         "marker": {
          "color": "#FFA15A",
          "symbol": "circle"
         },
         "mode": "markers",
         "name": "HMEN",
         "orientation": "v",
         "showlegend": false,
         "type": "scatter",
         "x": [
          0.6117535829544067,
          0.5990904569625854,
          0.6056519150733948,
          0.5433266758918762
         ],
         "xaxis": "x14",
         "y": [
          0.5512,
          0.5683,
          0.4231,
          0.4857
         ],
         "yaxis": "y14"
        },
        {
         "hovertemplate": "Tumortype=HMEN<br>Layer=Down-Neck-P5<br>AP=%{x}<br>HDV=%{y}<extra></extra>",
         "legendgroup": "HMEN",
         "marker": {
          "color": "#FFA15A",
          "symbol": "circle"
         },
         "mode": "markers",
         "name": "HMEN",
         "orientation": "v",
         "showlegend": false,
         "type": "scatter",
         "x": [
          0.6117535829544067,
          0.5990904569625854,
          0.6056519150733948,
          0.5433266758918762
         ],
         "xaxis": "x15",
         "y": [
          0.1616,
          0.2173,
          0.1093,
          0.1266
         ],
         "yaxis": "y15"
        },
        {
         "hovertemplate": "Tumortype=HMEN<br>Layer=Down-Neck-P6<br>AP=%{x}<br>HDV=%{y}<extra></extra>",
         "legendgroup": "HMEN",
         "marker": {
          "color": "#FFA15A",
          "symbol": "circle"
         },
         "mode": "markers",
         "name": "HMEN",
         "orientation": "v",
         "showlegend": false,
         "type": "scatter",
         "x": [
          0.6117535829544067,
          0.5990904569625854,
          0.6056519150733948,
          0.5433266758918762
         ],
         "xaxis": "x6",
         "y": [
          0.1962,
          0.1443,
          0.165,
          0.1562
         ],
         "yaxis": "y6"
        },
        {
         "hovertemplate": "Tumortype=HMEN<br>Layer=Final-Neck-P3<br>AP=%{x}<br>HDV=%{y}<extra></extra>",
         "legendgroup": "HMEN",
         "marker": {
          "color": "#FFA15A",
          "symbol": "circle"
         },
         "mode": "markers",
         "name": "HMEN",
         "orientation": "v",
         "showlegend": false,
         "type": "scatter",
         "x": [
          0.6117535829544067,
          0.5990904569625854,
          0.6056519150733948,
          0.5433266758918762
         ],
         "xaxis": "x7",
         "y": [
          0.5041,
          0.5277,
          0.5551,
          0.4176
         ],
         "yaxis": "y7"
        },
        {
         "hovertemplate": "Tumortype=HMEN<br>Layer=Final-Neck-P4<br>AP=%{x}<br>HDV=%{y}<extra></extra>",
         "legendgroup": "HMEN",
         "marker": {
          "color": "#FFA15A",
          "symbol": "circle"
         },
         "mode": "markers",
         "name": "HMEN",
         "orientation": "v",
         "showlegend": false,
         "type": "scatter",
         "x": [
          0.6117535829544067,
          0.5990904569625854,
          0.6056519150733948,
          0.5433266758918762
         ],
         "xaxis": "x8",
         "y": [
          0.5339,
          0.5232,
          0.5113,
          0.4623
         ],
         "yaxis": "y8"
        },
        {
         "hovertemplate": "Tumortype=HMEN<br>Layer=Final-Neck-P5<br>AP=%{x}<br>HDV=%{y}<extra></extra>",
         "legendgroup": "HMEN",
         "marker": {
          "color": "#FFA15A",
          "symbol": "circle"
         },
         "mode": "markers",
         "name": "HMEN",
         "orientation": "v",
         "showlegend": false,
         "type": "scatter",
         "x": [
          0.6117535829544067,
          0.5990904569625854,
          0.6056519150733948,
          0.5433266758918762
         ],
         "xaxis": "x9",
         "y": [
          0.1682,
          0.1736,
          0.1483,
          0.1088
         ],
         "yaxis": "y9"
        },
        {
         "hovertemplate": "Tumortype=HMEN<br>Layer=Final-Neck-P6<br>AP=%{x}<br>HDV=%{y}<extra></extra>",
         "legendgroup": "HMEN",
         "marker": {
          "color": "#FFA15A",
          "symbol": "circle"
         },
         "mode": "markers",
         "name": "HMEN",
         "orientation": "v",
         "showlegend": false,
         "type": "scatter",
         "x": [
          0.6117535829544067,
          0.5990904569625854,
          0.6056519150733948,
          0.5433266758918762
         ],
         "xaxis": "x10",
         "y": [
          0.1552,
          0.1413,
          0.1917,
          0.1484
         ],
         "yaxis": "y10"
        },
        {
         "hovertemplate": "Tumortype=HMEN<br>Layer=Head-P3<br>AP=%{x}<br>HDV=%{y}<extra></extra>",
         "legendgroup": "HMEN",
         "marker": {
          "color": "#FFA15A",
          "symbol": "circle"
         },
         "mode": "markers",
         "name": "HMEN",
         "orientation": "v",
         "showlegend": false,
         "type": "scatter",
         "x": [
          0.6117535829544067,
          0.5990904569625854,
          0.6056519150733948,
          0.5433266758918762
         ],
         "xaxis": "x",
         "y": [
          0.6239,
          0.6257,
          0.6293,
          0.6219
         ],
         "yaxis": "y"
        },
        {
         "hovertemplate": "Tumortype=HMEN<br>Layer=Head-P4<br>AP=%{x}<br>HDV=%{y}<extra></extra>",
         "legendgroup": "HMEN",
         "marker": {
          "color": "#FFA15A",
          "symbol": "circle"
         },
         "mode": "markers",
         "name": "HMEN",
         "orientation": "v",
         "showlegend": false,
         "type": "scatter",
         "x": [
          0.6117535829544067,
          0.5990904569625854,
          0.6056519150733948,
          0.5433266758918762
         ],
         "xaxis": "x2",
         "y": [
          0.5354,
          0.5645,
          0.5649,
          0.5129
         ],
         "yaxis": "y2"
        },
        {
         "hovertemplate": "Tumortype=HMEN<br>Layer=Head-P5<br>AP=%{x}<br>HDV=%{y}<extra></extra>",
         "legendgroup": "HMEN",
         "marker": {
          "color": "#FFA15A",
          "symbol": "circle"
         },
         "mode": "markers",
         "name": "HMEN",
         "orientation": "v",
         "showlegend": false,
         "type": "scatter",
         "x": [
          0.6117535829544067,
          0.5990904569625854,
          0.6056519150733948,
          0.5433266758918762
         ],
         "xaxis": "x3",
         "y": [
          0.2985,
          0.3091,
          0.461,
          0.2716
         ],
         "yaxis": "y3"
        },
        {
         "hovertemplate": "Tumortype=HMEN<br>Layer=Head-P6<br>AP=%{x}<br>HDV=%{y}<extra></extra>",
         "legendgroup": "HMEN",
         "marker": {
          "color": "#FFA15A",
          "symbol": "circle"
         },
         "mode": "markers",
         "name": "HMEN",
         "orientation": "v",
         "showlegend": false,
         "type": "scatter",
         "x": [
          0.6117535829544067,
          0.5990904569625854,
          0.6056519150733948,
          0.5433266758918762
         ],
         "xaxis": "x4",
         "y": [
          0.3079,
          0.2825,
          0.331,
          0.288
         ],
         "yaxis": "y4"
        },
        {
         "hovertemplate": "Tumortype=HCOC<br>Layer=P2<br>AP=%{x}<br>HDV=%{y}<extra></extra>",
         "legendgroup": "HCOC",
         "marker": {
          "color": "#19d3f3",
          "symbol": "circle"
         },
         "mode": "markers",
         "name": "HCOC",
         "orientation": "v",
         "showlegend": true,
         "type": "scatter",
         "x": [
          0.6376984119415283,
          0.6425358057022095,
          0.6249560117721558,
          0.6526107788085938
         ],
         "xaxis": "x16",
         "y": [
          0.1536,
          0.1581,
          0.136,
          0.1506
         ],
         "yaxis": "y16"
        },
        {
         "hovertemplate": "Tumortype=HCOC<br>Layer=P3<br>AP=%{x}<br>HDV=%{y}<extra></extra>",
         "legendgroup": "HCOC",
         "marker": {
          "color": "#19d3f3",
          "symbol": "circle"
         },
         "mode": "markers",
         "name": "HCOC",
         "orientation": "v",
         "showlegend": false,
         "type": "scatter",
         "x": [
          0.6376984119415283,
          0.6425358057022095,
          0.6249560117721558,
          0.6526107788085938
         ],
         "xaxis": "x17",
         "y": [
          0.3639,
          0.3265,
          0.2982,
          0.3731
         ],
         "yaxis": "y17"
        },
        {
         "hovertemplate": "Tumortype=HCOC<br>Layer=P4<br>AP=%{x}<br>HDV=%{y}<extra></extra>",
         "legendgroup": "HCOC",
         "marker": {
          "color": "#19d3f3",
          "symbol": "circle"
         },
         "mode": "markers",
         "name": "HCOC",
         "orientation": "v",
         "showlegend": false,
         "type": "scatter",
         "x": [
          0.6376984119415283,
          0.6425358057022095,
          0.6249560117721558,
          0.6526107788085938
         ],
         "xaxis": "x18",
         "y": [
          0.4347,
          0.4987,
          0.4543,
          0.4321
         ],
         "yaxis": "y18"
        },
        {
         "hovertemplate": "Tumortype=HCOC<br>Layer=P5<br>AP=%{x}<br>HDV=%{y}<extra></extra>",
         "legendgroup": "HCOC",
         "marker": {
          "color": "#19d3f3",
          "symbol": "circle"
         },
         "mode": "markers",
         "name": "HCOC",
         "orientation": "v",
         "showlegend": false,
         "type": "scatter",
         "x": [
          0.6376984119415283,
          0.6425358057022095,
          0.6249560117721558,
          0.6526107788085938
         ],
         "xaxis": "x19",
         "y": [
          0.2139,
          0.3718,
          0.4129,
          0.2415
         ],
         "yaxis": "y19"
        },
        {
         "hovertemplate": "Tumortype=HCOC<br>Layer=P6<br>AP=%{x}<br>HDV=%{y}<extra></extra>",
         "legendgroup": "HCOC",
         "marker": {
          "color": "#19d3f3",
          "symbol": "circle"
         },
         "mode": "markers",
         "name": "HCOC",
         "orientation": "v",
         "showlegend": false,
         "type": "scatter",
         "x": [
          0.6376984119415283,
          0.6425358057022095,
          0.6249560117721558,
          0.6526107788085938
         ],
         "xaxis": "x20",
         "y": [
          0.1781,
          0.3391,
          0.0807,
          0.2329
         ],
         "yaxis": "y20"
        },
        {
         "hovertemplate": "Tumortype=HCOC<br>Layer=Up-Neck-P5<br>AP=%{x}<br>HDV=%{y}<extra></extra>",
         "legendgroup": "HCOC",
         "marker": {
          "color": "#19d3f3",
          "symbol": "circle"
         },
         "mode": "markers",
         "name": "HCOC",
         "orientation": "v",
         "showlegend": false,
         "type": "scatter",
         "x": [
          0.6376984119415283,
          0.6425358057022095,
          0.6249560117721558,
          0.6526107788085938
         ],
         "xaxis": "x11",
         "y": [
          0.1712,
          0.1651,
          0.0643,
          0.1163
         ],
         "yaxis": "y11"
        },
        {
         "hovertemplate": "Tumortype=HCOC<br>Layer=Up-Neck-P4<br>AP=%{x}<br>HDV=%{y}<extra></extra>",
         "legendgroup": "HCOC",
         "marker": {
          "color": "#19d3f3",
          "symbol": "circle"
         },
         "mode": "markers",
         "name": "HCOC",
         "orientation": "v",
         "showlegend": false,
         "type": "scatter",
         "x": [
          0.6376984119415283,
          0.6425358057022095,
          0.6249560117721558,
          0.6526107788085938
         ],
         "xaxis": "x12",
         "y": [
          0.3442,
          0.4412,
          0.3162,
          0.4106
         ],
         "yaxis": "y12"
        },
        {
         "hovertemplate": "Tumortype=HCOC<br>Layer=Up-Neck-P3<br>AP=%{x}<br>HDV=%{y}<extra></extra>",
         "legendgroup": "HCOC",
         "marker": {
          "color": "#19d3f3",
          "symbol": "circle"
         },
         "mode": "markers",
         "name": "HCOC",
         "orientation": "v",
         "showlegend": false,
         "type": "scatter",
         "x": [
          0.6376984119415283,
          0.6425358057022095,
          0.6249560117721558,
          0.6526107788085938
         ],
         "xaxis": "x13",
         "y": [
          0.383,
          0.3618,
          0.409,
          0.347
         ],
         "yaxis": "y13"
        },
        {
         "hovertemplate": "Tumortype=HCOC<br>Layer=Down-Neck-P4<br>AP=%{x}<br>HDV=%{y}<extra></extra>",
         "legendgroup": "HCOC",
         "marker": {
          "color": "#19d3f3",
          "symbol": "circle"
         },
         "mode": "markers",
         "name": "HCOC",
         "orientation": "v",
         "showlegend": false,
         "type": "scatter",
         "x": [
          0.6376984119415283,
          0.6425358057022095,
          0.6249560117721558,
          0.6526107788085938
         ],
         "xaxis": "x14",
         "y": [
          0.4839,
          0.5183,
          0.3894,
          0.3329
         ],
         "yaxis": "y14"
        },
        {
         "hovertemplate": "Tumortype=HCOC<br>Layer=Down-Neck-P5<br>AP=%{x}<br>HDV=%{y}<extra></extra>",
         "legendgroup": "HCOC",
         "marker": {
          "color": "#19d3f3",
          "symbol": "circle"
         },
         "mode": "markers",
         "name": "HCOC",
         "orientation": "v",
         "showlegend": false,
         "type": "scatter",
         "x": [
          0.6376984119415283,
          0.6425358057022095,
          0.6249560117721558,
          0.6526107788085938
         ],
         "xaxis": "x15",
         "y": [
          0.1051,
          0.1371,
          0.0732,
          0.0739
         ],
         "yaxis": "y15"
        },
        {
         "hovertemplate": "Tumortype=HCOC<br>Layer=Down-Neck-P6<br>AP=%{x}<br>HDV=%{y}<extra></extra>",
         "legendgroup": "HCOC",
         "marker": {
          "color": "#19d3f3",
          "symbol": "circle"
         },
         "mode": "markers",
         "name": "HCOC",
         "orientation": "v",
         "showlegend": false,
         "type": "scatter",
         "x": [
          0.6376984119415283,
          0.6425358057022095,
          0.6249560117721558,
          0.6526107788085938
         ],
         "xaxis": "x6",
         "y": [
          0.1038,
          0.0975,
          0.0841,
          0.0769
         ],
         "yaxis": "y6"
        },
        {
         "hovertemplate": "Tumortype=HCOC<br>Layer=Final-Neck-P3<br>AP=%{x}<br>HDV=%{y}<extra></extra>",
         "legendgroup": "HCOC",
         "marker": {
          "color": "#19d3f3",
          "symbol": "circle"
         },
         "mode": "markers",
         "name": "HCOC",
         "orientation": "v",
         "showlegend": false,
         "type": "scatter",
         "x": [
          0.6376984119415283,
          0.6425358057022095,
          0.6249560117721558,
          0.6526107788085938
         ],
         "xaxis": "x7",
         "y": [
          0.4314,
          0.4494,
          0.4639,
          0.4137
         ],
         "yaxis": "y7"
        },
        {
         "hovertemplate": "Tumortype=HCOC<br>Layer=Final-Neck-P4<br>AP=%{x}<br>HDV=%{y}<extra></extra>",
         "legendgroup": "HCOC",
         "marker": {
          "color": "#19d3f3",
          "symbol": "circle"
         },
         "mode": "markers",
         "name": "HCOC",
         "orientation": "v",
         "showlegend": false,
         "type": "scatter",
         "x": [
          0.6376984119415283,
          0.6425358057022095,
          0.6249560117721558,
          0.6526107788085938
         ],
         "xaxis": "x8",
         "y": [
          0.4585,
          0.4703,
          0.4472,
          0.2757
         ],
         "yaxis": "y8"
        },
        {
         "hovertemplate": "Tumortype=HCOC<br>Layer=Final-Neck-P5<br>AP=%{x}<br>HDV=%{y}<extra></extra>",
         "legendgroup": "HCOC",
         "marker": {
          "color": "#19d3f3",
          "symbol": "circle"
         },
         "mode": "markers",
         "name": "HCOC",
         "orientation": "v",
         "showlegend": false,
         "type": "scatter",
         "x": [
          0.6376984119415283,
          0.6425358057022095,
          0.6249560117721558,
          0.6526107788085938
         ],
         "xaxis": "x9",
         "y": [
          0.1029,
          0.1239,
          0.2033,
          0.0944
         ],
         "yaxis": "y9"
        },
        {
         "hovertemplate": "Tumortype=HCOC<br>Layer=Final-Neck-P6<br>AP=%{x}<br>HDV=%{y}<extra></extra>",
         "legendgroup": "HCOC",
         "marker": {
          "color": "#19d3f3",
          "symbol": "circle"
         },
         "mode": "markers",
         "name": "HCOC",
         "orientation": "v",
         "showlegend": false,
         "type": "scatter",
         "x": [
          0.6376984119415283,
          0.6425358057022095,
          0.6249560117721558,
          0.6526107788085938
         ],
         "xaxis": "x10",
         "y": [
          0.0806,
          0.097,
          0.0983,
          0.0738
         ],
         "yaxis": "y10"
        },
        {
         "hovertemplate": "Tumortype=HCOC<br>Layer=Head-P3<br>AP=%{x}<br>HDV=%{y}<extra></extra>",
         "legendgroup": "HCOC",
         "marker": {
          "color": "#19d3f3",
          "symbol": "circle"
         },
         "mode": "markers",
         "name": "HCOC",
         "orientation": "v",
         "showlegend": false,
         "type": "scatter",
         "x": [
          0.6376984119415283,
          0.6425358057022095,
          0.6249560117721558,
          0.6526107788085938
         ],
         "xaxis": "x",
         "y": [
          0.5763,
          0.5766,
          0.5898,
          0.5958
         ],
         "yaxis": "y"
        },
        {
         "hovertemplate": "Tumortype=HCOC<br>Layer=Head-P4<br>AP=%{x}<br>HDV=%{y}<extra></extra>",
         "legendgroup": "HCOC",
         "marker": {
          "color": "#19d3f3",
          "symbol": "circle"
         },
         "mode": "markers",
         "name": "HCOC",
         "orientation": "v",
         "showlegend": false,
         "type": "scatter",
         "x": [
          0.6376984119415283,
          0.6425358057022095,
          0.6249560117721558,
          0.6526107788085938
         ],
         "xaxis": "x2",
         "y": [
          0.4733,
          0.5169,
          0.5118,
          0.4538
         ],
         "yaxis": "y2"
        },
        {
         "hovertemplate": "Tumortype=HCOC<br>Layer=Head-P5<br>AP=%{x}<br>HDV=%{y}<extra></extra>",
         "legendgroup": "HCOC",
         "marker": {
          "color": "#19d3f3",
          "symbol": "circle"
         },
         "mode": "markers",
         "name": "HCOC",
         "orientation": "v",
         "showlegend": false,
         "type": "scatter",
         "x": [
          0.6376984119415283,
          0.6425358057022095,
          0.6249560117721558,
          0.6526107788085938
         ],
         "xaxis": "x3",
         "y": [
          0.2495,
          0.2867,
          0.4706,
          0.2471
         ],
         "yaxis": "y3"
        },
        {
         "hovertemplate": "Tumortype=HCOC<br>Layer=Head-P6<br>AP=%{x}<br>HDV=%{y}<extra></extra>",
         "legendgroup": "HCOC",
         "marker": {
          "color": "#19d3f3",
          "symbol": "circle"
         },
         "mode": "markers",
         "name": "HCOC",
         "orientation": "v",
         "showlegend": false,
         "type": "scatter",
         "x": [
          0.6376984119415283,
          0.6425358057022095,
          0.6249560117721558,
          0.6526107788085938
         ],
         "xaxis": "x4",
         "y": [
          0.239,
          0.2431,
          0.2296,
          0.2258
         ],
         "yaxis": "y4"
        },
        {
         "hovertemplate": "Tumortype=CHAS<br>Layer=P2<br>AP=%{x}<br>HDV=%{y}<extra></extra>",
         "legendgroup": "CHAS",
         "marker": {
          "color": "#FF6692",
          "symbol": "circle"
         },
         "mode": "markers",
         "name": "CHAS",
         "orientation": "v",
         "showlegend": true,
         "type": "scatter",
         "x": [
          0.7062731981277466,
          0.6789959073066711,
          0.6826549172401428,
          0.7200438976287842
         ],
         "xaxis": "x16",
         "y": [
          0.1839,
          0.1843,
          0.1789,
          0.1633
         ],
         "yaxis": "y16"
        },
        {
         "hovertemplate": "Tumortype=CHAS<br>Layer=P3<br>AP=%{x}<br>HDV=%{y}<extra></extra>",
         "legendgroup": "CHAS",
         "marker": {
          "color": "#FF6692",
          "symbol": "circle"
         },
         "mode": "markers",
         "name": "CHAS",
         "orientation": "v",
         "showlegend": false,
         "type": "scatter",
         "x": [
          0.7062731981277466,
          0.6789959073066711,
          0.6826549172401428,
          0.7200438976287842
         ],
         "xaxis": "x17",
         "y": [
          0.3862,
          0.3978,
          0.3642,
          0.4088
         ],
         "yaxis": "y17"
        },
        {
         "hovertemplate": "Tumortype=CHAS<br>Layer=P4<br>AP=%{x}<br>HDV=%{y}<extra></extra>",
         "legendgroup": "CHAS",
         "marker": {
          "color": "#FF6692",
          "symbol": "circle"
         },
         "mode": "markers",
         "name": "CHAS",
         "orientation": "v",
         "showlegend": false,
         "type": "scatter",
         "x": [
          0.7062731981277466,
          0.6789959073066711,
          0.6826549172401428,
          0.7200438976287842
         ],
         "xaxis": "x18",
         "y": [
          0.486,
          0.5426,
          0.5524,
          0.5275
         ],
         "yaxis": "y18"
        },
        {
         "hovertemplate": "Tumortype=CHAS<br>Layer=P5<br>AP=%{x}<br>HDV=%{y}<extra></extra>",
         "legendgroup": "CHAS",
         "marker": {
          "color": "#FF6692",
          "symbol": "circle"
         },
         "mode": "markers",
         "name": "CHAS",
         "orientation": "v",
         "showlegend": false,
         "type": "scatter",
         "x": [
          0.7062731981277466,
          0.6789959073066711,
          0.6826549172401428,
          0.7200438976287842
         ],
         "xaxis": "x19",
         "y": [
          0.2981,
          0.4377,
          0.5177,
          0.3499
         ],
         "yaxis": "y19"
        },
        {
         "hovertemplate": "Tumortype=CHAS<br>Layer=P6<br>AP=%{x}<br>HDV=%{y}<extra></extra>",
         "legendgroup": "CHAS",
         "marker": {
          "color": "#FF6692",
          "symbol": "circle"
         },
         "mode": "markers",
         "name": "CHAS",
         "orientation": "v",
         "showlegend": false,
         "type": "scatter",
         "x": [
          0.7062731981277466,
          0.6789959073066711,
          0.6826549172401428,
          0.7200438976287842
         ],
         "xaxis": "x20",
         "y": [
          0.2162,
          0.3906,
          0.0758,
          0.3056
         ],
         "yaxis": "y20"
        },
        {
         "hovertemplate": "Tumortype=CHAS<br>Layer=Up-Neck-P5<br>AP=%{x}<br>HDV=%{y}<extra></extra>",
         "legendgroup": "CHAS",
         "marker": {
          "color": "#FF6692",
          "symbol": "circle"
         },
         "mode": "markers",
         "name": "CHAS",
         "orientation": "v",
         "showlegend": false,
         "type": "scatter",
         "x": [
          0.7062731981277466,
          0.6789959073066711,
          0.6826549172401428,
          0.7200438976287842
         ],
         "xaxis": "x11",
         "y": [
          0.25,
          0.1696,
          0.1422,
          0.1975
         ],
         "yaxis": "y11"
        },
        {
         "hovertemplate": "Tumortype=CHAS<br>Layer=Up-Neck-P4<br>AP=%{x}<br>HDV=%{y}<extra></extra>",
         "legendgroup": "CHAS",
         "marker": {
          "color": "#FF6692",
          "symbol": "circle"
         },
         "mode": "markers",
         "name": "CHAS",
         "orientation": "v",
         "showlegend": false,
         "type": "scatter",
         "x": [
          0.7062731981277466,
          0.6789959073066711,
          0.6826549172401428,
          0.7200438976287842
         ],
         "xaxis": "x12",
         "y": [
          0.4251,
          0.5136,
          0.4326,
          0.4912
         ],
         "yaxis": "y12"
        },
        {
         "hovertemplate": "Tumortype=CHAS<br>Layer=Up-Neck-P3<br>AP=%{x}<br>HDV=%{y}<extra></extra>",
         "legendgroup": "CHAS",
         "marker": {
          "color": "#FF6692",
          "symbol": "circle"
         },
         "mode": "markers",
         "name": "CHAS",
         "orientation": "v",
         "showlegend": false,
         "type": "scatter",
         "x": [
          0.7062731981277466,
          0.6789959073066711,
          0.6826549172401428,
          0.7200438976287842
         ],
         "xaxis": "x13",
         "y": [
          0.361,
          0.464,
          0.493,
          0.4178
         ],
         "yaxis": "y13"
        },
        {
         "hovertemplate": "Tumortype=CHAS<br>Layer=Down-Neck-P4<br>AP=%{x}<br>HDV=%{y}<extra></extra>",
         "legendgroup": "CHAS",
         "marker": {
          "color": "#FF6692",
          "symbol": "circle"
         },
         "mode": "markers",
         "name": "CHAS",
         "orientation": "v",
         "showlegend": false,
         "type": "scatter",
         "x": [
          0.7062731981277466,
          0.6789959073066711,
          0.6826549172401428,
          0.7200438976287842
         ],
         "xaxis": "x14",
         "y": [
          0.5526,
          0.6153,
          0.5022,
          0.4912
         ],
         "yaxis": "y14"
        },
        {
         "hovertemplate": "Tumortype=CHAS<br>Layer=Down-Neck-P5<br>AP=%{x}<br>HDV=%{y}<extra></extra>",
         "legendgroup": "CHAS",
         "marker": {
          "color": "#FF6692",
          "symbol": "circle"
         },
         "mode": "markers",
         "name": "CHAS",
         "orientation": "v",
         "showlegend": false,
         "type": "scatter",
         "x": [
          0.7062731981277466,
          0.6789959073066711,
          0.6826549172401428,
          0.7200438976287842
         ],
         "xaxis": "x15",
         "y": [
          0.1337,
          0.2725,
          0.1468,
          0.0713
         ],
         "yaxis": "y15"
        },
        {
         "hovertemplate": "Tumortype=CHAS<br>Layer=Down-Neck-P6<br>AP=%{x}<br>HDV=%{y}<extra></extra>",
         "legendgroup": "CHAS",
         "marker": {
          "color": "#FF6692",
          "symbol": "circle"
         },
         "mode": "markers",
         "name": "CHAS",
         "orientation": "v",
         "showlegend": false,
         "type": "scatter",
         "x": [
          0.7062731981277466,
          0.6789959073066711,
          0.6826549172401428,
          0.7200438976287842
         ],
         "xaxis": "x6",
         "y": [
          0.1985,
          0.1276,
          0.1326,
          0.1097
         ],
         "yaxis": "y6"
        },
        {
         "hovertemplate": "Tumortype=CHAS<br>Layer=Final-Neck-P3<br>AP=%{x}<br>HDV=%{y}<extra></extra>",
         "legendgroup": "CHAS",
         "marker": {
          "color": "#FF6692",
          "symbol": "circle"
         },
         "mode": "markers",
         "name": "CHAS",
         "orientation": "v",
         "showlegend": false,
         "type": "scatter",
         "x": [
          0.7062731981277466,
          0.6789959073066711,
          0.6826549172401428,
          0.7200438976287842
         ],
         "xaxis": "x7",
         "y": [
          0.3553,
          0.559,
          0.5739,
          0.5063
         ],
         "yaxis": "y7"
        },
        {
         "hovertemplate": "Tumortype=CHAS<br>Layer=Final-Neck-P4<br>AP=%{x}<br>HDV=%{y}<extra></extra>",
         "legendgroup": "CHAS",
         "marker": {
          "color": "#FF6692",
          "symbol": "circle"
         },
         "mode": "markers",
         "name": "CHAS",
         "orientation": "v",
         "showlegend": false,
         "type": "scatter",
         "x": [
          0.7062731981277466,
          0.6789959073066711,
          0.6826549172401428,
          0.7200438976287842
         ],
         "xaxis": "x8",
         "y": [
          0.5377,
          0.5666,
          0.5745,
          0.5167
         ],
         "yaxis": "y8"
        },
        {
         "hovertemplate": "Tumortype=CHAS<br>Layer=Final-Neck-P5<br>AP=%{x}<br>HDV=%{y}<extra></extra>",
         "legendgroup": "CHAS",
         "marker": {
          "color": "#FF6692",
          "symbol": "circle"
         },
         "mode": "markers",
         "name": "CHAS",
         "orientation": "v",
         "showlegend": false,
         "type": "scatter",
         "x": [
          0.7062731981277466,
          0.6789959073066711,
          0.6826549172401428,
          0.7200438976287842
         ],
         "xaxis": "x9",
         "y": [
          0.1263,
          0.2162,
          0.1149,
          0.0975
         ],
         "yaxis": "y9"
        },
        {
         "hovertemplate": "Tumortype=CHAS<br>Layer=Final-Neck-P6<br>AP=%{x}<br>HDV=%{y}<extra></extra>",
         "legendgroup": "CHAS",
         "marker": {
          "color": "#FF6692",
          "symbol": "circle"
         },
         "mode": "markers",
         "name": "CHAS",
         "orientation": "v",
         "showlegend": false,
         "type": "scatter",
         "x": [
          0.7062731981277466,
          0.6789959073066711,
          0.6826549172401428,
          0.7200438976287842
         ],
         "xaxis": "x10",
         "y": [
          0.1751,
          0.1296,
          0.143,
          0.1202
         ],
         "yaxis": "y10"
        },
        {
         "hovertemplate": "Tumortype=CHAS<br>Layer=Head-P3<br>AP=%{x}<br>HDV=%{y}<extra></extra>",
         "legendgroup": "CHAS",
         "marker": {
          "color": "#FF6692",
          "symbol": "circle"
         },
         "mode": "markers",
         "name": "CHAS",
         "orientation": "v",
         "showlegend": false,
         "type": "scatter",
         "x": [
          0.7062731981277466,
          0.6789959073066711,
          0.6826549172401428,
          0.7200438976287842
         ],
         "xaxis": "x",
         "y": [
          0.5766,
          0.6251,
          0.6409,
          0.6453
         ],
         "yaxis": "y"
        },
        {
         "hovertemplate": "Tumortype=CHAS<br>Layer=Head-P4<br>AP=%{x}<br>HDV=%{y}<extra></extra>",
         "legendgroup": "CHAS",
         "marker": {
          "color": "#FF6692",
          "symbol": "circle"
         },
         "mode": "markers",
         "name": "CHAS",
         "orientation": "v",
         "showlegend": false,
         "type": "scatter",
         "x": [
          0.7062731981277466,
          0.6789959073066711,
          0.6826549172401428,
          0.7200438976287842
         ],
         "xaxis": "x2",
         "y": [
          0.5467,
          0.6075,
          0.6079,
          0.5443
         ],
         "yaxis": "y2"
        },
        {
         "hovertemplate": "Tumortype=CHAS<br>Layer=Head-P5<br>AP=%{x}<br>HDV=%{y}<extra></extra>",
         "legendgroup": "CHAS",
         "marker": {
          "color": "#FF6692",
          "symbol": "circle"
         },
         "mode": "markers",
         "name": "CHAS",
         "orientation": "v",
         "showlegend": false,
         "type": "scatter",
         "x": [
          0.7062731981277466,
          0.6789959073066711,
          0.6826549172401428,
          0.7200438976287842
         ],
         "xaxis": "x3",
         "y": [
          0.2727,
          0.2971,
          0.4727,
          0.2808
         ],
         "yaxis": "y3"
        },
        {
         "hovertemplate": "Tumortype=CHAS<br>Layer=Head-P6<br>AP=%{x}<br>HDV=%{y}<extra></extra>",
         "legendgroup": "CHAS",
         "marker": {
          "color": "#FF6692",
          "symbol": "circle"
         },
         "mode": "markers",
         "name": "CHAS",
         "orientation": "v",
         "showlegend": false,
         "type": "scatter",
         "x": [
          0.7062731981277466,
          0.6789959073066711,
          0.6826549172401428,
          0.7200438976287842
         ],
         "xaxis": "x4",
         "y": [
          0.3085,
          0.2694,
          0.2842,
          0.2656
         ],
         "yaxis": "y4"
        },
        {
         "hovertemplate": "Tumortype=FSTS<br>Layer=P2<br>AP=%{x}<br>HDV=%{y}<extra></extra>",
         "legendgroup": "FSTS",
         "marker": {
          "color": "#B6E880",
          "symbol": "circle"
         },
         "mode": "markers",
         "name": "FSTS",
         "orientation": "v",
         "showlegend": true,
         "type": "scatter",
         "x": [
          0.5754684805870056,
          0.5667856931686401,
          0.5472763776779175,
          0.5984086990356445
         ],
         "xaxis": "x16",
         "y": [
          0.1341,
          0.1342,
          0.1181,
          0.1232
         ],
         "yaxis": "y16"
        },
        {
         "hovertemplate": "Tumortype=FSTS<br>Layer=P3<br>AP=%{x}<br>HDV=%{y}<extra></extra>",
         "legendgroup": "FSTS",
         "marker": {
          "color": "#B6E880",
          "symbol": "circle"
         },
         "mode": "markers",
         "name": "FSTS",
         "orientation": "v",
         "showlegend": false,
         "type": "scatter",
         "x": [
          0.5754684805870056,
          0.5667856931686401,
          0.5472763776779175,
          0.5984086990356445
         ],
         "xaxis": "x17",
         "y": [
          0.3436,
          0.3087,
          0.2817,
          0.3405
         ],
         "yaxis": "y17"
        },
        {
         "hovertemplate": "Tumortype=FSTS<br>Layer=P4<br>AP=%{x}<br>HDV=%{y}<extra></extra>",
         "legendgroup": "FSTS",
         "marker": {
          "color": "#B6E880",
          "symbol": "circle"
         },
         "mode": "markers",
         "name": "FSTS",
         "orientation": "v",
         "showlegend": false,
         "type": "scatter",
         "x": [
          0.5754684805870056,
          0.5667856931686401,
          0.5472763776779175,
          0.5984086990356445
         ],
         "xaxis": "x18",
         "y": [
          0.3912,
          0.4389,
          0.3928,
          0.4027
         ],
         "yaxis": "y18"
        },
        {
         "hovertemplate": "Tumortype=FSTS<br>Layer=P5<br>AP=%{x}<br>HDV=%{y}<extra></extra>",
         "legendgroup": "FSTS",
         "marker": {
          "color": "#B6E880",
          "symbol": "circle"
         },
         "mode": "markers",
         "name": "FSTS",
         "orientation": "v",
         "showlegend": false,
         "type": "scatter",
         "x": [
          0.5754684805870056,
          0.5667856931686401,
          0.5472763776779175,
          0.5984086990356445
         ],
         "xaxis": "x19",
         "y": [
          0.2673,
          0.3569,
          0.3991,
          0.2806
         ],
         "yaxis": "y19"
        },
        {
         "hovertemplate": "Tumortype=FSTS<br>Layer=P6<br>AP=%{x}<br>HDV=%{y}<extra></extra>",
         "legendgroup": "FSTS",
         "marker": {
          "color": "#B6E880",
          "symbol": "circle"
         },
         "mode": "markers",
         "name": "FSTS",
         "orientation": "v",
         "showlegend": false,
         "type": "scatter",
         "x": [
          0.5754684805870056,
          0.5667856931686401,
          0.5472763776779175,
          0.5984086990356445
         ],
         "xaxis": "x20",
         "y": [
          0.1638,
          0.3342,
          0.1068,
          0.1888
         ],
         "yaxis": "y20"
        },
        {
         "hovertemplate": "Tumortype=FSTS<br>Layer=Up-Neck-P5<br>AP=%{x}<br>HDV=%{y}<extra></extra>",
         "legendgroup": "FSTS",
         "marker": {
          "color": "#B6E880",
          "symbol": "circle"
         },
         "mode": "markers",
         "name": "FSTS",
         "orientation": "v",
         "showlegend": false,
         "type": "scatter",
         "x": [
          0.5754684805870056,
          0.5667856931686401,
          0.5472763776779175,
          0.5984086990356445
         ],
         "xaxis": "x11",
         "y": [
          0.1614,
          0.149,
          0.1215,
          0.1356
         ],
         "yaxis": "y11"
        },
        {
         "hovertemplate": "Tumortype=FSTS<br>Layer=Up-Neck-P4<br>AP=%{x}<br>HDV=%{y}<extra></extra>",
         "legendgroup": "FSTS",
         "marker": {
          "color": "#B6E880",
          "symbol": "circle"
         },
         "mode": "markers",
         "name": "FSTS",
         "orientation": "v",
         "showlegend": false,
         "type": "scatter",
         "x": [
          0.5754684805870056,
          0.5667856931686401,
          0.5472763776779175,
          0.5984086990356445
         ],
         "xaxis": "x12",
         "y": [
          0.3025,
          0.3836,
          0.2579,
          0.3612
         ],
         "yaxis": "y12"
        },
        {
         "hovertemplate": "Tumortype=FSTS<br>Layer=Up-Neck-P3<br>AP=%{x}<br>HDV=%{y}<extra></extra>",
         "legendgroup": "FSTS",
         "marker": {
          "color": "#B6E880",
          "symbol": "circle"
         },
         "mode": "markers",
         "name": "FSTS",
         "orientation": "v",
         "showlegend": false,
         "type": "scatter",
         "x": [
          0.5754684805870056,
          0.5667856931686401,
          0.5472763776779175,
          0.5984086990356445
         ],
         "xaxis": "x13",
         "y": [
          0.3049,
          0.3325,
          0.3256,
          0.2839
         ],
         "yaxis": "y13"
        },
        {
         "hovertemplate": "Tumortype=FSTS<br>Layer=Down-Neck-P4<br>AP=%{x}<br>HDV=%{y}<extra></extra>",
         "legendgroup": "FSTS",
         "marker": {
          "color": "#B6E880",
          "symbol": "circle"
         },
         "mode": "markers",
         "name": "FSTS",
         "orientation": "v",
         "showlegend": false,
         "type": "scatter",
         "x": [
          0.5754684805870056,
          0.5667856931686401,
          0.5472763776779175,
          0.5984086990356445
         ],
         "xaxis": "x14",
         "y": [
          0.3971,
          0.4407,
          0.3324,
          0.4153
         ],
         "yaxis": "y14"
        },
        {
         "hovertemplate": "Tumortype=FSTS<br>Layer=Down-Neck-P5<br>AP=%{x}<br>HDV=%{y}<extra></extra>",
         "legendgroup": "FSTS",
         "marker": {
          "color": "#B6E880",
          "symbol": "circle"
         },
         "mode": "markers",
         "name": "FSTS",
         "orientation": "v",
         "showlegend": false,
         "type": "scatter",
         "x": [
          0.5754684805870056,
          0.5667856931686401,
          0.5472763776779175,
          0.5984086990356445
         ],
         "xaxis": "x15",
         "y": [
          0.1475,
          0.1687,
          0.0982,
          0.1421
         ],
         "yaxis": "y15"
        },
        {
         "hovertemplate": "Tumortype=FSTS<br>Layer=Down-Neck-P6<br>AP=%{x}<br>HDV=%{y}<extra></extra>",
         "legendgroup": "FSTS",
         "marker": {
          "color": "#B6E880",
          "symbol": "circle"
         },
         "mode": "markers",
         "name": "FSTS",
         "orientation": "v",
         "showlegend": false,
         "type": "scatter",
         "x": [
          0.5754684805870056,
          0.5667856931686401,
          0.5472763776779175,
          0.5984086990356445
         ],
         "xaxis": "x6",
         "y": [
          0.1298,
          0.0851,
          0.1268,
          0.0855
         ],
         "yaxis": "y6"
        },
        {
         "hovertemplate": "Tumortype=FSTS<br>Layer=Final-Neck-P3<br>AP=%{x}<br>HDV=%{y}<extra></extra>",
         "legendgroup": "FSTS",
         "marker": {
          "color": "#B6E880",
          "symbol": "circle"
         },
         "mode": "markers",
         "name": "FSTS",
         "orientation": "v",
         "showlegend": false,
         "type": "scatter",
         "x": [
          0.5754684805870056,
          0.5667856931686401,
          0.5472763776779175,
          0.5984086990356445
         ],
         "xaxis": "x7",
         "y": [
          0.3702,
          0.3861,
          0.3644,
          0.3309
         ],
         "yaxis": "y7"
        },
        {
         "hovertemplate": "Tumortype=FSTS<br>Layer=Final-Neck-P4<br>AP=%{x}<br>HDV=%{y}<extra></extra>",
         "legendgroup": "FSTS",
         "marker": {
          "color": "#B6E880",
          "symbol": "circle"
         },
         "mode": "markers",
         "name": "FSTS",
         "orientation": "v",
         "showlegend": false,
         "type": "scatter",
         "x": [
          0.5754684805870056,
          0.5667856931686401,
          0.5472763776779175,
          0.5984086990356445
         ],
         "xaxis": "x8",
         "y": [
          0.4065,
          0.4047,
          0.3994,
          0.3939
         ],
         "yaxis": "y8"
        },
        {
         "hovertemplate": "Tumortype=FSTS<br>Layer=Final-Neck-P5<br>AP=%{x}<br>HDV=%{y}<extra></extra>",
         "legendgroup": "FSTS",
         "marker": {
          "color": "#B6E880",
          "symbol": "circle"
         },
         "mode": "markers",
         "name": "FSTS",
         "orientation": "v",
         "showlegend": false,
         "type": "scatter",
         "x": [
          0.5754684805870056,
          0.5667856931686401,
          0.5472763776779175,
          0.5984086990356445
         ],
         "xaxis": "x9",
         "y": [
          0.0903,
          0.1416,
          0.0697,
          0.1093
         ],
         "yaxis": "y9"
        },
        {
         "hovertemplate": "Tumortype=FSTS<br>Layer=Final-Neck-P6<br>AP=%{x}<br>HDV=%{y}<extra></extra>",
         "legendgroup": "FSTS",
         "marker": {
          "color": "#B6E880",
          "symbol": "circle"
         },
         "mode": "markers",
         "name": "FSTS",
         "orientation": "v",
         "showlegend": false,
         "type": "scatter",
         "x": [
          0.5754684805870056,
          0.5667856931686401,
          0.5472763776779175,
          0.5984086990356445
         ],
         "xaxis": "x10",
         "y": [
          0.1206,
          0.0754,
          0.1229,
          0.0946
         ],
         "yaxis": "y10"
        },
        {
         "hovertemplate": "Tumortype=FSTS<br>Layer=Head-P3<br>AP=%{x}<br>HDV=%{y}<extra></extra>",
         "legendgroup": "FSTS",
         "marker": {
          "color": "#B6E880",
          "symbol": "circle"
         },
         "mode": "markers",
         "name": "FSTS",
         "orientation": "v",
         "showlegend": false,
         "type": "scatter",
         "x": [
          0.5754684805870056,
          0.5667856931686401,
          0.5472763776779175,
          0.5984086990356445
         ],
         "xaxis": "x",
         "y": [
          0.5408,
          0.555,
          0.5598,
          0.5633
         ],
         "yaxis": "y"
        },
        {
         "hovertemplate": "Tumortype=FSTS<br>Layer=Head-P4<br>AP=%{x}<br>HDV=%{y}<extra></extra>",
         "legendgroup": "FSTS",
         "marker": {
          "color": "#B6E880",
          "symbol": "circle"
         },
         "mode": "markers",
         "name": "FSTS",
         "orientation": "v",
         "showlegend": false,
         "type": "scatter",
         "x": [
          0.5754684805870056,
          0.5667856931686401,
          0.5472763776779175,
          0.5984086990356445
         ],
         "xaxis": "x2",
         "y": [
          0.4378,
          0.4756,
          0.4524,
          0.4439
         ],
         "yaxis": "y2"
        },
        {
         "hovertemplate": "Tumortype=FSTS<br>Layer=Head-P5<br>AP=%{x}<br>HDV=%{y}<extra></extra>",
         "legendgroup": "FSTS",
         "marker": {
          "color": "#B6E880",
          "symbol": "circle"
         },
         "mode": "markers",
         "name": "FSTS",
         "orientation": "v",
         "showlegend": false,
         "type": "scatter",
         "x": [
          0.5754684805870056,
          0.5667856931686401,
          0.5472763776779175,
          0.5984086990356445
         ],
         "xaxis": "x3",
         "y": [
          0.2423,
          0.256,
          0.2966,
          0.2832
         ],
         "yaxis": "y3"
        },
        {
         "hovertemplate": "Tumortype=FSTS<br>Layer=Head-P6<br>AP=%{x}<br>HDV=%{y}<extra></extra>",
         "legendgroup": "FSTS",
         "marker": {
          "color": "#B6E880",
          "symbol": "circle"
         },
         "mode": "markers",
         "name": "FSTS",
         "orientation": "v",
         "showlegend": false,
         "type": "scatter",
         "x": [
          0.5754684805870056,
          0.5667856931686401,
          0.5472763776779175,
          0.5984086990356445
         ],
         "xaxis": "x4",
         "y": [
          0.2636,
          0.2369,
          0.2648,
          0.2427
         ],
         "yaxis": "y4"
        },
        {
         "hovertemplate": "Tumortype=FLYM<br>Layer=P2<br>AP=%{x}<br>HDV=%{y}<extra></extra>",
         "legendgroup": "FLYM",
         "marker": {
          "color": "#FF97FF",
          "symbol": "circle"
         },
         "mode": "markers",
         "name": "FLYM",
         "orientation": "v",
         "showlegend": true,
         "type": "scatter",
         "x": [
          0.6336628198623657,
          0.6018082499504089,
          0.5673253536224365,
          0.6220376491546631
         ],
         "xaxis": "x16",
         "y": [
          0.1105,
          0.1222,
          0.1132,
          0.1114
         ],
         "yaxis": "y16"
        },
        {
         "hovertemplate": "Tumortype=FLYM<br>Layer=P3<br>AP=%{x}<br>HDV=%{y}<extra></extra>",
         "legendgroup": "FLYM",
         "marker": {
          "color": "#FF97FF",
          "symbol": "circle"
         },
         "mode": "markers",
         "name": "FLYM",
         "orientation": "v",
         "showlegend": false,
         "type": "scatter",
         "x": [
          0.6336628198623657,
          0.6018082499504089,
          0.5673253536224365,
          0.6220376491546631
         ],
         "xaxis": "x17",
         "y": [
          0.3395,
          0.336,
          0.3012,
          0.3417
         ],
         "yaxis": "y17"
        },
        {
         "hovertemplate": "Tumortype=FLYM<br>Layer=P4<br>AP=%{x}<br>HDV=%{y}<extra></extra>",
         "legendgroup": "FLYM",
         "marker": {
          "color": "#FF97FF",
          "symbol": "circle"
         },
         "mode": "markers",
         "name": "FLYM",
         "orientation": "v",
         "showlegend": false,
         "type": "scatter",
         "x": [
          0.6336628198623657,
          0.6018082499504089,
          0.5673253536224365,
          0.6220376491546631
         ],
         "xaxis": "x18",
         "y": [
          0.4412,
          0.4621,
          0.4454,
          0.4862
         ],
         "yaxis": "y18"
        },
        {
         "hovertemplate": "Tumortype=FLYM<br>Layer=P5<br>AP=%{x}<br>HDV=%{y}<extra></extra>",
         "legendgroup": "FLYM",
         "marker": {
          "color": "#FF97FF",
          "symbol": "circle"
         },
         "mode": "markers",
         "name": "FLYM",
         "orientation": "v",
         "showlegend": false,
         "type": "scatter",
         "x": [
          0.6336628198623657,
          0.6018082499504089,
          0.5673253536224365,
          0.6220376491546631
         ],
         "xaxis": "x19",
         "y": [
          0.3168,
          0.3743,
          0.0503,
          0.2731
         ],
         "yaxis": "y19"
        },
        {
         "hovertemplate": "Tumortype=FLYM<br>Layer=P6<br>AP=%{x}<br>HDV=%{y}<extra></extra>",
         "legendgroup": "FLYM",
         "marker": {
          "color": "#FF97FF",
          "symbol": "circle"
         },
         "mode": "markers",
         "name": "FLYM",
         "orientation": "v",
         "showlegend": false,
         "type": "scatter",
         "x": [
          0.6336628198623657,
          0.6018082499504089,
          0.5673253536224365,
          0.6220376491546631
         ],
         "xaxis": "x20",
         "y": [
          0.2837,
          0.3648,
          0.1162,
          0.3049
         ],
         "yaxis": "y20"
        },
        {
         "hovertemplate": "Tumortype=FLYM<br>Layer=Up-Neck-P5<br>AP=%{x}<br>HDV=%{y}<extra></extra>",
         "legendgroup": "FLYM",
         "marker": {
          "color": "#FF97FF",
          "symbol": "circle"
         },
         "mode": "markers",
         "name": "FLYM",
         "orientation": "v",
         "showlegend": false,
         "type": "scatter",
         "x": [
          0.6336628198623657,
          0.6018082499504089,
          0.5673253536224365,
          0.6220376491546631
         ],
         "xaxis": "x11",
         "y": [
          0.123,
          0.1841,
          0.0795,
          0.1405
         ],
         "yaxis": "y11"
        },
        {
         "hovertemplate": "Tumortype=FLYM<br>Layer=Up-Neck-P4<br>AP=%{x}<br>HDV=%{y}<extra></extra>",
         "legendgroup": "FLYM",
         "marker": {
          "color": "#FF97FF",
          "symbol": "circle"
         },
         "mode": "markers",
         "name": "FLYM",
         "orientation": "v",
         "showlegend": false,
         "type": "scatter",
         "x": [
          0.6336628198623657,
          0.6018082499504089,
          0.5673253536224365,
          0.6220376491546631
         ],
         "xaxis": "x12",
         "y": [
          0.3509,
          0.4283,
          0.2892,
          0.4259
         ],
         "yaxis": "y12"
        },
        {
         "hovertemplate": "Tumortype=FLYM<br>Layer=Up-Neck-P3<br>AP=%{x}<br>HDV=%{y}<extra></extra>",
         "legendgroup": "FLYM",
         "marker": {
          "color": "#FF97FF",
          "symbol": "circle"
         },
         "mode": "markers",
         "name": "FLYM",
         "orientation": "v",
         "showlegend": false,
         "type": "scatter",
         "x": [
          0.6336628198623657,
          0.6018082499504089,
          0.5673253536224365,
          0.6220376491546631
         ],
         "xaxis": "x13",
         "y": [
          0.3712,
          0.3625,
          0.3198,
          0.3501
         ],
         "yaxis": "y13"
        },
        {
         "hovertemplate": "Tumortype=FLYM<br>Layer=Down-Neck-P4<br>AP=%{x}<br>HDV=%{y}<extra></extra>",
         "legendgroup": "FLYM",
         "marker": {
          "color": "#FF97FF",
          "symbol": "circle"
         },
         "mode": "markers",
         "name": "FLYM",
         "orientation": "v",
         "showlegend": false,
         "type": "scatter",
         "x": [
          0.6336628198623657,
          0.6018082499504089,
          0.5673253536224365,
          0.6220376491546631
         ],
         "xaxis": "x14",
         "y": [
          0.5015,
          0.5038,
          0.3918,
          0.4907
         ],
         "yaxis": "y14"
        },
        {
         "hovertemplate": "Tumortype=FLYM<br>Layer=Down-Neck-P5<br>AP=%{x}<br>HDV=%{y}<extra></extra>",
         "legendgroup": "FLYM",
         "marker": {
          "color": "#FF97FF",
          "symbol": "circle"
         },
         "mode": "markers",
         "name": "FLYM",
         "orientation": "v",
         "showlegend": false,
         "type": "scatter",
         "x": [
          0.6336628198623657,
          0.6018082499504089,
          0.5673253536224365,
          0.6220376491546631
         ],
         "xaxis": "x15",
         "y": [
          0.2884,
          0.1645,
          0.1068,
          0.0527
         ],
         "yaxis": "y15"
        },
        {
         "hovertemplate": "Tumortype=FLYM<br>Layer=Down-Neck-P6<br>AP=%{x}<br>HDV=%{y}<extra></extra>",
         "legendgroup": "FLYM",
         "marker": {
          "color": "#FF97FF",
          "symbol": "circle"
         },
         "mode": "markers",
         "name": "FLYM",
         "orientation": "v",
         "showlegend": false,
         "type": "scatter",
         "x": [
          0.6336628198623657,
          0.6018082499504089,
          0.5673253536224365,
          0.6220376491546631
         ],
         "xaxis": "x6",
         "y": [
          0.0849,
          0.1107,
          0.1023,
          0.1103
         ],
         "yaxis": "y6"
        },
        {
         "hovertemplate": "Tumortype=FLYM<br>Layer=Final-Neck-P3<br>AP=%{x}<br>HDV=%{y}<extra></extra>",
         "legendgroup": "FLYM",
         "marker": {
          "color": "#FF97FF",
          "symbol": "circle"
         },
         "mode": "markers",
         "name": "FLYM",
         "orientation": "v",
         "showlegend": false,
         "type": "scatter",
         "x": [
          0.6336628198623657,
          0.6018082499504089,
          0.5673253536224365,
          0.6220376491546631
         ],
         "xaxis": "x7",
         "y": [
          0.45,
          0.4371,
          0.328,
          0.4213
         ],
         "yaxis": "y7"
        },
        {
         "hovertemplate": "Tumortype=FLYM<br>Layer=Final-Neck-P4<br>AP=%{x}<br>HDV=%{y}<extra></extra>",
         "legendgroup": "FLYM",
         "marker": {
          "color": "#FF97FF",
          "symbol": "circle"
         },
         "mode": "markers",
         "name": "FLYM",
         "orientation": "v",
         "showlegend": false,
         "type": "scatter",
         "x": [
          0.6336628198623657,
          0.6018082499504089,
          0.5673253536224365,
          0.6220376491546631
         ],
         "xaxis": "x8",
         "y": [
          0.4882,
          0.474,
          0.468,
          0.4823
         ],
         "yaxis": "y8"
        },
        {
         "hovertemplate": "Tumortype=FLYM<br>Layer=Final-Neck-P5<br>AP=%{x}<br>HDV=%{y}<extra></extra>",
         "legendgroup": "FLYM",
         "marker": {
          "color": "#FF97FF",
          "symbol": "circle"
         },
         "mode": "markers",
         "name": "FLYM",
         "orientation": "v",
         "showlegend": false,
         "type": "scatter",
         "x": [
          0.6336628198623657,
          0.6018082499504089,
          0.5673253536224365,
          0.6220376491546631
         ],
         "xaxis": "x9",
         "y": [
          0.1425,
          0.1387,
          0.1157,
          0.0821
         ],
         "yaxis": "y9"
        },
        {
         "hovertemplate": "Tumortype=FLYM<br>Layer=Final-Neck-P6<br>AP=%{x}<br>HDV=%{y}<extra></extra>",
         "legendgroup": "FLYM",
         "marker": {
          "color": "#FF97FF",
          "symbol": "circle"
         },
         "mode": "markers",
         "name": "FLYM",
         "orientation": "v",
         "showlegend": false,
         "type": "scatter",
         "x": [
          0.6336628198623657,
          0.6018082499504089,
          0.5673253536224365,
          0.6220376491546631
         ],
         "xaxis": "x10",
         "y": [
          0.0895,
          0.0997,
          0.0817,
          0.1012
         ],
         "yaxis": "y10"
        },
        {
         "hovertemplate": "Tumortype=FLYM<br>Layer=Head-P3<br>AP=%{x}<br>HDV=%{y}<extra></extra>",
         "legendgroup": "FLYM",
         "marker": {
          "color": "#FF97FF",
          "symbol": "circle"
         },
         "mode": "markers",
         "name": "FLYM",
         "orientation": "v",
         "showlegend": false,
         "type": "scatter",
         "x": [
          0.6336628198623657,
          0.6018082499504089,
          0.5673253536224365,
          0.6220376491546631
         ],
         "xaxis": "x",
         "y": [
          0.5905,
          0.5695,
          0.5444,
          0.5985
         ],
         "yaxis": "y"
        },
        {
         "hovertemplate": "Tumortype=FLYM<br>Layer=Head-P4<br>AP=%{x}<br>HDV=%{y}<extra></extra>",
         "legendgroup": "FLYM",
         "marker": {
          "color": "#FF97FF",
          "symbol": "circle"
         },
         "mode": "markers",
         "name": "FLYM",
         "orientation": "v",
         "showlegend": false,
         "type": "scatter",
         "x": [
          0.6336628198623657,
          0.6018082499504089,
          0.5673253536224365,
          0.6220376491546631
         ],
         "xaxis": "x2",
         "y": [
          0.4994,
          0.5407,
          0.5252,
          0.5002
         ],
         "yaxis": "y2"
        },
        {
         "hovertemplate": "Tumortype=FLYM<br>Layer=Head-P5<br>AP=%{x}<br>HDV=%{y}<extra></extra>",
         "legendgroup": "FLYM",
         "marker": {
          "color": "#FF97FF",
          "symbol": "circle"
         },
         "mode": "markers",
         "name": "FLYM",
         "orientation": "v",
         "showlegend": false,
         "type": "scatter",
         "x": [
          0.6336628198623657,
          0.6018082499504089,
          0.5673253536224365,
          0.6220376491546631
         ],
         "xaxis": "x3",
         "y": [
          0.2938,
          0.3102,
          0.3487,
          0.2538
         ],
         "yaxis": "y3"
        },
        {
         "hovertemplate": "Tumortype=FLYM<br>Layer=Head-P6<br>AP=%{x}<br>HDV=%{y}<extra></extra>",
         "legendgroup": "FLYM",
         "marker": {
          "color": "#FF97FF",
          "symbol": "circle"
         },
         "mode": "markers",
         "name": "FLYM",
         "orientation": "v",
         "showlegend": false,
         "type": "scatter",
         "x": [
          0.6336628198623657,
          0.6018082499504089,
          0.5673253536224365,
          0.6220376491546631
         ],
         "xaxis": "x4",
         "y": [
          0.2427,
          0.2515,
          0.2362,
          0.2501
         ],
         "yaxis": "y4"
        }
       ],
       "layout": {
        "annotations": [
         {
          "font": {},
          "showarrow": false,
          "text": "Layer=Head-P3",
          "x": 0.09200000000000001,
          "xanchor": "center",
          "xref": "paper",
          "y": 0.1975,
          "yanchor": "bottom",
          "yref": "paper"
         },
         {
          "font": {},
          "showarrow": false,
          "text": "Layer=Head-P4",
          "x": 0.29600000000000004,
          "xanchor": "center",
          "xref": "paper",
          "y": 0.1975,
          "yanchor": "bottom",
          "yref": "paper"
         },
         {
          "font": {},
          "showarrow": false,
          "text": "Layer=Head-P5",
          "x": 0.5,
          "xanchor": "center",
          "xref": "paper",
          "y": 0.1975,
          "yanchor": "bottom",
          "yref": "paper"
         },
         {
          "font": {},
          "showarrow": false,
          "text": "Layer=Head-P6",
          "x": 0.7040000000000002,
          "xanchor": "center",
          "xref": "paper",
          "y": 0.1975,
          "yanchor": "bottom",
          "yref": "paper"
         },
         {
          "font": {},
          "showarrow": false,
          "text": "Layer=Down-Neck-P6",
          "x": 0.09200000000000001,
          "xanchor": "center",
          "xref": "paper",
          "y": 0.465,
          "yanchor": "bottom",
          "yref": "paper"
         },
         {
          "font": {},
          "showarrow": false,
          "text": "Layer=Final-Neck-P3",
          "x": 0.29600000000000004,
          "xanchor": "center",
          "xref": "paper",
          "y": 0.465,
          "yanchor": "bottom",
          "yref": "paper"
         },
         {
          "font": {},
          "showarrow": false,
          "text": "Layer=Final-Neck-P4",
          "x": 0.5,
          "xanchor": "center",
          "xref": "paper",
          "y": 0.465,
          "yanchor": "bottom",
          "yref": "paper"
         },
         {
          "font": {},
          "showarrow": false,
          "text": "Layer=Final-Neck-P5",
          "x": 0.7040000000000002,
          "xanchor": "center",
          "xref": "paper",
          "y": 0.465,
          "yanchor": "bottom",
          "yref": "paper"
         },
         {
          "font": {},
          "showarrow": false,
          "text": "Layer=Final-Neck-P6",
          "x": 0.908,
          "xanchor": "center",
          "xref": "paper",
          "y": 0.465,
          "yanchor": "bottom",
          "yref": "paper"
         },
         {
          "font": {},
          "showarrow": false,
          "text": "Layer=Up-Neck-P5",
          "x": 0.09200000000000001,
          "xanchor": "center",
          "xref": "paper",
          "y": 0.7325,
          "yanchor": "bottom",
          "yref": "paper"
         },
         {
          "font": {},
          "showarrow": false,
          "text": "Layer=Up-Neck-P4",
          "x": 0.29600000000000004,
          "xanchor": "center",
          "xref": "paper",
          "y": 0.7325,
          "yanchor": "bottom",
          "yref": "paper"
         },
         {
          "font": {},
          "showarrow": false,
          "text": "Layer=Up-Neck-P3",
          "x": 0.5,
          "xanchor": "center",
          "xref": "paper",
          "y": 0.7325,
          "yanchor": "bottom",
          "yref": "paper"
         },
         {
          "font": {},
          "showarrow": false,
          "text": "Layer=Down-Neck-P4",
          "x": 0.7040000000000002,
          "xanchor": "center",
          "xref": "paper",
          "y": 0.7325,
          "yanchor": "bottom",
          "yref": "paper"
         },
         {
          "font": {},
          "showarrow": false,
          "text": "Layer=Down-Neck-P5",
          "x": 0.908,
          "xanchor": "center",
          "xref": "paper",
          "y": 0.7325,
          "yanchor": "bottom",
          "yref": "paper"
         },
         {
          "font": {},
          "showarrow": false,
          "text": "Layer=P2",
          "x": 0.09200000000000001,
          "xanchor": "center",
          "xref": "paper",
          "y": 1,
          "yanchor": "bottom",
          "yref": "paper"
         },
         {
          "font": {},
          "showarrow": false,
          "text": "Layer=P3",
          "x": 0.29600000000000004,
          "xanchor": "center",
          "xref": "paper",
          "y": 1,
          "yanchor": "bottom",
          "yref": "paper"
         },
         {
          "font": {},
          "showarrow": false,
          "text": "Layer=P4",
          "x": 0.5,
          "xanchor": "center",
          "xref": "paper",
          "y": 1,
          "yanchor": "bottom",
          "yref": "paper"
         },
         {
          "font": {},
          "showarrow": false,
          "text": "Layer=P5",
          "x": 0.7040000000000002,
          "xanchor": "center",
          "xref": "paper",
          "y": 1,
          "yanchor": "bottom",
          "yref": "paper"
         },
         {
          "font": {},
          "showarrow": false,
          "text": "Layer=P6",
          "x": 0.908,
          "xanchor": "center",
          "xref": "paper",
          "y": 1,
          "yanchor": "bottom",
          "yref": "paper"
         }
        ],
        "legend": {
         "title": {
          "text": "Tumortype"
         },
         "tracegroupgap": 0
        },
        "margin": {
         "t": 60
        },
        "template": {
         "data": {
          "bar": [
           {
            "error_x": {
             "color": "#2a3f5f"
            },
            "error_y": {
             "color": "#2a3f5f"
            },
            "marker": {
             "line": {
              "color": "#E5ECF6",
              "width": 0.5
             },
             "pattern": {
              "fillmode": "overlay",
              "size": 10,
              "solidity": 0.2
             }
            },
            "type": "bar"
           }
          ],
          "barpolar": [
           {
            "marker": {
             "line": {
              "color": "#E5ECF6",
              "width": 0.5
             },
             "pattern": {
              "fillmode": "overlay",
              "size": 10,
              "solidity": 0.2
             }
            },
            "type": "barpolar"
           }
          ],
          "carpet": [
           {
            "aaxis": {
             "endlinecolor": "#2a3f5f",
             "gridcolor": "white",
             "linecolor": "white",
             "minorgridcolor": "white",
             "startlinecolor": "#2a3f5f"
            },
            "baxis": {
             "endlinecolor": "#2a3f5f",
             "gridcolor": "white",
             "linecolor": "white",
             "minorgridcolor": "white",
             "startlinecolor": "#2a3f5f"
            },
            "type": "carpet"
           }
          ],
          "choropleth": [
           {
            "colorbar": {
             "outlinewidth": 0,
             "ticks": ""
            },
            "type": "choropleth"
           }
          ],
          "contour": [
           {
            "colorbar": {
             "outlinewidth": 0,
             "ticks": ""
            },
            "colorscale": [
             [
              0,
              "#0d0887"
             ],
             [
              0.1111111111111111,
              "#46039f"
             ],
             [
              0.2222222222222222,
              "#7201a8"
             ],
             [
              0.3333333333333333,
              "#9c179e"
             ],
             [
              0.4444444444444444,
              "#bd3786"
             ],
             [
              0.5555555555555556,
              "#d8576b"
             ],
             [
              0.6666666666666666,
              "#ed7953"
             ],
             [
              0.7777777777777778,
              "#fb9f3a"
             ],
             [
              0.8888888888888888,
              "#fdca26"
             ],
             [
              1,
              "#f0f921"
             ]
            ],
            "type": "contour"
           }
          ],
          "contourcarpet": [
           {
            "colorbar": {
             "outlinewidth": 0,
             "ticks": ""
            },
            "type": "contourcarpet"
           }
          ],
          "heatmap": [
           {
            "colorbar": {
             "outlinewidth": 0,
             "ticks": ""
            },
            "colorscale": [
             [
              0,
              "#0d0887"
             ],
             [
              0.1111111111111111,
              "#46039f"
             ],
             [
              0.2222222222222222,
              "#7201a8"
             ],
             [
              0.3333333333333333,
              "#9c179e"
             ],
             [
              0.4444444444444444,
              "#bd3786"
             ],
             [
              0.5555555555555556,
              "#d8576b"
             ],
             [
              0.6666666666666666,
              "#ed7953"
             ],
             [
              0.7777777777777778,
              "#fb9f3a"
             ],
             [
              0.8888888888888888,
              "#fdca26"
             ],
             [
              1,
              "#f0f921"
             ]
            ],
            "type": "heatmap"
           }
          ],
          "heatmapgl": [
           {
            "colorbar": {
             "outlinewidth": 0,
             "ticks": ""
            },
            "colorscale": [
             [
              0,
              "#0d0887"
             ],
             [
              0.1111111111111111,
              "#46039f"
             ],
             [
              0.2222222222222222,
              "#7201a8"
             ],
             [
              0.3333333333333333,
              "#9c179e"
             ],
             [
              0.4444444444444444,
              "#bd3786"
             ],
             [
              0.5555555555555556,
              "#d8576b"
             ],
             [
              0.6666666666666666,
              "#ed7953"
             ],
             [
              0.7777777777777778,
              "#fb9f3a"
             ],
             [
              0.8888888888888888,
              "#fdca26"
             ],
             [
              1,
              "#f0f921"
             ]
            ],
            "type": "heatmapgl"
           }
          ],
          "histogram": [
           {
            "marker": {
             "pattern": {
              "fillmode": "overlay",
              "size": 10,
              "solidity": 0.2
             }
            },
            "type": "histogram"
           }
          ],
          "histogram2d": [
           {
            "colorbar": {
             "outlinewidth": 0,
             "ticks": ""
            },
            "colorscale": [
             [
              0,
              "#0d0887"
             ],
             [
              0.1111111111111111,
              "#46039f"
             ],
             [
              0.2222222222222222,
              "#7201a8"
             ],
             [
              0.3333333333333333,
              "#9c179e"
             ],
             [
              0.4444444444444444,
              "#bd3786"
             ],
             [
              0.5555555555555556,
              "#d8576b"
             ],
             [
              0.6666666666666666,
              "#ed7953"
             ],
             [
              0.7777777777777778,
              "#fb9f3a"
             ],
             [
              0.8888888888888888,
              "#fdca26"
             ],
             [
              1,
              "#f0f921"
             ]
            ],
            "type": "histogram2d"
           }
          ],
          "histogram2dcontour": [
           {
            "colorbar": {
             "outlinewidth": 0,
             "ticks": ""
            },
            "colorscale": [
             [
              0,
              "#0d0887"
             ],
             [
              0.1111111111111111,
              "#46039f"
             ],
             [
              0.2222222222222222,
              "#7201a8"
             ],
             [
              0.3333333333333333,
              "#9c179e"
             ],
             [
              0.4444444444444444,
              "#bd3786"
             ],
             [
              0.5555555555555556,
              "#d8576b"
             ],
             [
              0.6666666666666666,
              "#ed7953"
             ],
             [
              0.7777777777777778,
              "#fb9f3a"
             ],
             [
              0.8888888888888888,
              "#fdca26"
             ],
             [
              1,
              "#f0f921"
             ]
            ],
            "type": "histogram2dcontour"
           }
          ],
          "mesh3d": [
           {
            "colorbar": {
             "outlinewidth": 0,
             "ticks": ""
            },
            "type": "mesh3d"
           }
          ],
          "parcoords": [
           {
            "line": {
             "colorbar": {
              "outlinewidth": 0,
              "ticks": ""
             }
            },
            "type": "parcoords"
           }
          ],
          "pie": [
           {
            "automargin": true,
            "type": "pie"
           }
          ],
          "scatter": [
           {
            "fillpattern": {
             "fillmode": "overlay",
             "size": 10,
             "solidity": 0.2
            },
            "type": "scatter"
           }
          ],
          "scatter3d": [
           {
            "line": {
             "colorbar": {
              "outlinewidth": 0,
              "ticks": ""
             }
            },
            "marker": {
             "colorbar": {
              "outlinewidth": 0,
              "ticks": ""
             }
            },
            "type": "scatter3d"
           }
          ],
          "scattercarpet": [
           {
            "marker": {
             "colorbar": {
              "outlinewidth": 0,
              "ticks": ""
             }
            },
            "type": "scattercarpet"
           }
          ],
          "scattergeo": [
           {
            "marker": {
             "colorbar": {
              "outlinewidth": 0,
              "ticks": ""
             }
            },
            "type": "scattergeo"
           }
          ],
          "scattergl": [
           {
            "marker": {
             "colorbar": {
              "outlinewidth": 0,
              "ticks": ""
             }
            },
            "type": "scattergl"
           }
          ],
          "scattermapbox": [
           {
            "marker": {
             "colorbar": {
              "outlinewidth": 0,
              "ticks": ""
             }
            },
            "type": "scattermapbox"
           }
          ],
          "scatterpolar": [
           {
            "marker": {
             "colorbar": {
              "outlinewidth": 0,
              "ticks": ""
             }
            },
            "type": "scatterpolar"
           }
          ],
          "scatterpolargl": [
           {
            "marker": {
             "colorbar": {
              "outlinewidth": 0,
              "ticks": ""
             }
            },
            "type": "scatterpolargl"
           }
          ],
          "scatterternary": [
           {
            "marker": {
             "colorbar": {
              "outlinewidth": 0,
              "ticks": ""
             }
            },
            "type": "scatterternary"
           }
          ],
          "surface": [
           {
            "colorbar": {
             "outlinewidth": 0,
             "ticks": ""
            },
            "colorscale": [
             [
              0,
              "#0d0887"
             ],
             [
              0.1111111111111111,
              "#46039f"
             ],
             [
              0.2222222222222222,
              "#7201a8"
             ],
             [
              0.3333333333333333,
              "#9c179e"
             ],
             [
              0.4444444444444444,
              "#bd3786"
             ],
             [
              0.5555555555555556,
              "#d8576b"
             ],
             [
              0.6666666666666666,
              "#ed7953"
             ],
             [
              0.7777777777777778,
              "#fb9f3a"
             ],
             [
              0.8888888888888888,
              "#fdca26"
             ],
             [
              1,
              "#f0f921"
             ]
            ],
            "type": "surface"
           }
          ],
          "table": [
           {
            "cells": {
             "fill": {
              "color": "#EBF0F8"
             },
             "line": {
              "color": "white"
             }
            },
            "header": {
             "fill": {
              "color": "#C8D4E3"
             },
             "line": {
              "color": "white"
             }
            },
            "type": "table"
           }
          ]
         },
         "layout": {
          "annotationdefaults": {
           "arrowcolor": "#2a3f5f",
           "arrowhead": 0,
           "arrowwidth": 1
          },
          "autotypenumbers": "strict",
          "coloraxis": {
           "colorbar": {
            "outlinewidth": 0,
            "ticks": ""
           }
          },
          "colorscale": {
           "diverging": [
            [
             0,
             "#8e0152"
            ],
            [
             0.1,
             "#c51b7d"
            ],
            [
             0.2,
             "#de77ae"
            ],
            [
             0.3,
             "#f1b6da"
            ],
            [
             0.4,
             "#fde0ef"
            ],
            [
             0.5,
             "#f7f7f7"
            ],
            [
             0.6,
             "#e6f5d0"
            ],
            [
             0.7,
             "#b8e186"
            ],
            [
             0.8,
             "#7fbc41"
            ],
            [
             0.9,
             "#4d9221"
            ],
            [
             1,
             "#276419"
            ]
           ],
           "sequential": [
            [
             0,
             "#0d0887"
            ],
            [
             0.1111111111111111,
             "#46039f"
            ],
            [
             0.2222222222222222,
             "#7201a8"
            ],
            [
             0.3333333333333333,
             "#9c179e"
            ],
            [
             0.4444444444444444,
             "#bd3786"
            ],
            [
             0.5555555555555556,
             "#d8576b"
            ],
            [
             0.6666666666666666,
             "#ed7953"
            ],
            [
             0.7777777777777778,
             "#fb9f3a"
            ],
            [
             0.8888888888888888,
             "#fdca26"
            ],
            [
             1,
             "#f0f921"
            ]
           ],
           "sequentialminus": [
            [
             0,
             "#0d0887"
            ],
            [
             0.1111111111111111,
             "#46039f"
            ],
            [
             0.2222222222222222,
             "#7201a8"
            ],
            [
             0.3333333333333333,
             "#9c179e"
            ],
            [
             0.4444444444444444,
             "#bd3786"
            ],
            [
             0.5555555555555556,
             "#d8576b"
            ],
            [
             0.6666666666666666,
             "#ed7953"
            ],
            [
             0.7777777777777778,
             "#fb9f3a"
            ],
            [
             0.8888888888888888,
             "#fdca26"
            ],
            [
             1,
             "#f0f921"
            ]
           ]
          },
          "colorway": [
           "#636efa",
           "#EF553B",
           "#00cc96",
           "#ab63fa",
           "#FFA15A",
           "#19d3f3",
           "#FF6692",
           "#B6E880",
           "#FF97FF",
           "#FECB52"
          ],
          "font": {
           "color": "#2a3f5f"
          },
          "geo": {
           "bgcolor": "white",
           "lakecolor": "white",
           "landcolor": "#E5ECF6",
           "showlakes": true,
           "showland": true,
           "subunitcolor": "white"
          },
          "hoverlabel": {
           "align": "left"
          },
          "hovermode": "closest",
          "mapbox": {
           "style": "light"
          },
          "paper_bgcolor": "white",
          "plot_bgcolor": "#E5ECF6",
          "polar": {
           "angularaxis": {
            "gridcolor": "white",
            "linecolor": "white",
            "ticks": ""
           },
           "bgcolor": "#E5ECF6",
           "radialaxis": {
            "gridcolor": "white",
            "linecolor": "white",
            "ticks": ""
           }
          },
          "scene": {
           "xaxis": {
            "backgroundcolor": "#E5ECF6",
            "gridcolor": "white",
            "gridwidth": 2,
            "linecolor": "white",
            "showbackground": true,
            "ticks": "",
            "zerolinecolor": "white"
           },
           "yaxis": {
            "backgroundcolor": "#E5ECF6",
            "gridcolor": "white",
            "gridwidth": 2,
            "linecolor": "white",
            "showbackground": true,
            "ticks": "",
            "zerolinecolor": "white"
           },
           "zaxis": {
            "backgroundcolor": "#E5ECF6",
            "gridcolor": "white",
            "gridwidth": 2,
            "linecolor": "white",
            "showbackground": true,
            "ticks": "",
            "zerolinecolor": "white"
           }
          },
          "shapedefaults": {
           "line": {
            "color": "#2a3f5f"
           }
          },
          "ternary": {
           "aaxis": {
            "gridcolor": "white",
            "linecolor": "white",
            "ticks": ""
           },
           "baxis": {
            "gridcolor": "white",
            "linecolor": "white",
            "ticks": ""
           },
           "bgcolor": "#E5ECF6",
           "caxis": {
            "gridcolor": "white",
            "linecolor": "white",
            "ticks": ""
           }
          },
          "title": {
           "x": 0.05
          },
          "xaxis": {
           "automargin": true,
           "gridcolor": "white",
           "linecolor": "white",
           "ticks": "",
           "title": {
            "standoff": 15
           },
           "zerolinecolor": "white",
           "zerolinewidth": 2
          },
          "yaxis": {
           "automargin": true,
           "gridcolor": "white",
           "linecolor": "white",
           "ticks": "",
           "title": {
            "standoff": 15
           },
           "zerolinecolor": "white",
           "zerolinewidth": 2
          }
         }
        },
        "xaxis": {
         "anchor": "y",
         "domain": [
          0,
          0.18400000000000002
         ],
         "title": {
          "text": "AP"
         }
        },
        "xaxis10": {
         "anchor": "y10",
         "domain": [
          0.8160000000000001,
          1
         ],
         "matches": "x",
         "showticklabels": false
        },
        "xaxis11": {
         "anchor": "y11",
         "domain": [
          0,
          0.18400000000000002
         ],
         "matches": "x",
         "showticklabels": false
        },
        "xaxis12": {
         "anchor": "y12",
         "domain": [
          0.20400000000000001,
          0.388
         ],
         "matches": "x",
         "showticklabels": false
        },
        "xaxis13": {
         "anchor": "y13",
         "domain": [
          0.40800000000000003,
          0.5920000000000001
         ],
         "matches": "x",
         "showticklabels": false
        },
        "xaxis14": {
         "anchor": "y14",
         "domain": [
          0.6120000000000001,
          0.7960000000000002
         ],
         "matches": "x",
         "showticklabels": false
        },
        "xaxis15": {
         "anchor": "y15",
         "domain": [
          0.8160000000000001,
          1
         ],
         "matches": "x",
         "showticklabels": false
        },
        "xaxis16": {
         "anchor": "y16",
         "domain": [
          0,
          0.18400000000000002
         ],
         "matches": "x",
         "showticklabels": false
        },
        "xaxis17": {
         "anchor": "y17",
         "domain": [
          0.20400000000000001,
          0.388
         ],
         "matches": "x",
         "showticklabels": false
        },
        "xaxis18": {
         "anchor": "y18",
         "domain": [
          0.40800000000000003,
          0.5920000000000001
         ],
         "matches": "x",
         "showticklabels": false
        },
        "xaxis19": {
         "anchor": "y19",
         "domain": [
          0.6120000000000001,
          0.7960000000000002
         ],
         "matches": "x",
         "showticklabels": false
        },
        "xaxis2": {
         "anchor": "y2",
         "domain": [
          0.20400000000000001,
          0.388
         ],
         "matches": "x",
         "title": {
          "text": "AP"
         }
        },
        "xaxis20": {
         "anchor": "y20",
         "domain": [
          0.8160000000000001,
          1
         ],
         "matches": "x",
         "showticklabels": false
        },
        "xaxis3": {
         "anchor": "y3",
         "domain": [
          0.40800000000000003,
          0.5920000000000001
         ],
         "matches": "x",
         "title": {
          "text": "AP"
         }
        },
        "xaxis4": {
         "anchor": "y4",
         "domain": [
          0.6120000000000001,
          0.7960000000000002
         ],
         "matches": "x",
         "title": {
          "text": "AP"
         }
        },
        "xaxis5": {
         "anchor": "y5",
         "domain": [
          0.8160000000000001,
          1
         ],
         "matches": "x",
         "title": {
          "text": "AP"
         }
        },
        "xaxis6": {
         "anchor": "y6",
         "domain": [
          0,
          0.18400000000000002
         ],
         "matches": "x",
         "showticklabels": false
        },
        "xaxis7": {
         "anchor": "y7",
         "domain": [
          0.20400000000000001,
          0.388
         ],
         "matches": "x",
         "showticklabels": false
        },
        "xaxis8": {
         "anchor": "y8",
         "domain": [
          0.40800000000000003,
          0.5920000000000001
         ],
         "matches": "x",
         "showticklabels": false
        },
        "xaxis9": {
         "anchor": "y9",
         "domain": [
          0.6120000000000001,
          0.7960000000000002
         ],
         "matches": "x",
         "showticklabels": false
        },
        "yaxis": {
         "anchor": "x",
         "domain": [
          0,
          0.1975
         ],
         "title": {
          "text": "HDV"
         }
        },
        "yaxis10": {
         "anchor": "x10",
         "domain": [
          0.2675,
          0.465
         ],
         "matches": "y",
         "showticklabels": false
        },
        "yaxis11": {
         "anchor": "x11",
         "domain": [
          0.535,
          0.7325
         ],
         "matches": "y",
         "title": {
          "text": "HDV"
         }
        },
        "yaxis12": {
         "anchor": "x12",
         "domain": [
          0.535,
          0.7325
         ],
         "matches": "y",
         "showticklabels": false
        },
        "yaxis13": {
         "anchor": "x13",
         "domain": [
          0.535,
          0.7325
         ],
         "matches": "y",
         "showticklabels": false
        },
        "yaxis14": {
         "anchor": "x14",
         "domain": [
          0.535,
          0.7325
         ],
         "matches": "y",
         "showticklabels": false
        },
        "yaxis15": {
         "anchor": "x15",
         "domain": [
          0.535,
          0.7325
         ],
         "matches": "y",
         "showticklabels": false
        },
        "yaxis16": {
         "anchor": "x16",
         "domain": [
          0.8025,
          1
         ],
         "matches": "y",
         "title": {
          "text": "HDV"
         }
        },
        "yaxis17": {
         "anchor": "x17",
         "domain": [
          0.8025,
          1
         ],
         "matches": "y",
         "showticklabels": false
        },
        "yaxis18": {
         "anchor": "x18",
         "domain": [
          0.8025,
          1
         ],
         "matches": "y",
         "showticklabels": false
        },
        "yaxis19": {
         "anchor": "x19",
         "domain": [
          0.8025,
          1
         ],
         "matches": "y",
         "showticklabels": false
        },
        "yaxis2": {
         "anchor": "x2",
         "domain": [
          0,
          0.1975
         ],
         "matches": "y",
         "showticklabels": false
        },
        "yaxis20": {
         "anchor": "x20",
         "domain": [
          0.8025,
          1
         ],
         "matches": "y",
         "showticklabels": false
        },
        "yaxis3": {
         "anchor": "x3",
         "domain": [
          0,
          0.1975
         ],
         "matches": "y",
         "showticklabels": false
        },
        "yaxis4": {
         "anchor": "x4",
         "domain": [
          0,
          0.1975
         ],
         "matches": "y",
         "showticklabels": false
        },
        "yaxis5": {
         "anchor": "x5",
         "domain": [
          0,
          0.1975
         ],
         "matches": "y",
         "showticklabels": false
        },
        "yaxis6": {
         "anchor": "x6",
         "domain": [
          0.2675,
          0.465
         ],
         "matches": "y",
         "title": {
          "text": "HDV"
         }
        },
        "yaxis7": {
         "anchor": "x7",
         "domain": [
          0.2675,
          0.465
         ],
         "matches": "y",
         "showticklabels": false
        },
        "yaxis8": {
         "anchor": "x8",
         "domain": [
          0.2675,
          0.465
         ],
         "matches": "y",
         "showticklabels": false
        },
        "yaxis9": {
         "anchor": "x9",
         "domain": [
          0.2675,
          0.465
         ],
         "matches": "y",
         "showticklabels": false
        }
       }
      },
      "text/html": [
       "<div>                            <div id=\"d8489762-2d62-4b77-bb66-6b42b36b4132\" class=\"plotly-graph-div\" style=\"height:525px; width:100%;\"></div>            <script type=\"text/javascript\">                require([\"plotly\"], function(Plotly) {                    window.PLOTLYENV=window.PLOTLYENV || {};                                    if (document.getElementById(\"d8489762-2d62-4b77-bb66-6b42b36b4132\")) {                    Plotly.newPlot(                        \"d8489762-2d62-4b77-bb66-6b42b36b4132\",                        [{\"hovertemplate\":\"Tumortype=HMEL\\u003cbr\\u003eLayer=P2\\u003cbr\\u003eAP=%{x}\\u003cbr\\u003eHDV=%{y}\\u003cextra\\u003e\\u003c\\u002fextra\\u003e\",\"legendgroup\":\"HMEL\",\"marker\":{\"color\":\"#636efa\",\"symbol\":\"circle\"},\"mode\":\"markers\",\"name\":\"HMEL\",\"orientation\":\"v\",\"showlegend\":true,\"x\":[0.779650092124939,0.7686851620674133,0.7667072415351868,0.7741196155548096],\"xaxis\":\"x16\",\"y\":[0.1836,0.1967,0.1867,0.1889],\"yaxis\":\"y16\",\"type\":\"scatter\"},{\"hovertemplate\":\"Tumortype=HMEL\\u003cbr\\u003eLayer=P3\\u003cbr\\u003eAP=%{x}\\u003cbr\\u003eHDV=%{y}\\u003cextra\\u003e\\u003c\\u002fextra\\u003e\",\"legendgroup\":\"HMEL\",\"marker\":{\"color\":\"#636efa\",\"symbol\":\"circle\"},\"mode\":\"markers\",\"name\":\"HMEL\",\"orientation\":\"v\",\"showlegend\":false,\"x\":[0.779650092124939,0.7686851620674133,0.7667072415351868,0.7741196155548096],\"xaxis\":\"x17\",\"y\":[0.4857,0.4343,0.4274,0.5076],\"yaxis\":\"y17\",\"type\":\"scatter\"},{\"hovertemplate\":\"Tumortype=HMEL\\u003cbr\\u003eLayer=P4\\u003cbr\\u003eAP=%{x}\\u003cbr\\u003eHDV=%{y}\\u003cextra\\u003e\\u003c\\u002fextra\\u003e\",\"legendgroup\":\"HMEL\",\"marker\":{\"color\":\"#636efa\",\"symbol\":\"circle\"},\"mode\":\"markers\",\"name\":\"HMEL\",\"orientation\":\"v\",\"showlegend\":false,\"x\":[0.779650092124939,0.7686851620674133,0.7667072415351868,0.7741196155548096],\"xaxis\":\"x18\",\"y\":[0.5645,0.6081,0.6075,0.5769],\"yaxis\":\"y18\",\"type\":\"scatter\"},{\"hovertemplate\":\"Tumortype=HMEL\\u003cbr\\u003eLayer=P5\\u003cbr\\u003eAP=%{x}\\u003cbr\\u003eHDV=%{y}\\u003cextra\\u003e\\u003c\\u002fextra\\u003e\",\"legendgroup\":\"HMEL\",\"marker\":{\"color\":\"#636efa\",\"symbol\":\"circle\"},\"mode\":\"markers\",\"name\":\"HMEL\",\"orientation\":\"v\",\"showlegend\":false,\"x\":[0.779650092124939,0.7686851620674133,0.7667072415351868,0.7741196155548096],\"xaxis\":\"x19\",\"y\":[0.3231,0.4504,0.558,0.3036],\"yaxis\":\"y19\",\"type\":\"scatter\"},{\"hovertemplate\":\"Tumortype=HMEL\\u003cbr\\u003eLayer=P6\\u003cbr\\u003eAP=%{x}\\u003cbr\\u003eHDV=%{y}\\u003cextra\\u003e\\u003c\\u002fextra\\u003e\",\"legendgroup\":\"HMEL\",\"marker\":{\"color\":\"#636efa\",\"symbol\":\"circle\"},\"mode\":\"markers\",\"name\":\"HMEL\",\"orientation\":\"v\",\"showlegend\":false,\"x\":[0.779650092124939,0.7686851620674133,0.7667072415351868,0.7741196155548096],\"xaxis\":\"x20\",\"y\":[0.2494,0.4062,0.0721,0.3348],\"yaxis\":\"y20\",\"type\":\"scatter\"},{\"hovertemplate\":\"Tumortype=HMEL\\u003cbr\\u003eLayer=Up-Neck-P5\\u003cbr\\u003eAP=%{x}\\u003cbr\\u003eHDV=%{y}\\u003cextra\\u003e\\u003c\\u002fextra\\u003e\",\"legendgroup\":\"HMEL\",\"marker\":{\"color\":\"#636efa\",\"symbol\":\"circle\"},\"mode\":\"markers\",\"name\":\"HMEL\",\"orientation\":\"v\",\"showlegend\":false,\"x\":[0.779650092124939,0.7686851620674133,0.7667072415351868,0.7741196155548096],\"xaxis\":\"x11\",\"y\":[0.246,0.2888,0.1353,0.1618],\"yaxis\":\"y11\",\"type\":\"scatter\"},{\"hovertemplate\":\"Tumortype=HMEL\\u003cbr\\u003eLayer=Up-Neck-P4\\u003cbr\\u003eAP=%{x}\\u003cbr\\u003eHDV=%{y}\\u003cextra\\u003e\\u003c\\u002fextra\\u003e\",\"legendgroup\":\"HMEL\",\"marker\":{\"color\":\"#636efa\",\"symbol\":\"circle\"},\"mode\":\"markers\",\"name\":\"HMEL\",\"orientation\":\"v\",\"showlegend\":false,\"x\":[0.779650092124939,0.7686851620674133,0.7667072415351868,0.7741196155548096],\"xaxis\":\"x12\",\"y\":[0.4835,0.5693,0.4817,0.55],\"yaxis\":\"y12\",\"type\":\"scatter\"},{\"hovertemplate\":\"Tumortype=HMEL\\u003cbr\\u003eLayer=Up-Neck-P3\\u003cbr\\u003eAP=%{x}\\u003cbr\\u003eHDV=%{y}\\u003cextra\\u003e\\u003c\\u002fextra\\u003e\",\"legendgroup\":\"HMEL\",\"marker\":{\"color\":\"#636efa\",\"symbol\":\"circle\"},\"mode\":\"markers\",\"name\":\"HMEL\",\"orientation\":\"v\",\"showlegend\":false,\"x\":[0.779650092124939,0.7686851620674133,0.7667072415351868,0.7741196155548096],\"xaxis\":\"x13\",\"y\":[0.3985,0.4704,0.5117,0.469],\"yaxis\":\"y13\",\"type\":\"scatter\"},{\"hovertemplate\":\"Tumortype=HMEL\\u003cbr\\u003eLayer=Down-Neck-P4\\u003cbr\\u003eAP=%{x}\\u003cbr\\u003eHDV=%{y}\\u003cextra\\u003e\\u003c\\u002fextra\\u003e\",\"legendgroup\":\"HMEL\",\"marker\":{\"color\":\"#636efa\",\"symbol\":\"circle\"},\"mode\":\"markers\",\"name\":\"HMEL\",\"orientation\":\"v\",\"showlegend\":false,\"x\":[0.779650092124939,0.7686851620674133,0.7667072415351868,0.7741196155548096],\"xaxis\":\"x14\",\"y\":[0.5903,0.6691,0.5133,0.6458],\"yaxis\":\"y14\",\"type\":\"scatter\"},{\"hovertemplate\":\"Tumortype=HMEL\\u003cbr\\u003eLayer=Down-Neck-P5\\u003cbr\\u003eAP=%{x}\\u003cbr\\u003eHDV=%{y}\\u003cextra\\u003e\\u003c\\u002fextra\\u003e\",\"legendgroup\":\"HMEL\",\"marker\":{\"color\":\"#636efa\",\"symbol\":\"circle\"},\"mode\":\"markers\",\"name\":\"HMEL\",\"orientation\":\"v\",\"showlegend\":false,\"x\":[0.779650092124939,0.7686851620674133,0.7667072415351868,0.7741196155548096],\"xaxis\":\"x15\",\"y\":[0.1405,0.2081,0.1866,0.4939],\"yaxis\":\"y15\",\"type\":\"scatter\"},{\"hovertemplate\":\"Tumortype=HMEL\\u003cbr\\u003eLayer=Down-Neck-P6\\u003cbr\\u003eAP=%{x}\\u003cbr\\u003eHDV=%{y}\\u003cextra\\u003e\\u003c\\u002fextra\\u003e\",\"legendgroup\":\"HMEL\",\"marker\":{\"color\":\"#636efa\",\"symbol\":\"circle\"},\"mode\":\"markers\",\"name\":\"HMEL\",\"orientation\":\"v\",\"showlegend\":false,\"x\":[0.779650092124939,0.7686851620674133,0.7667072415351868,0.7741196155548096],\"xaxis\":\"x6\",\"y\":[0.1167,0.1674,0.1311,0.0999],\"yaxis\":\"y6\",\"type\":\"scatter\"},{\"hovertemplate\":\"Tumortype=HMEL\\u003cbr\\u003eLayer=Final-Neck-P3\\u003cbr\\u003eAP=%{x}\\u003cbr\\u003eHDV=%{y}\\u003cextra\\u003e\\u003c\\u002fextra\\u003e\",\"legendgroup\":\"HMEL\",\"marker\":{\"color\":\"#636efa\",\"symbol\":\"circle\"},\"mode\":\"markers\",\"name\":\"HMEL\",\"orientation\":\"v\",\"showlegend\":false,\"x\":[0.779650092124939,0.7686851620674133,0.7667072415351868,0.7741196155548096],\"xaxis\":\"x7\",\"y\":[0.3345,0.5693,0.6279,0.5412],\"yaxis\":\"y7\",\"type\":\"scatter\"},{\"hovertemplate\":\"Tumortype=HMEL\\u003cbr\\u003eLayer=Final-Neck-P4\\u003cbr\\u003eAP=%{x}\\u003cbr\\u003eHDV=%{y}\\u003cextra\\u003e\\u003c\\u002fextra\\u003e\",\"legendgroup\":\"HMEL\",\"marker\":{\"color\":\"#636efa\",\"symbol\":\"circle\"},\"mode\":\"markers\",\"name\":\"HMEL\",\"orientation\":\"v\",\"showlegend\":false,\"x\":[0.779650092124939,0.7686851620674133,0.7667072415351868,0.7741196155548096],\"xaxis\":\"x8\",\"y\":[0.573,0.611,0.5937,0.5913],\"yaxis\":\"y8\",\"type\":\"scatter\"},{\"hovertemplate\":\"Tumortype=HMEL\\u003cbr\\u003eLayer=Final-Neck-P5\\u003cbr\\u003eAP=%{x}\\u003cbr\\u003eHDV=%{y}\\u003cextra\\u003e\\u003c\\u002fextra\\u003e\",\"legendgroup\":\"HMEL\",\"marker\":{\"color\":\"#636efa\",\"symbol\":\"circle\"},\"mode\":\"markers\",\"name\":\"HMEL\",\"orientation\":\"v\",\"showlegend\":false,\"x\":[0.779650092124939,0.7686851620674133,0.7667072415351868,0.7741196155548096],\"xaxis\":\"x9\",\"y\":[0.1304,0.1951,0.4746,0.0767],\"yaxis\":\"y9\",\"type\":\"scatter\"},{\"hovertemplate\":\"Tumortype=HMEL\\u003cbr\\u003eLayer=Final-Neck-P6\\u003cbr\\u003eAP=%{x}\\u003cbr\\u003eHDV=%{y}\\u003cextra\\u003e\\u003c\\u002fextra\\u003e\",\"legendgroup\":\"HMEL\",\"marker\":{\"color\":\"#636efa\",\"symbol\":\"circle\"},\"mode\":\"markers\",\"name\":\"HMEL\",\"orientation\":\"v\",\"showlegend\":false,\"x\":[0.779650092124939,0.7686851620674133,0.7667072415351868,0.7741196155548096],\"xaxis\":\"x10\",\"y\":[0.1173,0.1559,0.1338,0.0885],\"yaxis\":\"y10\",\"type\":\"scatter\"},{\"hovertemplate\":\"Tumortype=HMEL\\u003cbr\\u003eLayer=Head-P3\\u003cbr\\u003eAP=%{x}\\u003cbr\\u003eHDV=%{y}\\u003cextra\\u003e\\u003c\\u002fextra\\u003e\",\"legendgroup\":\"HMEL\",\"marker\":{\"color\":\"#636efa\",\"symbol\":\"circle\"},\"mode\":\"markers\",\"name\":\"HMEL\",\"orientation\":\"v\",\"showlegend\":false,\"x\":[0.779650092124939,0.7686851620674133,0.7667072415351868,0.7741196155548096],\"xaxis\":\"x\",\"y\":[0.5817,0.6429,0.647,0.6684],\"yaxis\":\"y\",\"type\":\"scatter\"},{\"hovertemplate\":\"Tumortype=HMEL\\u003cbr\\u003eLayer=Head-P4\\u003cbr\\u003eAP=%{x}\\u003cbr\\u003eHDV=%{y}\\u003cextra\\u003e\\u003c\\u002fextra\\u003e\",\"legendgroup\":\"HMEL\",\"marker\":{\"color\":\"#636efa\",\"symbol\":\"circle\"},\"mode\":\"markers\",\"name\":\"HMEL\",\"orientation\":\"v\",\"showlegend\":false,\"x\":[0.779650092124939,0.7686851620674133,0.7667072415351868,0.7741196155548096],\"xaxis\":\"x2\",\"y\":[0.5943,0.6364,0.6328,0.5974],\"yaxis\":\"y2\",\"type\":\"scatter\"},{\"hovertemplate\":\"Tumortype=HMEL\\u003cbr\\u003eLayer=Head-P5\\u003cbr\\u003eAP=%{x}\\u003cbr\\u003eHDV=%{y}\\u003cextra\\u003e\\u003c\\u002fextra\\u003e\",\"legendgroup\":\"HMEL\",\"marker\":{\"color\":\"#636efa\",\"symbol\":\"circle\"},\"mode\":\"markers\",\"name\":\"HMEL\",\"orientation\":\"v\",\"showlegend\":false,\"x\":[0.779650092124939,0.7686851620674133,0.7667072415351868,0.7741196155548096],\"xaxis\":\"x3\",\"y\":[0.2879,0.332,0.6594,0.2701],\"yaxis\":\"y3\",\"type\":\"scatter\"},{\"hovertemplate\":\"Tumortype=HMEL\\u003cbr\\u003eLayer=Head-P6\\u003cbr\\u003eAP=%{x}\\u003cbr\\u003eHDV=%{y}\\u003cextra\\u003e\\u003c\\u002fextra\\u003e\",\"legendgroup\":\"HMEL\",\"marker\":{\"color\":\"#636efa\",\"symbol\":\"circle\"},\"mode\":\"markers\",\"name\":\"HMEL\",\"orientation\":\"v\",\"showlegend\":false,\"x\":[0.779650092124939,0.7686851620674133,0.7667072415351868,0.7741196155548096],\"xaxis\":\"x4\",\"y\":[0.263,0.3053,0.2643,0.2393],\"yaxis\":\"y4\",\"type\":\"scatter\"},{\"hovertemplate\":\"Tumortype=HBLC\\u003cbr\\u003eLayer=P2\\u003cbr\\u003eAP=%{x}\\u003cbr\\u003eHDV=%{y}\\u003cextra\\u003e\\u003c\\u002fextra\\u003e\",\"legendgroup\":\"HBLC\",\"marker\":{\"color\":\"#EF553B\",\"symbol\":\"circle\"},\"mode\":\"markers\",\"name\":\"HBLC\",\"orientation\":\"v\",\"showlegend\":true,\"x\":[0.7474676966667175,0.7328149676322937,0.7380974888801575,0.7580313682556152],\"xaxis\":\"x16\",\"y\":[0.1714,0.1799,0.1407,0.1663],\"yaxis\":\"y16\",\"type\":\"scatter\"},{\"hovertemplate\":\"Tumortype=HBLC\\u003cbr\\u003eLayer=P3\\u003cbr\\u003eAP=%{x}\\u003cbr\\u003eHDV=%{y}\\u003cextra\\u003e\\u003c\\u002fextra\\u003e\",\"legendgroup\":\"HBLC\",\"marker\":{\"color\":\"#EF553B\",\"symbol\":\"circle\"},\"mode\":\"markers\",\"name\":\"HBLC\",\"orientation\":\"v\",\"showlegend\":false,\"x\":[0.7474676966667175,0.7328149676322937,0.7380974888801575,0.7580313682556152],\"xaxis\":\"x17\",\"y\":[0.4524,0.4282,0.3911,0.487],\"yaxis\":\"y17\",\"type\":\"scatter\"},{\"hovertemplate\":\"Tumortype=HBLC\\u003cbr\\u003eLayer=P4\\u003cbr\\u003eAP=%{x}\\u003cbr\\u003eHDV=%{y}\\u003cextra\\u003e\\u003c\\u002fextra\\u003e\",\"legendgroup\":\"HBLC\",\"marker\":{\"color\":\"#EF553B\",\"symbol\":\"circle\"},\"mode\":\"markers\",\"name\":\"HBLC\",\"orientation\":\"v\",\"showlegend\":false,\"x\":[0.7474676966667175,0.7328149676322937,0.7380974888801575,0.7580313682556152],\"xaxis\":\"x18\",\"y\":[0.504,0.5611,0.5078,0.505],\"yaxis\":\"y18\",\"type\":\"scatter\"},{\"hovertemplate\":\"Tumortype=HBLC\\u003cbr\\u003eLayer=P5\\u003cbr\\u003eAP=%{x}\\u003cbr\\u003eHDV=%{y}\\u003cextra\\u003e\\u003c\\u002fextra\\u003e\",\"legendgroup\":\"HBLC\",\"marker\":{\"color\":\"#EF553B\",\"symbol\":\"circle\"},\"mode\":\"markers\",\"name\":\"HBLC\",\"orientation\":\"v\",\"showlegend\":false,\"x\":[0.7474676966667175,0.7328149676322937,0.7380974888801575,0.7580313682556152],\"xaxis\":\"x19\",\"y\":[0.3204,0.4876,0.5355,0.3191],\"yaxis\":\"y19\",\"type\":\"scatter\"},{\"hovertemplate\":\"Tumortype=HBLC\\u003cbr\\u003eLayer=P6\\u003cbr\\u003eAP=%{x}\\u003cbr\\u003eHDV=%{y}\\u003cextra\\u003e\\u003c\\u002fextra\\u003e\",\"legendgroup\":\"HBLC\",\"marker\":{\"color\":\"#EF553B\",\"symbol\":\"circle\"},\"mode\":\"markers\",\"name\":\"HBLC\",\"orientation\":\"v\",\"showlegend\":false,\"x\":[0.7474676966667175,0.7328149676322937,0.7380974888801575,0.7580313682556152],\"xaxis\":\"x20\",\"y\":[0.2908,0.4423,0.1059,0.3566],\"yaxis\":\"y20\",\"type\":\"scatter\"},{\"hovertemplate\":\"Tumortype=HBLC\\u003cbr\\u003eLayer=Up-Neck-P5\\u003cbr\\u003eAP=%{x}\\u003cbr\\u003eHDV=%{y}\\u003cextra\\u003e\\u003c\\u002fextra\\u003e\",\"legendgroup\":\"HBLC\",\"marker\":{\"color\":\"#EF553B\",\"symbol\":\"circle\"},\"mode\":\"markers\",\"name\":\"HBLC\",\"orientation\":\"v\",\"showlegend\":false,\"x\":[0.7474676966667175,0.7328149676322937,0.7380974888801575,0.7580313682556152],\"xaxis\":\"x11\",\"y\":[0.1898,0.1823,0.0738,0.192],\"yaxis\":\"y11\",\"type\":\"scatter\"},{\"hovertemplate\":\"Tumortype=HBLC\\u003cbr\\u003eLayer=Up-Neck-P4\\u003cbr\\u003eAP=%{x}\\u003cbr\\u003eHDV=%{y}\\u003cextra\\u003e\\u003c\\u002fextra\\u003e\",\"legendgroup\":\"HBLC\",\"marker\":{\"color\":\"#EF553B\",\"symbol\":\"circle\"},\"mode\":\"markers\",\"name\":\"HBLC\",\"orientation\":\"v\",\"showlegend\":false,\"x\":[0.7474676966667175,0.7328149676322937,0.7380974888801575,0.7580313682556152],\"xaxis\":\"x12\",\"y\":[0.4118,0.5128,0.3606,0.5072],\"yaxis\":\"y12\",\"type\":\"scatter\"},{\"hovertemplate\":\"Tumortype=HBLC\\u003cbr\\u003eLayer=Up-Neck-P3\\u003cbr\\u003eAP=%{x}\\u003cbr\\u003eHDV=%{y}\\u003cextra\\u003e\\u003c\\u002fextra\\u003e\",\"legendgroup\":\"HBLC\",\"marker\":{\"color\":\"#EF553B\",\"symbol\":\"circle\"},\"mode\":\"markers\",\"name\":\"HBLC\",\"orientation\":\"v\",\"showlegend\":false,\"x\":[0.7474676966667175,0.7328149676322937,0.7380974888801575,0.7580313682556152],\"xaxis\":\"x13\",\"y\":[0.3984,0.4833,0.4712,0.4089],\"yaxis\":\"y13\",\"type\":\"scatter\"},{\"hovertemplate\":\"Tumortype=HBLC\\u003cbr\\u003eLayer=Down-Neck-P4\\u003cbr\\u003eAP=%{x}\\u003cbr\\u003eHDV=%{y}\\u003cextra\\u003e\\u003c\\u002fextra\\u003e\",\"legendgroup\":\"HBLC\",\"marker\":{\"color\":\"#EF553B\",\"symbol\":\"circle\"},\"mode\":\"markers\",\"name\":\"HBLC\",\"orientation\":\"v\",\"showlegend\":false,\"x\":[0.7474676966667175,0.7328149676322937,0.7380974888801575,0.7580313682556152],\"xaxis\":\"x14\",\"y\":[0.536,0.6038,0.4908,0.3362],\"yaxis\":\"y14\",\"type\":\"scatter\"},{\"hovertemplate\":\"Tumortype=HBLC\\u003cbr\\u003eLayer=Down-Neck-P5\\u003cbr\\u003eAP=%{x}\\u003cbr\\u003eHDV=%{y}\\u003cextra\\u003e\\u003c\\u002fextra\\u003e\",\"legendgroup\":\"HBLC\",\"marker\":{\"color\":\"#EF553B\",\"symbol\":\"circle\"},\"mode\":\"markers\",\"name\":\"HBLC\",\"orientation\":\"v\",\"showlegend\":false,\"x\":[0.7474676966667175,0.7328149676322937,0.7380974888801575,0.7580313682556152],\"xaxis\":\"x15\",\"y\":[0.0998,0.1746,0.0863,0.0824],\"yaxis\":\"y15\",\"type\":\"scatter\"},{\"hovertemplate\":\"Tumortype=HBLC\\u003cbr\\u003eLayer=Down-Neck-P6\\u003cbr\\u003eAP=%{x}\\u003cbr\\u003eHDV=%{y}\\u003cextra\\u003e\\u003c\\u002fextra\\u003e\",\"legendgroup\":\"HBLC\",\"marker\":{\"color\":\"#EF553B\",\"symbol\":\"circle\"},\"mode\":\"markers\",\"name\":\"HBLC\",\"orientation\":\"v\",\"showlegend\":false,\"x\":[0.7474676966667175,0.7328149676322937,0.7380974888801575,0.7580313682556152],\"xaxis\":\"x6\",\"y\":[0.1111,0.0996,0.0896,0.0959],\"yaxis\":\"y6\",\"type\":\"scatter\"},{\"hovertemplate\":\"Tumortype=HBLC\\u003cbr\\u003eLayer=Final-Neck-P3\\u003cbr\\u003eAP=%{x}\\u003cbr\\u003eHDV=%{y}\\u003cextra\\u003e\\u003c\\u002fextra\\u003e\",\"legendgroup\":\"HBLC\",\"marker\":{\"color\":\"#EF553B\",\"symbol\":\"circle\"},\"mode\":\"markers\",\"name\":\"HBLC\",\"orientation\":\"v\",\"showlegend\":false,\"x\":[0.7474676966667175,0.7328149676322937,0.7380974888801575,0.7580313682556152],\"xaxis\":\"x7\",\"y\":[0.3947,0.5575,0.5503,0.5022],\"yaxis\":\"y7\",\"type\":\"scatter\"},{\"hovertemplate\":\"Tumortype=HBLC\\u003cbr\\u003eLayer=Final-Neck-P4\\u003cbr\\u003eAP=%{x}\\u003cbr\\u003eHDV=%{y}\\u003cextra\\u003e\\u003c\\u002fextra\\u003e\",\"legendgroup\":\"HBLC\",\"marker\":{\"color\":\"#EF553B\",\"symbol\":\"circle\"},\"mode\":\"markers\",\"name\":\"HBLC\",\"orientation\":\"v\",\"showlegend\":false,\"x\":[0.7474676966667175,0.7328149676322937,0.7380974888801575,0.7580313682556152],\"xaxis\":\"x8\",\"y\":[0.5319,0.5654,0.5321,0.2261],\"yaxis\":\"y8\",\"type\":\"scatter\"},{\"hovertemplate\":\"Tumortype=HBLC\\u003cbr\\u003eLayer=Final-Neck-P5\\u003cbr\\u003eAP=%{x}\\u003cbr\\u003eHDV=%{y}\\u003cextra\\u003e\\u003c\\u002fextra\\u003e\",\"legendgroup\":\"HBLC\",\"marker\":{\"color\":\"#EF553B\",\"symbol\":\"circle\"},\"mode\":\"markers\",\"name\":\"HBLC\",\"orientation\":\"v\",\"showlegend\":false,\"x\":[0.7474676966667175,0.7328149676322937,0.7380974888801575,0.7580313682556152],\"xaxis\":\"x9\",\"y\":[0.0803,0.1293,0.1144,0.1186],\"yaxis\":\"y9\",\"type\":\"scatter\"},{\"hovertemplate\":\"Tumortype=HBLC\\u003cbr\\u003eLayer=Final-Neck-P6\\u003cbr\\u003eAP=%{x}\\u003cbr\\u003eHDV=%{y}\\u003cextra\\u003e\\u003c\\u002fextra\\u003e\",\"legendgroup\":\"HBLC\",\"marker\":{\"color\":\"#EF553B\",\"symbol\":\"circle\"},\"mode\":\"markers\",\"name\":\"HBLC\",\"orientation\":\"v\",\"showlegend\":false,\"x\":[0.7474676966667175,0.7328149676322937,0.7380974888801575,0.7580313682556152],\"xaxis\":\"x10\",\"y\":[0.0809,0.0995,0.0989,0.0928],\"yaxis\":\"y10\",\"type\":\"scatter\"},{\"hovertemplate\":\"Tumortype=HBLC\\u003cbr\\u003eLayer=Head-P3\\u003cbr\\u003eAP=%{x}\\u003cbr\\u003eHDV=%{y}\\u003cextra\\u003e\\u003c\\u002fextra\\u003e\",\"legendgroup\":\"HBLC\",\"marker\":{\"color\":\"#EF553B\",\"symbol\":\"circle\"},\"mode\":\"markers\",\"name\":\"HBLC\",\"orientation\":\"v\",\"showlegend\":false,\"x\":[0.7474676966667175,0.7328149676322937,0.7380974888801575,0.7580313682556152],\"xaxis\":\"x\",\"y\":[0.5852,0.6368,0.6174,0.6555],\"yaxis\":\"y\",\"type\":\"scatter\"},{\"hovertemplate\":\"Tumortype=HBLC\\u003cbr\\u003eLayer=Head-P4\\u003cbr\\u003eAP=%{x}\\u003cbr\\u003eHDV=%{y}\\u003cextra\\u003e\\u003c\\u002fextra\\u003e\",\"legendgroup\":\"HBLC\",\"marker\":{\"color\":\"#EF553B\",\"symbol\":\"circle\"},\"mode\":\"markers\",\"name\":\"HBLC\",\"orientation\":\"v\",\"showlegend\":false,\"x\":[0.7474676966667175,0.7328149676322937,0.7380974888801575,0.7580313682556152],\"xaxis\":\"x2\",\"y\":[0.5399,0.5872,0.5716,0.496],\"yaxis\":\"y2\",\"type\":\"scatter\"},{\"hovertemplate\":\"Tumortype=HBLC\\u003cbr\\u003eLayer=Head-P5\\u003cbr\\u003eAP=%{x}\\u003cbr\\u003eHDV=%{y}\\u003cextra\\u003e\\u003c\\u002fextra\\u003e\",\"legendgroup\":\"HBLC\",\"marker\":{\"color\":\"#EF553B\",\"symbol\":\"circle\"},\"mode\":\"markers\",\"name\":\"HBLC\",\"orientation\":\"v\",\"showlegend\":false,\"x\":[0.7474676966667175,0.7328149676322937,0.7380974888801575,0.7580313682556152],\"xaxis\":\"x3\",\"y\":[0.2395,0.3012,0.4017,0.254],\"yaxis\":\"y3\",\"type\":\"scatter\"},{\"hovertemplate\":\"Tumortype=HBLC\\u003cbr\\u003eLayer=Head-P6\\u003cbr\\u003eAP=%{x}\\u003cbr\\u003eHDV=%{y}\\u003cextra\\u003e\\u003c\\u002fextra\\u003e\",\"legendgroup\":\"HBLC\",\"marker\":{\"color\":\"#EF553B\",\"symbol\":\"circle\"},\"mode\":\"markers\",\"name\":\"HBLC\",\"orientation\":\"v\",\"showlegend\":false,\"x\":[0.7474676966667175,0.7328149676322937,0.7380974888801575,0.7580313682556152],\"xaxis\":\"x4\",\"y\":[0.2408,0.2474,0.2449,0.2439],\"yaxis\":\"y4\",\"type\":\"scatter\"},{\"hovertemplate\":\"Tumortype=CMC\\u003cbr\\u003eLayer=P2\\u003cbr\\u003eAP=%{x}\\u003cbr\\u003eHDV=%{y}\\u003cextra\\u003e\\u003c\\u002fextra\\u003e\",\"legendgroup\":\"CMC\",\"marker\":{\"color\":\"#00cc96\",\"symbol\":\"circle\"},\"mode\":\"markers\",\"name\":\"CMC\",\"orientation\":\"v\",\"showlegend\":true,\"x\":[0.5995485782623291,0.550902247428894,0.5355783104896545,0.6173186898231506],\"xaxis\":\"x16\",\"y\":[0.1561,0.1611,0.1465,0.145],\"yaxis\":\"y16\",\"type\":\"scatter\"},{\"hovertemplate\":\"Tumortype=CMC\\u003cbr\\u003eLayer=P3\\u003cbr\\u003eAP=%{x}\\u003cbr\\u003eHDV=%{y}\\u003cextra\\u003e\\u003c\\u002fextra\\u003e\",\"legendgroup\":\"CMC\",\"marker\":{\"color\":\"#00cc96\",\"symbol\":\"circle\"},\"mode\":\"markers\",\"name\":\"CMC\",\"orientation\":\"v\",\"showlegend\":false,\"x\":[0.5995485782623291,0.550902247428894,0.5355783104896545,0.6173186898231506],\"xaxis\":\"x17\",\"y\":[0.3397,0.3126,0.3114,0.3194],\"yaxis\":\"y17\",\"type\":\"scatter\"},{\"hovertemplate\":\"Tumortype=CMC\\u003cbr\\u003eLayer=P4\\u003cbr\\u003eAP=%{x}\\u003cbr\\u003eHDV=%{y}\\u003cextra\\u003e\\u003c\\u002fextra\\u003e\",\"legendgroup\":\"CMC\",\"marker\":{\"color\":\"#00cc96\",\"symbol\":\"circle\"},\"mode\":\"markers\",\"name\":\"CMC\",\"orientation\":\"v\",\"showlegend\":false,\"x\":[0.5995485782623291,0.550902247428894,0.5355783104896545,0.6173186898231506],\"xaxis\":\"x18\",\"y\":[0.4239,0.4688,0.4951,0.484],\"yaxis\":\"y18\",\"type\":\"scatter\"},{\"hovertemplate\":\"Tumortype=CMC\\u003cbr\\u003eLayer=P5\\u003cbr\\u003eAP=%{x}\\u003cbr\\u003eHDV=%{y}\\u003cextra\\u003e\\u003c\\u002fextra\\u003e\",\"legendgroup\":\"CMC\",\"marker\":{\"color\":\"#00cc96\",\"symbol\":\"circle\"},\"mode\":\"markers\",\"name\":\"CMC\",\"orientation\":\"v\",\"showlegend\":false,\"x\":[0.5995485782623291,0.550902247428894,0.5355783104896545,0.6173186898231506],\"xaxis\":\"x19\",\"y\":[0.2441,0.3753,0.4256,0.316],\"yaxis\":\"y19\",\"type\":\"scatter\"},{\"hovertemplate\":\"Tumortype=CMC\\u003cbr\\u003eLayer=P6\\u003cbr\\u003eAP=%{x}\\u003cbr\\u003eHDV=%{y}\\u003cextra\\u003e\\u003c\\u002fextra\\u003e\",\"legendgroup\":\"CMC\",\"marker\":{\"color\":\"#00cc96\",\"symbol\":\"circle\"},\"mode\":\"markers\",\"name\":\"CMC\",\"orientation\":\"v\",\"showlegend\":false,\"x\":[0.5995485782623291,0.550902247428894,0.5355783104896545,0.6173186898231506],\"xaxis\":\"x20\",\"y\":[0.2263,0.3553,0.1252,0.3703],\"yaxis\":\"y20\",\"type\":\"scatter\"},{\"hovertemplate\":\"Tumortype=CMC\\u003cbr\\u003eLayer=Up-Neck-P5\\u003cbr\\u003eAP=%{x}\\u003cbr\\u003eHDV=%{y}\\u003cextra\\u003e\\u003c\\u002fextra\\u003e\",\"legendgroup\":\"CMC\",\"marker\":{\"color\":\"#00cc96\",\"symbol\":\"circle\"},\"mode\":\"markers\",\"name\":\"CMC\",\"orientation\":\"v\",\"showlegend\":false,\"x\":[0.5995485782623291,0.550902247428894,0.5355783104896545,0.6173186898231506],\"xaxis\":\"x11\",\"y\":[0.1617,0.1466,0.1272,0.1579],\"yaxis\":\"y11\",\"type\":\"scatter\"},{\"hovertemplate\":\"Tumortype=CMC\\u003cbr\\u003eLayer=Up-Neck-P4\\u003cbr\\u003eAP=%{x}\\u003cbr\\u003eHDV=%{y}\\u003cextra\\u003e\\u003c\\u002fextra\\u003e\",\"legendgroup\":\"CMC\",\"marker\":{\"color\":\"#00cc96\",\"symbol\":\"circle\"},\"mode\":\"markers\",\"name\":\"CMC\",\"orientation\":\"v\",\"showlegend\":false,\"x\":[0.5995485782623291,0.550902247428894,0.5355783104896545,0.6173186898231506],\"xaxis\":\"x12\",\"y\":[0.3651,0.418,0.1765,0.4299],\"yaxis\":\"y12\",\"type\":\"scatter\"},{\"hovertemplate\":\"Tumortype=CMC\\u003cbr\\u003eLayer=Up-Neck-P3\\u003cbr\\u003eAP=%{x}\\u003cbr\\u003eHDV=%{y}\\u003cextra\\u003e\\u003c\\u002fextra\\u003e\",\"legendgroup\":\"CMC\",\"marker\":{\"color\":\"#00cc96\",\"symbol\":\"circle\"},\"mode\":\"markers\",\"name\":\"CMC\",\"orientation\":\"v\",\"showlegend\":false,\"x\":[0.5995485782623291,0.550902247428894,0.5355783104896545,0.6173186898231506],\"xaxis\":\"x13\",\"y\":[0.3904,0.3476,0.3427,0.3353],\"yaxis\":\"y13\",\"type\":\"scatter\"},{\"hovertemplate\":\"Tumortype=CMC\\u003cbr\\u003eLayer=Down-Neck-P4\\u003cbr\\u003eAP=%{x}\\u003cbr\\u003eHDV=%{y}\\u003cextra\\u003e\\u003c\\u002fextra\\u003e\",\"legendgroup\":\"CMC\",\"marker\":{\"color\":\"#00cc96\",\"symbol\":\"circle\"},\"mode\":\"markers\",\"name\":\"CMC\",\"orientation\":\"v\",\"showlegend\":false,\"x\":[0.5995485782623291,0.550902247428894,0.5355783104896545,0.6173186898231506],\"xaxis\":\"x14\",\"y\":[0.5148,0.5216,0.1731,0.4389],\"yaxis\":\"y14\",\"type\":\"scatter\"},{\"hovertemplate\":\"Tumortype=CMC\\u003cbr\\u003eLayer=Down-Neck-P5\\u003cbr\\u003eAP=%{x}\\u003cbr\\u003eHDV=%{y}\\u003cextra\\u003e\\u003c\\u002fextra\\u003e\",\"legendgroup\":\"CMC\",\"marker\":{\"color\":\"#00cc96\",\"symbol\":\"circle\"},\"mode\":\"markers\",\"name\":\"CMC\",\"orientation\":\"v\",\"showlegend\":false,\"x\":[0.5995485782623291,0.550902247428894,0.5355783104896545,0.6173186898231506],\"xaxis\":\"x15\",\"y\":[0.0953,0.1848,0.1284,0.0833],\"yaxis\":\"y15\",\"type\":\"scatter\"},{\"hovertemplate\":\"Tumortype=CMC\\u003cbr\\u003eLayer=Down-Neck-P6\\u003cbr\\u003eAP=%{x}\\u003cbr\\u003eHDV=%{y}\\u003cextra\\u003e\\u003c\\u002fextra\\u003e\",\"legendgroup\":\"CMC\",\"marker\":{\"color\":\"#00cc96\",\"symbol\":\"circle\"},\"mode\":\"markers\",\"name\":\"CMC\",\"orientation\":\"v\",\"showlegend\":false,\"x\":[0.5995485782623291,0.550902247428894,0.5355783104896545,0.6173186898231506],\"xaxis\":\"x6\",\"y\":[0.1436,0.1862,0.1288,0.1219],\"yaxis\":\"y6\",\"type\":\"scatter\"},{\"hovertemplate\":\"Tumortype=CMC\\u003cbr\\u003eLayer=Final-Neck-P3\\u003cbr\\u003eAP=%{x}\\u003cbr\\u003eHDV=%{y}\\u003cextra\\u003e\\u003c\\u002fextra\\u003e\",\"legendgroup\":\"CMC\",\"marker\":{\"color\":\"#00cc96\",\"symbol\":\"circle\"},\"mode\":\"markers\",\"name\":\"CMC\",\"orientation\":\"v\",\"showlegend\":false,\"x\":[0.5995485782623291,0.550902247428894,0.5355783104896545,0.6173186898231506],\"xaxis\":\"x7\",\"y\":[0.4666,0.4311,0.3941,0.4017],\"yaxis\":\"y7\",\"type\":\"scatter\"},{\"hovertemplate\":\"Tumortype=CMC\\u003cbr\\u003eLayer=Final-Neck-P4\\u003cbr\\u003eAP=%{x}\\u003cbr\\u003eHDV=%{y}\\u003cextra\\u003e\\u003c\\u002fextra\\u003e\",\"legendgroup\":\"CMC\",\"marker\":{\"color\":\"#00cc96\",\"symbol\":\"circle\"},\"mode\":\"markers\",\"name\":\"CMC\",\"orientation\":\"v\",\"showlegend\":false,\"x\":[0.5995485782623291,0.550902247428894,0.5355783104896545,0.6173186898231506],\"xaxis\":\"x8\",\"y\":[0.5019,0.4987,0.289,0.4397],\"yaxis\":\"y8\",\"type\":\"scatter\"},{\"hovertemplate\":\"Tumortype=CMC\\u003cbr\\u003eLayer=Final-Neck-P5\\u003cbr\\u003eAP=%{x}\\u003cbr\\u003eHDV=%{y}\\u003cextra\\u003e\\u003c\\u002fextra\\u003e\",\"legendgroup\":\"CMC\",\"marker\":{\"color\":\"#00cc96\",\"symbol\":\"circle\"},\"mode\":\"markers\",\"name\":\"CMC\",\"orientation\":\"v\",\"showlegend\":false,\"x\":[0.5995485782623291,0.550902247428894,0.5355783104896545,0.6173186898231506],\"xaxis\":\"x9\",\"y\":[0.0817,0.1663,0.1113,0.1319],\"yaxis\":\"y9\",\"type\":\"scatter\"},{\"hovertemplate\":\"Tumortype=CMC\\u003cbr\\u003eLayer=Final-Neck-P6\\u003cbr\\u003eAP=%{x}\\u003cbr\\u003eHDV=%{y}\\u003cextra\\u003e\\u003c\\u002fextra\\u003e\",\"legendgroup\":\"CMC\",\"marker\":{\"color\":\"#00cc96\",\"symbol\":\"circle\"},\"mode\":\"markers\",\"name\":\"CMC\",\"orientation\":\"v\",\"showlegend\":false,\"x\":[0.5995485782623291,0.550902247428894,0.5355783104896545,0.6173186898231506],\"xaxis\":\"x10\",\"y\":[0.1442,0.1545,0.1101,0.1164],\"yaxis\":\"y10\",\"type\":\"scatter\"},{\"hovertemplate\":\"Tumortype=CMC\\u003cbr\\u003eLayer=Head-P3\\u003cbr\\u003eAP=%{x}\\u003cbr\\u003eHDV=%{y}\\u003cextra\\u003e\\u003c\\u002fextra\\u003e\",\"legendgroup\":\"CMC\",\"marker\":{\"color\":\"#00cc96\",\"symbol\":\"circle\"},\"mode\":\"markers\",\"name\":\"CMC\",\"orientation\":\"v\",\"showlegend\":false,\"x\":[0.5995485782623291,0.550902247428894,0.5355783104896545,0.6173186898231506],\"xaxis\":\"x\",\"y\":[0.6002,0.5857,0.5768,0.616],\"yaxis\":\"y\",\"type\":\"scatter\"},{\"hovertemplate\":\"Tumortype=CMC\\u003cbr\\u003eLayer=Head-P4\\u003cbr\\u003eAP=%{x}\\u003cbr\\u003eHDV=%{y}\\u003cextra\\u003e\\u003c\\u002fextra\\u003e\",\"legendgroup\":\"CMC\",\"marker\":{\"color\":\"#00cc96\",\"symbol\":\"circle\"},\"mode\":\"markers\",\"name\":\"CMC\",\"orientation\":\"v\",\"showlegend\":false,\"x\":[0.5995485782623291,0.550902247428894,0.5355783104896545,0.6173186898231506],\"xaxis\":\"x2\",\"y\":[0.5237,0.5668,0.4297,0.5022],\"yaxis\":\"y2\",\"type\":\"scatter\"},{\"hovertemplate\":\"Tumortype=CMC\\u003cbr\\u003eLayer=Head-P5\\u003cbr\\u003eAP=%{x}\\u003cbr\\u003eHDV=%{y}\\u003cextra\\u003e\\u003c\\u002fextra\\u003e\",\"legendgroup\":\"CMC\",\"marker\":{\"color\":\"#00cc96\",\"symbol\":\"circle\"},\"mode\":\"markers\",\"name\":\"CMC\",\"orientation\":\"v\",\"showlegend\":false,\"x\":[0.5995485782623291,0.550902247428894,0.5355783104896545,0.6173186898231506],\"xaxis\":\"x3\",\"y\":[0.2496,0.3142,0.3284,0.2771],\"yaxis\":\"y3\",\"type\":\"scatter\"},{\"hovertemplate\":\"Tumortype=CMC\\u003cbr\\u003eLayer=Head-P6\\u003cbr\\u003eAP=%{x}\\u003cbr\\u003eHDV=%{y}\\u003cextra\\u003e\\u003c\\u002fextra\\u003e\",\"legendgroup\":\"CMC\",\"marker\":{\"color\":\"#00cc96\",\"symbol\":\"circle\"},\"mode\":\"markers\",\"name\":\"CMC\",\"orientation\":\"v\",\"showlegend\":false,\"x\":[0.5995485782623291,0.550902247428894,0.5355783104896545,0.6173186898231506],\"xaxis\":\"x4\",\"y\":[0.2874,0.3098,0.2684,0.2736],\"yaxis\":\"y4\",\"type\":\"scatter\"},{\"hovertemplate\":\"Tumortype=CCMCT\\u003cbr\\u003eLayer=P2\\u003cbr\\u003eAP=%{x}\\u003cbr\\u003eHDV=%{y}\\u003cextra\\u003e\\u003c\\u002fextra\\u003e\",\"legendgroup\":\"CCMCT\",\"marker\":{\"color\":\"#ab63fa\",\"symbol\":\"circle\"},\"mode\":\"markers\",\"name\":\"CCMCT\",\"orientation\":\"v\",\"showlegend\":true,\"x\":[0.6421969532966614,0.6016607880592346,0.636668860912323,0.6889199614524841],\"xaxis\":\"x16\",\"y\":[0.1537,0.1714,0.1577,0.164],\"yaxis\":\"y16\",\"type\":\"scatter\"},{\"hovertemplate\":\"Tumortype=CCMCT\\u003cbr\\u003eLayer=P3\\u003cbr\\u003eAP=%{x}\\u003cbr\\u003eHDV=%{y}\\u003cextra\\u003e\\u003c\\u002fextra\\u003e\",\"legendgroup\":\"CCMCT\",\"marker\":{\"color\":\"#ab63fa\",\"symbol\":\"circle\"},\"mode\":\"markers\",\"name\":\"CCMCT\",\"orientation\":\"v\",\"showlegend\":false,\"x\":[0.6421969532966614,0.6016607880592346,0.636668860912323,0.6889199614524841],\"xaxis\":\"x17\",\"y\":[0.4678,0.386,0.3902,0.416],\"yaxis\":\"y17\",\"type\":\"scatter\"},{\"hovertemplate\":\"Tumortype=CCMCT\\u003cbr\\u003eLayer=P4\\u003cbr\\u003eAP=%{x}\\u003cbr\\u003eHDV=%{y}\\u003cextra\\u003e\\u003c\\u002fextra\\u003e\",\"legendgroup\":\"CCMCT\",\"marker\":{\"color\":\"#ab63fa\",\"symbol\":\"circle\"},\"mode\":\"markers\",\"name\":\"CCMCT\",\"orientation\":\"v\",\"showlegend\":false,\"x\":[0.6421969532966614,0.6016607880592346,0.636668860912323,0.6889199614524841],\"xaxis\":\"x18\",\"y\":[0.5349,0.5873,0.4969,0.6022],\"yaxis\":\"y18\",\"type\":\"scatter\"},{\"hovertemplate\":\"Tumortype=CCMCT\\u003cbr\\u003eLayer=P5\\u003cbr\\u003eAP=%{x}\\u003cbr\\u003eHDV=%{y}\\u003cextra\\u003e\\u003c\\u002fextra\\u003e\",\"legendgroup\":\"CCMCT\",\"marker\":{\"color\":\"#ab63fa\",\"symbol\":\"circle\"},\"mode\":\"markers\",\"name\":\"CCMCT\",\"orientation\":\"v\",\"showlegend\":false,\"x\":[0.6421969532966614,0.6016607880592346,0.636668860912323,0.6889199614524841],\"xaxis\":\"x19\",\"y\":[0.4647,0.5543,0.1003,0.4517],\"yaxis\":\"y19\",\"type\":\"scatter\"},{\"hovertemplate\":\"Tumortype=CCMCT\\u003cbr\\u003eLayer=P6\\u003cbr\\u003eAP=%{x}\\u003cbr\\u003eHDV=%{y}\\u003cextra\\u003e\\u003c\\u002fextra\\u003e\",\"legendgroup\":\"CCMCT\",\"marker\":{\"color\":\"#ab63fa\",\"symbol\":\"circle\"},\"mode\":\"markers\",\"name\":\"CCMCT\",\"orientation\":\"v\",\"showlegend\":false,\"x\":[0.6421969532966614,0.6016607880592346,0.636668860912323,0.6889199614524841],\"xaxis\":\"x20\",\"y\":[0.442,0.5229,0.1404,0.3999],\"yaxis\":\"y20\",\"type\":\"scatter\"},{\"hovertemplate\":\"Tumortype=CCMCT\\u003cbr\\u003eLayer=Up-Neck-P5\\u003cbr\\u003eAP=%{x}\\u003cbr\\u003eHDV=%{y}\\u003cextra\\u003e\\u003c\\u002fextra\\u003e\",\"legendgroup\":\"CCMCT\",\"marker\":{\"color\":\"#ab63fa\",\"symbol\":\"circle\"},\"mode\":\"markers\",\"name\":\"CCMCT\",\"orientation\":\"v\",\"showlegend\":false,\"x\":[0.6421969532966614,0.6016607880592346,0.636668860912323,0.6889199614524841],\"xaxis\":\"x11\",\"y\":[0.1793,0.1988,0.1475,0.1559],\"yaxis\":\"y11\",\"type\":\"scatter\"},{\"hovertemplate\":\"Tumortype=CCMCT\\u003cbr\\u003eLayer=Up-Neck-P4\\u003cbr\\u003eAP=%{x}\\u003cbr\\u003eHDV=%{y}\\u003cextra\\u003e\\u003c\\u002fextra\\u003e\",\"legendgroup\":\"CCMCT\",\"marker\":{\"color\":\"#ab63fa\",\"symbol\":\"circle\"},\"mode\":\"markers\",\"name\":\"CCMCT\",\"orientation\":\"v\",\"showlegend\":false,\"x\":[0.6421969532966614,0.6016607880592346,0.636668860912323,0.6889199614524841],\"xaxis\":\"x12\",\"y\":[0.4488,0.5461,0.1406,0.5122],\"yaxis\":\"y12\",\"type\":\"scatter\"},{\"hovertemplate\":\"Tumortype=CCMCT\\u003cbr\\u003eLayer=Up-Neck-P3\\u003cbr\\u003eAP=%{x}\\u003cbr\\u003eHDV=%{y}\\u003cextra\\u003e\\u003c\\u002fextra\\u003e\",\"legendgroup\":\"CCMCT\",\"marker\":{\"color\":\"#ab63fa\",\"symbol\":\"circle\"},\"mode\":\"markers\",\"name\":\"CCMCT\",\"orientation\":\"v\",\"showlegend\":false,\"x\":[0.6421969532966614,0.6016607880592346,0.636668860912323,0.6889199614524841],\"xaxis\":\"x13\",\"y\":[0.4734,0.4229,0.3381,0.4116],\"yaxis\":\"y13\",\"type\":\"scatter\"},{\"hovertemplate\":\"Tumortype=CCMCT\\u003cbr\\u003eLayer=Down-Neck-P4\\u003cbr\\u003eAP=%{x}\\u003cbr\\u003eHDV=%{y}\\u003cextra\\u003e\\u003c\\u002fextra\\u003e\",\"legendgroup\":\"CCMCT\",\"marker\":{\"color\":\"#ab63fa\",\"symbol\":\"circle\"},\"mode\":\"markers\",\"name\":\"CCMCT\",\"orientation\":\"v\",\"showlegend\":false,\"x\":[0.6421969532966614,0.6016607880592346,0.636668860912323,0.6889199614524841],\"xaxis\":\"x14\",\"y\":[0.6019,0.6257,0.1401,0.6108],\"yaxis\":\"y14\",\"type\":\"scatter\"},{\"hovertemplate\":\"Tumortype=CCMCT\\u003cbr\\u003eLayer=Down-Neck-P5\\u003cbr\\u003eAP=%{x}\\u003cbr\\u003eHDV=%{y}\\u003cextra\\u003e\\u003c\\u002fextra\\u003e\",\"legendgroup\":\"CCMCT\",\"marker\":{\"color\":\"#ab63fa\",\"symbol\":\"circle\"},\"mode\":\"markers\",\"name\":\"CCMCT\",\"orientation\":\"v\",\"showlegend\":false,\"x\":[0.6421969532966614,0.6016607880592346,0.636668860912323,0.6889199614524841],\"xaxis\":\"x15\",\"y\":[0.4314,0.1704,0.1632,0.5075],\"yaxis\":\"y15\",\"type\":\"scatter\"},{\"hovertemplate\":\"Tumortype=CCMCT\\u003cbr\\u003eLayer=Down-Neck-P6\\u003cbr\\u003eAP=%{x}\\u003cbr\\u003eHDV=%{y}\\u003cextra\\u003e\\u003c\\u002fextra\\u003e\",\"legendgroup\":\"CCMCT\",\"marker\":{\"color\":\"#ab63fa\",\"symbol\":\"circle\"},\"mode\":\"markers\",\"name\":\"CCMCT\",\"orientation\":\"v\",\"showlegend\":false,\"x\":[0.6421969532966614,0.6016607880592346,0.636668860912323,0.6889199614524841],\"xaxis\":\"x6\",\"y\":[0.1176,0.1062,0.1695,0.1512],\"yaxis\":\"y6\",\"type\":\"scatter\"},{\"hovertemplate\":\"Tumortype=CCMCT\\u003cbr\\u003eLayer=Final-Neck-P3\\u003cbr\\u003eAP=%{x}\\u003cbr\\u003eHDV=%{y}\\u003cextra\\u003e\\u003c\\u002fextra\\u003e\",\"legendgroup\":\"CCMCT\",\"marker\":{\"color\":\"#ab63fa\",\"symbol\":\"circle\"},\"mode\":\"markers\",\"name\":\"CCMCT\",\"orientation\":\"v\",\"showlegend\":false,\"x\":[0.6421969532966614,0.6016607880592346,0.636668860912323,0.6889199614524841],\"xaxis\":\"x7\",\"y\":[0.5757,0.5043,0.4142,0.4768],\"yaxis\":\"y7\",\"type\":\"scatter\"},{\"hovertemplate\":\"Tumortype=CCMCT\\u003cbr\\u003eLayer=Final-Neck-P4\\u003cbr\\u003eAP=%{x}\\u003cbr\\u003eHDV=%{y}\\u003cextra\\u003e\\u003c\\u002fextra\\u003e\",\"legendgroup\":\"CCMCT\",\"marker\":{\"color\":\"#ab63fa\",\"symbol\":\"circle\"},\"mode\":\"markers\",\"name\":\"CCMCT\",\"orientation\":\"v\",\"showlegend\":false,\"x\":[0.6421969532966614,0.6016607880592346,0.636668860912323,0.6889199614524841],\"xaxis\":\"x8\",\"y\":[0.6055,0.6034,0.0962,0.5872],\"yaxis\":\"y8\",\"type\":\"scatter\"},{\"hovertemplate\":\"Tumortype=CCMCT\\u003cbr\\u003eLayer=Final-Neck-P5\\u003cbr\\u003eAP=%{x}\\u003cbr\\u003eHDV=%{y}\\u003cextra\\u003e\\u003c\\u002fextra\\u003e\",\"legendgroup\":\"CCMCT\",\"marker\":{\"color\":\"#ab63fa\",\"symbol\":\"circle\"},\"mode\":\"markers\",\"name\":\"CCMCT\",\"orientation\":\"v\",\"showlegend\":false,\"x\":[0.6421969532966614,0.6016607880592346,0.636668860912323,0.6889199614524841],\"xaxis\":\"x9\",\"y\":[0.2219,0.1246,0.1396,0.1429],\"yaxis\":\"y9\",\"type\":\"scatter\"},{\"hovertemplate\":\"Tumortype=CCMCT\\u003cbr\\u003eLayer=Final-Neck-P6\\u003cbr\\u003eAP=%{x}\\u003cbr\\u003eHDV=%{y}\\u003cextra\\u003e\\u003c\\u002fextra\\u003e\",\"legendgroup\":\"CCMCT\",\"marker\":{\"color\":\"#ab63fa\",\"symbol\":\"circle\"},\"mode\":\"markers\",\"name\":\"CCMCT\",\"orientation\":\"v\",\"showlegend\":false,\"x\":[0.6421969532966614,0.6016607880592346,0.636668860912323,0.6889199614524841],\"xaxis\":\"x10\",\"y\":[0.1123,0.1029,0.1636,0.1589],\"yaxis\":\"y10\",\"type\":\"scatter\"},{\"hovertemplate\":\"Tumortype=CCMCT\\u003cbr\\u003eLayer=Head-P3\\u003cbr\\u003eAP=%{x}\\u003cbr\\u003eHDV=%{y}\\u003cextra\\u003e\\u003c\\u002fextra\\u003e\",\"legendgroup\":\"CCMCT\",\"marker\":{\"color\":\"#ab63fa\",\"symbol\":\"circle\"},\"mode\":\"markers\",\"name\":\"CCMCT\",\"orientation\":\"v\",\"showlegend\":false,\"x\":[0.6421969532966614,0.6016607880592346,0.636668860912323,0.6889199614524841],\"xaxis\":\"x\",\"y\":[0.6491,0.6225,0.5889,0.6313],\"yaxis\":\"y\",\"type\":\"scatter\"},{\"hovertemplate\":\"Tumortype=CCMCT\\u003cbr\\u003eLayer=Head-P4\\u003cbr\\u003eAP=%{x}\\u003cbr\\u003eHDV=%{y}\\u003cextra\\u003e\\u003c\\u002fextra\\u003e\",\"legendgroup\":\"CCMCT\",\"marker\":{\"color\":\"#ab63fa\",\"symbol\":\"circle\"},\"mode\":\"markers\",\"name\":\"CCMCT\",\"orientation\":\"v\",\"showlegend\":false,\"x\":[0.6421969532966614,0.6016607880592346,0.636668860912323,0.6889199614524841],\"xaxis\":\"x2\",\"y\":[0.5921,0.6522,0.4639,0.5799],\"yaxis\":\"y2\",\"type\":\"scatter\"},{\"hovertemplate\":\"Tumortype=CCMCT\\u003cbr\\u003eLayer=Head-P5\\u003cbr\\u003eAP=%{x}\\u003cbr\\u003eHDV=%{y}\\u003cextra\\u003e\\u003c\\u002fextra\\u003e\",\"legendgroup\":\"CCMCT\",\"marker\":{\"color\":\"#ab63fa\",\"symbol\":\"circle\"},\"mode\":\"markers\",\"name\":\"CCMCT\",\"orientation\":\"v\",\"showlegend\":false,\"x\":[0.6421969532966614,0.6016607880592346,0.636668860912323,0.6889199614524841],\"xaxis\":\"x3\",\"y\":[0.3639,0.2824,0.3791,0.3125],\"yaxis\":\"y3\",\"type\":\"scatter\"},{\"hovertemplate\":\"Tumortype=CCMCT\\u003cbr\\u003eLayer=Head-P6\\u003cbr\\u003eAP=%{x}\\u003cbr\\u003eHDV=%{y}\\u003cextra\\u003e\\u003c\\u002fextra\\u003e\",\"legendgroup\":\"CCMCT\",\"marker\":{\"color\":\"#ab63fa\",\"symbol\":\"circle\"},\"mode\":\"markers\",\"name\":\"CCMCT\",\"orientation\":\"v\",\"showlegend\":false,\"x\":[0.6421969532966614,0.6016607880592346,0.636668860912323,0.6889199614524841],\"xaxis\":\"x4\",\"y\":[0.2537,0.2494,0.2927,0.2773],\"yaxis\":\"y4\",\"type\":\"scatter\"},{\"hovertemplate\":\"Tumortype=HMEN\\u003cbr\\u003eLayer=P2\\u003cbr\\u003eAP=%{x}\\u003cbr\\u003eHDV=%{y}\\u003cextra\\u003e\\u003c\\u002fextra\\u003e\",\"legendgroup\":\"HMEN\",\"marker\":{\"color\":\"#FFA15A\",\"symbol\":\"circle\"},\"mode\":\"markers\",\"name\":\"HMEN\",\"orientation\":\"v\",\"showlegend\":true,\"x\":[0.6117535829544067,0.5990904569625854,0.6056519150733948,0.5433266758918762],\"xaxis\":\"x16\",\"y\":[0.2181,0.2128,0.1957,0.2005],\"yaxis\":\"y16\",\"type\":\"scatter\"},{\"hovertemplate\":\"Tumortype=HMEN\\u003cbr\\u003eLayer=P3\\u003cbr\\u003eAP=%{x}\\u003cbr\\u003eHDV=%{y}\\u003cextra\\u003e\\u003c\\u002fextra\\u003e\",\"legendgroup\":\"HMEN\",\"marker\":{\"color\":\"#FFA15A\",\"symbol\":\"circle\"},\"mode\":\"markers\",\"name\":\"HMEN\",\"orientation\":\"v\",\"showlegend\":false,\"x\":[0.6117535829544067,0.5990904569625854,0.6056519150733948,0.5433266758918762],\"xaxis\":\"x17\",\"y\":[0.4321,0.3764,0.3564,0.3975],\"yaxis\":\"y17\",\"type\":\"scatter\"},{\"hovertemplate\":\"Tumortype=HMEN\\u003cbr\\u003eLayer=P4\\u003cbr\\u003eAP=%{x}\\u003cbr\\u003eHDV=%{y}\\u003cextra\\u003e\\u003c\\u002fextra\\u003e\",\"legendgroup\":\"HMEN\",\"marker\":{\"color\":\"#FFA15A\",\"symbol\":\"circle\"},\"mode\":\"markers\",\"name\":\"HMEN\",\"orientation\":\"v\",\"showlegend\":false,\"x\":[0.6117535829544067,0.5990904569625854,0.6056519150733948,0.5433266758918762],\"xaxis\":\"x18\",\"y\":[0.45,0.5052,0.5123,0.4335],\"yaxis\":\"y18\",\"type\":\"scatter\"},{\"hovertemplate\":\"Tumortype=HMEN\\u003cbr\\u003eLayer=P5\\u003cbr\\u003eAP=%{x}\\u003cbr\\u003eHDV=%{y}\\u003cextra\\u003e\\u003c\\u002fextra\\u003e\",\"legendgroup\":\"HMEN\",\"marker\":{\"color\":\"#FFA15A\",\"symbol\":\"circle\"},\"mode\":\"markers\",\"name\":\"HMEN\",\"orientation\":\"v\",\"showlegend\":false,\"x\":[0.6117535829544067,0.5990904569625854,0.6056519150733948,0.5433266758918762],\"xaxis\":\"x19\",\"y\":[0.3344,0.4381,0.4783,0.2886],\"yaxis\":\"y19\",\"type\":\"scatter\"},{\"hovertemplate\":\"Tumortype=HMEN\\u003cbr\\u003eLayer=P6\\u003cbr\\u003eAP=%{x}\\u003cbr\\u003eHDV=%{y}\\u003cextra\\u003e\\u003c\\u002fextra\\u003e\",\"legendgroup\":\"HMEN\",\"marker\":{\"color\":\"#FFA15A\",\"symbol\":\"circle\"},\"mode\":\"markers\",\"name\":\"HMEN\",\"orientation\":\"v\",\"showlegend\":false,\"x\":[0.6117535829544067,0.5990904569625854,0.6056519150733948,0.5433266758918762],\"xaxis\":\"x20\",\"y\":[0.2496,0.4343,0.0859,0.3146],\"yaxis\":\"y20\",\"type\":\"scatter\"},{\"hovertemplate\":\"Tumortype=HMEN\\u003cbr\\u003eLayer=Up-Neck-P5\\u003cbr\\u003eAP=%{x}\\u003cbr\\u003eHDV=%{y}\\u003cextra\\u003e\\u003c\\u002fextra\\u003e\",\"legendgroup\":\"HMEN\",\"marker\":{\"color\":\"#FFA15A\",\"symbol\":\"circle\"},\"mode\":\"markers\",\"name\":\"HMEN\",\"orientation\":\"v\",\"showlegend\":false,\"x\":[0.6117535829544067,0.5990904569625854,0.6056519150733948,0.5433266758918762],\"xaxis\":\"x11\",\"y\":[0.2516,0.2495,0.2241,0.1794],\"yaxis\":\"y11\",\"type\":\"scatter\"},{\"hovertemplate\":\"Tumortype=HMEN\\u003cbr\\u003eLayer=Up-Neck-P4\\u003cbr\\u003eAP=%{x}\\u003cbr\\u003eHDV=%{y}\\u003cextra\\u003e\\u003c\\u002fextra\\u003e\",\"legendgroup\":\"HMEN\",\"marker\":{\"color\":\"#FFA15A\",\"symbol\":\"circle\"},\"mode\":\"markers\",\"name\":\"HMEN\",\"orientation\":\"v\",\"showlegend\":false,\"x\":[0.6117535829544067,0.5990904569625854,0.6056519150733948,0.5433266758918762],\"xaxis\":\"x12\",\"y\":[0.3962,0.4873,0.3842,0.3788],\"yaxis\":\"y12\",\"type\":\"scatter\"},{\"hovertemplate\":\"Tumortype=HMEN\\u003cbr\\u003eLayer=Up-Neck-P3\\u003cbr\\u003eAP=%{x}\\u003cbr\\u003eHDV=%{y}\\u003cextra\\u003e\\u003c\\u002fextra\\u003e\",\"legendgroup\":\"HMEN\",\"marker\":{\"color\":\"#FFA15A\",\"symbol\":\"circle\"},\"mode\":\"markers\",\"name\":\"HMEN\",\"orientation\":\"v\",\"showlegend\":false,\"x\":[0.6117535829544067,0.5990904569625854,0.6056519150733948,0.5433266758918762],\"xaxis\":\"x13\",\"y\":[0.4569,0.4544,0.4645,0.3618],\"yaxis\":\"y13\",\"type\":\"scatter\"},{\"hovertemplate\":\"Tumortype=HMEN\\u003cbr\\u003eLayer=Down-Neck-P4\\u003cbr\\u003eAP=%{x}\\u003cbr\\u003eHDV=%{y}\\u003cextra\\u003e\\u003c\\u002fextra\\u003e\",\"legendgroup\":\"HMEN\",\"marker\":{\"color\":\"#FFA15A\",\"symbol\":\"circle\"},\"mode\":\"markers\",\"name\":\"HMEN\",\"orientation\":\"v\",\"showlegend\":false,\"x\":[0.6117535829544067,0.5990904569625854,0.6056519150733948,0.5433266758918762],\"xaxis\":\"x14\",\"y\":[0.5512,0.5683,0.4231,0.4857],\"yaxis\":\"y14\",\"type\":\"scatter\"},{\"hovertemplate\":\"Tumortype=HMEN\\u003cbr\\u003eLayer=Down-Neck-P5\\u003cbr\\u003eAP=%{x}\\u003cbr\\u003eHDV=%{y}\\u003cextra\\u003e\\u003c\\u002fextra\\u003e\",\"legendgroup\":\"HMEN\",\"marker\":{\"color\":\"#FFA15A\",\"symbol\":\"circle\"},\"mode\":\"markers\",\"name\":\"HMEN\",\"orientation\":\"v\",\"showlegend\":false,\"x\":[0.6117535829544067,0.5990904569625854,0.6056519150733948,0.5433266758918762],\"xaxis\":\"x15\",\"y\":[0.1616,0.2173,0.1093,0.1266],\"yaxis\":\"y15\",\"type\":\"scatter\"},{\"hovertemplate\":\"Tumortype=HMEN\\u003cbr\\u003eLayer=Down-Neck-P6\\u003cbr\\u003eAP=%{x}\\u003cbr\\u003eHDV=%{y}\\u003cextra\\u003e\\u003c\\u002fextra\\u003e\",\"legendgroup\":\"HMEN\",\"marker\":{\"color\":\"#FFA15A\",\"symbol\":\"circle\"},\"mode\":\"markers\",\"name\":\"HMEN\",\"orientation\":\"v\",\"showlegend\":false,\"x\":[0.6117535829544067,0.5990904569625854,0.6056519150733948,0.5433266758918762],\"xaxis\":\"x6\",\"y\":[0.1962,0.1443,0.165,0.1562],\"yaxis\":\"y6\",\"type\":\"scatter\"},{\"hovertemplate\":\"Tumortype=HMEN\\u003cbr\\u003eLayer=Final-Neck-P3\\u003cbr\\u003eAP=%{x}\\u003cbr\\u003eHDV=%{y}\\u003cextra\\u003e\\u003c\\u002fextra\\u003e\",\"legendgroup\":\"HMEN\",\"marker\":{\"color\":\"#FFA15A\",\"symbol\":\"circle\"},\"mode\":\"markers\",\"name\":\"HMEN\",\"orientation\":\"v\",\"showlegend\":false,\"x\":[0.6117535829544067,0.5990904569625854,0.6056519150733948,0.5433266758918762],\"xaxis\":\"x7\",\"y\":[0.5041,0.5277,0.5551,0.4176],\"yaxis\":\"y7\",\"type\":\"scatter\"},{\"hovertemplate\":\"Tumortype=HMEN\\u003cbr\\u003eLayer=Final-Neck-P4\\u003cbr\\u003eAP=%{x}\\u003cbr\\u003eHDV=%{y}\\u003cextra\\u003e\\u003c\\u002fextra\\u003e\",\"legendgroup\":\"HMEN\",\"marker\":{\"color\":\"#FFA15A\",\"symbol\":\"circle\"},\"mode\":\"markers\",\"name\":\"HMEN\",\"orientation\":\"v\",\"showlegend\":false,\"x\":[0.6117535829544067,0.5990904569625854,0.6056519150733948,0.5433266758918762],\"xaxis\":\"x8\",\"y\":[0.5339,0.5232,0.5113,0.4623],\"yaxis\":\"y8\",\"type\":\"scatter\"},{\"hovertemplate\":\"Tumortype=HMEN\\u003cbr\\u003eLayer=Final-Neck-P5\\u003cbr\\u003eAP=%{x}\\u003cbr\\u003eHDV=%{y}\\u003cextra\\u003e\\u003c\\u002fextra\\u003e\",\"legendgroup\":\"HMEN\",\"marker\":{\"color\":\"#FFA15A\",\"symbol\":\"circle\"},\"mode\":\"markers\",\"name\":\"HMEN\",\"orientation\":\"v\",\"showlegend\":false,\"x\":[0.6117535829544067,0.5990904569625854,0.6056519150733948,0.5433266758918762],\"xaxis\":\"x9\",\"y\":[0.1682,0.1736,0.1483,0.1088],\"yaxis\":\"y9\",\"type\":\"scatter\"},{\"hovertemplate\":\"Tumortype=HMEN\\u003cbr\\u003eLayer=Final-Neck-P6\\u003cbr\\u003eAP=%{x}\\u003cbr\\u003eHDV=%{y}\\u003cextra\\u003e\\u003c\\u002fextra\\u003e\",\"legendgroup\":\"HMEN\",\"marker\":{\"color\":\"#FFA15A\",\"symbol\":\"circle\"},\"mode\":\"markers\",\"name\":\"HMEN\",\"orientation\":\"v\",\"showlegend\":false,\"x\":[0.6117535829544067,0.5990904569625854,0.6056519150733948,0.5433266758918762],\"xaxis\":\"x10\",\"y\":[0.1552,0.1413,0.1917,0.1484],\"yaxis\":\"y10\",\"type\":\"scatter\"},{\"hovertemplate\":\"Tumortype=HMEN\\u003cbr\\u003eLayer=Head-P3\\u003cbr\\u003eAP=%{x}\\u003cbr\\u003eHDV=%{y}\\u003cextra\\u003e\\u003c\\u002fextra\\u003e\",\"legendgroup\":\"HMEN\",\"marker\":{\"color\":\"#FFA15A\",\"symbol\":\"circle\"},\"mode\":\"markers\",\"name\":\"HMEN\",\"orientation\":\"v\",\"showlegend\":false,\"x\":[0.6117535829544067,0.5990904569625854,0.6056519150733948,0.5433266758918762],\"xaxis\":\"x\",\"y\":[0.6239,0.6257,0.6293,0.6219],\"yaxis\":\"y\",\"type\":\"scatter\"},{\"hovertemplate\":\"Tumortype=HMEN\\u003cbr\\u003eLayer=Head-P4\\u003cbr\\u003eAP=%{x}\\u003cbr\\u003eHDV=%{y}\\u003cextra\\u003e\\u003c\\u002fextra\\u003e\",\"legendgroup\":\"HMEN\",\"marker\":{\"color\":\"#FFA15A\",\"symbol\":\"circle\"},\"mode\":\"markers\",\"name\":\"HMEN\",\"orientation\":\"v\",\"showlegend\":false,\"x\":[0.6117535829544067,0.5990904569625854,0.6056519150733948,0.5433266758918762],\"xaxis\":\"x2\",\"y\":[0.5354,0.5645,0.5649,0.5129],\"yaxis\":\"y2\",\"type\":\"scatter\"},{\"hovertemplate\":\"Tumortype=HMEN\\u003cbr\\u003eLayer=Head-P5\\u003cbr\\u003eAP=%{x}\\u003cbr\\u003eHDV=%{y}\\u003cextra\\u003e\\u003c\\u002fextra\\u003e\",\"legendgroup\":\"HMEN\",\"marker\":{\"color\":\"#FFA15A\",\"symbol\":\"circle\"},\"mode\":\"markers\",\"name\":\"HMEN\",\"orientation\":\"v\",\"showlegend\":false,\"x\":[0.6117535829544067,0.5990904569625854,0.6056519150733948,0.5433266758918762],\"xaxis\":\"x3\",\"y\":[0.2985,0.3091,0.461,0.2716],\"yaxis\":\"y3\",\"type\":\"scatter\"},{\"hovertemplate\":\"Tumortype=HMEN\\u003cbr\\u003eLayer=Head-P6\\u003cbr\\u003eAP=%{x}\\u003cbr\\u003eHDV=%{y}\\u003cextra\\u003e\\u003c\\u002fextra\\u003e\",\"legendgroup\":\"HMEN\",\"marker\":{\"color\":\"#FFA15A\",\"symbol\":\"circle\"},\"mode\":\"markers\",\"name\":\"HMEN\",\"orientation\":\"v\",\"showlegend\":false,\"x\":[0.6117535829544067,0.5990904569625854,0.6056519150733948,0.5433266758918762],\"xaxis\":\"x4\",\"y\":[0.3079,0.2825,0.331,0.288],\"yaxis\":\"y4\",\"type\":\"scatter\"},{\"hovertemplate\":\"Tumortype=HCOC\\u003cbr\\u003eLayer=P2\\u003cbr\\u003eAP=%{x}\\u003cbr\\u003eHDV=%{y}\\u003cextra\\u003e\\u003c\\u002fextra\\u003e\",\"legendgroup\":\"HCOC\",\"marker\":{\"color\":\"#19d3f3\",\"symbol\":\"circle\"},\"mode\":\"markers\",\"name\":\"HCOC\",\"orientation\":\"v\",\"showlegend\":true,\"x\":[0.6376984119415283,0.6425358057022095,0.6249560117721558,0.6526107788085938],\"xaxis\":\"x16\",\"y\":[0.1536,0.1581,0.136,0.1506],\"yaxis\":\"y16\",\"type\":\"scatter\"},{\"hovertemplate\":\"Tumortype=HCOC\\u003cbr\\u003eLayer=P3\\u003cbr\\u003eAP=%{x}\\u003cbr\\u003eHDV=%{y}\\u003cextra\\u003e\\u003c\\u002fextra\\u003e\",\"legendgroup\":\"HCOC\",\"marker\":{\"color\":\"#19d3f3\",\"symbol\":\"circle\"},\"mode\":\"markers\",\"name\":\"HCOC\",\"orientation\":\"v\",\"showlegend\":false,\"x\":[0.6376984119415283,0.6425358057022095,0.6249560117721558,0.6526107788085938],\"xaxis\":\"x17\",\"y\":[0.3639,0.3265,0.2982,0.3731],\"yaxis\":\"y17\",\"type\":\"scatter\"},{\"hovertemplate\":\"Tumortype=HCOC\\u003cbr\\u003eLayer=P4\\u003cbr\\u003eAP=%{x}\\u003cbr\\u003eHDV=%{y}\\u003cextra\\u003e\\u003c\\u002fextra\\u003e\",\"legendgroup\":\"HCOC\",\"marker\":{\"color\":\"#19d3f3\",\"symbol\":\"circle\"},\"mode\":\"markers\",\"name\":\"HCOC\",\"orientation\":\"v\",\"showlegend\":false,\"x\":[0.6376984119415283,0.6425358057022095,0.6249560117721558,0.6526107788085938],\"xaxis\":\"x18\",\"y\":[0.4347,0.4987,0.4543,0.4321],\"yaxis\":\"y18\",\"type\":\"scatter\"},{\"hovertemplate\":\"Tumortype=HCOC\\u003cbr\\u003eLayer=P5\\u003cbr\\u003eAP=%{x}\\u003cbr\\u003eHDV=%{y}\\u003cextra\\u003e\\u003c\\u002fextra\\u003e\",\"legendgroup\":\"HCOC\",\"marker\":{\"color\":\"#19d3f3\",\"symbol\":\"circle\"},\"mode\":\"markers\",\"name\":\"HCOC\",\"orientation\":\"v\",\"showlegend\":false,\"x\":[0.6376984119415283,0.6425358057022095,0.6249560117721558,0.6526107788085938],\"xaxis\":\"x19\",\"y\":[0.2139,0.3718,0.4129,0.2415],\"yaxis\":\"y19\",\"type\":\"scatter\"},{\"hovertemplate\":\"Tumortype=HCOC\\u003cbr\\u003eLayer=P6\\u003cbr\\u003eAP=%{x}\\u003cbr\\u003eHDV=%{y}\\u003cextra\\u003e\\u003c\\u002fextra\\u003e\",\"legendgroup\":\"HCOC\",\"marker\":{\"color\":\"#19d3f3\",\"symbol\":\"circle\"},\"mode\":\"markers\",\"name\":\"HCOC\",\"orientation\":\"v\",\"showlegend\":false,\"x\":[0.6376984119415283,0.6425358057022095,0.6249560117721558,0.6526107788085938],\"xaxis\":\"x20\",\"y\":[0.1781,0.3391,0.0807,0.2329],\"yaxis\":\"y20\",\"type\":\"scatter\"},{\"hovertemplate\":\"Tumortype=HCOC\\u003cbr\\u003eLayer=Up-Neck-P5\\u003cbr\\u003eAP=%{x}\\u003cbr\\u003eHDV=%{y}\\u003cextra\\u003e\\u003c\\u002fextra\\u003e\",\"legendgroup\":\"HCOC\",\"marker\":{\"color\":\"#19d3f3\",\"symbol\":\"circle\"},\"mode\":\"markers\",\"name\":\"HCOC\",\"orientation\":\"v\",\"showlegend\":false,\"x\":[0.6376984119415283,0.6425358057022095,0.6249560117721558,0.6526107788085938],\"xaxis\":\"x11\",\"y\":[0.1712,0.1651,0.0643,0.1163],\"yaxis\":\"y11\",\"type\":\"scatter\"},{\"hovertemplate\":\"Tumortype=HCOC\\u003cbr\\u003eLayer=Up-Neck-P4\\u003cbr\\u003eAP=%{x}\\u003cbr\\u003eHDV=%{y}\\u003cextra\\u003e\\u003c\\u002fextra\\u003e\",\"legendgroup\":\"HCOC\",\"marker\":{\"color\":\"#19d3f3\",\"symbol\":\"circle\"},\"mode\":\"markers\",\"name\":\"HCOC\",\"orientation\":\"v\",\"showlegend\":false,\"x\":[0.6376984119415283,0.6425358057022095,0.6249560117721558,0.6526107788085938],\"xaxis\":\"x12\",\"y\":[0.3442,0.4412,0.3162,0.4106],\"yaxis\":\"y12\",\"type\":\"scatter\"},{\"hovertemplate\":\"Tumortype=HCOC\\u003cbr\\u003eLayer=Up-Neck-P3\\u003cbr\\u003eAP=%{x}\\u003cbr\\u003eHDV=%{y}\\u003cextra\\u003e\\u003c\\u002fextra\\u003e\",\"legendgroup\":\"HCOC\",\"marker\":{\"color\":\"#19d3f3\",\"symbol\":\"circle\"},\"mode\":\"markers\",\"name\":\"HCOC\",\"orientation\":\"v\",\"showlegend\":false,\"x\":[0.6376984119415283,0.6425358057022095,0.6249560117721558,0.6526107788085938],\"xaxis\":\"x13\",\"y\":[0.383,0.3618,0.409,0.347],\"yaxis\":\"y13\",\"type\":\"scatter\"},{\"hovertemplate\":\"Tumortype=HCOC\\u003cbr\\u003eLayer=Down-Neck-P4\\u003cbr\\u003eAP=%{x}\\u003cbr\\u003eHDV=%{y}\\u003cextra\\u003e\\u003c\\u002fextra\\u003e\",\"legendgroup\":\"HCOC\",\"marker\":{\"color\":\"#19d3f3\",\"symbol\":\"circle\"},\"mode\":\"markers\",\"name\":\"HCOC\",\"orientation\":\"v\",\"showlegend\":false,\"x\":[0.6376984119415283,0.6425358057022095,0.6249560117721558,0.6526107788085938],\"xaxis\":\"x14\",\"y\":[0.4839,0.5183,0.3894,0.3329],\"yaxis\":\"y14\",\"type\":\"scatter\"},{\"hovertemplate\":\"Tumortype=HCOC\\u003cbr\\u003eLayer=Down-Neck-P5\\u003cbr\\u003eAP=%{x}\\u003cbr\\u003eHDV=%{y}\\u003cextra\\u003e\\u003c\\u002fextra\\u003e\",\"legendgroup\":\"HCOC\",\"marker\":{\"color\":\"#19d3f3\",\"symbol\":\"circle\"},\"mode\":\"markers\",\"name\":\"HCOC\",\"orientation\":\"v\",\"showlegend\":false,\"x\":[0.6376984119415283,0.6425358057022095,0.6249560117721558,0.6526107788085938],\"xaxis\":\"x15\",\"y\":[0.1051,0.1371,0.0732,0.0739],\"yaxis\":\"y15\",\"type\":\"scatter\"},{\"hovertemplate\":\"Tumortype=HCOC\\u003cbr\\u003eLayer=Down-Neck-P6\\u003cbr\\u003eAP=%{x}\\u003cbr\\u003eHDV=%{y}\\u003cextra\\u003e\\u003c\\u002fextra\\u003e\",\"legendgroup\":\"HCOC\",\"marker\":{\"color\":\"#19d3f3\",\"symbol\":\"circle\"},\"mode\":\"markers\",\"name\":\"HCOC\",\"orientation\":\"v\",\"showlegend\":false,\"x\":[0.6376984119415283,0.6425358057022095,0.6249560117721558,0.6526107788085938],\"xaxis\":\"x6\",\"y\":[0.1038,0.0975,0.0841,0.0769],\"yaxis\":\"y6\",\"type\":\"scatter\"},{\"hovertemplate\":\"Tumortype=HCOC\\u003cbr\\u003eLayer=Final-Neck-P3\\u003cbr\\u003eAP=%{x}\\u003cbr\\u003eHDV=%{y}\\u003cextra\\u003e\\u003c\\u002fextra\\u003e\",\"legendgroup\":\"HCOC\",\"marker\":{\"color\":\"#19d3f3\",\"symbol\":\"circle\"},\"mode\":\"markers\",\"name\":\"HCOC\",\"orientation\":\"v\",\"showlegend\":false,\"x\":[0.6376984119415283,0.6425358057022095,0.6249560117721558,0.6526107788085938],\"xaxis\":\"x7\",\"y\":[0.4314,0.4494,0.4639,0.4137],\"yaxis\":\"y7\",\"type\":\"scatter\"},{\"hovertemplate\":\"Tumortype=HCOC\\u003cbr\\u003eLayer=Final-Neck-P4\\u003cbr\\u003eAP=%{x}\\u003cbr\\u003eHDV=%{y}\\u003cextra\\u003e\\u003c\\u002fextra\\u003e\",\"legendgroup\":\"HCOC\",\"marker\":{\"color\":\"#19d3f3\",\"symbol\":\"circle\"},\"mode\":\"markers\",\"name\":\"HCOC\",\"orientation\":\"v\",\"showlegend\":false,\"x\":[0.6376984119415283,0.6425358057022095,0.6249560117721558,0.6526107788085938],\"xaxis\":\"x8\",\"y\":[0.4585,0.4703,0.4472,0.2757],\"yaxis\":\"y8\",\"type\":\"scatter\"},{\"hovertemplate\":\"Tumortype=HCOC\\u003cbr\\u003eLayer=Final-Neck-P5\\u003cbr\\u003eAP=%{x}\\u003cbr\\u003eHDV=%{y}\\u003cextra\\u003e\\u003c\\u002fextra\\u003e\",\"legendgroup\":\"HCOC\",\"marker\":{\"color\":\"#19d3f3\",\"symbol\":\"circle\"},\"mode\":\"markers\",\"name\":\"HCOC\",\"orientation\":\"v\",\"showlegend\":false,\"x\":[0.6376984119415283,0.6425358057022095,0.6249560117721558,0.6526107788085938],\"xaxis\":\"x9\",\"y\":[0.1029,0.1239,0.2033,0.0944],\"yaxis\":\"y9\",\"type\":\"scatter\"},{\"hovertemplate\":\"Tumortype=HCOC\\u003cbr\\u003eLayer=Final-Neck-P6\\u003cbr\\u003eAP=%{x}\\u003cbr\\u003eHDV=%{y}\\u003cextra\\u003e\\u003c\\u002fextra\\u003e\",\"legendgroup\":\"HCOC\",\"marker\":{\"color\":\"#19d3f3\",\"symbol\":\"circle\"},\"mode\":\"markers\",\"name\":\"HCOC\",\"orientation\":\"v\",\"showlegend\":false,\"x\":[0.6376984119415283,0.6425358057022095,0.6249560117721558,0.6526107788085938],\"xaxis\":\"x10\",\"y\":[0.0806,0.097,0.0983,0.0738],\"yaxis\":\"y10\",\"type\":\"scatter\"},{\"hovertemplate\":\"Tumortype=HCOC\\u003cbr\\u003eLayer=Head-P3\\u003cbr\\u003eAP=%{x}\\u003cbr\\u003eHDV=%{y}\\u003cextra\\u003e\\u003c\\u002fextra\\u003e\",\"legendgroup\":\"HCOC\",\"marker\":{\"color\":\"#19d3f3\",\"symbol\":\"circle\"},\"mode\":\"markers\",\"name\":\"HCOC\",\"orientation\":\"v\",\"showlegend\":false,\"x\":[0.6376984119415283,0.6425358057022095,0.6249560117721558,0.6526107788085938],\"xaxis\":\"x\",\"y\":[0.5763,0.5766,0.5898,0.5958],\"yaxis\":\"y\",\"type\":\"scatter\"},{\"hovertemplate\":\"Tumortype=HCOC\\u003cbr\\u003eLayer=Head-P4\\u003cbr\\u003eAP=%{x}\\u003cbr\\u003eHDV=%{y}\\u003cextra\\u003e\\u003c\\u002fextra\\u003e\",\"legendgroup\":\"HCOC\",\"marker\":{\"color\":\"#19d3f3\",\"symbol\":\"circle\"},\"mode\":\"markers\",\"name\":\"HCOC\",\"orientation\":\"v\",\"showlegend\":false,\"x\":[0.6376984119415283,0.6425358057022095,0.6249560117721558,0.6526107788085938],\"xaxis\":\"x2\",\"y\":[0.4733,0.5169,0.5118,0.4538],\"yaxis\":\"y2\",\"type\":\"scatter\"},{\"hovertemplate\":\"Tumortype=HCOC\\u003cbr\\u003eLayer=Head-P5\\u003cbr\\u003eAP=%{x}\\u003cbr\\u003eHDV=%{y}\\u003cextra\\u003e\\u003c\\u002fextra\\u003e\",\"legendgroup\":\"HCOC\",\"marker\":{\"color\":\"#19d3f3\",\"symbol\":\"circle\"},\"mode\":\"markers\",\"name\":\"HCOC\",\"orientation\":\"v\",\"showlegend\":false,\"x\":[0.6376984119415283,0.6425358057022095,0.6249560117721558,0.6526107788085938],\"xaxis\":\"x3\",\"y\":[0.2495,0.2867,0.4706,0.2471],\"yaxis\":\"y3\",\"type\":\"scatter\"},{\"hovertemplate\":\"Tumortype=HCOC\\u003cbr\\u003eLayer=Head-P6\\u003cbr\\u003eAP=%{x}\\u003cbr\\u003eHDV=%{y}\\u003cextra\\u003e\\u003c\\u002fextra\\u003e\",\"legendgroup\":\"HCOC\",\"marker\":{\"color\":\"#19d3f3\",\"symbol\":\"circle\"},\"mode\":\"markers\",\"name\":\"HCOC\",\"orientation\":\"v\",\"showlegend\":false,\"x\":[0.6376984119415283,0.6425358057022095,0.6249560117721558,0.6526107788085938],\"xaxis\":\"x4\",\"y\":[0.239,0.2431,0.2296,0.2258],\"yaxis\":\"y4\",\"type\":\"scatter\"},{\"hovertemplate\":\"Tumortype=CHAS\\u003cbr\\u003eLayer=P2\\u003cbr\\u003eAP=%{x}\\u003cbr\\u003eHDV=%{y}\\u003cextra\\u003e\\u003c\\u002fextra\\u003e\",\"legendgroup\":\"CHAS\",\"marker\":{\"color\":\"#FF6692\",\"symbol\":\"circle\"},\"mode\":\"markers\",\"name\":\"CHAS\",\"orientation\":\"v\",\"showlegend\":true,\"x\":[0.7062731981277466,0.6789959073066711,0.6826549172401428,0.7200438976287842],\"xaxis\":\"x16\",\"y\":[0.1839,0.1843,0.1789,0.1633],\"yaxis\":\"y16\",\"type\":\"scatter\"},{\"hovertemplate\":\"Tumortype=CHAS\\u003cbr\\u003eLayer=P3\\u003cbr\\u003eAP=%{x}\\u003cbr\\u003eHDV=%{y}\\u003cextra\\u003e\\u003c\\u002fextra\\u003e\",\"legendgroup\":\"CHAS\",\"marker\":{\"color\":\"#FF6692\",\"symbol\":\"circle\"},\"mode\":\"markers\",\"name\":\"CHAS\",\"orientation\":\"v\",\"showlegend\":false,\"x\":[0.7062731981277466,0.6789959073066711,0.6826549172401428,0.7200438976287842],\"xaxis\":\"x17\",\"y\":[0.3862,0.3978,0.3642,0.4088],\"yaxis\":\"y17\",\"type\":\"scatter\"},{\"hovertemplate\":\"Tumortype=CHAS\\u003cbr\\u003eLayer=P4\\u003cbr\\u003eAP=%{x}\\u003cbr\\u003eHDV=%{y}\\u003cextra\\u003e\\u003c\\u002fextra\\u003e\",\"legendgroup\":\"CHAS\",\"marker\":{\"color\":\"#FF6692\",\"symbol\":\"circle\"},\"mode\":\"markers\",\"name\":\"CHAS\",\"orientation\":\"v\",\"showlegend\":false,\"x\":[0.7062731981277466,0.6789959073066711,0.6826549172401428,0.7200438976287842],\"xaxis\":\"x18\",\"y\":[0.486,0.5426,0.5524,0.5275],\"yaxis\":\"y18\",\"type\":\"scatter\"},{\"hovertemplate\":\"Tumortype=CHAS\\u003cbr\\u003eLayer=P5\\u003cbr\\u003eAP=%{x}\\u003cbr\\u003eHDV=%{y}\\u003cextra\\u003e\\u003c\\u002fextra\\u003e\",\"legendgroup\":\"CHAS\",\"marker\":{\"color\":\"#FF6692\",\"symbol\":\"circle\"},\"mode\":\"markers\",\"name\":\"CHAS\",\"orientation\":\"v\",\"showlegend\":false,\"x\":[0.7062731981277466,0.6789959073066711,0.6826549172401428,0.7200438976287842],\"xaxis\":\"x19\",\"y\":[0.2981,0.4377,0.5177,0.3499],\"yaxis\":\"y19\",\"type\":\"scatter\"},{\"hovertemplate\":\"Tumortype=CHAS\\u003cbr\\u003eLayer=P6\\u003cbr\\u003eAP=%{x}\\u003cbr\\u003eHDV=%{y}\\u003cextra\\u003e\\u003c\\u002fextra\\u003e\",\"legendgroup\":\"CHAS\",\"marker\":{\"color\":\"#FF6692\",\"symbol\":\"circle\"},\"mode\":\"markers\",\"name\":\"CHAS\",\"orientation\":\"v\",\"showlegend\":false,\"x\":[0.7062731981277466,0.6789959073066711,0.6826549172401428,0.7200438976287842],\"xaxis\":\"x20\",\"y\":[0.2162,0.3906,0.0758,0.3056],\"yaxis\":\"y20\",\"type\":\"scatter\"},{\"hovertemplate\":\"Tumortype=CHAS\\u003cbr\\u003eLayer=Up-Neck-P5\\u003cbr\\u003eAP=%{x}\\u003cbr\\u003eHDV=%{y}\\u003cextra\\u003e\\u003c\\u002fextra\\u003e\",\"legendgroup\":\"CHAS\",\"marker\":{\"color\":\"#FF6692\",\"symbol\":\"circle\"},\"mode\":\"markers\",\"name\":\"CHAS\",\"orientation\":\"v\",\"showlegend\":false,\"x\":[0.7062731981277466,0.6789959073066711,0.6826549172401428,0.7200438976287842],\"xaxis\":\"x11\",\"y\":[0.25,0.1696,0.1422,0.1975],\"yaxis\":\"y11\",\"type\":\"scatter\"},{\"hovertemplate\":\"Tumortype=CHAS\\u003cbr\\u003eLayer=Up-Neck-P4\\u003cbr\\u003eAP=%{x}\\u003cbr\\u003eHDV=%{y}\\u003cextra\\u003e\\u003c\\u002fextra\\u003e\",\"legendgroup\":\"CHAS\",\"marker\":{\"color\":\"#FF6692\",\"symbol\":\"circle\"},\"mode\":\"markers\",\"name\":\"CHAS\",\"orientation\":\"v\",\"showlegend\":false,\"x\":[0.7062731981277466,0.6789959073066711,0.6826549172401428,0.7200438976287842],\"xaxis\":\"x12\",\"y\":[0.4251,0.5136,0.4326,0.4912],\"yaxis\":\"y12\",\"type\":\"scatter\"},{\"hovertemplate\":\"Tumortype=CHAS\\u003cbr\\u003eLayer=Up-Neck-P3\\u003cbr\\u003eAP=%{x}\\u003cbr\\u003eHDV=%{y}\\u003cextra\\u003e\\u003c\\u002fextra\\u003e\",\"legendgroup\":\"CHAS\",\"marker\":{\"color\":\"#FF6692\",\"symbol\":\"circle\"},\"mode\":\"markers\",\"name\":\"CHAS\",\"orientation\":\"v\",\"showlegend\":false,\"x\":[0.7062731981277466,0.6789959073066711,0.6826549172401428,0.7200438976287842],\"xaxis\":\"x13\",\"y\":[0.361,0.464,0.493,0.4178],\"yaxis\":\"y13\",\"type\":\"scatter\"},{\"hovertemplate\":\"Tumortype=CHAS\\u003cbr\\u003eLayer=Down-Neck-P4\\u003cbr\\u003eAP=%{x}\\u003cbr\\u003eHDV=%{y}\\u003cextra\\u003e\\u003c\\u002fextra\\u003e\",\"legendgroup\":\"CHAS\",\"marker\":{\"color\":\"#FF6692\",\"symbol\":\"circle\"},\"mode\":\"markers\",\"name\":\"CHAS\",\"orientation\":\"v\",\"showlegend\":false,\"x\":[0.7062731981277466,0.6789959073066711,0.6826549172401428,0.7200438976287842],\"xaxis\":\"x14\",\"y\":[0.5526,0.6153,0.5022,0.4912],\"yaxis\":\"y14\",\"type\":\"scatter\"},{\"hovertemplate\":\"Tumortype=CHAS\\u003cbr\\u003eLayer=Down-Neck-P5\\u003cbr\\u003eAP=%{x}\\u003cbr\\u003eHDV=%{y}\\u003cextra\\u003e\\u003c\\u002fextra\\u003e\",\"legendgroup\":\"CHAS\",\"marker\":{\"color\":\"#FF6692\",\"symbol\":\"circle\"},\"mode\":\"markers\",\"name\":\"CHAS\",\"orientation\":\"v\",\"showlegend\":false,\"x\":[0.7062731981277466,0.6789959073066711,0.6826549172401428,0.7200438976287842],\"xaxis\":\"x15\",\"y\":[0.1337,0.2725,0.1468,0.0713],\"yaxis\":\"y15\",\"type\":\"scatter\"},{\"hovertemplate\":\"Tumortype=CHAS\\u003cbr\\u003eLayer=Down-Neck-P6\\u003cbr\\u003eAP=%{x}\\u003cbr\\u003eHDV=%{y}\\u003cextra\\u003e\\u003c\\u002fextra\\u003e\",\"legendgroup\":\"CHAS\",\"marker\":{\"color\":\"#FF6692\",\"symbol\":\"circle\"},\"mode\":\"markers\",\"name\":\"CHAS\",\"orientation\":\"v\",\"showlegend\":false,\"x\":[0.7062731981277466,0.6789959073066711,0.6826549172401428,0.7200438976287842],\"xaxis\":\"x6\",\"y\":[0.1985,0.1276,0.1326,0.1097],\"yaxis\":\"y6\",\"type\":\"scatter\"},{\"hovertemplate\":\"Tumortype=CHAS\\u003cbr\\u003eLayer=Final-Neck-P3\\u003cbr\\u003eAP=%{x}\\u003cbr\\u003eHDV=%{y}\\u003cextra\\u003e\\u003c\\u002fextra\\u003e\",\"legendgroup\":\"CHAS\",\"marker\":{\"color\":\"#FF6692\",\"symbol\":\"circle\"},\"mode\":\"markers\",\"name\":\"CHAS\",\"orientation\":\"v\",\"showlegend\":false,\"x\":[0.7062731981277466,0.6789959073066711,0.6826549172401428,0.7200438976287842],\"xaxis\":\"x7\",\"y\":[0.3553,0.559,0.5739,0.5063],\"yaxis\":\"y7\",\"type\":\"scatter\"},{\"hovertemplate\":\"Tumortype=CHAS\\u003cbr\\u003eLayer=Final-Neck-P4\\u003cbr\\u003eAP=%{x}\\u003cbr\\u003eHDV=%{y}\\u003cextra\\u003e\\u003c\\u002fextra\\u003e\",\"legendgroup\":\"CHAS\",\"marker\":{\"color\":\"#FF6692\",\"symbol\":\"circle\"},\"mode\":\"markers\",\"name\":\"CHAS\",\"orientation\":\"v\",\"showlegend\":false,\"x\":[0.7062731981277466,0.6789959073066711,0.6826549172401428,0.7200438976287842],\"xaxis\":\"x8\",\"y\":[0.5377,0.5666,0.5745,0.5167],\"yaxis\":\"y8\",\"type\":\"scatter\"},{\"hovertemplate\":\"Tumortype=CHAS\\u003cbr\\u003eLayer=Final-Neck-P5\\u003cbr\\u003eAP=%{x}\\u003cbr\\u003eHDV=%{y}\\u003cextra\\u003e\\u003c\\u002fextra\\u003e\",\"legendgroup\":\"CHAS\",\"marker\":{\"color\":\"#FF6692\",\"symbol\":\"circle\"},\"mode\":\"markers\",\"name\":\"CHAS\",\"orientation\":\"v\",\"showlegend\":false,\"x\":[0.7062731981277466,0.6789959073066711,0.6826549172401428,0.7200438976287842],\"xaxis\":\"x9\",\"y\":[0.1263,0.2162,0.1149,0.0975],\"yaxis\":\"y9\",\"type\":\"scatter\"},{\"hovertemplate\":\"Tumortype=CHAS\\u003cbr\\u003eLayer=Final-Neck-P6\\u003cbr\\u003eAP=%{x}\\u003cbr\\u003eHDV=%{y}\\u003cextra\\u003e\\u003c\\u002fextra\\u003e\",\"legendgroup\":\"CHAS\",\"marker\":{\"color\":\"#FF6692\",\"symbol\":\"circle\"},\"mode\":\"markers\",\"name\":\"CHAS\",\"orientation\":\"v\",\"showlegend\":false,\"x\":[0.7062731981277466,0.6789959073066711,0.6826549172401428,0.7200438976287842],\"xaxis\":\"x10\",\"y\":[0.1751,0.1296,0.143,0.1202],\"yaxis\":\"y10\",\"type\":\"scatter\"},{\"hovertemplate\":\"Tumortype=CHAS\\u003cbr\\u003eLayer=Head-P3\\u003cbr\\u003eAP=%{x}\\u003cbr\\u003eHDV=%{y}\\u003cextra\\u003e\\u003c\\u002fextra\\u003e\",\"legendgroup\":\"CHAS\",\"marker\":{\"color\":\"#FF6692\",\"symbol\":\"circle\"},\"mode\":\"markers\",\"name\":\"CHAS\",\"orientation\":\"v\",\"showlegend\":false,\"x\":[0.7062731981277466,0.6789959073066711,0.6826549172401428,0.7200438976287842],\"xaxis\":\"x\",\"y\":[0.5766,0.6251,0.6409,0.6453],\"yaxis\":\"y\",\"type\":\"scatter\"},{\"hovertemplate\":\"Tumortype=CHAS\\u003cbr\\u003eLayer=Head-P4\\u003cbr\\u003eAP=%{x}\\u003cbr\\u003eHDV=%{y}\\u003cextra\\u003e\\u003c\\u002fextra\\u003e\",\"legendgroup\":\"CHAS\",\"marker\":{\"color\":\"#FF6692\",\"symbol\":\"circle\"},\"mode\":\"markers\",\"name\":\"CHAS\",\"orientation\":\"v\",\"showlegend\":false,\"x\":[0.7062731981277466,0.6789959073066711,0.6826549172401428,0.7200438976287842],\"xaxis\":\"x2\",\"y\":[0.5467,0.6075,0.6079,0.5443],\"yaxis\":\"y2\",\"type\":\"scatter\"},{\"hovertemplate\":\"Tumortype=CHAS\\u003cbr\\u003eLayer=Head-P5\\u003cbr\\u003eAP=%{x}\\u003cbr\\u003eHDV=%{y}\\u003cextra\\u003e\\u003c\\u002fextra\\u003e\",\"legendgroup\":\"CHAS\",\"marker\":{\"color\":\"#FF6692\",\"symbol\":\"circle\"},\"mode\":\"markers\",\"name\":\"CHAS\",\"orientation\":\"v\",\"showlegend\":false,\"x\":[0.7062731981277466,0.6789959073066711,0.6826549172401428,0.7200438976287842],\"xaxis\":\"x3\",\"y\":[0.2727,0.2971,0.4727,0.2808],\"yaxis\":\"y3\",\"type\":\"scatter\"},{\"hovertemplate\":\"Tumortype=CHAS\\u003cbr\\u003eLayer=Head-P6\\u003cbr\\u003eAP=%{x}\\u003cbr\\u003eHDV=%{y}\\u003cextra\\u003e\\u003c\\u002fextra\\u003e\",\"legendgroup\":\"CHAS\",\"marker\":{\"color\":\"#FF6692\",\"symbol\":\"circle\"},\"mode\":\"markers\",\"name\":\"CHAS\",\"orientation\":\"v\",\"showlegend\":false,\"x\":[0.7062731981277466,0.6789959073066711,0.6826549172401428,0.7200438976287842],\"xaxis\":\"x4\",\"y\":[0.3085,0.2694,0.2842,0.2656],\"yaxis\":\"y4\",\"type\":\"scatter\"},{\"hovertemplate\":\"Tumortype=FSTS\\u003cbr\\u003eLayer=P2\\u003cbr\\u003eAP=%{x}\\u003cbr\\u003eHDV=%{y}\\u003cextra\\u003e\\u003c\\u002fextra\\u003e\",\"legendgroup\":\"FSTS\",\"marker\":{\"color\":\"#B6E880\",\"symbol\":\"circle\"},\"mode\":\"markers\",\"name\":\"FSTS\",\"orientation\":\"v\",\"showlegend\":true,\"x\":[0.5754684805870056,0.5667856931686401,0.5472763776779175,0.5984086990356445],\"xaxis\":\"x16\",\"y\":[0.1341,0.1342,0.1181,0.1232],\"yaxis\":\"y16\",\"type\":\"scatter\"},{\"hovertemplate\":\"Tumortype=FSTS\\u003cbr\\u003eLayer=P3\\u003cbr\\u003eAP=%{x}\\u003cbr\\u003eHDV=%{y}\\u003cextra\\u003e\\u003c\\u002fextra\\u003e\",\"legendgroup\":\"FSTS\",\"marker\":{\"color\":\"#B6E880\",\"symbol\":\"circle\"},\"mode\":\"markers\",\"name\":\"FSTS\",\"orientation\":\"v\",\"showlegend\":false,\"x\":[0.5754684805870056,0.5667856931686401,0.5472763776779175,0.5984086990356445],\"xaxis\":\"x17\",\"y\":[0.3436,0.3087,0.2817,0.3405],\"yaxis\":\"y17\",\"type\":\"scatter\"},{\"hovertemplate\":\"Tumortype=FSTS\\u003cbr\\u003eLayer=P4\\u003cbr\\u003eAP=%{x}\\u003cbr\\u003eHDV=%{y}\\u003cextra\\u003e\\u003c\\u002fextra\\u003e\",\"legendgroup\":\"FSTS\",\"marker\":{\"color\":\"#B6E880\",\"symbol\":\"circle\"},\"mode\":\"markers\",\"name\":\"FSTS\",\"orientation\":\"v\",\"showlegend\":false,\"x\":[0.5754684805870056,0.5667856931686401,0.5472763776779175,0.5984086990356445],\"xaxis\":\"x18\",\"y\":[0.3912,0.4389,0.3928,0.4027],\"yaxis\":\"y18\",\"type\":\"scatter\"},{\"hovertemplate\":\"Tumortype=FSTS\\u003cbr\\u003eLayer=P5\\u003cbr\\u003eAP=%{x}\\u003cbr\\u003eHDV=%{y}\\u003cextra\\u003e\\u003c\\u002fextra\\u003e\",\"legendgroup\":\"FSTS\",\"marker\":{\"color\":\"#B6E880\",\"symbol\":\"circle\"},\"mode\":\"markers\",\"name\":\"FSTS\",\"orientation\":\"v\",\"showlegend\":false,\"x\":[0.5754684805870056,0.5667856931686401,0.5472763776779175,0.5984086990356445],\"xaxis\":\"x19\",\"y\":[0.2673,0.3569,0.3991,0.2806],\"yaxis\":\"y19\",\"type\":\"scatter\"},{\"hovertemplate\":\"Tumortype=FSTS\\u003cbr\\u003eLayer=P6\\u003cbr\\u003eAP=%{x}\\u003cbr\\u003eHDV=%{y}\\u003cextra\\u003e\\u003c\\u002fextra\\u003e\",\"legendgroup\":\"FSTS\",\"marker\":{\"color\":\"#B6E880\",\"symbol\":\"circle\"},\"mode\":\"markers\",\"name\":\"FSTS\",\"orientation\":\"v\",\"showlegend\":false,\"x\":[0.5754684805870056,0.5667856931686401,0.5472763776779175,0.5984086990356445],\"xaxis\":\"x20\",\"y\":[0.1638,0.3342,0.1068,0.1888],\"yaxis\":\"y20\",\"type\":\"scatter\"},{\"hovertemplate\":\"Tumortype=FSTS\\u003cbr\\u003eLayer=Up-Neck-P5\\u003cbr\\u003eAP=%{x}\\u003cbr\\u003eHDV=%{y}\\u003cextra\\u003e\\u003c\\u002fextra\\u003e\",\"legendgroup\":\"FSTS\",\"marker\":{\"color\":\"#B6E880\",\"symbol\":\"circle\"},\"mode\":\"markers\",\"name\":\"FSTS\",\"orientation\":\"v\",\"showlegend\":false,\"x\":[0.5754684805870056,0.5667856931686401,0.5472763776779175,0.5984086990356445],\"xaxis\":\"x11\",\"y\":[0.1614,0.149,0.1215,0.1356],\"yaxis\":\"y11\",\"type\":\"scatter\"},{\"hovertemplate\":\"Tumortype=FSTS\\u003cbr\\u003eLayer=Up-Neck-P4\\u003cbr\\u003eAP=%{x}\\u003cbr\\u003eHDV=%{y}\\u003cextra\\u003e\\u003c\\u002fextra\\u003e\",\"legendgroup\":\"FSTS\",\"marker\":{\"color\":\"#B6E880\",\"symbol\":\"circle\"},\"mode\":\"markers\",\"name\":\"FSTS\",\"orientation\":\"v\",\"showlegend\":false,\"x\":[0.5754684805870056,0.5667856931686401,0.5472763776779175,0.5984086990356445],\"xaxis\":\"x12\",\"y\":[0.3025,0.3836,0.2579,0.3612],\"yaxis\":\"y12\",\"type\":\"scatter\"},{\"hovertemplate\":\"Tumortype=FSTS\\u003cbr\\u003eLayer=Up-Neck-P3\\u003cbr\\u003eAP=%{x}\\u003cbr\\u003eHDV=%{y}\\u003cextra\\u003e\\u003c\\u002fextra\\u003e\",\"legendgroup\":\"FSTS\",\"marker\":{\"color\":\"#B6E880\",\"symbol\":\"circle\"},\"mode\":\"markers\",\"name\":\"FSTS\",\"orientation\":\"v\",\"showlegend\":false,\"x\":[0.5754684805870056,0.5667856931686401,0.5472763776779175,0.5984086990356445],\"xaxis\":\"x13\",\"y\":[0.3049,0.3325,0.3256,0.2839],\"yaxis\":\"y13\",\"type\":\"scatter\"},{\"hovertemplate\":\"Tumortype=FSTS\\u003cbr\\u003eLayer=Down-Neck-P4\\u003cbr\\u003eAP=%{x}\\u003cbr\\u003eHDV=%{y}\\u003cextra\\u003e\\u003c\\u002fextra\\u003e\",\"legendgroup\":\"FSTS\",\"marker\":{\"color\":\"#B6E880\",\"symbol\":\"circle\"},\"mode\":\"markers\",\"name\":\"FSTS\",\"orientation\":\"v\",\"showlegend\":false,\"x\":[0.5754684805870056,0.5667856931686401,0.5472763776779175,0.5984086990356445],\"xaxis\":\"x14\",\"y\":[0.3971,0.4407,0.3324,0.4153],\"yaxis\":\"y14\",\"type\":\"scatter\"},{\"hovertemplate\":\"Tumortype=FSTS\\u003cbr\\u003eLayer=Down-Neck-P5\\u003cbr\\u003eAP=%{x}\\u003cbr\\u003eHDV=%{y}\\u003cextra\\u003e\\u003c\\u002fextra\\u003e\",\"legendgroup\":\"FSTS\",\"marker\":{\"color\":\"#B6E880\",\"symbol\":\"circle\"},\"mode\":\"markers\",\"name\":\"FSTS\",\"orientation\":\"v\",\"showlegend\":false,\"x\":[0.5754684805870056,0.5667856931686401,0.5472763776779175,0.5984086990356445],\"xaxis\":\"x15\",\"y\":[0.1475,0.1687,0.0982,0.1421],\"yaxis\":\"y15\",\"type\":\"scatter\"},{\"hovertemplate\":\"Tumortype=FSTS\\u003cbr\\u003eLayer=Down-Neck-P6\\u003cbr\\u003eAP=%{x}\\u003cbr\\u003eHDV=%{y}\\u003cextra\\u003e\\u003c\\u002fextra\\u003e\",\"legendgroup\":\"FSTS\",\"marker\":{\"color\":\"#B6E880\",\"symbol\":\"circle\"},\"mode\":\"markers\",\"name\":\"FSTS\",\"orientation\":\"v\",\"showlegend\":false,\"x\":[0.5754684805870056,0.5667856931686401,0.5472763776779175,0.5984086990356445],\"xaxis\":\"x6\",\"y\":[0.1298,0.0851,0.1268,0.0855],\"yaxis\":\"y6\",\"type\":\"scatter\"},{\"hovertemplate\":\"Tumortype=FSTS\\u003cbr\\u003eLayer=Final-Neck-P3\\u003cbr\\u003eAP=%{x}\\u003cbr\\u003eHDV=%{y}\\u003cextra\\u003e\\u003c\\u002fextra\\u003e\",\"legendgroup\":\"FSTS\",\"marker\":{\"color\":\"#B6E880\",\"symbol\":\"circle\"},\"mode\":\"markers\",\"name\":\"FSTS\",\"orientation\":\"v\",\"showlegend\":false,\"x\":[0.5754684805870056,0.5667856931686401,0.5472763776779175,0.5984086990356445],\"xaxis\":\"x7\",\"y\":[0.3702,0.3861,0.3644,0.3309],\"yaxis\":\"y7\",\"type\":\"scatter\"},{\"hovertemplate\":\"Tumortype=FSTS\\u003cbr\\u003eLayer=Final-Neck-P4\\u003cbr\\u003eAP=%{x}\\u003cbr\\u003eHDV=%{y}\\u003cextra\\u003e\\u003c\\u002fextra\\u003e\",\"legendgroup\":\"FSTS\",\"marker\":{\"color\":\"#B6E880\",\"symbol\":\"circle\"},\"mode\":\"markers\",\"name\":\"FSTS\",\"orientation\":\"v\",\"showlegend\":false,\"x\":[0.5754684805870056,0.5667856931686401,0.5472763776779175,0.5984086990356445],\"xaxis\":\"x8\",\"y\":[0.4065,0.4047,0.3994,0.3939],\"yaxis\":\"y8\",\"type\":\"scatter\"},{\"hovertemplate\":\"Tumortype=FSTS\\u003cbr\\u003eLayer=Final-Neck-P5\\u003cbr\\u003eAP=%{x}\\u003cbr\\u003eHDV=%{y}\\u003cextra\\u003e\\u003c\\u002fextra\\u003e\",\"legendgroup\":\"FSTS\",\"marker\":{\"color\":\"#B6E880\",\"symbol\":\"circle\"},\"mode\":\"markers\",\"name\":\"FSTS\",\"orientation\":\"v\",\"showlegend\":false,\"x\":[0.5754684805870056,0.5667856931686401,0.5472763776779175,0.5984086990356445],\"xaxis\":\"x9\",\"y\":[0.0903,0.1416,0.0697,0.1093],\"yaxis\":\"y9\",\"type\":\"scatter\"},{\"hovertemplate\":\"Tumortype=FSTS\\u003cbr\\u003eLayer=Final-Neck-P6\\u003cbr\\u003eAP=%{x}\\u003cbr\\u003eHDV=%{y}\\u003cextra\\u003e\\u003c\\u002fextra\\u003e\",\"legendgroup\":\"FSTS\",\"marker\":{\"color\":\"#B6E880\",\"symbol\":\"circle\"},\"mode\":\"markers\",\"name\":\"FSTS\",\"orientation\":\"v\",\"showlegend\":false,\"x\":[0.5754684805870056,0.5667856931686401,0.5472763776779175,0.5984086990356445],\"xaxis\":\"x10\",\"y\":[0.1206,0.0754,0.1229,0.0946],\"yaxis\":\"y10\",\"type\":\"scatter\"},{\"hovertemplate\":\"Tumortype=FSTS\\u003cbr\\u003eLayer=Head-P3\\u003cbr\\u003eAP=%{x}\\u003cbr\\u003eHDV=%{y}\\u003cextra\\u003e\\u003c\\u002fextra\\u003e\",\"legendgroup\":\"FSTS\",\"marker\":{\"color\":\"#B6E880\",\"symbol\":\"circle\"},\"mode\":\"markers\",\"name\":\"FSTS\",\"orientation\":\"v\",\"showlegend\":false,\"x\":[0.5754684805870056,0.5667856931686401,0.5472763776779175,0.5984086990356445],\"xaxis\":\"x\",\"y\":[0.5408,0.555,0.5598,0.5633],\"yaxis\":\"y\",\"type\":\"scatter\"},{\"hovertemplate\":\"Tumortype=FSTS\\u003cbr\\u003eLayer=Head-P4\\u003cbr\\u003eAP=%{x}\\u003cbr\\u003eHDV=%{y}\\u003cextra\\u003e\\u003c\\u002fextra\\u003e\",\"legendgroup\":\"FSTS\",\"marker\":{\"color\":\"#B6E880\",\"symbol\":\"circle\"},\"mode\":\"markers\",\"name\":\"FSTS\",\"orientation\":\"v\",\"showlegend\":false,\"x\":[0.5754684805870056,0.5667856931686401,0.5472763776779175,0.5984086990356445],\"xaxis\":\"x2\",\"y\":[0.4378,0.4756,0.4524,0.4439],\"yaxis\":\"y2\",\"type\":\"scatter\"},{\"hovertemplate\":\"Tumortype=FSTS\\u003cbr\\u003eLayer=Head-P5\\u003cbr\\u003eAP=%{x}\\u003cbr\\u003eHDV=%{y}\\u003cextra\\u003e\\u003c\\u002fextra\\u003e\",\"legendgroup\":\"FSTS\",\"marker\":{\"color\":\"#B6E880\",\"symbol\":\"circle\"},\"mode\":\"markers\",\"name\":\"FSTS\",\"orientation\":\"v\",\"showlegend\":false,\"x\":[0.5754684805870056,0.5667856931686401,0.5472763776779175,0.5984086990356445],\"xaxis\":\"x3\",\"y\":[0.2423,0.256,0.2966,0.2832],\"yaxis\":\"y3\",\"type\":\"scatter\"},{\"hovertemplate\":\"Tumortype=FSTS\\u003cbr\\u003eLayer=Head-P6\\u003cbr\\u003eAP=%{x}\\u003cbr\\u003eHDV=%{y}\\u003cextra\\u003e\\u003c\\u002fextra\\u003e\",\"legendgroup\":\"FSTS\",\"marker\":{\"color\":\"#B6E880\",\"symbol\":\"circle\"},\"mode\":\"markers\",\"name\":\"FSTS\",\"orientation\":\"v\",\"showlegend\":false,\"x\":[0.5754684805870056,0.5667856931686401,0.5472763776779175,0.5984086990356445],\"xaxis\":\"x4\",\"y\":[0.2636,0.2369,0.2648,0.2427],\"yaxis\":\"y4\",\"type\":\"scatter\"},{\"hovertemplate\":\"Tumortype=FLYM\\u003cbr\\u003eLayer=P2\\u003cbr\\u003eAP=%{x}\\u003cbr\\u003eHDV=%{y}\\u003cextra\\u003e\\u003c\\u002fextra\\u003e\",\"legendgroup\":\"FLYM\",\"marker\":{\"color\":\"#FF97FF\",\"symbol\":\"circle\"},\"mode\":\"markers\",\"name\":\"FLYM\",\"orientation\":\"v\",\"showlegend\":true,\"x\":[0.6336628198623657,0.6018082499504089,0.5673253536224365,0.6220376491546631],\"xaxis\":\"x16\",\"y\":[0.1105,0.1222,0.1132,0.1114],\"yaxis\":\"y16\",\"type\":\"scatter\"},{\"hovertemplate\":\"Tumortype=FLYM\\u003cbr\\u003eLayer=P3\\u003cbr\\u003eAP=%{x}\\u003cbr\\u003eHDV=%{y}\\u003cextra\\u003e\\u003c\\u002fextra\\u003e\",\"legendgroup\":\"FLYM\",\"marker\":{\"color\":\"#FF97FF\",\"symbol\":\"circle\"},\"mode\":\"markers\",\"name\":\"FLYM\",\"orientation\":\"v\",\"showlegend\":false,\"x\":[0.6336628198623657,0.6018082499504089,0.5673253536224365,0.6220376491546631],\"xaxis\":\"x17\",\"y\":[0.3395,0.336,0.3012,0.3417],\"yaxis\":\"y17\",\"type\":\"scatter\"},{\"hovertemplate\":\"Tumortype=FLYM\\u003cbr\\u003eLayer=P4\\u003cbr\\u003eAP=%{x}\\u003cbr\\u003eHDV=%{y}\\u003cextra\\u003e\\u003c\\u002fextra\\u003e\",\"legendgroup\":\"FLYM\",\"marker\":{\"color\":\"#FF97FF\",\"symbol\":\"circle\"},\"mode\":\"markers\",\"name\":\"FLYM\",\"orientation\":\"v\",\"showlegend\":false,\"x\":[0.6336628198623657,0.6018082499504089,0.5673253536224365,0.6220376491546631],\"xaxis\":\"x18\",\"y\":[0.4412,0.4621,0.4454,0.4862],\"yaxis\":\"y18\",\"type\":\"scatter\"},{\"hovertemplate\":\"Tumortype=FLYM\\u003cbr\\u003eLayer=P5\\u003cbr\\u003eAP=%{x}\\u003cbr\\u003eHDV=%{y}\\u003cextra\\u003e\\u003c\\u002fextra\\u003e\",\"legendgroup\":\"FLYM\",\"marker\":{\"color\":\"#FF97FF\",\"symbol\":\"circle\"},\"mode\":\"markers\",\"name\":\"FLYM\",\"orientation\":\"v\",\"showlegend\":false,\"x\":[0.6336628198623657,0.6018082499504089,0.5673253536224365,0.6220376491546631],\"xaxis\":\"x19\",\"y\":[0.3168,0.3743,0.0503,0.2731],\"yaxis\":\"y19\",\"type\":\"scatter\"},{\"hovertemplate\":\"Tumortype=FLYM\\u003cbr\\u003eLayer=P6\\u003cbr\\u003eAP=%{x}\\u003cbr\\u003eHDV=%{y}\\u003cextra\\u003e\\u003c\\u002fextra\\u003e\",\"legendgroup\":\"FLYM\",\"marker\":{\"color\":\"#FF97FF\",\"symbol\":\"circle\"},\"mode\":\"markers\",\"name\":\"FLYM\",\"orientation\":\"v\",\"showlegend\":false,\"x\":[0.6336628198623657,0.6018082499504089,0.5673253536224365,0.6220376491546631],\"xaxis\":\"x20\",\"y\":[0.2837,0.3648,0.1162,0.3049],\"yaxis\":\"y20\",\"type\":\"scatter\"},{\"hovertemplate\":\"Tumortype=FLYM\\u003cbr\\u003eLayer=Up-Neck-P5\\u003cbr\\u003eAP=%{x}\\u003cbr\\u003eHDV=%{y}\\u003cextra\\u003e\\u003c\\u002fextra\\u003e\",\"legendgroup\":\"FLYM\",\"marker\":{\"color\":\"#FF97FF\",\"symbol\":\"circle\"},\"mode\":\"markers\",\"name\":\"FLYM\",\"orientation\":\"v\",\"showlegend\":false,\"x\":[0.6336628198623657,0.6018082499504089,0.5673253536224365,0.6220376491546631],\"xaxis\":\"x11\",\"y\":[0.123,0.1841,0.0795,0.1405],\"yaxis\":\"y11\",\"type\":\"scatter\"},{\"hovertemplate\":\"Tumortype=FLYM\\u003cbr\\u003eLayer=Up-Neck-P4\\u003cbr\\u003eAP=%{x}\\u003cbr\\u003eHDV=%{y}\\u003cextra\\u003e\\u003c\\u002fextra\\u003e\",\"legendgroup\":\"FLYM\",\"marker\":{\"color\":\"#FF97FF\",\"symbol\":\"circle\"},\"mode\":\"markers\",\"name\":\"FLYM\",\"orientation\":\"v\",\"showlegend\":false,\"x\":[0.6336628198623657,0.6018082499504089,0.5673253536224365,0.6220376491546631],\"xaxis\":\"x12\",\"y\":[0.3509,0.4283,0.2892,0.4259],\"yaxis\":\"y12\",\"type\":\"scatter\"},{\"hovertemplate\":\"Tumortype=FLYM\\u003cbr\\u003eLayer=Up-Neck-P3\\u003cbr\\u003eAP=%{x}\\u003cbr\\u003eHDV=%{y}\\u003cextra\\u003e\\u003c\\u002fextra\\u003e\",\"legendgroup\":\"FLYM\",\"marker\":{\"color\":\"#FF97FF\",\"symbol\":\"circle\"},\"mode\":\"markers\",\"name\":\"FLYM\",\"orientation\":\"v\",\"showlegend\":false,\"x\":[0.6336628198623657,0.6018082499504089,0.5673253536224365,0.6220376491546631],\"xaxis\":\"x13\",\"y\":[0.3712,0.3625,0.3198,0.3501],\"yaxis\":\"y13\",\"type\":\"scatter\"},{\"hovertemplate\":\"Tumortype=FLYM\\u003cbr\\u003eLayer=Down-Neck-P4\\u003cbr\\u003eAP=%{x}\\u003cbr\\u003eHDV=%{y}\\u003cextra\\u003e\\u003c\\u002fextra\\u003e\",\"legendgroup\":\"FLYM\",\"marker\":{\"color\":\"#FF97FF\",\"symbol\":\"circle\"},\"mode\":\"markers\",\"name\":\"FLYM\",\"orientation\":\"v\",\"showlegend\":false,\"x\":[0.6336628198623657,0.6018082499504089,0.5673253536224365,0.6220376491546631],\"xaxis\":\"x14\",\"y\":[0.5015,0.5038,0.3918,0.4907],\"yaxis\":\"y14\",\"type\":\"scatter\"},{\"hovertemplate\":\"Tumortype=FLYM\\u003cbr\\u003eLayer=Down-Neck-P5\\u003cbr\\u003eAP=%{x}\\u003cbr\\u003eHDV=%{y}\\u003cextra\\u003e\\u003c\\u002fextra\\u003e\",\"legendgroup\":\"FLYM\",\"marker\":{\"color\":\"#FF97FF\",\"symbol\":\"circle\"},\"mode\":\"markers\",\"name\":\"FLYM\",\"orientation\":\"v\",\"showlegend\":false,\"x\":[0.6336628198623657,0.6018082499504089,0.5673253536224365,0.6220376491546631],\"xaxis\":\"x15\",\"y\":[0.2884,0.1645,0.1068,0.0527],\"yaxis\":\"y15\",\"type\":\"scatter\"},{\"hovertemplate\":\"Tumortype=FLYM\\u003cbr\\u003eLayer=Down-Neck-P6\\u003cbr\\u003eAP=%{x}\\u003cbr\\u003eHDV=%{y}\\u003cextra\\u003e\\u003c\\u002fextra\\u003e\",\"legendgroup\":\"FLYM\",\"marker\":{\"color\":\"#FF97FF\",\"symbol\":\"circle\"},\"mode\":\"markers\",\"name\":\"FLYM\",\"orientation\":\"v\",\"showlegend\":false,\"x\":[0.6336628198623657,0.6018082499504089,0.5673253536224365,0.6220376491546631],\"xaxis\":\"x6\",\"y\":[0.0849,0.1107,0.1023,0.1103],\"yaxis\":\"y6\",\"type\":\"scatter\"},{\"hovertemplate\":\"Tumortype=FLYM\\u003cbr\\u003eLayer=Final-Neck-P3\\u003cbr\\u003eAP=%{x}\\u003cbr\\u003eHDV=%{y}\\u003cextra\\u003e\\u003c\\u002fextra\\u003e\",\"legendgroup\":\"FLYM\",\"marker\":{\"color\":\"#FF97FF\",\"symbol\":\"circle\"},\"mode\":\"markers\",\"name\":\"FLYM\",\"orientation\":\"v\",\"showlegend\":false,\"x\":[0.6336628198623657,0.6018082499504089,0.5673253536224365,0.6220376491546631],\"xaxis\":\"x7\",\"y\":[0.45,0.4371,0.328,0.4213],\"yaxis\":\"y7\",\"type\":\"scatter\"},{\"hovertemplate\":\"Tumortype=FLYM\\u003cbr\\u003eLayer=Final-Neck-P4\\u003cbr\\u003eAP=%{x}\\u003cbr\\u003eHDV=%{y}\\u003cextra\\u003e\\u003c\\u002fextra\\u003e\",\"legendgroup\":\"FLYM\",\"marker\":{\"color\":\"#FF97FF\",\"symbol\":\"circle\"},\"mode\":\"markers\",\"name\":\"FLYM\",\"orientation\":\"v\",\"showlegend\":false,\"x\":[0.6336628198623657,0.6018082499504089,0.5673253536224365,0.6220376491546631],\"xaxis\":\"x8\",\"y\":[0.4882,0.474,0.468,0.4823],\"yaxis\":\"y8\",\"type\":\"scatter\"},{\"hovertemplate\":\"Tumortype=FLYM\\u003cbr\\u003eLayer=Final-Neck-P5\\u003cbr\\u003eAP=%{x}\\u003cbr\\u003eHDV=%{y}\\u003cextra\\u003e\\u003c\\u002fextra\\u003e\",\"legendgroup\":\"FLYM\",\"marker\":{\"color\":\"#FF97FF\",\"symbol\":\"circle\"},\"mode\":\"markers\",\"name\":\"FLYM\",\"orientation\":\"v\",\"showlegend\":false,\"x\":[0.6336628198623657,0.6018082499504089,0.5673253536224365,0.6220376491546631],\"xaxis\":\"x9\",\"y\":[0.1425,0.1387,0.1157,0.0821],\"yaxis\":\"y9\",\"type\":\"scatter\"},{\"hovertemplate\":\"Tumortype=FLYM\\u003cbr\\u003eLayer=Final-Neck-P6\\u003cbr\\u003eAP=%{x}\\u003cbr\\u003eHDV=%{y}\\u003cextra\\u003e\\u003c\\u002fextra\\u003e\",\"legendgroup\":\"FLYM\",\"marker\":{\"color\":\"#FF97FF\",\"symbol\":\"circle\"},\"mode\":\"markers\",\"name\":\"FLYM\",\"orientation\":\"v\",\"showlegend\":false,\"x\":[0.6336628198623657,0.6018082499504089,0.5673253536224365,0.6220376491546631],\"xaxis\":\"x10\",\"y\":[0.0895,0.0997,0.0817,0.1012],\"yaxis\":\"y10\",\"type\":\"scatter\"},{\"hovertemplate\":\"Tumortype=FLYM\\u003cbr\\u003eLayer=Head-P3\\u003cbr\\u003eAP=%{x}\\u003cbr\\u003eHDV=%{y}\\u003cextra\\u003e\\u003c\\u002fextra\\u003e\",\"legendgroup\":\"FLYM\",\"marker\":{\"color\":\"#FF97FF\",\"symbol\":\"circle\"},\"mode\":\"markers\",\"name\":\"FLYM\",\"orientation\":\"v\",\"showlegend\":false,\"x\":[0.6336628198623657,0.6018082499504089,0.5673253536224365,0.6220376491546631],\"xaxis\":\"x\",\"y\":[0.5905,0.5695,0.5444,0.5985],\"yaxis\":\"y\",\"type\":\"scatter\"},{\"hovertemplate\":\"Tumortype=FLYM\\u003cbr\\u003eLayer=Head-P4\\u003cbr\\u003eAP=%{x}\\u003cbr\\u003eHDV=%{y}\\u003cextra\\u003e\\u003c\\u002fextra\\u003e\",\"legendgroup\":\"FLYM\",\"marker\":{\"color\":\"#FF97FF\",\"symbol\":\"circle\"},\"mode\":\"markers\",\"name\":\"FLYM\",\"orientation\":\"v\",\"showlegend\":false,\"x\":[0.6336628198623657,0.6018082499504089,0.5673253536224365,0.6220376491546631],\"xaxis\":\"x2\",\"y\":[0.4994,0.5407,0.5252,0.5002],\"yaxis\":\"y2\",\"type\":\"scatter\"},{\"hovertemplate\":\"Tumortype=FLYM\\u003cbr\\u003eLayer=Head-P5\\u003cbr\\u003eAP=%{x}\\u003cbr\\u003eHDV=%{y}\\u003cextra\\u003e\\u003c\\u002fextra\\u003e\",\"legendgroup\":\"FLYM\",\"marker\":{\"color\":\"#FF97FF\",\"symbol\":\"circle\"},\"mode\":\"markers\",\"name\":\"FLYM\",\"orientation\":\"v\",\"showlegend\":false,\"x\":[0.6336628198623657,0.6018082499504089,0.5673253536224365,0.6220376491546631],\"xaxis\":\"x3\",\"y\":[0.2938,0.3102,0.3487,0.2538],\"yaxis\":\"y3\",\"type\":\"scatter\"},{\"hovertemplate\":\"Tumortype=FLYM\\u003cbr\\u003eLayer=Head-P6\\u003cbr\\u003eAP=%{x}\\u003cbr\\u003eHDV=%{y}\\u003cextra\\u003e\\u003c\\u002fextra\\u003e\",\"legendgroup\":\"FLYM\",\"marker\":{\"color\":\"#FF97FF\",\"symbol\":\"circle\"},\"mode\":\"markers\",\"name\":\"FLYM\",\"orientation\":\"v\",\"showlegend\":false,\"x\":[0.6336628198623657,0.6018082499504089,0.5673253536224365,0.6220376491546631],\"xaxis\":\"x4\",\"y\":[0.2427,0.2515,0.2362,0.2501],\"yaxis\":\"y4\",\"type\":\"scatter\"}],                        {\"template\":{\"data\":{\"histogram2dcontour\":[{\"type\":\"histogram2dcontour\",\"colorbar\":{\"outlinewidth\":0,\"ticks\":\"\"},\"colorscale\":[[0.0,\"#0d0887\"],[0.1111111111111111,\"#46039f\"],[0.2222222222222222,\"#7201a8\"],[0.3333333333333333,\"#9c179e\"],[0.4444444444444444,\"#bd3786\"],[0.5555555555555556,\"#d8576b\"],[0.6666666666666666,\"#ed7953\"],[0.7777777777777778,\"#fb9f3a\"],[0.8888888888888888,\"#fdca26\"],[1.0,\"#f0f921\"]]}],\"choropleth\":[{\"type\":\"choropleth\",\"colorbar\":{\"outlinewidth\":0,\"ticks\":\"\"}}],\"histogram2d\":[{\"type\":\"histogram2d\",\"colorbar\":{\"outlinewidth\":0,\"ticks\":\"\"},\"colorscale\":[[0.0,\"#0d0887\"],[0.1111111111111111,\"#46039f\"],[0.2222222222222222,\"#7201a8\"],[0.3333333333333333,\"#9c179e\"],[0.4444444444444444,\"#bd3786\"],[0.5555555555555556,\"#d8576b\"],[0.6666666666666666,\"#ed7953\"],[0.7777777777777778,\"#fb9f3a\"],[0.8888888888888888,\"#fdca26\"],[1.0,\"#f0f921\"]]}],\"heatmap\":[{\"type\":\"heatmap\",\"colorbar\":{\"outlinewidth\":0,\"ticks\":\"\"},\"colorscale\":[[0.0,\"#0d0887\"],[0.1111111111111111,\"#46039f\"],[0.2222222222222222,\"#7201a8\"],[0.3333333333333333,\"#9c179e\"],[0.4444444444444444,\"#bd3786\"],[0.5555555555555556,\"#d8576b\"],[0.6666666666666666,\"#ed7953\"],[0.7777777777777778,\"#fb9f3a\"],[0.8888888888888888,\"#fdca26\"],[1.0,\"#f0f921\"]]}],\"heatmapgl\":[{\"type\":\"heatmapgl\",\"colorbar\":{\"outlinewidth\":0,\"ticks\":\"\"},\"colorscale\":[[0.0,\"#0d0887\"],[0.1111111111111111,\"#46039f\"],[0.2222222222222222,\"#7201a8\"],[0.3333333333333333,\"#9c179e\"],[0.4444444444444444,\"#bd3786\"],[0.5555555555555556,\"#d8576b\"],[0.6666666666666666,\"#ed7953\"],[0.7777777777777778,\"#fb9f3a\"],[0.8888888888888888,\"#fdca26\"],[1.0,\"#f0f921\"]]}],\"contourcarpet\":[{\"type\":\"contourcarpet\",\"colorbar\":{\"outlinewidth\":0,\"ticks\":\"\"}}],\"contour\":[{\"type\":\"contour\",\"colorbar\":{\"outlinewidth\":0,\"ticks\":\"\"},\"colorscale\":[[0.0,\"#0d0887\"],[0.1111111111111111,\"#46039f\"],[0.2222222222222222,\"#7201a8\"],[0.3333333333333333,\"#9c179e\"],[0.4444444444444444,\"#bd3786\"],[0.5555555555555556,\"#d8576b\"],[0.6666666666666666,\"#ed7953\"],[0.7777777777777778,\"#fb9f3a\"],[0.8888888888888888,\"#fdca26\"],[1.0,\"#f0f921\"]]}],\"surface\":[{\"type\":\"surface\",\"colorbar\":{\"outlinewidth\":0,\"ticks\":\"\"},\"colorscale\":[[0.0,\"#0d0887\"],[0.1111111111111111,\"#46039f\"],[0.2222222222222222,\"#7201a8\"],[0.3333333333333333,\"#9c179e\"],[0.4444444444444444,\"#bd3786\"],[0.5555555555555556,\"#d8576b\"],[0.6666666666666666,\"#ed7953\"],[0.7777777777777778,\"#fb9f3a\"],[0.8888888888888888,\"#fdca26\"],[1.0,\"#f0f921\"]]}],\"mesh3d\":[{\"type\":\"mesh3d\",\"colorbar\":{\"outlinewidth\":0,\"ticks\":\"\"}}],\"scatter\":[{\"fillpattern\":{\"fillmode\":\"overlay\",\"size\":10,\"solidity\":0.2},\"type\":\"scatter\"}],\"parcoords\":[{\"type\":\"parcoords\",\"line\":{\"colorbar\":{\"outlinewidth\":0,\"ticks\":\"\"}}}],\"scatterpolargl\":[{\"type\":\"scatterpolargl\",\"marker\":{\"colorbar\":{\"outlinewidth\":0,\"ticks\":\"\"}}}],\"bar\":[{\"error_x\":{\"color\":\"#2a3f5f\"},\"error_y\":{\"color\":\"#2a3f5f\"},\"marker\":{\"line\":{\"color\":\"#E5ECF6\",\"width\":0.5},\"pattern\":{\"fillmode\":\"overlay\",\"size\":10,\"solidity\":0.2}},\"type\":\"bar\"}],\"scattergeo\":[{\"type\":\"scattergeo\",\"marker\":{\"colorbar\":{\"outlinewidth\":0,\"ticks\":\"\"}}}],\"scatterpolar\":[{\"type\":\"scatterpolar\",\"marker\":{\"colorbar\":{\"outlinewidth\":0,\"ticks\":\"\"}}}],\"histogram\":[{\"marker\":{\"pattern\":{\"fillmode\":\"overlay\",\"size\":10,\"solidity\":0.2}},\"type\":\"histogram\"}],\"scattergl\":[{\"type\":\"scattergl\",\"marker\":{\"colorbar\":{\"outlinewidth\":0,\"ticks\":\"\"}}}],\"scatter3d\":[{\"type\":\"scatter3d\",\"line\":{\"colorbar\":{\"outlinewidth\":0,\"ticks\":\"\"}},\"marker\":{\"colorbar\":{\"outlinewidth\":0,\"ticks\":\"\"}}}],\"scattermapbox\":[{\"type\":\"scattermapbox\",\"marker\":{\"colorbar\":{\"outlinewidth\":0,\"ticks\":\"\"}}}],\"scatterternary\":[{\"type\":\"scatterternary\",\"marker\":{\"colorbar\":{\"outlinewidth\":0,\"ticks\":\"\"}}}],\"scattercarpet\":[{\"type\":\"scattercarpet\",\"marker\":{\"colorbar\":{\"outlinewidth\":0,\"ticks\":\"\"}}}],\"carpet\":[{\"aaxis\":{\"endlinecolor\":\"#2a3f5f\",\"gridcolor\":\"white\",\"linecolor\":\"white\",\"minorgridcolor\":\"white\",\"startlinecolor\":\"#2a3f5f\"},\"baxis\":{\"endlinecolor\":\"#2a3f5f\",\"gridcolor\":\"white\",\"linecolor\":\"white\",\"minorgridcolor\":\"white\",\"startlinecolor\":\"#2a3f5f\"},\"type\":\"carpet\"}],\"table\":[{\"cells\":{\"fill\":{\"color\":\"#EBF0F8\"},\"line\":{\"color\":\"white\"}},\"header\":{\"fill\":{\"color\":\"#C8D4E3\"},\"line\":{\"color\":\"white\"}},\"type\":\"table\"}],\"barpolar\":[{\"marker\":{\"line\":{\"color\":\"#E5ECF6\",\"width\":0.5},\"pattern\":{\"fillmode\":\"overlay\",\"size\":10,\"solidity\":0.2}},\"type\":\"barpolar\"}],\"pie\":[{\"automargin\":true,\"type\":\"pie\"}]},\"layout\":{\"autotypenumbers\":\"strict\",\"colorway\":[\"#636efa\",\"#EF553B\",\"#00cc96\",\"#ab63fa\",\"#FFA15A\",\"#19d3f3\",\"#FF6692\",\"#B6E880\",\"#FF97FF\",\"#FECB52\"],\"font\":{\"color\":\"#2a3f5f\"},\"hovermode\":\"closest\",\"hoverlabel\":{\"align\":\"left\"},\"paper_bgcolor\":\"white\",\"plot_bgcolor\":\"#E5ECF6\",\"polar\":{\"bgcolor\":\"#E5ECF6\",\"angularaxis\":{\"gridcolor\":\"white\",\"linecolor\":\"white\",\"ticks\":\"\"},\"radialaxis\":{\"gridcolor\":\"white\",\"linecolor\":\"white\",\"ticks\":\"\"}},\"ternary\":{\"bgcolor\":\"#E5ECF6\",\"aaxis\":{\"gridcolor\":\"white\",\"linecolor\":\"white\",\"ticks\":\"\"},\"baxis\":{\"gridcolor\":\"white\",\"linecolor\":\"white\",\"ticks\":\"\"},\"caxis\":{\"gridcolor\":\"white\",\"linecolor\":\"white\",\"ticks\":\"\"}},\"coloraxis\":{\"colorbar\":{\"outlinewidth\":0,\"ticks\":\"\"}},\"colorscale\":{\"sequential\":[[0.0,\"#0d0887\"],[0.1111111111111111,\"#46039f\"],[0.2222222222222222,\"#7201a8\"],[0.3333333333333333,\"#9c179e\"],[0.4444444444444444,\"#bd3786\"],[0.5555555555555556,\"#d8576b\"],[0.6666666666666666,\"#ed7953\"],[0.7777777777777778,\"#fb9f3a\"],[0.8888888888888888,\"#fdca26\"],[1.0,\"#f0f921\"]],\"sequentialminus\":[[0.0,\"#0d0887\"],[0.1111111111111111,\"#46039f\"],[0.2222222222222222,\"#7201a8\"],[0.3333333333333333,\"#9c179e\"],[0.4444444444444444,\"#bd3786\"],[0.5555555555555556,\"#d8576b\"],[0.6666666666666666,\"#ed7953\"],[0.7777777777777778,\"#fb9f3a\"],[0.8888888888888888,\"#fdca26\"],[1.0,\"#f0f921\"]],\"diverging\":[[0,\"#8e0152\"],[0.1,\"#c51b7d\"],[0.2,\"#de77ae\"],[0.3,\"#f1b6da\"],[0.4,\"#fde0ef\"],[0.5,\"#f7f7f7\"],[0.6,\"#e6f5d0\"],[0.7,\"#b8e186\"],[0.8,\"#7fbc41\"],[0.9,\"#4d9221\"],[1,\"#276419\"]]},\"xaxis\":{\"gridcolor\":\"white\",\"linecolor\":\"white\",\"ticks\":\"\",\"title\":{\"standoff\":15},\"zerolinecolor\":\"white\",\"automargin\":true,\"zerolinewidth\":2},\"yaxis\":{\"gridcolor\":\"white\",\"linecolor\":\"white\",\"ticks\":\"\",\"title\":{\"standoff\":15},\"zerolinecolor\":\"white\",\"automargin\":true,\"zerolinewidth\":2},\"scene\":{\"xaxis\":{\"backgroundcolor\":\"#E5ECF6\",\"gridcolor\":\"white\",\"linecolor\":\"white\",\"showbackground\":true,\"ticks\":\"\",\"zerolinecolor\":\"white\",\"gridwidth\":2},\"yaxis\":{\"backgroundcolor\":\"#E5ECF6\",\"gridcolor\":\"white\",\"linecolor\":\"white\",\"showbackground\":true,\"ticks\":\"\",\"zerolinecolor\":\"white\",\"gridwidth\":2},\"zaxis\":{\"backgroundcolor\":\"#E5ECF6\",\"gridcolor\":\"white\",\"linecolor\":\"white\",\"showbackground\":true,\"ticks\":\"\",\"zerolinecolor\":\"white\",\"gridwidth\":2}},\"shapedefaults\":{\"line\":{\"color\":\"#2a3f5f\"}},\"annotationdefaults\":{\"arrowcolor\":\"#2a3f5f\",\"arrowhead\":0,\"arrowwidth\":1},\"geo\":{\"bgcolor\":\"white\",\"landcolor\":\"#E5ECF6\",\"subunitcolor\":\"white\",\"showland\":true,\"showlakes\":true,\"lakecolor\":\"white\"},\"title\":{\"x\":0.05},\"mapbox\":{\"style\":\"light\"}}},\"xaxis\":{\"anchor\":\"y\",\"domain\":[0.0,0.18400000000000002],\"title\":{\"text\":\"AP\"}},\"yaxis\":{\"anchor\":\"x\",\"domain\":[0.0,0.1975],\"title\":{\"text\":\"HDV\"}},\"xaxis2\":{\"anchor\":\"y2\",\"domain\":[0.20400000000000001,0.388],\"matches\":\"x\",\"title\":{\"text\":\"AP\"}},\"yaxis2\":{\"anchor\":\"x2\",\"domain\":[0.0,0.1975],\"matches\":\"y\",\"showticklabels\":false},\"xaxis3\":{\"anchor\":\"y3\",\"domain\":[0.40800000000000003,0.5920000000000001],\"matches\":\"x\",\"title\":{\"text\":\"AP\"}},\"yaxis3\":{\"anchor\":\"x3\",\"domain\":[0.0,0.1975],\"matches\":\"y\",\"showticklabels\":false},\"xaxis4\":{\"anchor\":\"y4\",\"domain\":[0.6120000000000001,0.7960000000000002],\"matches\":\"x\",\"title\":{\"text\":\"AP\"}},\"yaxis4\":{\"anchor\":\"x4\",\"domain\":[0.0,0.1975],\"matches\":\"y\",\"showticklabels\":false},\"xaxis5\":{\"anchor\":\"y5\",\"domain\":[0.8160000000000001,1.0],\"matches\":\"x\",\"title\":{\"text\":\"AP\"}},\"yaxis5\":{\"anchor\":\"x5\",\"domain\":[0.0,0.1975],\"matches\":\"y\",\"showticklabels\":false},\"xaxis6\":{\"anchor\":\"y6\",\"domain\":[0.0,0.18400000000000002],\"matches\":\"x\",\"showticklabels\":false},\"yaxis6\":{\"anchor\":\"x6\",\"domain\":[0.2675,0.465],\"matches\":\"y\",\"title\":{\"text\":\"HDV\"}},\"xaxis7\":{\"anchor\":\"y7\",\"domain\":[0.20400000000000001,0.388],\"matches\":\"x\",\"showticklabels\":false},\"yaxis7\":{\"anchor\":\"x7\",\"domain\":[0.2675,0.465],\"matches\":\"y\",\"showticklabels\":false},\"xaxis8\":{\"anchor\":\"y8\",\"domain\":[0.40800000000000003,0.5920000000000001],\"matches\":\"x\",\"showticklabels\":false},\"yaxis8\":{\"anchor\":\"x8\",\"domain\":[0.2675,0.465],\"matches\":\"y\",\"showticklabels\":false},\"xaxis9\":{\"anchor\":\"y9\",\"domain\":[0.6120000000000001,0.7960000000000002],\"matches\":\"x\",\"showticklabels\":false},\"yaxis9\":{\"anchor\":\"x9\",\"domain\":[0.2675,0.465],\"matches\":\"y\",\"showticklabels\":false},\"xaxis10\":{\"anchor\":\"y10\",\"domain\":[0.8160000000000001,1.0],\"matches\":\"x\",\"showticklabels\":false},\"yaxis10\":{\"anchor\":\"x10\",\"domain\":[0.2675,0.465],\"matches\":\"y\",\"showticklabels\":false},\"xaxis11\":{\"anchor\":\"y11\",\"domain\":[0.0,0.18400000000000002],\"matches\":\"x\",\"showticklabels\":false},\"yaxis11\":{\"anchor\":\"x11\",\"domain\":[0.535,0.7325],\"matches\":\"y\",\"title\":{\"text\":\"HDV\"}},\"xaxis12\":{\"anchor\":\"y12\",\"domain\":[0.20400000000000001,0.388],\"matches\":\"x\",\"showticklabels\":false},\"yaxis12\":{\"anchor\":\"x12\",\"domain\":[0.535,0.7325],\"matches\":\"y\",\"showticklabels\":false},\"xaxis13\":{\"anchor\":\"y13\",\"domain\":[0.40800000000000003,0.5920000000000001],\"matches\":\"x\",\"showticklabels\":false},\"yaxis13\":{\"anchor\":\"x13\",\"domain\":[0.535,0.7325],\"matches\":\"y\",\"showticklabels\":false},\"xaxis14\":{\"anchor\":\"y14\",\"domain\":[0.6120000000000001,0.7960000000000002],\"matches\":\"x\",\"showticklabels\":false},\"yaxis14\":{\"anchor\":\"x14\",\"domain\":[0.535,0.7325],\"matches\":\"y\",\"showticklabels\":false},\"xaxis15\":{\"anchor\":\"y15\",\"domain\":[0.8160000000000001,1.0],\"matches\":\"x\",\"showticklabels\":false},\"yaxis15\":{\"anchor\":\"x15\",\"domain\":[0.535,0.7325],\"matches\":\"y\",\"showticklabels\":false},\"xaxis16\":{\"anchor\":\"y16\",\"domain\":[0.0,0.18400000000000002],\"matches\":\"x\",\"showticklabels\":false},\"yaxis16\":{\"anchor\":\"x16\",\"domain\":[0.8025,1.0],\"matches\":\"y\",\"title\":{\"text\":\"HDV\"}},\"xaxis17\":{\"anchor\":\"y17\",\"domain\":[0.20400000000000001,0.388],\"matches\":\"x\",\"showticklabels\":false},\"yaxis17\":{\"anchor\":\"x17\",\"domain\":[0.8025,1.0],\"matches\":\"y\",\"showticklabels\":false},\"xaxis18\":{\"anchor\":\"y18\",\"domain\":[0.40800000000000003,0.5920000000000001],\"matches\":\"x\",\"showticklabels\":false},\"yaxis18\":{\"anchor\":\"x18\",\"domain\":[0.8025,1.0],\"matches\":\"y\",\"showticklabels\":false},\"xaxis19\":{\"anchor\":\"y19\",\"domain\":[0.6120000000000001,0.7960000000000002],\"matches\":\"x\",\"showticklabels\":false},\"yaxis19\":{\"anchor\":\"x19\",\"domain\":[0.8025,1.0],\"matches\":\"y\",\"showticklabels\":false},\"xaxis20\":{\"anchor\":\"y20\",\"domain\":[0.8160000000000001,1.0],\"matches\":\"x\",\"showticklabels\":false},\"yaxis20\":{\"anchor\":\"x20\",\"domain\":[0.8025,1.0],\"matches\":\"y\",\"showticklabels\":false},\"annotations\":[{\"font\":{},\"showarrow\":false,\"text\":\"Layer=Head-P3\",\"x\":0.09200000000000001,\"xanchor\":\"center\",\"xref\":\"paper\",\"y\":0.1975,\"yanchor\":\"bottom\",\"yref\":\"paper\"},{\"font\":{},\"showarrow\":false,\"text\":\"Layer=Head-P4\",\"x\":0.29600000000000004,\"xanchor\":\"center\",\"xref\":\"paper\",\"y\":0.1975,\"yanchor\":\"bottom\",\"yref\":\"paper\"},{\"font\":{},\"showarrow\":false,\"text\":\"Layer=Head-P5\",\"x\":0.5,\"xanchor\":\"center\",\"xref\":\"paper\",\"y\":0.1975,\"yanchor\":\"bottom\",\"yref\":\"paper\"},{\"font\":{},\"showarrow\":false,\"text\":\"Layer=Head-P6\",\"x\":0.7040000000000002,\"xanchor\":\"center\",\"xref\":\"paper\",\"y\":0.1975,\"yanchor\":\"bottom\",\"yref\":\"paper\"},{\"font\":{},\"showarrow\":false,\"text\":\"Layer=Down-Neck-P6\",\"x\":0.09200000000000001,\"xanchor\":\"center\",\"xref\":\"paper\",\"y\":0.465,\"yanchor\":\"bottom\",\"yref\":\"paper\"},{\"font\":{},\"showarrow\":false,\"text\":\"Layer=Final-Neck-P3\",\"x\":0.29600000000000004,\"xanchor\":\"center\",\"xref\":\"paper\",\"y\":0.465,\"yanchor\":\"bottom\",\"yref\":\"paper\"},{\"font\":{},\"showarrow\":false,\"text\":\"Layer=Final-Neck-P4\",\"x\":0.5,\"xanchor\":\"center\",\"xref\":\"paper\",\"y\":0.465,\"yanchor\":\"bottom\",\"yref\":\"paper\"},{\"font\":{},\"showarrow\":false,\"text\":\"Layer=Final-Neck-P5\",\"x\":0.7040000000000002,\"xanchor\":\"center\",\"xref\":\"paper\",\"y\":0.465,\"yanchor\":\"bottom\",\"yref\":\"paper\"},{\"font\":{},\"showarrow\":false,\"text\":\"Layer=Final-Neck-P6\",\"x\":0.908,\"xanchor\":\"center\",\"xref\":\"paper\",\"y\":0.465,\"yanchor\":\"bottom\",\"yref\":\"paper\"},{\"font\":{},\"showarrow\":false,\"text\":\"Layer=Up-Neck-P5\",\"x\":0.09200000000000001,\"xanchor\":\"center\",\"xref\":\"paper\",\"y\":0.7325,\"yanchor\":\"bottom\",\"yref\":\"paper\"},{\"font\":{},\"showarrow\":false,\"text\":\"Layer=Up-Neck-P4\",\"x\":0.29600000000000004,\"xanchor\":\"center\",\"xref\":\"paper\",\"y\":0.7325,\"yanchor\":\"bottom\",\"yref\":\"paper\"},{\"font\":{},\"showarrow\":false,\"text\":\"Layer=Up-Neck-P3\",\"x\":0.5,\"xanchor\":\"center\",\"xref\":\"paper\",\"y\":0.7325,\"yanchor\":\"bottom\",\"yref\":\"paper\"},{\"font\":{},\"showarrow\":false,\"text\":\"Layer=Down-Neck-P4\",\"x\":0.7040000000000002,\"xanchor\":\"center\",\"xref\":\"paper\",\"y\":0.7325,\"yanchor\":\"bottom\",\"yref\":\"paper\"},{\"font\":{},\"showarrow\":false,\"text\":\"Layer=Down-Neck-P5\",\"x\":0.908,\"xanchor\":\"center\",\"xref\":\"paper\",\"y\":0.7325,\"yanchor\":\"bottom\",\"yref\":\"paper\"},{\"font\":{},\"showarrow\":false,\"text\":\"Layer=P2\",\"x\":0.09200000000000001,\"xanchor\":\"center\",\"xref\":\"paper\",\"y\":1.0,\"yanchor\":\"bottom\",\"yref\":\"paper\"},{\"font\":{},\"showarrow\":false,\"text\":\"Layer=P3\",\"x\":0.29600000000000004,\"xanchor\":\"center\",\"xref\":\"paper\",\"y\":1.0,\"yanchor\":\"bottom\",\"yref\":\"paper\"},{\"font\":{},\"showarrow\":false,\"text\":\"Layer=P4\",\"x\":0.5,\"xanchor\":\"center\",\"xref\":\"paper\",\"y\":1.0,\"yanchor\":\"bottom\",\"yref\":\"paper\"},{\"font\":{},\"showarrow\":false,\"text\":\"Layer=P5\",\"x\":0.7040000000000002,\"xanchor\":\"center\",\"xref\":\"paper\",\"y\":1.0,\"yanchor\":\"bottom\",\"yref\":\"paper\"},{\"font\":{},\"showarrow\":false,\"text\":\"Layer=P6\",\"x\":0.908,\"xanchor\":\"center\",\"xref\":\"paper\",\"y\":1.0,\"yanchor\":\"bottom\",\"yref\":\"paper\"}],\"legend\":{\"title\":{\"text\":\"Tumortype\"},\"tracegroupgap\":0},\"margin\":{\"t\":60}},                        {\"responsive\": true}                    ).then(function(){\n",
       "                            \n",
       "var gd = document.getElementById('d8489762-2d62-4b77-bb66-6b42b36b4132');\n",
       "var x = new MutationObserver(function (mutations, observer) {{\n",
       "        var display = window.getComputedStyle(gd).display;\n",
       "        if (!display || display === 'none') {{\n",
       "            console.log([gd, 'removed!']);\n",
       "            Plotly.purge(gd);\n",
       "            observer.disconnect();\n",
       "        }}\n",
       "}});\n",
       "\n",
       "// Listen for the removal of the full notebook cells\n",
       "var notebookContainer = gd.closest('#notebook-container');\n",
       "if (notebookContainer) {{\n",
       "    x.observe(notebookContainer, {childList: true});\n",
       "}}\n",
       "\n",
       "// Listen for the clearing of the current output cell\n",
       "var outputEl = gd.closest('.output');\n",
       "if (outputEl) {{\n",
       "    x.observe(outputEl, {childList: true});\n",
       "}}\n",
       "\n",
       "                        })                };                });            </script>        </div>"
      ]
     },
     "metadata": {},
     "output_type": "display_data"
    }
   ],
   "source": [
    "plot_similarity(model_name, result_dir='results/reduced_dims100', metric_dir=metric_dir, kind='scatter', all_models=True, num_models=4, all_layers=True, return_df=False)"
   ]
  },
  {
   "cell_type": "code",
   "execution_count": null,
   "metadata": {},
   "outputs": [],
   "source": []
  }
 ],
 "metadata": {
  "kernelspec": {
   "display_name": "env",
   "language": "python",
   "name": "python3"
  },
  "language_info": {
   "codemirror_mode": {
    "name": "ipython",
    "version": 3
   },
   "file_extension": ".py",
   "mimetype": "text/x-python",
   "name": "python",
   "nbconvert_exporter": "python",
   "pygments_lexer": "ipython3",
   "version": "3.10.12"
  }
 },
 "nbformat": 4,
 "nbformat_minor": 2
}
