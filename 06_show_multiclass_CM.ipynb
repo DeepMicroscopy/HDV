{
 "cells": [
  {
   "cell_type": "code",
   "execution_count": 1,
   "metadata": {},
   "outputs": [],
   "source": [
    "%load_ext autoreload\n",
    "%autoreload 2"
   ]
  },
  {
   "cell_type": "code",
   "execution_count": 2,
   "metadata": {},
   "outputs": [
    {
     "name": "stderr",
     "output_type": "stream",
     "text": [
      "/tmp/ipykernel_3360312/2517684002.py:13: TqdmExperimentalWarning: Using `tqdm.autonotebook.tqdm` in notebook mode. Use `tqdm.tqdm` instead to force console mode (e.g. in jupyter console)\n",
      "  from tqdm.autonotebook import tqdm\n",
      "INFO:albumentations.check_version:A new version of Albumentations is available: 1.4.15 (you have 1.4.13). Upgrade using: pip install -U albumentations. To disable automatic update checks, set the environment variable NO_ALBUMENTATIONS_UPDATE to 1.\n"
     ]
    }
   ],
   "source": [
    "import matplotlib.pyplot as plt\n",
    "import numpy as np\n",
    "import os\n",
    "import pandas as pd\n",
    "import seaborn as sns\n",
    "import pickle\n",
    "import json\n",
    "import torch\n",
    "\n",
    "from PIL import Image\n",
    "from matplotlib import patches\n",
    "from pathlib import Path\n",
    "from tqdm.autonotebook import tqdm\n",
    "from typing import Dict, List, Tuple\n",
    "\n",
    "from extract_features import get_all_annotations"
   ]
  },
  {
   "cell_type": "code",
   "execution_count": 3,
   "metadata": {},
   "outputs": [],
   "source": [
    "dataset_file = '/data/patho/Astma/cells_df.csv'\n",
    "img_dir = '/data/patho/Astma/'\n",
    "figure_dir = Path('figures/')\n",
    "result_dir = Path('results/')\n",
    "feature_dir = Path('/data/jonas/astma/features')"
   ]
  },
  {
   "cell_type": "code",
   "execution_count": 4,
   "metadata": {},
   "outputs": [],
   "source": [
    "import utils.constants as constants\n",
    "from utils.dataset_adaptors import load_astma_df\n",
    "\n",
    "# load data \n",
    "_, test_dataset, lookups = load_astma_df(dataset_file)\n",
    "\n",
    "# filter test samples \n",
    "\n",
    "# create test codes\n",
    "test_codes = {0: 'None'}\n",
    "\n",
    "# get test samples and labels\n",
    "test_samples = get_all_annotations(\n",
    "    dataset=test_dataset, \n",
    "    img_dir_path=img_dir, \n",
    "    domain_col='None',\n",
    "    box_format='xyxy'\n",
    "    )\n",
    "\n",
    "# testset labels\n",
    "test_annos = torch.tensor([v for l in test_samples.values() for v in l['labels']])\n",
    "if 'midog' in dataset_file.lower():\n",
    "    test_annos -= 1"
   ]
  },
  {
   "cell_type": "code",
   "execution_count": 5,
   "metadata": {},
   "outputs": [
    {
     "name": "stderr",
     "output_type": "stream",
     "text": [
      "INFO:models.yolo:\n",
      "                 from  n    params  module                                  arguments                     \n",
      "INFO:models.yolo:  0                -1  1       928  models.common.Conv                      [3, 32, 3, 1]                 \n",
      "INFO:models.yolo:  1                -1  1     18560  models.common.Conv                      [32, 64, 3, 2]                \n",
      "INFO:models.yolo:  2                -1  1     36992  models.common.Conv                      [64, 64, 3, 1]                \n",
      "INFO:models.yolo:  3                -1  1     73984  models.common.Conv                      [64, 128, 3, 2]               \n",
      "INFO:models.yolo:  4                -1  1      8320  models.common.Conv                      [128, 64, 1, 1]               \n",
      "INFO:models.yolo:  5                -2  1      8320  models.common.Conv                      [128, 64, 1, 1]               \n",
      "INFO:models.yolo:  6                -1  1     36992  models.common.Conv                      [64, 64, 3, 1]                \n",
      "INFO:models.yolo:  7                -1  1     36992  models.common.Conv                      [64, 64, 3, 1]                \n",
      "INFO:models.yolo:  8                -1  1     36992  models.common.Conv                      [64, 64, 3, 1]                \n",
      "INFO:models.yolo:  9                -1  1     36992  models.common.Conv                      [64, 64, 3, 1]                \n",
      "INFO:models.yolo: 10  [-1, -3, -5, -6]  1         0  models.common.Concat                    [1]                           \n",
      "INFO:models.yolo: 11                -1  1     66048  models.common.Conv                      [256, 256, 1, 1]              \n",
      "INFO:models.yolo: 12                -1  1         0  models.common.MP                        []                            \n",
      "INFO:models.yolo: 13                -1  1     33024  models.common.Conv                      [256, 128, 1, 1]              \n",
      "INFO:models.yolo: 14                -3  1     33024  models.common.Conv                      [256, 128, 1, 1]              \n",
      "INFO:models.yolo: 15                -1  1    147712  models.common.Conv                      [128, 128, 3, 2]              \n",
      "INFO:models.yolo: 16          [-1, -3]  1         0  models.common.Concat                    [1]                           \n",
      "INFO:models.yolo: 17                -1  1     33024  models.common.Conv                      [256, 128, 1, 1]              \n",
      "INFO:models.yolo: 18                -2  1     33024  models.common.Conv                      [256, 128, 1, 1]              \n",
      "INFO:models.yolo: 19                -1  1    147712  models.common.Conv                      [128, 128, 3, 1]              \n",
      "INFO:models.yolo: 20                -1  1    147712  models.common.Conv                      [128, 128, 3, 1]              \n",
      "INFO:models.yolo: 21                -1  1    147712  models.common.Conv                      [128, 128, 3, 1]              \n",
      "INFO:models.yolo: 22                -1  1    147712  models.common.Conv                      [128, 128, 3, 1]              \n",
      "INFO:models.yolo: 23  [-1, -3, -5, -6]  1         0  models.common.Concat                    [1]                           \n",
      "INFO:models.yolo: 24                -1  1    263168  models.common.Conv                      [512, 512, 1, 1]              \n",
      "INFO:models.yolo: 25                -1  1         0  models.common.MP                        []                            \n",
      "INFO:models.yolo: 26                -1  1    131584  models.common.Conv                      [512, 256, 1, 1]              \n",
      "INFO:models.yolo: 27                -3  1    131584  models.common.Conv                      [512, 256, 1, 1]              \n",
      "INFO:models.yolo: 28                -1  1    590336  models.common.Conv                      [256, 256, 3, 2]              \n",
      "INFO:models.yolo: 29          [-1, -3]  1         0  models.common.Concat                    [1]                           \n",
      "INFO:models.yolo: 30                -1  1    131584  models.common.Conv                      [512, 256, 1, 1]              \n",
      "INFO:models.yolo: 31                -2  1    131584  models.common.Conv                      [512, 256, 1, 1]              \n"
     ]
    },
    {
     "name": "stderr",
     "output_type": "stream",
     "text": [
      "INFO:models.yolo: 32                -1  1    590336  models.common.Conv                      [256, 256, 3, 1]              \n",
      "INFO:models.yolo: 33                -1  1    590336  models.common.Conv                      [256, 256, 3, 1]              \n",
      "INFO:models.yolo: 34                -1  1    590336  models.common.Conv                      [256, 256, 3, 1]              \n",
      "INFO:models.yolo: 35                -1  1    590336  models.common.Conv                      [256, 256, 3, 1]              \n",
      "INFO:models.yolo: 36  [-1, -3, -5, -6]  1         0  models.common.Concat                    [1]                           \n",
      "INFO:models.yolo: 37                -1  1   1050624  models.common.Conv                      [1024, 1024, 1, 1]            \n",
      "INFO:models.yolo: 38                -1  1         0  models.common.MP                        []                            \n",
      "INFO:models.yolo: 39                -1  1    525312  models.common.Conv                      [1024, 512, 1, 1]             \n",
      "INFO:models.yolo: 40                -3  1    525312  models.common.Conv                      [1024, 512, 1, 1]             \n",
      "INFO:models.yolo: 41                -1  1   2360320  models.common.Conv                      [512, 512, 3, 2]              \n",
      "INFO:models.yolo: 42          [-1, -3]  1         0  models.common.Concat                    [1]                           \n",
      "INFO:models.yolo: 43                -1  1    262656  models.common.Conv                      [1024, 256, 1, 1]             \n",
      "INFO:models.yolo: 44                -2  1    262656  models.common.Conv                      [1024, 256, 1, 1]             \n",
      "INFO:models.yolo: 45                -1  1    590336  models.common.Conv                      [256, 256, 3, 1]              \n",
      "INFO:models.yolo: 46                -1  1    590336  models.common.Conv                      [256, 256, 3, 1]              \n",
      "INFO:models.yolo: 47                -1  1    590336  models.common.Conv                      [256, 256, 3, 1]              \n",
      "INFO:models.yolo: 48                -1  1    590336  models.common.Conv                      [256, 256, 3, 1]              \n",
      "INFO:models.yolo: 49  [-1, -3, -5, -6]  1         0  models.common.Concat                    [1]                           \n",
      "INFO:models.yolo: 50                -1  1   1050624  models.common.Conv                      [1024, 1024, 1, 1]            \n",
      "INFO:models.yolo: 51                -1  1   7609344  models.common.SPPCSPC                   [1024, 512, 1]                \n",
      "INFO:models.yolo: 52                -1  1    131584  models.common.Conv                      [512, 256, 1, 1]              \n",
      "INFO:models.yolo: 53                -1  1         0  torch.nn.modules.upsampling.Upsample    [None, 2, 'nearest']          \n",
      "INFO:models.yolo: 54                37  1    262656  models.common.Conv                      [1024, 256, 1, 1]             \n",
      "INFO:models.yolo: 55          [-1, -2]  1         0  models.common.Concat                    [1]                           \n",
      "INFO:models.yolo: 56                -1  1    131584  models.common.Conv                      [512, 256, 1, 1]              \n",
      "INFO:models.yolo: 57                -2  1    131584  models.common.Conv                      [512, 256, 1, 1]              \n",
      "INFO:models.yolo: 58                -1  1    295168  models.common.Conv                      [256, 128, 3, 1]              \n",
      "INFO:models.yolo: 59                -1  1    147712  models.common.Conv                      [128, 128, 3, 1]              \n",
      "INFO:models.yolo: 60                -1  1    147712  models.common.Conv                      [128, 128, 3, 1]              \n",
      "INFO:models.yolo: 61                -1  1    147712  models.common.Conv                      [128, 128, 3, 1]              \n",
      "INFO:models.yolo: 62[-1, -2, -3, -4, -5, -6]  1         0  models.common.Concat                    [1]                           \n",
      "INFO:models.yolo: 63                -1  1    262656  models.common.Conv                      [1024, 256, 1, 1]             \n",
      "INFO:models.yolo: 64                -1  1     33024  models.common.Conv                      [256, 128, 1, 1]              \n",
      "INFO:models.yolo: 65                -1  1         0  torch.nn.modules.upsampling.Upsample    [None, 2, 'nearest']          \n",
      "INFO:models.yolo: 66                24  1     65792  models.common.Conv                      [512, 128, 1, 1]              \n",
      "INFO:models.yolo: 67          [-1, -2]  1         0  models.common.Concat                    [1]                           \n",
      "INFO:models.yolo: 68                -1  1     33024  models.common.Conv                      [256, 128, 1, 1]              \n",
      "INFO:models.yolo: 69                -2  1     33024  models.common.Conv                      [256, 128, 1, 1]              \n",
      "INFO:models.yolo: 70                -1  1     73856  models.common.Conv                      [128, 64, 3, 1]               \n",
      "INFO:models.yolo: 71                -1  1     36992  models.common.Conv                      [64, 64, 3, 1]                \n",
      "INFO:models.yolo: 72                -1  1     36992  models.common.Conv                      [64, 64, 3, 1]                \n",
      "INFO:models.yolo: 73                -1  1     36992  models.common.Conv                      [64, 64, 3, 1]                \n",
      "INFO:models.yolo: 74[-1, -2, -3, -4, -5, -6]  1         0  models.common.Concat                    [1]                           \n",
      "INFO:models.yolo: 75                -1  1     65792  models.common.Conv                      [512, 128, 1, 1]              \n",
      "INFO:models.yolo: 76                -1  1         0  models.common.MP                        []                            \n",
      "INFO:models.yolo: 77                -1  1     16640  models.common.Conv                      [128, 128, 1, 1]              \n",
      "INFO:models.yolo: 78                -3  1     16640  models.common.Conv                      [128, 128, 1, 1]              \n",
      "INFO:models.yolo: 79                -1  1    147712  models.common.Conv                      [128, 128, 3, 2]              \n",
      "INFO:models.yolo: 80      [-1, -3, 63]  1         0  models.common.Concat                    [1]                           \n",
      "INFO:models.yolo: 81                -1  1    131584  models.common.Conv                      [512, 256, 1, 1]              \n",
      "INFO:models.yolo: 82                -2  1    131584  models.common.Conv                      [512, 256, 1, 1]              \n",
      "INFO:models.yolo: 83                -1  1    295168  models.common.Conv                      [256, 128, 3, 1]              \n",
      "INFO:models.yolo: 84                -1  1    147712  models.common.Conv                      [128, 128, 3, 1]              \n",
      "INFO:models.yolo: 85                -1  1    147712  models.common.Conv                      [128, 128, 3, 1]              \n",
      "INFO:models.yolo: 86                -1  1    147712  models.common.Conv                      [128, 128, 3, 1]              \n",
      "INFO:models.yolo: 87[-1, -2, -3, -4, -5, -6]  1         0  models.common.Concat                    [1]                           \n",
      "INFO:models.yolo: 88                -1  1    262656  models.common.Conv                      [1024, 256, 1, 1]             \n",
      "INFO:models.yolo: 89                -1  1         0  models.common.MP                        []                            \n",
      "INFO:models.yolo: 90                -1  1     66048  models.common.Conv                      [256, 256, 1, 1]              \n",
      "INFO:models.yolo: 91                -3  1     66048  models.common.Conv                      [256, 256, 1, 1]              \n",
      "INFO:models.yolo: 92                -1  1    590336  models.common.Conv                      [256, 256, 3, 2]              \n",
      "INFO:models.yolo: 93      [-1, -3, 51]  1         0  models.common.Concat                    [1]                           \n",
      "INFO:models.yolo: 94                -1  1    525312  models.common.Conv                      [1024, 512, 1, 1]             \n",
      "INFO:models.yolo: 95                -2  1    525312  models.common.Conv                      [1024, 512, 1, 1]             \n",
      "INFO:models.yolo: 96                -1  1   1180160  models.common.Conv                      [512, 256, 3, 1]              \n",
      "INFO:models.yolo: 97                -1  1    590336  models.common.Conv                      [256, 256, 3, 1]              \n",
      "INFO:models.yolo: 98                -1  1    590336  models.common.Conv                      [256, 256, 3, 1]              \n",
      "INFO:models.yolo: 99                -1  1    590336  models.common.Conv                      [256, 256, 3, 1]              \n",
      "INFO:models.yolo:100[-1, -2, -3, -4, -5, -6]  1         0  models.common.Concat                    [1]                           \n",
      "INFO:models.yolo:101                -1  1   1049600  models.common.Conv                      [2048, 512, 1, 1]             \n",
      "INFO:models.yolo:102                75  1    328704  models.common.RepConv                   [128, 256, 3, 1]              \n",
      "INFO:models.yolo:103                88  1   1312768  models.common.RepConv                   [256, 512, 3, 1]              \n",
      "INFO:models.yolo:104               101  1   5246976  models.common.RepConv                   [512, 1024, 3, 1]             \n",
      "INFO:models.yolo:105   [102, 103, 104]  1    109672  models.yolo.IDetect                     [7, [[6, 8, 9, 18, 20, 14, 25, 25, 12, 12], [18, 45, 38, 25, 37, 73, 50, 50, 42, 42], [71, 55, 81, 123, 200, 150, 60, 60, 55, 55]], [256, 512, 1024]]\n"
     ]
    },
    {
     "name": "stdout",
     "output_type": "stream",
     "text": [
      "Initializing model ... "
     ]
    },
    {
     "name": "stderr",
     "output_type": "stream",
     "text": [
      "/home/ammeling/projects/yolov7/env/lib/python3.10/site-packages/torch/functional.py:513: UserWarning: torch.meshgrid: in an upcoming release, it will be required to pass the indexing argument. (Triggered internally at ../aten/src/ATen/native/TensorShape.cpp:3609.)\n",
      "  return _VF.meshgrid(tensors, **kwargs)  # type: ignore[attr-defined]\n",
      "INFO:utils.torch_utils:Model Summary: 415 layers, 37272072 parameters, 37272072 gradients, 105.4 GFLOPS\n",
      "INFO:models.yolo:\n",
      "/home/ammeling/projects/yolov7/utils/factory.py:46: FutureWarning: You are using `torch.load` with `weights_only=False` (the current default value), which uses the default pickle module implicitly. It is possible to construct malicious pickle data which will execute arbitrary code during unpickling (See https://github.com/pytorch/pytorch/blob/main/SECURITY.md#untrusted-models for more details). In a future release, the default value for `weights_only` will be flipped to `True`. This limits the functions that could be executed during unpickling. Arbitrary objects will no longer be allowed to be loaded via this mode unless they are explicitly allowlisted by the user via `torch.serialization.add_safe_globals`. We recommend you start setting `weights_only=True` for any use case where you don't have full control of the loaded file. Please open an issue on GitHub for any issues related to this experimental feature.\n",
      "  ckpt = torch.load(weights, map_location=device)\n"
     ]
    },
    {
     "name": "stdout",
     "output_type": "stream",
     "text": [
      "Done.\n",
      "Loaded model configurations:\n",
      "Yolov7_Config(model_name='yolov7_astma_bs_0',\n",
      "              detector='yolov7',\n",
      "              num_classes=7,\n",
      "              cfg='cfg/training/yolov7-astma.yaml',\n",
      "              weights='runs/train/yolov7_astma_bs_0/weights/best.pt',\n",
      "              det_thresh=0.416)\n",
      "\n",
      "Loaded inference configurations:\n",
      "{'batch_size': 16,\n",
      " 'device': 'cuda:0',\n",
      " 'num_workers': 8,\n",
      " 'overlap': 0.3,\n",
      " 'patch_size': 640,\n",
      " 'verbose': True,\n",
      " 'wsi': True}\n",
      "\n"
     ]
    }
   ],
   "source": [
    "from utils.factory import ConfigCreator, ModelFactory\n",
    "from utils.inference import Yolov7_Inference, ImageProcessor\n",
    "import pprint\n",
    "\n",
    "config_file = 'optimized_models/yolov7_astma_bs_0.yaml'\n",
    "iou_thres_1 = 0.7\n",
    "iou_thres_2 = 0.3\n",
    "augment = False\n",
    "patch_size = 640\n",
    "batch_size = 16\n",
    "overlap = 0.3\n",
    "device = 'cuda:0'\n",
    "num_workers = 8\n",
    "verbose = True\n",
    "wsi = True\n",
    "\n",
    "\n",
    "print('Initializing model ...', end=' ')\n",
    "# load model config\n",
    "config_file = ConfigCreator.load(config_file)\n",
    "\n",
    "# load model \n",
    "model = ModelFactory.load(config_file)\n",
    "print('Done.')\n",
    "\n",
    "print('Loaded model configurations:')\n",
    "pprint.pprint(config_file)\n",
    "print()\n",
    "\n",
    "\n",
    "# set up inference strategy\n",
    "strategy = Yolov7_Inference(\n",
    "    model=model, \n",
    "    conf_thres=config_file.det_thresh,\n",
    "    iou_thres_1=iou_thres_1,\n",
    "    iou_thres_2=iou_thres_2,\n",
    "    augment=augment,\n",
    "    )\n",
    "\n",
    "# set up image processor\n",
    "settings = {\n",
    "    'batch_size': batch_size,\n",
    "    'patch_size': patch_size,\n",
    "    'overlap': overlap,\n",
    "    'device': device,\n",
    "    'num_workers': num_workers,\n",
    "    'verbose': verbose,\n",
    "    'wsi': wsi\n",
    "}\n",
    "\n",
    "# create processor\n",
    "processor = ImageProcessor(strategy=strategy, **settings)\n",
    "print('Loaded inference configurations:')\n",
    "pprint.pprint(settings)\n",
    "print()"
   ]
  },
  {
   "cell_type": "code",
   "execution_count": 6,
   "metadata": {},
   "outputs": [
    {
     "data": {
      "application/vnd.jupyter.widget-view+json": {
       "model_id": "2719b0b247994f0bbdddfbc64e28c987",
       "version_major": 2,
       "version_minor": 0
      },
      "text/plain": [
       "Collecting predictions:   0%|          | 0/1 [00:00<?, ?it/s]"
      ]
     },
     "metadata": {},
     "output_type": "display_data"
    },
    {
     "data": {
      "application/vnd.jupyter.widget-view+json": {
       "model_id": "899688423d504c0bb48d6c6a8e71c4e5",
       "version_major": 2,
       "version_minor": 0
      },
      "text/plain": [
       "Processing image:   0%|          | 0/133 [00:00<?, ?it/s]"
      ]
     },
     "metadata": {},
     "output_type": "display_data"
    }
   ],
   "source": [
    "# collect filenames\n",
    "filenames = test_dataset.filename.unique()\n",
    "\n",
    "# init preds\n",
    "preds = {}\n",
    "\n",
    "# loop over files\n",
    "for file in tqdm(filenames, desc='Collecting predictions'):\n",
    "    \n",
    "    # get image file location\n",
    "    image = os.path.join(img_dir, file)\n",
    "\n",
    "    # compute predictions\n",
    "    res = processor.process_image(image)\n",
    "\n",
    "    # extract results\n",
    "    boxes = res['boxes']\n",
    "    scores = res['scores']\n",
    "    labels = res['labels']\n",
    "\n",
    "    # collect predictions\n",
    "    if boxes.shape[0] > 0:\n",
    "        preds[file] = {'boxes': boxes, 'scores': scores, 'labels': labels}\n",
    "    else:\n",
    "        continue "
   ]
  },
  {
   "cell_type": "code",
   "execution_count": 7,
   "metadata": {},
   "outputs": [
    {
     "data": {
      "text/html": [
       "<div>\n",
       "<style scoped>\n",
       "    .dataframe tbody tr th:only-of-type {\n",
       "        vertical-align: middle;\n",
       "    }\n",
       "\n",
       "    .dataframe tbody tr th {\n",
       "        vertical-align: top;\n",
       "    }\n",
       "\n",
       "    .dataframe thead th {\n",
       "        text-align: right;\n",
       "    }\n",
       "</style>\n",
       "<table border=\"1\" class=\"dataframe\">\n",
       "  <thead>\n",
       "    <tr style=\"text-align: right;\">\n",
       "      <th></th>\n",
       "      <th>id</th>\n",
       "      <th>type</th>\n",
       "      <th>image</th>\n",
       "      <th>xmin</th>\n",
       "      <th>ymin</th>\n",
       "      <th>xmax</th>\n",
       "      <th>ymax</th>\n",
       "      <th>label</th>\n",
       "      <th>filename</th>\n",
       "      <th>class_names</th>\n",
       "    </tr>\n",
       "  </thead>\n",
       "  <tbody>\n",
       "    <tr>\n",
       "      <th>45998</th>\n",
       "      <td>100794</td>\n",
       "      <td>1</td>\n",
       "      <td>222</td>\n",
       "      <td>14253</td>\n",
       "      <td>1973</td>\n",
       "      <td>14335</td>\n",
       "      <td>2055</td>\n",
       "      <td>2</td>\n",
       "      <td>BAL AIA Blickfang Luft.svs</td>\n",
       "      <td>Makrophagen</td>\n",
       "    </tr>\n",
       "    <tr>\n",
       "      <th>45999</th>\n",
       "      <td>100795</td>\n",
       "      <td>1</td>\n",
       "      <td>222</td>\n",
       "      <td>10463</td>\n",
       "      <td>3139</td>\n",
       "      <td>10567</td>\n",
       "      <td>3243</td>\n",
       "      <td>2</td>\n",
       "      <td>BAL AIA Blickfang Luft.svs</td>\n",
       "      <td>Makrophagen</td>\n",
       "    </tr>\n",
       "    <tr>\n",
       "      <th>46000</th>\n",
       "      <td>100796</td>\n",
       "      <td>1</td>\n",
       "      <td>222</td>\n",
       "      <td>10562</td>\n",
       "      <td>3058</td>\n",
       "      <td>10656</td>\n",
       "      <td>3152</td>\n",
       "      <td>2</td>\n",
       "      <td>BAL AIA Blickfang Luft.svs</td>\n",
       "      <td>Makrophagen</td>\n",
       "    </tr>\n",
       "    <tr>\n",
       "      <th>46002</th>\n",
       "      <td>100798</td>\n",
       "      <td>1</td>\n",
       "      <td>222</td>\n",
       "      <td>11028</td>\n",
       "      <td>3181</td>\n",
       "      <td>11116</td>\n",
       "      <td>3269</td>\n",
       "      <td>2</td>\n",
       "      <td>BAL AIA Blickfang Luft.svs</td>\n",
       "      <td>Makrophagen</td>\n",
       "    </tr>\n",
       "    <tr>\n",
       "      <th>46003</th>\n",
       "      <td>100799</td>\n",
       "      <td>1</td>\n",
       "      <td>222</td>\n",
       "      <td>11312</td>\n",
       "      <td>3142</td>\n",
       "      <td>11410</td>\n",
       "      <td>3240</td>\n",
       "      <td>2</td>\n",
       "      <td>BAL AIA Blickfang Luft.svs</td>\n",
       "      <td>Makrophagen</td>\n",
       "    </tr>\n",
       "  </tbody>\n",
       "</table>\n",
       "</div>"
      ],
      "text/plain": [
       "           id  type  image   xmin  ymin   xmax  ymax  label  \\\n",
       "45998  100794     1    222  14253  1973  14335  2055      2   \n",
       "45999  100795     1    222  10463  3139  10567  3243      2   \n",
       "46000  100796     1    222  10562  3058  10656  3152      2   \n",
       "46002  100798     1    222  11028  3181  11116  3269      2   \n",
       "46003  100799     1    222  11312  3142  11410  3240      2   \n",
       "\n",
       "                         filename  class_names  \n",
       "45998  BAL AIA Blickfang Luft.svs  Makrophagen  \n",
       "45999  BAL AIA Blickfang Luft.svs  Makrophagen  \n",
       "46000  BAL AIA Blickfang Luft.svs  Makrophagen  \n",
       "46002  BAL AIA Blickfang Luft.svs  Makrophagen  \n",
       "46003  BAL AIA Blickfang Luft.svs  Makrophagen  "
      ]
     },
     "execution_count": 7,
     "metadata": {},
     "output_type": "execute_result"
    }
   ],
   "source": [
    "test_dataset.head()"
   ]
  },
  {
   "cell_type": "code",
   "execution_count": 8,
   "metadata": {},
   "outputs": [],
   "source": [
    "from utils.metrics import ConfusionMatrix\n",
    "\n",
    "nc = 7\n",
    "\n",
    "cm = ConfusionMatrix(nc, conf=config_file.det_thresh, iou_thres=iou_thres_2)\n",
    "\n",
    "\n",
    "for file in filenames:\n",
    "\n",
    "    labels = torch.tensor(\n",
    "        test_dataset.query('filename == @file')[['label', 'xmin', 'ymin', 'xmax', 'ymax']].to_numpy()\n",
    "        )\n",
    "\n",
    "    results = preds[file]\n",
    "    detections = torch.cat(\n",
    "        [\n",
    "            torch.tensor(results['boxes']),\n",
    "            torch.tensor(results['scores'][..., None]),\n",
    "            torch.tensor(results['labels'][..., None])                    \n",
    "        ], \n",
    "        dim=1\n",
    "    )\n",
    "\n",
    "\n",
    "\n",
    "    cm.process_batch(detections, labels)"
   ]
  },
  {
   "cell_type": "code",
   "execution_count": 12,
   "metadata": {},
   "outputs": [
    {
     "data": {
      "text/plain": [
       "array([[        833,          32,          11,           0,           2,           0,           0,          28],\n",
       "       [         14,        9236,         609,           0,           0,           0,          48,         153],\n",
       "       [          5,          54,       16186,          50,           3,           1,           0,         226],\n",
       "       [          0,           0,         119,          27,           0,           0,           0,           2],\n",
       "       [          5,          28,          12,           4,         491,           1,           0,          10],\n",
       "       [          0,           3,           0,           0,           6,          33,           0,           0],\n",
       "       [          0,           0,           0,           0,           0,           0,           0,          27],\n",
       "       [         73,         435,         449,           6,         221,           6,           0,           0]])"
      ]
     },
     "execution_count": 12,
     "metadata": {},
     "output_type": "execute_result"
    }
   ],
   "source": [
    "cm.matrix"
   ]
  },
  {
   "cell_type": "code",
   "execution_count": 13,
   "metadata": {},
   "outputs": [],
   "source": [
    "import seaborn as sn \n",
    "\n",
    "m = cm.matrix\n",
    "names = list(lookups['class_id_to_label'].values())\n",
    "\n",
    "\n",
    "array = m / (m.sum(0).reshape(1, nc + 1) + 1E-6)  # normalize\n",
    "array[array < 0.005] = np.nan  # don't annotate (would appear as 0.00)\n",
    "\n",
    "fig = plt.figure(figsize=(12, 9), tight_layout=True)\n",
    "sn.set(font_scale=1.0 if nc < 50 else 0.8)  # for label size\n",
    "labels = (0 < len(names) < 99) and len(names) == nc  # apply names to ticklabels\n",
    "sn.heatmap(array, annot=nc < 30, annot_kws={\"size\": 8}, cmap='Blues', fmt='.2f', square=True,\n",
    "            xticklabels=names + ['background FP'] if labels else \"auto\",\n",
    "            yticklabels=names + ['background FN'] if labels else \"auto\").set_facecolor((1, 1, 1))\n",
    "fig.axes[0].set_xlabel('True')\n",
    "fig.axes[0].set_ylabel('Predicted')\n",
    "fig.show()"
   ]
  },
  {
   "cell_type": "code",
   "execution_count": 14,
   "metadata": {},
   "outputs": [
    {
     "data": {
      "image/png": "[encoded data removed]",
      "text/plain": [
       "<Figure size 1200x900 with 2 Axes>"
      ]
     },
     "execution_count": 14,
     "metadata": {},
     "output_type": "execute_result"
    }
   ],
   "source": [
    "fig"
   ]
  },
  {
   "cell_type": "code",
   "execution_count": null,
   "metadata": {},
   "outputs": [],
   "source": []
  }
 ],
 "metadata": {
  "kernelspec": {
   "display_name": "env",
   "language": "python",
   "name": "python3"
  },
  "language_info": {
   "codemirror_mode": {
    "name": "ipython",
    "version": 3
   },
   "file_extension": ".py",
   "mimetype": "text/x-python",
   "name": "python",
   "nbconvert_exporter": "python",
   "pygments_lexer": "ipython3",
   "version": "3.10.12"
  }
 },
 "nbformat": 4,
 "nbformat_minor": 2
}
